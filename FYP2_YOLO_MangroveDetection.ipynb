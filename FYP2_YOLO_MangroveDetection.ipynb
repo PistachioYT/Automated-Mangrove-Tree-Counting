{
  "cells": [
    {
      "cell_type": "code",
      "execution_count": 3,
      "metadata": {
        "id": "XcCxSNck_d23",
        "outputId": "62659faf-0bd4-49d4-fc24-eb960eba1ba2",
        "colab": {
          "base_uri": "https://localhost:8080/"
        }
      },
      "outputs": [
        {
          "output_type": "stream",
          "name": "stdout",
          "text": [
            "Mounted at /content/drive\n"
          ]
        }
      ],
      "source": [
        "from google.colab import drive\n",
        "drive.mount('/content/drive')"
      ]
    },
    {
      "cell_type": "code",
      "execution_count": null,
      "metadata": {
        "colab": {
          "base_uri": "https://localhost:8080/"
        },
        "collapsed": true,
        "id": "g4FnNDdlC27U",
        "outputId": "740aaaf2-4545-414a-af5a-9139f02b8c6d"
      },
      "outputs": [
        {
          "output_type": "stream",
          "name": "stdout",
          "text": [
            "Collecting ultralytics\n",
            "  Downloading ultralytics-8.3.114-py3-none-any.whl.metadata (37 kB)\n",
            "Requirement already satisfied: numpy<=2.1.1,>=1.23.0 in /usr/local/lib/python3.11/dist-packages (from ultralytics) (2.0.2)\n",
            "Requirement already satisfied: matplotlib>=3.3.0 in /usr/local/lib/python3.11/dist-packages (from ultralytics) (3.10.0)\n",
            "Requirement already satisfied: opencv-python>=4.6.0 in /usr/local/lib/python3.11/dist-packages (from ultralytics) (4.11.0.86)\n",
            "Requirement already satisfied: pillow>=7.1.2 in /usr/local/lib/python3.11/dist-packages (from ultralytics) (11.1.0)\n",
            "Requirement already satisfied: pyyaml>=5.3.1 in /usr/local/lib/python3.11/dist-packages (from ultralytics) (6.0.2)\n",
            "Requirement already satisfied: requests>=2.23.0 in /usr/local/lib/python3.11/dist-packages (from ultralytics) (2.32.3)\n",
            "Requirement already satisfied: scipy>=1.4.1 in /usr/local/lib/python3.11/dist-packages (from ultralytics) (1.14.1)\n",
            "Requirement already satisfied: torch>=1.8.0 in /usr/local/lib/python3.11/dist-packages (from ultralytics) (2.6.0+cu124)\n",
            "Requirement already satisfied: torchvision>=0.9.0 in /usr/local/lib/python3.11/dist-packages (from ultralytics) (0.21.0+cu124)\n",
            "Requirement already satisfied: tqdm>=4.64.0 in /usr/local/lib/python3.11/dist-packages (from ultralytics) (4.67.1)\n",
            "Requirement already satisfied: psutil in /usr/local/lib/python3.11/dist-packages (from ultralytics) (5.9.5)\n",
            "Requirement already satisfied: py-cpuinfo in /usr/local/lib/python3.11/dist-packages (from ultralytics) (9.0.0)\n",
            "Requirement already satisfied: pandas>=1.1.4 in /usr/local/lib/python3.11/dist-packages (from ultralytics) (2.2.2)\n",
            "Requirement already satisfied: seaborn>=0.11.0 in /usr/local/lib/python3.11/dist-packages (from ultralytics) (0.13.2)\n",
            "Collecting ultralytics-thop>=2.0.0 (from ultralytics)\n",
            "  Downloading ultralytics_thop-2.0.14-py3-none-any.whl.metadata (9.4 kB)\n",
            "Requirement already satisfied: contourpy>=1.0.1 in /usr/local/lib/python3.11/dist-packages (from matplotlib>=3.3.0->ultralytics) (1.3.2)\n",
            "Requirement already satisfied: cycler>=0.10 in /usr/local/lib/python3.11/dist-packages (from matplotlib>=3.3.0->ultralytics) (0.12.1)\n",
            "Requirement already satisfied: fonttools>=4.22.0 in /usr/local/lib/python3.11/dist-packages (from matplotlib>=3.3.0->ultralytics) (4.57.0)\n",
            "Requirement already satisfied: kiwisolver>=1.3.1 in /usr/local/lib/python3.11/dist-packages (from matplotlib>=3.3.0->ultralytics) (1.4.8)\n",
            "Requirement already satisfied: packaging>=20.0 in /usr/local/lib/python3.11/dist-packages (from matplotlib>=3.3.0->ultralytics) (24.2)\n",
            "Requirement already satisfied: pyparsing>=2.3.1 in /usr/local/lib/python3.11/dist-packages (from matplotlib>=3.3.0->ultralytics) (3.2.3)\n",
            "Requirement already satisfied: python-dateutil>=2.7 in /usr/local/lib/python3.11/dist-packages (from matplotlib>=3.3.0->ultralytics) (2.8.2)\n",
            "Requirement already satisfied: pytz>=2020.1 in /usr/local/lib/python3.11/dist-packages (from pandas>=1.1.4->ultralytics) (2025.2)\n",
            "Requirement already satisfied: tzdata>=2022.7 in /usr/local/lib/python3.11/dist-packages (from pandas>=1.1.4->ultralytics) (2025.2)\n",
            "Requirement already satisfied: charset-normalizer<4,>=2 in /usr/local/lib/python3.11/dist-packages (from requests>=2.23.0->ultralytics) (3.4.1)\n",
            "Requirement already satisfied: idna<4,>=2.5 in /usr/local/lib/python3.11/dist-packages (from requests>=2.23.0->ultralytics) (3.10)\n",
            "Requirement already satisfied: urllib3<3,>=1.21.1 in /usr/local/lib/python3.11/dist-packages (from requests>=2.23.0->ultralytics) (2.3.0)\n",
            "Requirement already satisfied: certifi>=2017.4.17 in /usr/local/lib/python3.11/dist-packages (from requests>=2.23.0->ultralytics) (2025.1.31)\n",
            "Requirement already satisfied: filelock in /usr/local/lib/python3.11/dist-packages (from torch>=1.8.0->ultralytics) (3.18.0)\n",
            "Requirement already satisfied: typing-extensions>=4.10.0 in /usr/local/lib/python3.11/dist-packages (from torch>=1.8.0->ultralytics) (4.13.2)\n",
            "Requirement already satisfied: networkx in /usr/local/lib/python3.11/dist-packages (from torch>=1.8.0->ultralytics) (3.4.2)\n",
            "Requirement already satisfied: jinja2 in /usr/local/lib/python3.11/dist-packages (from torch>=1.8.0->ultralytics) (3.1.6)\n",
            "Requirement already satisfied: fsspec in /usr/local/lib/python3.11/dist-packages (from torch>=1.8.0->ultralytics) (2025.3.2)\n",
            "Collecting nvidia-cuda-nvrtc-cu12==12.4.127 (from torch>=1.8.0->ultralytics)\n",
            "  Downloading nvidia_cuda_nvrtc_cu12-12.4.127-py3-none-manylinux2014_x86_64.whl.metadata (1.5 kB)\n",
            "Collecting nvidia-cuda-runtime-cu12==12.4.127 (from torch>=1.8.0->ultralytics)\n",
            "  Downloading nvidia_cuda_runtime_cu12-12.4.127-py3-none-manylinux2014_x86_64.whl.metadata (1.5 kB)\n",
            "Collecting nvidia-cuda-cupti-cu12==12.4.127 (from torch>=1.8.0->ultralytics)\n",
            "  Downloading nvidia_cuda_cupti_cu12-12.4.127-py3-none-manylinux2014_x86_64.whl.metadata (1.6 kB)\n",
            "Collecting nvidia-cudnn-cu12==9.1.0.70 (from torch>=1.8.0->ultralytics)\n",
            "  Downloading nvidia_cudnn_cu12-9.1.0.70-py3-none-manylinux2014_x86_64.whl.metadata (1.6 kB)\n",
            "Collecting nvidia-cublas-cu12==12.4.5.8 (from torch>=1.8.0->ultralytics)\n",
            "  Downloading nvidia_cublas_cu12-12.4.5.8-py3-none-manylinux2014_x86_64.whl.metadata (1.5 kB)\n",
            "Collecting nvidia-cufft-cu12==11.2.1.3 (from torch>=1.8.0->ultralytics)\n",
            "  Downloading nvidia_cufft_cu12-11.2.1.3-py3-none-manylinux2014_x86_64.whl.metadata (1.5 kB)\n",
            "Collecting nvidia-curand-cu12==10.3.5.147 (from torch>=1.8.0->ultralytics)\n",
            "  Downloading nvidia_curand_cu12-10.3.5.147-py3-none-manylinux2014_x86_64.whl.metadata (1.5 kB)\n",
            "Collecting nvidia-cusolver-cu12==11.6.1.9 (from torch>=1.8.0->ultralytics)\n",
            "  Downloading nvidia_cusolver_cu12-11.6.1.9-py3-none-manylinux2014_x86_64.whl.metadata (1.6 kB)\n",
            "Collecting nvidia-cusparse-cu12==12.3.1.170 (from torch>=1.8.0->ultralytics)\n",
            "  Downloading nvidia_cusparse_cu12-12.3.1.170-py3-none-manylinux2014_x86_64.whl.metadata (1.6 kB)\n",
            "Requirement already satisfied: nvidia-cusparselt-cu12==0.6.2 in /usr/local/lib/python3.11/dist-packages (from torch>=1.8.0->ultralytics) (0.6.2)\n",
            "Requirement already satisfied: nvidia-nccl-cu12==2.21.5 in /usr/local/lib/python3.11/dist-packages (from torch>=1.8.0->ultralytics) (2.21.5)\n",
            "Requirement already satisfied: nvidia-nvtx-cu12==12.4.127 in /usr/local/lib/python3.11/dist-packages (from torch>=1.8.0->ultralytics) (12.4.127)\n",
            "Collecting nvidia-nvjitlink-cu12==12.4.127 (from torch>=1.8.0->ultralytics)\n",
            "  Downloading nvidia_nvjitlink_cu12-12.4.127-py3-none-manylinux2014_x86_64.whl.metadata (1.5 kB)\n",
            "Requirement already satisfied: triton==3.2.0 in /usr/local/lib/python3.11/dist-packages (from torch>=1.8.0->ultralytics) (3.2.0)\n",
            "Requirement already satisfied: sympy==1.13.1 in /usr/local/lib/python3.11/dist-packages (from torch>=1.8.0->ultralytics) (1.13.1)\n",
            "Requirement already satisfied: mpmath<1.4,>=1.1.0 in /usr/local/lib/python3.11/dist-packages (from sympy==1.13.1->torch>=1.8.0->ultralytics) (1.3.0)\n",
            "Requirement already satisfied: six>=1.5 in /usr/local/lib/python3.11/dist-packages (from python-dateutil>=2.7->matplotlib>=3.3.0->ultralytics) (1.17.0)\n",
            "Requirement already satisfied: MarkupSafe>=2.0 in /usr/local/lib/python3.11/dist-packages (from jinja2->torch>=1.8.0->ultralytics) (3.0.2)\n",
            "Downloading ultralytics-8.3.114-py3-none-any.whl (983 kB)\n",
            "\u001b[2K   \u001b[90m━━━━━━━━━━━━━━━━━━━━━━━━━━━━━━━━━━━━━━━━\u001b[0m \u001b[32m983.5/983.5 kB\u001b[0m \u001b[31m58.7 MB/s\u001b[0m eta \u001b[36m0:00:00\u001b[0m\n",
            "\u001b[?25hDownloading nvidia_cublas_cu12-12.4.5.8-py3-none-manylinux2014_x86_64.whl (363.4 MB)\n",
            "\u001b[2K   \u001b[90m━━━━━━━━━━━━━━━━━━━━━━━━━━━━━━━━━━━━━━━━\u001b[0m \u001b[32m363.4/363.4 MB\u001b[0m \u001b[31m2.7 MB/s\u001b[0m eta \u001b[36m0:00:00\u001b[0m\n",
            "\u001b[?25hDownloading nvidia_cuda_cupti_cu12-12.4.127-py3-none-manylinux2014_x86_64.whl (13.8 MB)\n",
            "\u001b[2K   \u001b[90m━━━━━━━━━━━━━━━━━━━━━━━━━━━━━━━━━━━━━━━━\u001b[0m \u001b[32m13.8/13.8 MB\u001b[0m \u001b[31m115.7 MB/s\u001b[0m eta \u001b[36m0:00:00\u001b[0m\n",
            "\u001b[?25hDownloading nvidia_cuda_nvrtc_cu12-12.4.127-py3-none-manylinux2014_x86_64.whl (24.6 MB)\n",
            "\u001b[2K   \u001b[90m━━━━━━━━━━━━━━━━━━━━━━━━━━━━━━━━━━━━━━━━\u001b[0m \u001b[32m24.6/24.6 MB\u001b[0m \u001b[31m94.4 MB/s\u001b[0m eta \u001b[36m0:00:00\u001b[0m\n",
            "\u001b[?25hDownloading nvidia_cuda_runtime_cu12-12.4.127-py3-none-manylinux2014_x86_64.whl (883 kB)\n",
            "\u001b[2K   \u001b[90m━━━━━━━━━━━━━━━━━━━━━━━━━━━━━━━━━━━━━━━━\u001b[0m \u001b[32m883.7/883.7 kB\u001b[0m \u001b[31m54.8 MB/s\u001b[0m eta \u001b[36m0:00:00\u001b[0m\n",
            "\u001b[?25hDownloading nvidia_cudnn_cu12-9.1.0.70-py3-none-manylinux2014_x86_64.whl (664.8 MB)\n",
            "\u001b[2K   \u001b[91m━━━━━━━━━━━━━━━━━━━━━━━\u001b[0m\u001b[90m╺\u001b[0m\u001b[90m━━━━━━━━━━━━━━━\u001b[0m \u001b[32m399.5/664.8 MB\u001b[0m \u001b[31m148.2 MB/s\u001b[0m eta \u001b[36m0:00:02\u001b[0m"
          ]
        }
      ],
      "source": [
        "#YOLOv8 & YOLOv11\n",
        "!pip install ultralytics"
      ]
    },
    {
      "cell_type": "code",
      "execution_count": null,
      "metadata": {
        "id": "pDex-j6S1rXS"
      },
      "outputs": [],
      "source": [
        "from ultralytics import YOLO\n",
        "import os"
      ]
    },
    {
      "cell_type": "markdown",
      "source": [
        "# **YOLOv5s**"
      ],
      "metadata": {
        "id": "yHIAnCKuGGR9"
      }
    },
    {
      "cell_type": "code",
      "source": [
        "#Load model\n",
        "yolov5_model = YOLO('yolov5s.pt')\n",
        "\n",
        "#Train model\n",
        "yolov5_model.train(\n",
        "    data='/content/drive/MyDrive/FYP/Mangrove Detection.v6i.yolov8/data.yaml',\n",
        "    epochs=70,\n",
        "    batch=16,\n",
        "    imgsz=640\n",
        ")"
      ],
      "metadata": {
        "colab": {
          "base_uri": "https://localhost:8080/"
        },
        "id": "a2R7AFtHGJqR",
        "outputId": "a8701ade-da61-4090-9946-1a93233a4245"
      },
      "execution_count": null,
      "outputs": [
        {
          "output_type": "stream",
          "name": "stdout",
          "text": [
            "PRO TIP 💡 Replace 'model=yolov5s.pt' with new 'model=yolov5su.pt'.\n",
            "YOLOv5 'u' models are trained with https://github.com/ultralytics/ultralytics and feature improved performance vs standard YOLOv5 models trained with https://github.com/ultralytics/yolov5.\n",
            "\n",
            "Downloading https://github.com/ultralytics/assets/releases/download/v8.3.0/yolov5su.pt to 'yolov5su.pt'...\n"
          ]
        },
        {
          "output_type": "stream",
          "name": "stderr",
          "text": [
            "100%|██████████| 17.7M/17.7M [00:00<00:00, 463MB/s]"
          ]
        },
        {
          "output_type": "stream",
          "name": "stdout",
          "text": [
            "Ultralytics 8.3.103 🚀 Python-3.11.11 torch-2.6.0+cu124 CUDA:0 (NVIDIA L4, 22693MiB)\n",
            "\u001b[34m\u001b[1mengine/trainer: \u001b[0mtask=detect, mode=train, model=yolov5s.pt, data=/content/drive/MyDrive/FYP/Mangrove Detection.v6i.yolov8/data.yaml, epochs=70, time=None, patience=100, batch=16, imgsz=640, save=True, save_period=-1, cache=False, device=None, workers=8, project=None, name=train3, exist_ok=False, pretrained=True, optimizer=auto, verbose=True, seed=0, deterministic=True, single_cls=False, rect=False, cos_lr=False, close_mosaic=10, resume=False, amp=True, fraction=1.0, profile=False, freeze=None, multi_scale=False, overlap_mask=True, mask_ratio=4, dropout=0.0, val=True, split=val, save_json=False, save_hybrid=False, conf=None, iou=0.7, max_det=300, half=False, dnn=False, plots=True, source=None, vid_stride=1, stream_buffer=False, visualize=False, augment=False, agnostic_nms=False, classes=None, retina_masks=False, embed=None, show=False, save_frames=False, save_txt=False, save_conf=False, save_crop=False, show_labels=True, show_conf=True, show_boxes=True, line_width=None, format=torchscript, keras=False, optimize=False, int8=False, dynamic=False, simplify=True, opset=None, workspace=None, nms=False, lr0=0.01, lrf=0.01, momentum=0.937, weight_decay=0.0005, warmup_epochs=3.0, warmup_momentum=0.8, warmup_bias_lr=0.1, box=7.5, cls=0.5, dfl=1.5, pose=12.0, kobj=1.0, nbs=64, hsv_h=0.015, hsv_s=0.7, hsv_v=0.4, degrees=0.0, translate=0.1, scale=0.5, shear=0.0, perspective=0.0, flipud=0.0, fliplr=0.5, bgr=0.0, mosaic=1.0, mixup=0.0, copy_paste=0.0, copy_paste_mode=flip, auto_augment=randaugment, erasing=0.4, crop_fraction=1.0, cfg=None, tracker=botsort.yaml, save_dir=runs/detect/train3\n",
            "Overriding model.yaml nc=80 with nc=1\n",
            "\n",
            "                   from  n    params  module                                       arguments                     \n",
            "  0                  -1  1      3520  ultralytics.nn.modules.conv.Conv             [3, 32, 6, 2, 2]              \n",
            "  1                  -1  1     18560  ultralytics.nn.modules.conv.Conv             [32, 64, 3, 2]                \n",
            "  2                  -1  1     18816  ultralytics.nn.modules.block.C3              [64, 64, 1]                   \n",
            "  3                  -1  1     73984  ultralytics.nn.modules.conv.Conv             [64, 128, 3, 2]               \n",
            "  4                  -1  2    115712  ultralytics.nn.modules.block.C3              [128, 128, 2]                 \n",
            "  5                  -1  1    295424  ultralytics.nn.modules.conv.Conv             [128, 256, 3, 2]              \n",
            "  6                  -1  3    625152  ultralytics.nn.modules.block.C3              [256, 256, 3]                 \n",
            "  7                  -1  1   1180672  ultralytics.nn.modules.conv.Conv             [256, 512, 3, 2]              \n"
          ]
        },
        {
          "output_type": "stream",
          "name": "stderr",
          "text": [
            "\n"
          ]
        },
        {
          "output_type": "stream",
          "name": "stdout",
          "text": [
            "  8                  -1  1   1182720  ultralytics.nn.modules.block.C3              [512, 512, 1]                 \n",
            "  9                  -1  1    656896  ultralytics.nn.modules.block.SPPF            [512, 512, 5]                 \n",
            " 10                  -1  1    131584  ultralytics.nn.modules.conv.Conv             [512, 256, 1, 1]              \n",
            " 11                  -1  1         0  torch.nn.modules.upsampling.Upsample         [None, 2, 'nearest']          \n",
            " 12             [-1, 6]  1         0  ultralytics.nn.modules.conv.Concat           [1]                           \n",
            " 13                  -1  1    361984  ultralytics.nn.modules.block.C3              [512, 256, 1, False]          \n",
            " 14                  -1  1     33024  ultralytics.nn.modules.conv.Conv             [256, 128, 1, 1]              \n",
            " 15                  -1  1         0  torch.nn.modules.upsampling.Upsample         [None, 2, 'nearest']          \n",
            " 16             [-1, 4]  1         0  ultralytics.nn.modules.conv.Concat           [1]                           \n",
            " 17                  -1  1     90880  ultralytics.nn.modules.block.C3              [256, 128, 1, False]          \n",
            " 18                  -1  1    147712  ultralytics.nn.modules.conv.Conv             [128, 128, 3, 2]              \n",
            " 19            [-1, 14]  1         0  ultralytics.nn.modules.conv.Concat           [1]                           \n",
            " 20                  -1  1    296448  ultralytics.nn.modules.block.C3              [256, 256, 1, False]          \n",
            " 21                  -1  1    590336  ultralytics.nn.modules.conv.Conv             [256, 256, 3, 2]              \n",
            " 22            [-1, 10]  1         0  ultralytics.nn.modules.conv.Concat           [1]                           \n",
            " 23                  -1  1   1182720  ultralytics.nn.modules.block.C3              [512, 512, 1, False]          \n",
            " 24        [17, 20, 23]  1   2116435  ultralytics.nn.modules.head.Detect           [1, [128, 256, 512]]          \n",
            "YOLOv5s summary: 153 layers, 9,122,579 parameters, 9,122,563 gradients, 24.0 GFLOPs\n",
            "\n",
            "Transferred 421/427 items from pretrained weights\n",
            "\u001b[34m\u001b[1mTensorBoard: \u001b[0mStart with 'tensorboard --logdir runs/detect/train3', view at http://localhost:6006/\n",
            "Freezing layer 'model.24.dfl.conv.weight'\n",
            "\u001b[34m\u001b[1mAMP: \u001b[0mrunning Automatic Mixed Precision (AMP) checks...\n",
            "\u001b[34m\u001b[1mAMP: \u001b[0mchecks passed ✅\n"
          ]
        },
        {
          "output_type": "stream",
          "name": "stderr",
          "text": [
            "\u001b[34m\u001b[1mtrain: \u001b[0mScanning /content/drive/MyDrive/FYP/Mangrove Detection.v6i.yolov8/train/labels.cache... 432 images, 1 backgrounds, 0 corrupt: 100%|██████████| 432/432 [00:00<?, ?it/s]"
          ]
        },
        {
          "output_type": "stream",
          "name": "stdout",
          "text": [
            "\u001b[34m\u001b[1malbumentations: \u001b[0mBlur(p=0.01, blur_limit=(3, 7)), MedianBlur(p=0.01, blur_limit=(3, 7)), ToGray(p=0.01, num_output_channels=3, method='weighted_average'), CLAHE(p=0.01, clip_limit=(1.0, 4.0), tile_grid_size=(8, 8))\n"
          ]
        },
        {
          "output_type": "stream",
          "name": "stderr",
          "text": [
            "\n",
            "\u001b[34m\u001b[1mval: \u001b[0mScanning /content/drive/MyDrive/FYP/Mangrove Detection.v6i.yolov8/valid/labels.cache... 116 images, 0 backgrounds, 0 corrupt: 100%|██████████| 116/116 [00:00<?, ?it/s]\n"
          ]
        },
        {
          "output_type": "stream",
          "name": "stdout",
          "text": [
            "Plotting labels to runs/detect/train3/labels.jpg... \n",
            "\u001b[34m\u001b[1moptimizer:\u001b[0m 'optimizer=auto' found, ignoring 'lr0=0.01' and 'momentum=0.937' and determining best 'optimizer', 'lr0' and 'momentum' automatically... \n",
            "\u001b[34m\u001b[1moptimizer:\u001b[0m AdamW(lr=0.002, momentum=0.9) with parameter groups 69 weight(decay=0.0), 76 weight(decay=0.0005), 75 bias(decay=0.0)\n",
            "\u001b[34m\u001b[1mTensorBoard: \u001b[0mmodel graph visualization added ✅\n",
            "Image sizes 640 train, 640 val\n",
            "Using 8 dataloader workers\n",
            "Logging results to \u001b[1mruns/detect/train3\u001b[0m\n",
            "Starting training for 70 epochs...\n",
            "\n",
            "      Epoch    GPU_mem   box_loss   cls_loss   dfl_loss  Instances       Size\n"
          ]
        },
        {
          "output_type": "stream",
          "name": "stderr",
          "text": [
            "       1/70      3.94G      1.358      1.839      1.452        102        640: 100%|██████████| 27/27 [00:09<00:00,  2.84it/s]\n",
            "                 Class     Images  Instances      Box(P          R      mAP50  mAP50-95): 100%|██████████| 4/4 [00:00<00:00,  4.73it/s]\n"
          ]
        },
        {
          "output_type": "stream",
          "name": "stdout",
          "text": [
            "                   all        116        414      0.505      0.565      0.545      0.292\n",
            "\n",
            "      Epoch    GPU_mem   box_loss   cls_loss   dfl_loss  Instances       Size\n"
          ]
        },
        {
          "output_type": "stream",
          "name": "stderr",
          "text": [
            "       2/70      4.36G      1.262      1.333      1.327        120        640: 100%|██████████| 27/27 [00:08<00:00,  3.17it/s]\n",
            "                 Class     Images  Instances      Box(P          R      mAP50  mAP50-95): 100%|██████████| 4/4 [00:00<00:00,  4.78it/s]\n"
          ]
        },
        {
          "output_type": "stream",
          "name": "stdout",
          "text": [
            "                   all        116        414       0.69      0.258       0.41      0.196\n",
            "\n",
            "      Epoch    GPU_mem   box_loss   cls_loss   dfl_loss  Instances       Size\n"
          ]
        },
        {
          "output_type": "stream",
          "name": "stderr",
          "text": [
            "       3/70      4.36G      1.336      1.332      1.386        131        640: 100%|██████████| 27/27 [00:08<00:00,  3.15it/s]\n",
            "                 Class     Images  Instances      Box(P          R      mAP50  mAP50-95): 100%|██████████| 4/4 [00:00<00:00,  5.01it/s]"
          ]
        },
        {
          "output_type": "stream",
          "name": "stdout",
          "text": [
            "                   all        116        414      0.431      0.601       0.47      0.228\n"
          ]
        },
        {
          "output_type": "stream",
          "name": "stderr",
          "text": [
            "\n"
          ]
        },
        {
          "output_type": "stream",
          "name": "stdout",
          "text": [
            "\n",
            "      Epoch    GPU_mem   box_loss   cls_loss   dfl_loss  Instances       Size\n"
          ]
        },
        {
          "output_type": "stream",
          "name": "stderr",
          "text": [
            "       4/70      4.39G      1.357       1.31      1.382        106        640: 100%|██████████| 27/27 [00:07<00:00,  3.50it/s]\n",
            "                 Class     Images  Instances      Box(P          R      mAP50  mAP50-95): 100%|██████████| 4/4 [00:00<00:00,  4.69it/s]"
          ]
        },
        {
          "output_type": "stream",
          "name": "stdout",
          "text": [
            "                   all        116        414      0.244      0.662      0.398      0.182\n"
          ]
        },
        {
          "output_type": "stream",
          "name": "stderr",
          "text": [
            "\n"
          ]
        },
        {
          "output_type": "stream",
          "name": "stdout",
          "text": [
            "\n",
            "      Epoch    GPU_mem   box_loss   cls_loss   dfl_loss  Instances       Size\n"
          ]
        },
        {
          "output_type": "stream",
          "name": "stderr",
          "text": [
            "       5/70      4.39G      1.333      1.276      1.381        141        640: 100%|██████████| 27/27 [00:06<00:00,  4.12it/s]\n",
            "                 Class     Images  Instances      Box(P          R      mAP50  mAP50-95): 100%|██████████| 4/4 [00:00<00:00,  4.73it/s]\n"
          ]
        },
        {
          "output_type": "stream",
          "name": "stdout",
          "text": [
            "                   all        116        414      0.465      0.592        0.5      0.249\n",
            "\n",
            "      Epoch    GPU_mem   box_loss   cls_loss   dfl_loss  Instances       Size\n"
          ]
        },
        {
          "output_type": "stream",
          "name": "stderr",
          "text": [
            "       6/70      4.39G      1.308      1.218      1.374        114        640: 100%|██████████| 27/27 [00:08<00:00,  3.05it/s]\n",
            "                 Class     Images  Instances      Box(P          R      mAP50  mAP50-95): 100%|██████████| 4/4 [00:00<00:00,  5.41it/s]"
          ]
        },
        {
          "output_type": "stream",
          "name": "stdout",
          "text": [
            "                   all        116        414      0.617      0.618      0.627      0.318\n"
          ]
        },
        {
          "output_type": "stream",
          "name": "stderr",
          "text": [
            "\n"
          ]
        },
        {
          "output_type": "stream",
          "name": "stdout",
          "text": [
            "\n",
            "      Epoch    GPU_mem   box_loss   cls_loss   dfl_loss  Instances       Size\n"
          ]
        },
        {
          "output_type": "stream",
          "name": "stderr",
          "text": [
            "       7/70      4.39G      1.276      1.198      1.352        102        640: 100%|██████████| 27/27 [00:06<00:00,  4.18it/s]\n",
            "                 Class     Images  Instances      Box(P          R      mAP50  mAP50-95): 100%|██████████| 4/4 [00:00<00:00,  5.04it/s]"
          ]
        },
        {
          "output_type": "stream",
          "name": "stdout",
          "text": [
            "                   all        116        414      0.606      0.628      0.636      0.352\n"
          ]
        },
        {
          "output_type": "stream",
          "name": "stderr",
          "text": [
            "\n"
          ]
        },
        {
          "output_type": "stream",
          "name": "stdout",
          "text": [
            "\n",
            "      Epoch    GPU_mem   box_loss   cls_loss   dfl_loss  Instances       Size\n"
          ]
        },
        {
          "output_type": "stream",
          "name": "stderr",
          "text": [
            "       8/70      4.39G       1.26      1.216      1.356         96        640: 100%|██████████| 27/27 [00:07<00:00,  3.66it/s]\n",
            "                 Class     Images  Instances      Box(P          R      mAP50  mAP50-95): 100%|██████████| 4/4 [00:00<00:00,  5.31it/s]"
          ]
        },
        {
          "output_type": "stream",
          "name": "stdout",
          "text": [
            "                   all        116        414      0.666      0.628      0.638       0.39\n"
          ]
        },
        {
          "output_type": "stream",
          "name": "stderr",
          "text": [
            "\n"
          ]
        },
        {
          "output_type": "stream",
          "name": "stdout",
          "text": [
            "\n",
            "      Epoch    GPU_mem   box_loss   cls_loss   dfl_loss  Instances       Size\n"
          ]
        },
        {
          "output_type": "stream",
          "name": "stderr",
          "text": [
            "       9/70      4.39G      1.232      1.162      1.334        104        640: 100%|██████████| 27/27 [00:07<00:00,  3.46it/s]\n",
            "                 Class     Images  Instances      Box(P          R      mAP50  mAP50-95): 100%|██████████| 4/4 [00:00<00:00,  5.07it/s]"
          ]
        },
        {
          "output_type": "stream",
          "name": "stdout",
          "text": [
            "                   all        116        414      0.654      0.588      0.629      0.369\n"
          ]
        },
        {
          "output_type": "stream",
          "name": "stderr",
          "text": [
            "\n"
          ]
        },
        {
          "output_type": "stream",
          "name": "stdout",
          "text": [
            "\n",
            "      Epoch    GPU_mem   box_loss   cls_loss   dfl_loss  Instances       Size\n"
          ]
        },
        {
          "output_type": "stream",
          "name": "stderr",
          "text": [
            "      10/70      4.41G      1.241      1.173       1.34        109        640: 100%|██████████| 27/27 [00:08<00:00,  3.11it/s]\n",
            "                 Class     Images  Instances      Box(P          R      mAP50  mAP50-95): 100%|██████████| 4/4 [00:00<00:00,  5.25it/s]"
          ]
        },
        {
          "output_type": "stream",
          "name": "stdout",
          "text": [
            "                   all        116        414      0.711      0.616      0.686      0.398\n"
          ]
        },
        {
          "output_type": "stream",
          "name": "stderr",
          "text": [
            "\n"
          ]
        },
        {
          "output_type": "stream",
          "name": "stdout",
          "text": [
            "\n",
            "      Epoch    GPU_mem   box_loss   cls_loss   dfl_loss  Instances       Size\n"
          ]
        },
        {
          "output_type": "stream",
          "name": "stderr",
          "text": [
            "      11/70      4.41G      1.168      1.116      1.283        123        640: 100%|██████████| 27/27 [00:07<00:00,  3.74it/s]\n",
            "                 Class     Images  Instances      Box(P          R      mAP50  mAP50-95): 100%|██████████| 4/4 [00:00<00:00,  5.09it/s]"
          ]
        },
        {
          "output_type": "stream",
          "name": "stdout",
          "text": [
            "                   all        116        414      0.719      0.655       0.73       0.46\n"
          ]
        },
        {
          "output_type": "stream",
          "name": "stderr",
          "text": [
            "\n"
          ]
        },
        {
          "output_type": "stream",
          "name": "stdout",
          "text": [
            "\n",
            "      Epoch    GPU_mem   box_loss   cls_loss   dfl_loss  Instances       Size\n"
          ]
        },
        {
          "output_type": "stream",
          "name": "stderr",
          "text": [
            "      12/70      4.44G      1.164      1.085      1.296        120        640: 100%|██████████| 27/27 [00:07<00:00,  3.41it/s]\n",
            "                 Class     Images  Instances      Box(P          R      mAP50  mAP50-95): 100%|██████████| 4/4 [00:00<00:00,  5.43it/s]"
          ]
        },
        {
          "output_type": "stream",
          "name": "stdout",
          "text": [
            "                   all        116        414      0.696      0.585      0.624      0.366\n"
          ]
        },
        {
          "output_type": "stream",
          "name": "stderr",
          "text": [
            "\n"
          ]
        },
        {
          "output_type": "stream",
          "name": "stdout",
          "text": [
            "\n",
            "      Epoch    GPU_mem   box_loss   cls_loss   dfl_loss  Instances       Size\n"
          ]
        },
        {
          "output_type": "stream",
          "name": "stderr",
          "text": [
            "      13/70      4.44G      1.177      1.086      1.284        105        640: 100%|██████████| 27/27 [00:06<00:00,  3.95it/s]\n",
            "                 Class     Images  Instances      Box(P          R      mAP50  mAP50-95): 100%|██████████| 4/4 [00:00<00:00,  5.09it/s]"
          ]
        },
        {
          "output_type": "stream",
          "name": "stdout",
          "text": [
            "                   all        116        414      0.704      0.696      0.738      0.455\n"
          ]
        },
        {
          "output_type": "stream",
          "name": "stderr",
          "text": [
            "\n"
          ]
        },
        {
          "output_type": "stream",
          "name": "stdout",
          "text": [
            "\n",
            "      Epoch    GPU_mem   box_loss   cls_loss   dfl_loss  Instances       Size\n"
          ]
        },
        {
          "output_type": "stream",
          "name": "stderr",
          "text": [
            "      14/70      4.44G      1.152      1.096      1.278        122        640: 100%|██████████| 27/27 [00:07<00:00,  3.45it/s]\n",
            "                 Class     Images  Instances      Box(P          R      mAP50  mAP50-95): 100%|██████████| 4/4 [00:00<00:00,  5.00it/s]"
          ]
        },
        {
          "output_type": "stream",
          "name": "stdout",
          "text": [
            "                   all        116        414      0.641      0.531      0.605      0.372\n"
          ]
        },
        {
          "output_type": "stream",
          "name": "stderr",
          "text": [
            "\n"
          ]
        },
        {
          "output_type": "stream",
          "name": "stdout",
          "text": [
            "\n",
            "      Epoch    GPU_mem   box_loss   cls_loss   dfl_loss  Instances       Size\n"
          ]
        },
        {
          "output_type": "stream",
          "name": "stderr",
          "text": [
            "      15/70      4.47G       1.12      1.053      1.265         93        640: 100%|██████████| 27/27 [00:08<00:00,  3.13it/s]\n",
            "                 Class     Images  Instances      Box(P          R      mAP50  mAP50-95): 100%|██████████| 4/4 [00:00<00:00,  5.07it/s]"
          ]
        },
        {
          "output_type": "stream",
          "name": "stdout",
          "text": [
            "                   all        116        414      0.697      0.628       0.72      0.456\n"
          ]
        },
        {
          "output_type": "stream",
          "name": "stderr",
          "text": [
            "\n"
          ]
        },
        {
          "output_type": "stream",
          "name": "stdout",
          "text": [
            "\n",
            "      Epoch    GPU_mem   box_loss   cls_loss   dfl_loss  Instances       Size\n"
          ]
        },
        {
          "output_type": "stream",
          "name": "stderr",
          "text": [
            "      16/70      4.47G      1.107      1.022      1.253        135        640: 100%|██████████| 27/27 [00:07<00:00,  3.79it/s]\n",
            "                 Class     Images  Instances      Box(P          R      mAP50  mAP50-95): 100%|██████████| 4/4 [00:00<00:00,  4.83it/s]"
          ]
        },
        {
          "output_type": "stream",
          "name": "stdout",
          "text": [
            "                   all        116        414      0.744      0.657       0.74      0.465\n"
          ]
        },
        {
          "output_type": "stream",
          "name": "stderr",
          "text": [
            "\n"
          ]
        },
        {
          "output_type": "stream",
          "name": "stdout",
          "text": [
            "\n",
            "      Epoch    GPU_mem   box_loss   cls_loss   dfl_loss  Instances       Size\n"
          ]
        },
        {
          "output_type": "stream",
          "name": "stderr",
          "text": [
            "      17/70      4.47G      1.095      1.012      1.243        119        640: 100%|██████████| 27/27 [00:07<00:00,  3.71it/s]\n",
            "                 Class     Images  Instances      Box(P          R      mAP50  mAP50-95): 100%|██████████| 4/4 [00:00<00:00,  5.09it/s]"
          ]
        },
        {
          "output_type": "stream",
          "name": "stdout",
          "text": [
            "                   all        116        414      0.727      0.655      0.738      0.472\n"
          ]
        },
        {
          "output_type": "stream",
          "name": "stderr",
          "text": [
            "\n"
          ]
        },
        {
          "output_type": "stream",
          "name": "stdout",
          "text": [
            "\n",
            "      Epoch    GPU_mem   box_loss   cls_loss   dfl_loss  Instances       Size\n"
          ]
        },
        {
          "output_type": "stream",
          "name": "stderr",
          "text": [
            "      18/70      4.47G       1.08     0.9823      1.236         93        640: 100%|██████████| 27/27 [00:08<00:00,  3.31it/s]\n",
            "                 Class     Images  Instances      Box(P          R      mAP50  mAP50-95): 100%|██████████| 4/4 [00:00<00:00,  5.16it/s]"
          ]
        },
        {
          "output_type": "stream",
          "name": "stdout",
          "text": [
            "                   all        116        414      0.705      0.705      0.729      0.476\n"
          ]
        },
        {
          "output_type": "stream",
          "name": "stderr",
          "text": [
            "\n"
          ]
        },
        {
          "output_type": "stream",
          "name": "stdout",
          "text": [
            "\n",
            "      Epoch    GPU_mem   box_loss   cls_loss   dfl_loss  Instances       Size\n"
          ]
        },
        {
          "output_type": "stream",
          "name": "stderr",
          "text": [
            "      19/70      4.47G      1.092     0.9946      1.251        109        640: 100%|██████████| 27/27 [00:07<00:00,  3.58it/s]\n",
            "                 Class     Images  Instances      Box(P          R      mAP50  mAP50-95): 100%|██████████| 4/4 [00:00<00:00,  5.01it/s]"
          ]
        },
        {
          "output_type": "stream",
          "name": "stdout",
          "text": [
            "                   all        116        414      0.765      0.609      0.745      0.473\n"
          ]
        },
        {
          "output_type": "stream",
          "name": "stderr",
          "text": [
            "\n"
          ]
        },
        {
          "output_type": "stream",
          "name": "stdout",
          "text": [
            "\n",
            "      Epoch    GPU_mem   box_loss   cls_loss   dfl_loss  Instances       Size\n"
          ]
        },
        {
          "output_type": "stream",
          "name": "stderr",
          "text": [
            "      20/70      4.47G      1.066     0.9622      1.227        112        640: 100%|██████████| 27/27 [00:08<00:00,  3.26it/s]\n",
            "                 Class     Images  Instances      Box(P          R      mAP50  mAP50-95): 100%|██████████| 4/4 [00:00<00:00,  5.13it/s]"
          ]
        },
        {
          "output_type": "stream",
          "name": "stdout",
          "text": [
            "                   all        116        414      0.761      0.698      0.776        0.5\n"
          ]
        },
        {
          "output_type": "stream",
          "name": "stderr",
          "text": [
            "\n"
          ]
        },
        {
          "output_type": "stream",
          "name": "stdout",
          "text": [
            "\n",
            "      Epoch    GPU_mem   box_loss   cls_loss   dfl_loss  Instances       Size\n"
          ]
        },
        {
          "output_type": "stream",
          "name": "stderr",
          "text": [
            "      21/70       4.5G      1.055     0.9726      1.218        117        640: 100%|██████████| 27/27 [00:06<00:00,  3.90it/s]\n",
            "                 Class     Images  Instances      Box(P          R      mAP50  mAP50-95): 100%|██████████| 4/4 [00:00<00:00,  5.24it/s]"
          ]
        },
        {
          "output_type": "stream",
          "name": "stdout",
          "text": [
            "                   all        116        414      0.784      0.645      0.767      0.509\n"
          ]
        },
        {
          "output_type": "stream",
          "name": "stderr",
          "text": [
            "\n"
          ]
        },
        {
          "output_type": "stream",
          "name": "stdout",
          "text": [
            "\n",
            "      Epoch    GPU_mem   box_loss   cls_loss   dfl_loss  Instances       Size\n"
          ]
        },
        {
          "output_type": "stream",
          "name": "stderr",
          "text": [
            "      22/70       4.5G      1.061     0.9441      1.215        140        640: 100%|██████████| 27/27 [00:06<00:00,  3.93it/s]\n",
            "                 Class     Images  Instances      Box(P          R      mAP50  mAP50-95): 100%|██████████| 4/4 [00:00<00:00,  4.91it/s]"
          ]
        },
        {
          "output_type": "stream",
          "name": "stdout",
          "text": [
            "                   all        116        414      0.769      0.713      0.774      0.519\n"
          ]
        },
        {
          "output_type": "stream",
          "name": "stderr",
          "text": [
            "\n"
          ]
        },
        {
          "output_type": "stream",
          "name": "stdout",
          "text": [
            "\n",
            "      Epoch    GPU_mem   box_loss   cls_loss   dfl_loss  Instances       Size\n"
          ]
        },
        {
          "output_type": "stream",
          "name": "stderr",
          "text": [
            "      23/70       4.5G      1.031     0.9479      1.203        133        640: 100%|██████████| 27/27 [00:07<00:00,  3.41it/s]\n",
            "                 Class     Images  Instances      Box(P          R      mAP50  mAP50-95): 100%|██████████| 4/4 [00:00<00:00,  4.76it/s]"
          ]
        },
        {
          "output_type": "stream",
          "name": "stdout",
          "text": [
            "                   all        116        414      0.778       0.64      0.747      0.479\n"
          ]
        },
        {
          "output_type": "stream",
          "name": "stderr",
          "text": [
            "\n"
          ]
        },
        {
          "output_type": "stream",
          "name": "stdout",
          "text": [
            "\n",
            "      Epoch    GPU_mem   box_loss   cls_loss   dfl_loss  Instances       Size\n"
          ]
        },
        {
          "output_type": "stream",
          "name": "stderr",
          "text": [
            "      24/70      4.53G      1.039     0.9202      1.208        128        640: 100%|██████████| 27/27 [00:07<00:00,  3.47it/s]\n",
            "                 Class     Images  Instances      Box(P          R      mAP50  mAP50-95): 100%|██████████| 4/4 [00:00<00:00,  4.90it/s]"
          ]
        },
        {
          "output_type": "stream",
          "name": "stdout",
          "text": [
            "                   all        116        414        0.8      0.686      0.795      0.527\n"
          ]
        },
        {
          "output_type": "stream",
          "name": "stderr",
          "text": [
            "\n"
          ]
        },
        {
          "output_type": "stream",
          "name": "stdout",
          "text": [
            "\n",
            "      Epoch    GPU_mem   box_loss   cls_loss   dfl_loss  Instances       Size\n"
          ]
        },
        {
          "output_type": "stream",
          "name": "stderr",
          "text": [
            "      25/70      4.53G      1.007     0.9041      1.197        111        640: 100%|██████████| 27/27 [00:08<00:00,  3.36it/s]\n",
            "                 Class     Images  Instances      Box(P          R      mAP50  mAP50-95): 100%|██████████| 4/4 [00:00<00:00,  4.97it/s]"
          ]
        },
        {
          "output_type": "stream",
          "name": "stdout",
          "text": [
            "                   all        116        414      0.755      0.696       0.78       0.52\n"
          ]
        },
        {
          "output_type": "stream",
          "name": "stderr",
          "text": [
            "\n"
          ]
        },
        {
          "output_type": "stream",
          "name": "stdout",
          "text": [
            "\n",
            "      Epoch    GPU_mem   box_loss   cls_loss   dfl_loss  Instances       Size\n"
          ]
        },
        {
          "output_type": "stream",
          "name": "stderr",
          "text": [
            "      26/70      4.53G      1.042     0.9412      1.208        115        640: 100%|██████████| 27/27 [00:07<00:00,  3.84it/s]\n",
            "                 Class     Images  Instances      Box(P          R      mAP50  mAP50-95): 100%|██████████| 4/4 [00:00<00:00,  4.86it/s]"
          ]
        },
        {
          "output_type": "stream",
          "name": "stdout",
          "text": [
            "                   all        116        414      0.792       0.64      0.764      0.516\n"
          ]
        },
        {
          "output_type": "stream",
          "name": "stderr",
          "text": [
            "\n"
          ]
        },
        {
          "output_type": "stream",
          "name": "stdout",
          "text": [
            "\n",
            "      Epoch    GPU_mem   box_loss   cls_loss   dfl_loss  Instances       Size\n"
          ]
        },
        {
          "output_type": "stream",
          "name": "stderr",
          "text": [
            "      27/70      4.56G      1.003     0.9124      1.193        117        640: 100%|██████████| 27/27 [00:08<00:00,  3.27it/s]\n",
            "                 Class     Images  Instances      Box(P          R      mAP50  mAP50-95): 100%|██████████| 4/4 [00:00<00:00,  4.99it/s]"
          ]
        },
        {
          "output_type": "stream",
          "name": "stdout",
          "text": [
            "                   all        116        414       0.77      0.693      0.777      0.517\n"
          ]
        },
        {
          "output_type": "stream",
          "name": "stderr",
          "text": [
            "\n"
          ]
        },
        {
          "output_type": "stream",
          "name": "stdout",
          "text": [
            "\n",
            "      Epoch    GPU_mem   box_loss   cls_loss   dfl_loss  Instances       Size\n"
          ]
        },
        {
          "output_type": "stream",
          "name": "stderr",
          "text": [
            "      28/70      4.56G     0.9785     0.9019      1.188        112        640: 100%|██████████| 27/27 [00:07<00:00,  3.84it/s]\n",
            "                 Class     Images  Instances      Box(P          R      mAP50  mAP50-95): 100%|██████████| 4/4 [00:00<00:00,  4.88it/s]"
          ]
        },
        {
          "output_type": "stream",
          "name": "stdout",
          "text": [
            "                   all        116        414       0.79      0.686      0.795      0.537\n"
          ]
        },
        {
          "output_type": "stream",
          "name": "stderr",
          "text": [
            "\n"
          ]
        },
        {
          "output_type": "stream",
          "name": "stdout",
          "text": [
            "\n",
            "      Epoch    GPU_mem   box_loss   cls_loss   dfl_loss  Instances       Size\n"
          ]
        },
        {
          "output_type": "stream",
          "name": "stderr",
          "text": [
            "      29/70      4.56G      1.011     0.9067      1.199        101        640: 100%|██████████| 27/27 [00:08<00:00,  3.16it/s]\n",
            "                 Class     Images  Instances      Box(P          R      mAP50  mAP50-95): 100%|██████████| 4/4 [00:00<00:00,  5.08it/s]"
          ]
        },
        {
          "output_type": "stream",
          "name": "stdout",
          "text": [
            "                   all        116        414      0.773       0.72        0.8      0.525\n"
          ]
        },
        {
          "output_type": "stream",
          "name": "stderr",
          "text": [
            "\n"
          ]
        },
        {
          "output_type": "stream",
          "name": "stdout",
          "text": [
            "\n",
            "      Epoch    GPU_mem   box_loss   cls_loss   dfl_loss  Instances       Size\n"
          ]
        },
        {
          "output_type": "stream",
          "name": "stderr",
          "text": [
            "      30/70      4.56G     0.9856     0.8719      1.179        123        640: 100%|██████████| 27/27 [00:06<00:00,  3.95it/s]\n",
            "                 Class     Images  Instances      Box(P          R      mAP50  mAP50-95): 100%|██████████| 4/4 [00:00<00:00,  5.03it/s]"
          ]
        },
        {
          "output_type": "stream",
          "name": "stdout",
          "text": [
            "                   all        116        414      0.788      0.696      0.801      0.536\n"
          ]
        },
        {
          "output_type": "stream",
          "name": "stderr",
          "text": [
            "\n"
          ]
        },
        {
          "output_type": "stream",
          "name": "stdout",
          "text": [
            "\n",
            "      Epoch    GPU_mem   box_loss   cls_loss   dfl_loss  Instances       Size\n"
          ]
        },
        {
          "output_type": "stream",
          "name": "stderr",
          "text": [
            "      31/70      4.56G     0.9668     0.8699       1.17        112        640: 100%|██████████| 27/27 [00:07<00:00,  3.65it/s]\n",
            "                 Class     Images  Instances      Box(P          R      mAP50  mAP50-95): 100%|██████████| 4/4 [00:00<00:00,  4.89it/s]"
          ]
        },
        {
          "output_type": "stream",
          "name": "stdout",
          "text": [
            "                   all        116        414      0.773      0.738      0.798      0.526\n"
          ]
        },
        {
          "output_type": "stream",
          "name": "stderr",
          "text": [
            "\n"
          ]
        },
        {
          "output_type": "stream",
          "name": "stdout",
          "text": [
            "\n",
            "      Epoch    GPU_mem   box_loss   cls_loss   dfl_loss  Instances       Size\n"
          ]
        },
        {
          "output_type": "stream",
          "name": "stderr",
          "text": [
            "      32/70      4.56G     0.9464     0.8237      1.166        110        640: 100%|██████████| 27/27 [00:08<00:00,  3.09it/s]\n",
            "                 Class     Images  Instances      Box(P          R      mAP50  mAP50-95): 100%|██████████| 4/4 [00:00<00:00,  4.76it/s]\n"
          ]
        },
        {
          "output_type": "stream",
          "name": "stdout",
          "text": [
            "                   all        116        414      0.806      0.705      0.801      0.541\n",
            "\n",
            "      Epoch    GPU_mem   box_loss   cls_loss   dfl_loss  Instances       Size\n"
          ]
        },
        {
          "output_type": "stream",
          "name": "stderr",
          "text": [
            "      33/70      4.56G     0.9497     0.8269      1.157        132        640: 100%|██████████| 27/27 [00:07<00:00,  3.71it/s]\n",
            "                 Class     Images  Instances      Box(P          R      mAP50  mAP50-95): 100%|██████████| 4/4 [00:00<00:00,  5.26it/s]"
          ]
        },
        {
          "output_type": "stream",
          "name": "stdout",
          "text": [
            "                   all        116        414      0.771      0.746      0.811      0.561\n"
          ]
        },
        {
          "output_type": "stream",
          "name": "stderr",
          "text": [
            "\n"
          ]
        },
        {
          "output_type": "stream",
          "name": "stdout",
          "text": [
            "\n",
            "      Epoch    GPU_mem   box_loss   cls_loss   dfl_loss  Instances       Size\n"
          ]
        },
        {
          "output_type": "stream",
          "name": "stderr",
          "text": [
            "      34/70      4.56G     0.9435     0.8441      1.168        133        640: 100%|██████████| 27/27 [00:07<00:00,  3.62it/s]\n",
            "                 Class     Images  Instances      Box(P          R      mAP50  mAP50-95): 100%|██████████| 4/4 [00:00<00:00,  4.68it/s]"
          ]
        },
        {
          "output_type": "stream",
          "name": "stdout",
          "text": [
            "                   all        116        414      0.814      0.674      0.783      0.541\n"
          ]
        },
        {
          "output_type": "stream",
          "name": "stderr",
          "text": [
            "\n"
          ]
        },
        {
          "output_type": "stream",
          "name": "stdout",
          "text": [
            "\n",
            "      Epoch    GPU_mem   box_loss   cls_loss   dfl_loss  Instances       Size\n"
          ]
        },
        {
          "output_type": "stream",
          "name": "stderr",
          "text": [
            "      35/70      4.56G     0.9332     0.8513      1.156        131        640: 100%|██████████| 27/27 [00:08<00:00,  3.37it/s]\n",
            "                 Class     Images  Instances      Box(P          R      mAP50  mAP50-95): 100%|██████████| 4/4 [00:00<00:00,  5.33it/s]"
          ]
        },
        {
          "output_type": "stream",
          "name": "stdout",
          "text": [
            "                   all        116        414      0.846      0.696      0.794      0.547\n"
          ]
        },
        {
          "output_type": "stream",
          "name": "stderr",
          "text": [
            "\n"
          ]
        },
        {
          "output_type": "stream",
          "name": "stdout",
          "text": [
            "\n",
            "      Epoch    GPU_mem   box_loss   cls_loss   dfl_loss  Instances       Size\n"
          ]
        },
        {
          "output_type": "stream",
          "name": "stderr",
          "text": [
            "      36/70      4.56G     0.9246     0.8181      1.147        141        640: 100%|██████████| 27/27 [00:08<00:00,  3.20it/s]\n",
            "                 Class     Images  Instances      Box(P          R      mAP50  mAP50-95): 100%|██████████| 4/4 [00:00<00:00,  4.82it/s]"
          ]
        },
        {
          "output_type": "stream",
          "name": "stdout",
          "text": [
            "                   all        116        414      0.814      0.728      0.805      0.551\n"
          ]
        },
        {
          "output_type": "stream",
          "name": "stderr",
          "text": [
            "\n"
          ]
        },
        {
          "output_type": "stream",
          "name": "stdout",
          "text": [
            "\n",
            "      Epoch    GPU_mem   box_loss   cls_loss   dfl_loss  Instances       Size\n"
          ]
        },
        {
          "output_type": "stream",
          "name": "stderr",
          "text": [
            "      37/70      4.56G     0.9135     0.7828      1.138        118        640: 100%|██████████| 27/27 [00:08<00:00,  3.14it/s]\n",
            "                 Class     Images  Instances      Box(P          R      mAP50  mAP50-95): 100%|██████████| 4/4 [00:00<00:00,  5.34it/s]"
          ]
        },
        {
          "output_type": "stream",
          "name": "stdout",
          "text": [
            "                   all        116        414      0.854      0.722      0.831      0.577\n"
          ]
        },
        {
          "output_type": "stream",
          "name": "stderr",
          "text": [
            "\n"
          ]
        },
        {
          "output_type": "stream",
          "name": "stdout",
          "text": [
            "\n",
            "      Epoch    GPU_mem   box_loss   cls_loss   dfl_loss  Instances       Size\n"
          ]
        },
        {
          "output_type": "stream",
          "name": "stderr",
          "text": [
            "      38/70      4.56G      0.916     0.7959      1.146        133        640: 100%|██████████| 27/27 [00:06<00:00,  4.07it/s]\n",
            "                 Class     Images  Instances      Box(P          R      mAP50  mAP50-95): 100%|██████████| 4/4 [00:00<00:00,  5.41it/s]"
          ]
        },
        {
          "output_type": "stream",
          "name": "stdout",
          "text": [
            "                   all        116        414       0.85      0.726      0.829      0.577\n"
          ]
        },
        {
          "output_type": "stream",
          "name": "stderr",
          "text": [
            "\n"
          ]
        },
        {
          "output_type": "stream",
          "name": "stdout",
          "text": [
            "\n",
            "      Epoch    GPU_mem   box_loss   cls_loss   dfl_loss  Instances       Size\n"
          ]
        },
        {
          "output_type": "stream",
          "name": "stderr",
          "text": [
            "      39/70      4.56G     0.9136     0.7813      1.133        169        640: 100%|██████████| 27/27 [00:07<00:00,  3.62it/s]\n",
            "                 Class     Images  Instances      Box(P          R      mAP50  mAP50-95): 100%|██████████| 4/4 [00:00<00:00,  4.94it/s]"
          ]
        },
        {
          "output_type": "stream",
          "name": "stdout",
          "text": [
            "                   all        116        414      0.804      0.725      0.811      0.568\n"
          ]
        },
        {
          "output_type": "stream",
          "name": "stderr",
          "text": [
            "\n"
          ]
        },
        {
          "output_type": "stream",
          "name": "stdout",
          "text": [
            "\n",
            "      Epoch    GPU_mem   box_loss   cls_loss   dfl_loss  Instances       Size\n"
          ]
        },
        {
          "output_type": "stream",
          "name": "stderr",
          "text": [
            "      40/70      4.56G     0.8891     0.7657      1.126        137        640: 100%|██████████| 27/27 [00:07<00:00,  3.59it/s]\n",
            "                 Class     Images  Instances      Box(P          R      mAP50  mAP50-95): 100%|██████████| 4/4 [00:00<00:00,  4.89it/s]"
          ]
        },
        {
          "output_type": "stream",
          "name": "stdout",
          "text": [
            "                   all        116        414      0.803      0.778       0.83      0.595\n"
          ]
        },
        {
          "output_type": "stream",
          "name": "stderr",
          "text": [
            "\n"
          ]
        },
        {
          "output_type": "stream",
          "name": "stdout",
          "text": [
            "\n",
            "      Epoch    GPU_mem   box_loss   cls_loss   dfl_loss  Instances       Size\n"
          ]
        },
        {
          "output_type": "stream",
          "name": "stderr",
          "text": [
            "      41/70      4.56G     0.8612     0.7445       1.11         95        640: 100%|██████████| 27/27 [00:07<00:00,  3.54it/s]\n",
            "                 Class     Images  Instances      Box(P          R      mAP50  mAP50-95): 100%|██████████| 4/4 [00:00<00:00,  5.13it/s]"
          ]
        },
        {
          "output_type": "stream",
          "name": "stdout",
          "text": [
            "                   all        116        414      0.806      0.713      0.813      0.582\n"
          ]
        },
        {
          "output_type": "stream",
          "name": "stderr",
          "text": [
            "\n"
          ]
        },
        {
          "output_type": "stream",
          "name": "stdout",
          "text": [
            "\n",
            "      Epoch    GPU_mem   box_loss   cls_loss   dfl_loss  Instances       Size\n"
          ]
        },
        {
          "output_type": "stream",
          "name": "stderr",
          "text": [
            "      42/70      4.56G     0.8717     0.7627      1.116        141        640: 100%|██████████| 27/27 [00:07<00:00,  3.58it/s]\n",
            "                 Class     Images  Instances      Box(P          R      mAP50  mAP50-95): 100%|██████████| 4/4 [00:00<00:00,  4.98it/s]"
          ]
        },
        {
          "output_type": "stream",
          "name": "stdout",
          "text": [
            "                   all        116        414      0.777      0.732      0.804      0.562\n"
          ]
        },
        {
          "output_type": "stream",
          "name": "stderr",
          "text": [
            "\n"
          ]
        },
        {
          "output_type": "stream",
          "name": "stdout",
          "text": [
            "\n",
            "      Epoch    GPU_mem   box_loss   cls_loss   dfl_loss  Instances       Size\n"
          ]
        },
        {
          "output_type": "stream",
          "name": "stderr",
          "text": [
            "      43/70      4.56G      0.847     0.7571      1.105         91        640: 100%|██████████| 27/27 [00:07<00:00,  3.53it/s]\n",
            "                 Class     Images  Instances      Box(P          R      mAP50  mAP50-95): 100%|██████████| 4/4 [00:00<00:00,  5.22it/s]"
          ]
        },
        {
          "output_type": "stream",
          "name": "stdout",
          "text": [
            "                   all        116        414      0.847       0.71      0.824      0.589\n"
          ]
        },
        {
          "output_type": "stream",
          "name": "stderr",
          "text": [
            "\n"
          ]
        },
        {
          "output_type": "stream",
          "name": "stdout",
          "text": [
            "\n",
            "      Epoch    GPU_mem   box_loss   cls_loss   dfl_loss  Instances       Size\n"
          ]
        },
        {
          "output_type": "stream",
          "name": "stderr",
          "text": [
            "      44/70      4.56G     0.8634      0.744      1.121         95        640: 100%|██████████| 27/27 [00:07<00:00,  3.77it/s]\n",
            "                 Class     Images  Instances      Box(P          R      mAP50  mAP50-95): 100%|██████████| 4/4 [00:00<00:00,  5.08it/s]"
          ]
        },
        {
          "output_type": "stream",
          "name": "stdout",
          "text": [
            "                   all        116        414      0.787      0.775      0.842      0.595\n"
          ]
        },
        {
          "output_type": "stream",
          "name": "stderr",
          "text": [
            "\n"
          ]
        },
        {
          "output_type": "stream",
          "name": "stdout",
          "text": [
            "\n",
            "      Epoch    GPU_mem   box_loss   cls_loss   dfl_loss  Instances       Size\n"
          ]
        },
        {
          "output_type": "stream",
          "name": "stderr",
          "text": [
            "      45/70      4.56G     0.8525     0.7421      1.115        109        640: 100%|██████████| 27/27 [00:07<00:00,  3.57it/s]\n",
            "                 Class     Images  Instances      Box(P          R      mAP50  mAP50-95): 100%|██████████| 4/4 [00:00<00:00,  4.87it/s]"
          ]
        },
        {
          "output_type": "stream",
          "name": "stdout",
          "text": [
            "                   all        116        414      0.829      0.727      0.815      0.573\n"
          ]
        },
        {
          "output_type": "stream",
          "name": "stderr",
          "text": [
            "\n"
          ]
        },
        {
          "output_type": "stream",
          "name": "stdout",
          "text": [
            "\n",
            "      Epoch    GPU_mem   box_loss   cls_loss   dfl_loss  Instances       Size\n"
          ]
        },
        {
          "output_type": "stream",
          "name": "stderr",
          "text": [
            "      46/70      4.56G     0.8614     0.7237      1.106        151        640: 100%|██████████| 27/27 [00:08<00:00,  3.22it/s]\n",
            "                 Class     Images  Instances      Box(P          R      mAP50  mAP50-95): 100%|██████████| 4/4 [00:00<00:00,  5.24it/s]"
          ]
        },
        {
          "output_type": "stream",
          "name": "stdout",
          "text": [
            "                   all        116        414      0.827      0.698      0.806      0.562\n"
          ]
        },
        {
          "output_type": "stream",
          "name": "stderr",
          "text": [
            "\n"
          ]
        },
        {
          "output_type": "stream",
          "name": "stdout",
          "text": [
            "\n",
            "      Epoch    GPU_mem   box_loss   cls_loss   dfl_loss  Instances       Size\n"
          ]
        },
        {
          "output_type": "stream",
          "name": "stderr",
          "text": [
            "      47/70      4.59G     0.8263     0.7169        1.1         99        640: 100%|██████████| 27/27 [00:07<00:00,  3.47it/s]\n",
            "                 Class     Images  Instances      Box(P          R      mAP50  mAP50-95): 100%|██████████| 4/4 [00:00<00:00,  5.29it/s]"
          ]
        },
        {
          "output_type": "stream",
          "name": "stdout",
          "text": [
            "                   all        116        414      0.798      0.744      0.812      0.565\n"
          ]
        },
        {
          "output_type": "stream",
          "name": "stderr",
          "text": [
            "\n"
          ]
        },
        {
          "output_type": "stream",
          "name": "stdout",
          "text": [
            "\n",
            "      Epoch    GPU_mem   box_loss   cls_loss   dfl_loss  Instances       Size\n"
          ]
        },
        {
          "output_type": "stream",
          "name": "stderr",
          "text": [
            "      48/70      4.59G     0.8156     0.6952       1.09        130        640: 100%|██████████| 27/27 [00:08<00:00,  3.11it/s]\n",
            "                 Class     Images  Instances      Box(P          R      mAP50  mAP50-95): 100%|██████████| 4/4 [00:00<00:00,  5.28it/s]"
          ]
        },
        {
          "output_type": "stream",
          "name": "stdout",
          "text": [
            "                   all        116        414       0.82      0.732      0.822      0.582\n"
          ]
        },
        {
          "output_type": "stream",
          "name": "stderr",
          "text": [
            "\n"
          ]
        },
        {
          "output_type": "stream",
          "name": "stdout",
          "text": [
            "\n",
            "      Epoch    GPU_mem   box_loss   cls_loss   dfl_loss  Instances       Size\n"
          ]
        },
        {
          "output_type": "stream",
          "name": "stderr",
          "text": [
            "      49/70      4.59G     0.8128      0.707      1.094        107        640: 100%|██████████| 27/27 [00:07<00:00,  3.85it/s]\n",
            "                 Class     Images  Instances      Box(P          R      mAP50  mAP50-95): 100%|██████████| 4/4 [00:00<00:00,  5.37it/s]"
          ]
        },
        {
          "output_type": "stream",
          "name": "stdout",
          "text": [
            "                   all        116        414      0.769       0.77      0.824      0.582\n"
          ]
        },
        {
          "output_type": "stream",
          "name": "stderr",
          "text": [
            "\n"
          ]
        },
        {
          "output_type": "stream",
          "name": "stdout",
          "text": [
            "\n",
            "      Epoch    GPU_mem   box_loss   cls_loss   dfl_loss  Instances       Size\n"
          ]
        },
        {
          "output_type": "stream",
          "name": "stderr",
          "text": [
            "      50/70      4.59G     0.8308     0.7122      1.109        102        640: 100%|██████████| 27/27 [00:07<00:00,  3.44it/s]\n",
            "                 Class     Images  Instances      Box(P          R      mAP50  mAP50-95): 100%|██████████| 4/4 [00:00<00:00,  5.18it/s]"
          ]
        },
        {
          "output_type": "stream",
          "name": "stdout",
          "text": [
            "                   all        116        414      0.809      0.705      0.811      0.586\n"
          ]
        },
        {
          "output_type": "stream",
          "name": "stderr",
          "text": [
            "\n"
          ]
        },
        {
          "output_type": "stream",
          "name": "stdout",
          "text": [
            "\n",
            "      Epoch    GPU_mem   box_loss   cls_loss   dfl_loss  Instances       Size\n"
          ]
        },
        {
          "output_type": "stream",
          "name": "stderr",
          "text": [
            "      51/70      4.59G     0.8091     0.6936      1.087        139        640: 100%|██████████| 27/27 [00:08<00:00,  3.05it/s]\n",
            "                 Class     Images  Instances      Box(P          R      mAP50  mAP50-95): 100%|██████████| 4/4 [00:00<00:00,  5.34it/s]"
          ]
        },
        {
          "output_type": "stream",
          "name": "stdout",
          "text": [
            "                   all        116        414      0.771      0.766      0.821       0.58\n"
          ]
        },
        {
          "output_type": "stream",
          "name": "stderr",
          "text": [
            "\n"
          ]
        },
        {
          "output_type": "stream",
          "name": "stdout",
          "text": [
            "\n",
            "      Epoch    GPU_mem   box_loss   cls_loss   dfl_loss  Instances       Size\n"
          ]
        },
        {
          "output_type": "stream",
          "name": "stderr",
          "text": [
            "      52/70      4.59G     0.8221     0.6995      1.099         99        640: 100%|██████████| 27/27 [00:06<00:00,  3.95it/s]\n",
            "                 Class     Images  Instances      Box(P          R      mAP50  mAP50-95): 100%|██████████| 4/4 [00:00<00:00,  5.35it/s]"
          ]
        },
        {
          "output_type": "stream",
          "name": "stdout",
          "text": [
            "                   all        116        414      0.815      0.715      0.814      0.577\n"
          ]
        },
        {
          "output_type": "stream",
          "name": "stderr",
          "text": [
            "\n"
          ]
        },
        {
          "output_type": "stream",
          "name": "stdout",
          "text": [
            "\n",
            "      Epoch    GPU_mem   box_loss   cls_loss   dfl_loss  Instances       Size\n"
          ]
        },
        {
          "output_type": "stream",
          "name": "stderr",
          "text": [
            "      53/70      4.59G     0.8114     0.6984      1.097        143        640: 100%|██████████| 27/27 [00:07<00:00,  3.57it/s]\n",
            "                 Class     Images  Instances      Box(P          R      mAP50  mAP50-95): 100%|██████████| 4/4 [00:00<00:00,  5.31it/s]"
          ]
        },
        {
          "output_type": "stream",
          "name": "stdout",
          "text": [
            "                   all        116        414      0.804      0.744      0.824      0.589\n"
          ]
        },
        {
          "output_type": "stream",
          "name": "stderr",
          "text": [
            "\n"
          ]
        },
        {
          "output_type": "stream",
          "name": "stdout",
          "text": [
            "\n",
            "      Epoch    GPU_mem   box_loss   cls_loss   dfl_loss  Instances       Size\n"
          ]
        },
        {
          "output_type": "stream",
          "name": "stderr",
          "text": [
            "      54/70      4.59G     0.8074     0.6856      1.093        121        640: 100%|██████████| 27/27 [00:08<00:00,  3.28it/s]\n",
            "                 Class     Images  Instances      Box(P          R      mAP50  mAP50-95): 100%|██████████| 4/4 [00:00<00:00,  4.76it/s]"
          ]
        },
        {
          "output_type": "stream",
          "name": "stdout",
          "text": [
            "                   all        116        414      0.761      0.783      0.818      0.591\n"
          ]
        },
        {
          "output_type": "stream",
          "name": "stderr",
          "text": [
            "\n"
          ]
        },
        {
          "output_type": "stream",
          "name": "stdout",
          "text": [
            "\n",
            "      Epoch    GPU_mem   box_loss   cls_loss   dfl_loss  Instances       Size\n"
          ]
        },
        {
          "output_type": "stream",
          "name": "stderr",
          "text": [
            "      55/70      4.59G     0.7924     0.6659       1.07         97        640: 100%|██████████| 27/27 [00:06<00:00,  3.88it/s]\n",
            "                 Class     Images  Instances      Box(P          R      mAP50  mAP50-95): 100%|██████████| 4/4 [00:00<00:00,  5.32it/s]"
          ]
        },
        {
          "output_type": "stream",
          "name": "stdout",
          "text": [
            "                   all        116        414      0.786      0.773      0.827      0.592\n"
          ]
        },
        {
          "output_type": "stream",
          "name": "stderr",
          "text": [
            "\n"
          ]
        },
        {
          "output_type": "stream",
          "name": "stdout",
          "text": [
            "\n",
            "      Epoch    GPU_mem   box_loss   cls_loss   dfl_loss  Instances       Size\n"
          ]
        },
        {
          "output_type": "stream",
          "name": "stderr",
          "text": [
            "      56/70      4.59G     0.7845     0.6606       1.06        145        640: 100%|██████████| 27/27 [00:07<00:00,  3.70it/s]\n",
            "                 Class     Images  Instances      Box(P          R      mAP50  mAP50-95): 100%|██████████| 4/4 [00:00<00:00,  4.98it/s]"
          ]
        },
        {
          "output_type": "stream",
          "name": "stdout",
          "text": [
            "                   all        116        414      0.758      0.764      0.818      0.591\n"
          ]
        },
        {
          "output_type": "stream",
          "name": "stderr",
          "text": [
            "\n"
          ]
        },
        {
          "output_type": "stream",
          "name": "stdout",
          "text": [
            "\n",
            "      Epoch    GPU_mem   box_loss   cls_loss   dfl_loss  Instances       Size\n"
          ]
        },
        {
          "output_type": "stream",
          "name": "stderr",
          "text": [
            "      57/70      4.59G     0.7793     0.6552      1.065        113        640: 100%|██████████| 27/27 [00:07<00:00,  3.78it/s]\n",
            "                 Class     Images  Instances      Box(P          R      mAP50  mAP50-95): 100%|██████████| 4/4 [00:00<00:00,  5.04it/s]"
          ]
        },
        {
          "output_type": "stream",
          "name": "stdout",
          "text": [
            "                   all        116        414      0.783      0.756      0.821      0.587\n"
          ]
        },
        {
          "output_type": "stream",
          "name": "stderr",
          "text": [
            "\n"
          ]
        },
        {
          "output_type": "stream",
          "name": "stdout",
          "text": [
            "\n",
            "      Epoch    GPU_mem   box_loss   cls_loss   dfl_loss  Instances       Size\n"
          ]
        },
        {
          "output_type": "stream",
          "name": "stderr",
          "text": [
            "      58/70      4.59G     0.7959     0.6533      1.071        124        640: 100%|██████████| 27/27 [00:08<00:00,  3.16it/s]\n",
            "                 Class     Images  Instances      Box(P          R      mAP50  mAP50-95): 100%|██████████| 4/4 [00:00<00:00,  5.18it/s]"
          ]
        },
        {
          "output_type": "stream",
          "name": "stdout",
          "text": [
            "                   all        116        414       0.78      0.744      0.822      0.588\n"
          ]
        },
        {
          "output_type": "stream",
          "name": "stderr",
          "text": [
            "\n"
          ]
        },
        {
          "output_type": "stream",
          "name": "stdout",
          "text": [
            "\n",
            "      Epoch    GPU_mem   box_loss   cls_loss   dfl_loss  Instances       Size\n"
          ]
        },
        {
          "output_type": "stream",
          "name": "stderr",
          "text": [
            "      59/70      4.59G     0.7871     0.6569      1.078        109        640: 100%|██████████| 27/27 [00:07<00:00,  3.79it/s]\n",
            "                 Class     Images  Instances      Box(P          R      mAP50  mAP50-95): 100%|██████████| 4/4 [00:00<00:00,  5.15it/s]"
          ]
        },
        {
          "output_type": "stream",
          "name": "stdout",
          "text": [
            "                   all        116        414      0.781      0.734      0.818      0.575\n"
          ]
        },
        {
          "output_type": "stream",
          "name": "stderr",
          "text": [
            "\n"
          ]
        },
        {
          "output_type": "stream",
          "name": "stdout",
          "text": [
            "\n",
            "      Epoch    GPU_mem   box_loss   cls_loss   dfl_loss  Instances       Size\n"
          ]
        },
        {
          "output_type": "stream",
          "name": "stderr",
          "text": [
            "      60/70      4.59G     0.7381     0.6206      1.049        107        640: 100%|██████████| 27/27 [00:08<00:00,  3.17it/s]\n",
            "                 Class     Images  Instances      Box(P          R      mAP50  mAP50-95): 100%|██████████| 4/4 [00:00<00:00,  4.93it/s]"
          ]
        },
        {
          "output_type": "stream",
          "name": "stdout",
          "text": [
            "                   all        116        414      0.835      0.749      0.842      0.613\n"
          ]
        },
        {
          "output_type": "stream",
          "name": "stderr",
          "text": [
            "\n"
          ]
        },
        {
          "output_type": "stream",
          "name": "stdout",
          "text": [
            "Closing dataloader mosaic\n",
            "\u001b[34m\u001b[1malbumentations: \u001b[0mBlur(p=0.01, blur_limit=(3, 7)), MedianBlur(p=0.01, blur_limit=(3, 7)), ToGray(p=0.01, num_output_channels=3, method='weighted_average'), CLAHE(p=0.01, clip_limit=(1.0, 4.0), tile_grid_size=(8, 8))\n",
            "\n",
            "      Epoch    GPU_mem   box_loss   cls_loss   dfl_loss  Instances       Size\n"
          ]
        },
        {
          "output_type": "stream",
          "name": "stderr",
          "text": [
            "      61/70      4.59G     0.7903     0.6789      1.105         44        640: 100%|██████████| 27/27 [00:12<00:00,  2.14it/s]\n",
            "                 Class     Images  Instances      Box(P          R      mAP50  mAP50-95): 100%|██████████| 4/4 [00:00<00:00,  5.18it/s]"
          ]
        },
        {
          "output_type": "stream",
          "name": "stdout",
          "text": [
            "                   all        116        414       0.82       0.72      0.822      0.583\n"
          ]
        },
        {
          "output_type": "stream",
          "name": "stderr",
          "text": [
            "\n"
          ]
        },
        {
          "output_type": "stream",
          "name": "stdout",
          "text": [
            "\n",
            "      Epoch    GPU_mem   box_loss   cls_loss   dfl_loss  Instances       Size\n"
          ]
        },
        {
          "output_type": "stream",
          "name": "stderr",
          "text": [
            "      62/70      4.59G     0.7496     0.6131       1.08         47        640: 100%|██████████| 27/27 [00:07<00:00,  3.49it/s]\n",
            "                 Class     Images  Instances      Box(P          R      mAP50  mAP50-95): 100%|██████████| 4/4 [00:00<00:00,  5.01it/s]"
          ]
        },
        {
          "output_type": "stream",
          "name": "stdout",
          "text": [
            "                   all        116        414      0.852      0.746      0.838      0.593\n"
          ]
        },
        {
          "output_type": "stream",
          "name": "stderr",
          "text": [
            "\n"
          ]
        },
        {
          "output_type": "stream",
          "name": "stdout",
          "text": [
            "\n",
            "      Epoch    GPU_mem   box_loss   cls_loss   dfl_loss  Instances       Size\n"
          ]
        },
        {
          "output_type": "stream",
          "name": "stderr",
          "text": [
            "      63/70      4.59G     0.7259     0.5777      1.068         55        640: 100%|██████████| 27/27 [00:06<00:00,  3.93it/s]\n",
            "                 Class     Images  Instances      Box(P          R      mAP50  mAP50-95): 100%|██████████| 4/4 [00:00<00:00,  5.03it/s]"
          ]
        },
        {
          "output_type": "stream",
          "name": "stdout",
          "text": [
            "                   all        116        414       0.78      0.786      0.833      0.587\n"
          ]
        },
        {
          "output_type": "stream",
          "name": "stderr",
          "text": [
            "\n"
          ]
        },
        {
          "output_type": "stream",
          "name": "stdout",
          "text": [
            "\n",
            "      Epoch    GPU_mem   box_loss   cls_loss   dfl_loss  Instances       Size\n"
          ]
        },
        {
          "output_type": "stream",
          "name": "stderr",
          "text": [
            "      64/70      4.59G     0.7128     0.5639       1.06         47        640: 100%|██████████| 27/27 [00:08<00:00,  3.36it/s]\n",
            "                 Class     Images  Instances      Box(P          R      mAP50  mAP50-95): 100%|██████████| 4/4 [00:00<00:00,  5.29it/s]"
          ]
        },
        {
          "output_type": "stream",
          "name": "stdout",
          "text": [
            "                   all        116        414      0.823      0.798      0.847      0.598\n"
          ]
        },
        {
          "output_type": "stream",
          "name": "stderr",
          "text": [
            "\n"
          ]
        },
        {
          "output_type": "stream",
          "name": "stdout",
          "text": [
            "\n",
            "      Epoch    GPU_mem   box_loss   cls_loss   dfl_loss  Instances       Size\n"
          ]
        },
        {
          "output_type": "stream",
          "name": "stderr",
          "text": [
            "      65/70      4.59G     0.7246       0.57      1.071         52        640: 100%|██████████| 27/27 [00:08<00:00,  3.07it/s]\n",
            "                 Class     Images  Instances      Box(P          R      mAP50  mAP50-95): 100%|██████████| 4/4 [00:00<00:00,  5.22it/s]"
          ]
        },
        {
          "output_type": "stream",
          "name": "stdout",
          "text": [
            "                   all        116        414      0.802      0.778       0.84      0.601\n"
          ]
        },
        {
          "output_type": "stream",
          "name": "stderr",
          "text": [
            "\n"
          ]
        },
        {
          "output_type": "stream",
          "name": "stdout",
          "text": [
            "\n",
            "      Epoch    GPU_mem   box_loss   cls_loss   dfl_loss  Instances       Size\n"
          ]
        },
        {
          "output_type": "stream",
          "name": "stderr",
          "text": [
            "      66/70      4.59G     0.6871     0.5467       1.03         55        640: 100%|██████████| 27/27 [00:07<00:00,  3.60it/s]\n",
            "                 Class     Images  Instances      Box(P          R      mAP50  mAP50-95): 100%|██████████| 4/4 [00:00<00:00,  5.12it/s]"
          ]
        },
        {
          "output_type": "stream",
          "name": "stdout",
          "text": [
            "                   all        116        414      0.773      0.807      0.843        0.6\n"
          ]
        },
        {
          "output_type": "stream",
          "name": "stderr",
          "text": [
            "\n"
          ]
        },
        {
          "output_type": "stream",
          "name": "stdout",
          "text": [
            "\n",
            "      Epoch    GPU_mem   box_loss   cls_loss   dfl_loss  Instances       Size\n"
          ]
        },
        {
          "output_type": "stream",
          "name": "stderr",
          "text": [
            "      67/70      4.59G     0.6861     0.5412      1.039         56        640: 100%|██████████| 27/27 [00:07<00:00,  3.83it/s]\n",
            "                 Class     Images  Instances      Box(P          R      mAP50  mAP50-95): 100%|██████████| 4/4 [00:00<00:00,  4.92it/s]"
          ]
        },
        {
          "output_type": "stream",
          "name": "stdout",
          "text": [
            "                   all        116        414      0.808      0.761      0.844      0.602\n"
          ]
        },
        {
          "output_type": "stream",
          "name": "stderr",
          "text": [
            "\n"
          ]
        },
        {
          "output_type": "stream",
          "name": "stdout",
          "text": [
            "\n",
            "      Epoch    GPU_mem   box_loss   cls_loss   dfl_loss  Instances       Size\n"
          ]
        },
        {
          "output_type": "stream",
          "name": "stderr",
          "text": [
            "      68/70      4.59G     0.6654      0.539       1.04         46        640: 100%|██████████| 27/27 [00:07<00:00,  3.45it/s]\n",
            "                 Class     Images  Instances      Box(P          R      mAP50  mAP50-95): 100%|██████████| 4/4 [00:00<00:00,  5.29it/s]"
          ]
        },
        {
          "output_type": "stream",
          "name": "stdout",
          "text": [
            "                   all        116        414      0.824      0.756       0.85      0.606\n"
          ]
        },
        {
          "output_type": "stream",
          "name": "stderr",
          "text": [
            "\n"
          ]
        },
        {
          "output_type": "stream",
          "name": "stdout",
          "text": [
            "\n",
            "      Epoch    GPU_mem   box_loss   cls_loss   dfl_loss  Instances       Size\n"
          ]
        },
        {
          "output_type": "stream",
          "name": "stderr",
          "text": [
            "      69/70      4.59G     0.6699     0.5209      1.022         51        640: 100%|██████████| 27/27 [00:06<00:00,  4.19it/s]\n",
            "                 Class     Images  Instances      Box(P          R      mAP50  mAP50-95): 100%|██████████| 4/4 [00:00<00:00,  5.40it/s]"
          ]
        },
        {
          "output_type": "stream",
          "name": "stdout",
          "text": [
            "                   all        116        414       0.81       0.78      0.852      0.611\n"
          ]
        },
        {
          "output_type": "stream",
          "name": "stderr",
          "text": [
            "\n"
          ]
        },
        {
          "output_type": "stream",
          "name": "stdout",
          "text": [
            "\n",
            "      Epoch    GPU_mem   box_loss   cls_loss   dfl_loss  Instances       Size\n"
          ]
        },
        {
          "output_type": "stream",
          "name": "stderr",
          "text": [
            "      70/70      4.59G     0.6727     0.5312      1.035         54        640: 100%|██████████| 27/27 [00:06<00:00,  4.01it/s]\n",
            "                 Class     Images  Instances      Box(P          R      mAP50  mAP50-95): 100%|██████████| 4/4 [00:00<00:00,  5.10it/s]"
          ]
        },
        {
          "output_type": "stream",
          "name": "stdout",
          "text": [
            "                   all        116        414      0.814      0.773      0.846      0.611\n"
          ]
        },
        {
          "output_type": "stream",
          "name": "stderr",
          "text": [
            "\n"
          ]
        },
        {
          "output_type": "stream",
          "name": "stdout",
          "text": [
            "\n",
            "70 epochs completed in 0.184 hours.\n",
            "Optimizer stripped from runs/detect/train3/weights/last.pt, 18.5MB\n",
            "Optimizer stripped from runs/detect/train3/weights/best.pt, 18.5MB\n",
            "\n",
            "Validating runs/detect/train3/weights/best.pt...\n",
            "Ultralytics 8.3.103 🚀 Python-3.11.11 torch-2.6.0+cu124 CUDA:0 (NVIDIA L4, 22693MiB)\n",
            "YOLOv5s summary (fused): 84 layers, 9,111,923 parameters, 0 gradients, 23.8 GFLOPs\n"
          ]
        },
        {
          "output_type": "stream",
          "name": "stderr",
          "text": [
            "                 Class     Images  Instances      Box(P          R      mAP50  mAP50-95): 100%|██████████| 4/4 [00:02<00:00,  1.92it/s]\n"
          ]
        },
        {
          "output_type": "stream",
          "name": "stdout",
          "text": [
            "                   all        116        414      0.834      0.749      0.842      0.613\n",
            "Speed: 0.1ms preprocess, 1.6ms inference, 0.2ms loss, 2.3ms postprocess per image\n",
            "Results saved to \u001b[1mruns/detect/train3\u001b[0m\n"
          ]
        },
        {
          "output_type": "execute_result",
          "data": {
            "text/plain": [
              "ultralytics.utils.metrics.DetMetrics object with attributes:\n",
              "\n",
              "ap_class_index: array([0])\n",
              "box: ultralytics.utils.metrics.Metric object\n",
              "confusion_matrix: <ultralytics.utils.metrics.ConfusionMatrix object at 0x79f9b5e70d10>\n",
              "curves: ['Precision-Recall(B)', 'F1-Confidence(B)', 'Precision-Confidence(B)', 'Recall-Confidence(B)']\n",
              "curves_results: [[array([          0,    0.001001,    0.002002,    0.003003,    0.004004,    0.005005,    0.006006,    0.007007,    0.008008,    0.009009,     0.01001,    0.011011,    0.012012,    0.013013,    0.014014,    0.015015,    0.016016,    0.017017,    0.018018,    0.019019,     0.02002,    0.021021,    0.022022,    0.023023,\n",
              "          0.024024,    0.025025,    0.026026,    0.027027,    0.028028,    0.029029,     0.03003,    0.031031,    0.032032,    0.033033,    0.034034,    0.035035,    0.036036,    0.037037,    0.038038,    0.039039,     0.04004,    0.041041,    0.042042,    0.043043,    0.044044,    0.045045,    0.046046,    0.047047,\n",
              "          0.048048,    0.049049,     0.05005,    0.051051,    0.052052,    0.053053,    0.054054,    0.055055,    0.056056,    0.057057,    0.058058,    0.059059,     0.06006,    0.061061,    0.062062,    0.063063,    0.064064,    0.065065,    0.066066,    0.067067,    0.068068,    0.069069,     0.07007,    0.071071,\n",
              "          0.072072,    0.073073,    0.074074,    0.075075,    0.076076,    0.077077,    0.078078,    0.079079,     0.08008,    0.081081,    0.082082,    0.083083,    0.084084,    0.085085,    0.086086,    0.087087,    0.088088,    0.089089,     0.09009,    0.091091,    0.092092,    0.093093,    0.094094,    0.095095,\n",
              "          0.096096,    0.097097,    0.098098,    0.099099,      0.1001,      0.1011,      0.1021,      0.1031,      0.1041,     0.10511,     0.10611,     0.10711,     0.10811,     0.10911,     0.11011,     0.11111,     0.11211,     0.11311,     0.11411,     0.11512,     0.11612,     0.11712,     0.11812,     0.11912,\n",
              "           0.12012,     0.12112,     0.12212,     0.12312,     0.12412,     0.12513,     0.12613,     0.12713,     0.12813,     0.12913,     0.13013,     0.13113,     0.13213,     0.13313,     0.13413,     0.13514,     0.13614,     0.13714,     0.13814,     0.13914,     0.14014,     0.14114,     0.14214,     0.14314,\n",
              "           0.14414,     0.14515,     0.14615,     0.14715,     0.14815,     0.14915,     0.15015,     0.15115,     0.15215,     0.15315,     0.15415,     0.15516,     0.15616,     0.15716,     0.15816,     0.15916,     0.16016,     0.16116,     0.16216,     0.16316,     0.16416,     0.16517,     0.16617,     0.16717,\n",
              "           0.16817,     0.16917,     0.17017,     0.17117,     0.17217,     0.17317,     0.17417,     0.17518,     0.17618,     0.17718,     0.17818,     0.17918,     0.18018,     0.18118,     0.18218,     0.18318,     0.18418,     0.18519,     0.18619,     0.18719,     0.18819,     0.18919,     0.19019,     0.19119,\n",
              "           0.19219,     0.19319,     0.19419,      0.1952,      0.1962,      0.1972,      0.1982,      0.1992,      0.2002,      0.2012,      0.2022,      0.2032,      0.2042,     0.20521,     0.20621,     0.20721,     0.20821,     0.20921,     0.21021,     0.21121,     0.21221,     0.21321,     0.21421,     0.21522,\n",
              "           0.21622,     0.21722,     0.21822,     0.21922,     0.22022,     0.22122,     0.22222,     0.22322,     0.22422,     0.22523,     0.22623,     0.22723,     0.22823,     0.22923,     0.23023,     0.23123,     0.23223,     0.23323,     0.23423,     0.23524,     0.23624,     0.23724,     0.23824,     0.23924,\n",
              "           0.24024,     0.24124,     0.24224,     0.24324,     0.24424,     0.24525,     0.24625,     0.24725,     0.24825,     0.24925,     0.25025,     0.25125,     0.25225,     0.25325,     0.25425,     0.25526,     0.25626,     0.25726,     0.25826,     0.25926,     0.26026,     0.26126,     0.26226,     0.26326,\n",
              "           0.26426,     0.26527,     0.26627,     0.26727,     0.26827,     0.26927,     0.27027,     0.27127,     0.27227,     0.27327,     0.27427,     0.27528,     0.27628,     0.27728,     0.27828,     0.27928,     0.28028,     0.28128,     0.28228,     0.28328,     0.28428,     0.28529,     0.28629,     0.28729,\n",
              "           0.28829,     0.28929,     0.29029,     0.29129,     0.29229,     0.29329,     0.29429,      0.2953,      0.2963,      0.2973,      0.2983,      0.2993,      0.3003,      0.3013,      0.3023,      0.3033,      0.3043,     0.30531,     0.30631,     0.30731,     0.30831,     0.30931,     0.31031,     0.31131,\n",
              "           0.31231,     0.31331,     0.31431,     0.31532,     0.31632,     0.31732,     0.31832,     0.31932,     0.32032,     0.32132,     0.32232,     0.32332,     0.32432,     0.32533,     0.32633,     0.32733,     0.32833,     0.32933,     0.33033,     0.33133,     0.33233,     0.33333,     0.33433,     0.33534,\n",
              "           0.33634,     0.33734,     0.33834,     0.33934,     0.34034,     0.34134,     0.34234,     0.34334,     0.34434,     0.34535,     0.34635,     0.34735,     0.34835,     0.34935,     0.35035,     0.35135,     0.35235,     0.35335,     0.35435,     0.35536,     0.35636,     0.35736,     0.35836,     0.35936,\n",
              "           0.36036,     0.36136,     0.36236,     0.36336,     0.36436,     0.36537,     0.36637,     0.36737,     0.36837,     0.36937,     0.37037,     0.37137,     0.37237,     0.37337,     0.37437,     0.37538,     0.37638,     0.37738,     0.37838,     0.37938,     0.38038,     0.38138,     0.38238,     0.38338,\n",
              "           0.38438,     0.38539,     0.38639,     0.38739,     0.38839,     0.38939,     0.39039,     0.39139,     0.39239,     0.39339,     0.39439,      0.3954,      0.3964,      0.3974,      0.3984,      0.3994,      0.4004,      0.4014,      0.4024,      0.4034,      0.4044,     0.40541,     0.40641,     0.40741,\n",
              "           0.40841,     0.40941,     0.41041,     0.41141,     0.41241,     0.41341,     0.41441,     0.41542,     0.41642,     0.41742,     0.41842,     0.41942,     0.42042,     0.42142,     0.42242,     0.42342,     0.42442,     0.42543,     0.42643,     0.42743,     0.42843,     0.42943,     0.43043,     0.43143,\n",
              "           0.43243,     0.43343,     0.43443,     0.43544,     0.43644,     0.43744,     0.43844,     0.43944,     0.44044,     0.44144,     0.44244,     0.44344,     0.44444,     0.44545,     0.44645,     0.44745,     0.44845,     0.44945,     0.45045,     0.45145,     0.45245,     0.45345,     0.45445,     0.45546,\n",
              "           0.45646,     0.45746,     0.45846,     0.45946,     0.46046,     0.46146,     0.46246,     0.46346,     0.46446,     0.46547,     0.46647,     0.46747,     0.46847,     0.46947,     0.47047,     0.47147,     0.47247,     0.47347,     0.47447,     0.47548,     0.47648,     0.47748,     0.47848,     0.47948,\n",
              "           0.48048,     0.48148,     0.48248,     0.48348,     0.48448,     0.48549,     0.48649,     0.48749,     0.48849,     0.48949,     0.49049,     0.49149,     0.49249,     0.49349,     0.49449,      0.4955,      0.4965,      0.4975,      0.4985,      0.4995,      0.5005,      0.5015,      0.5025,      0.5035,\n",
              "            0.5045,     0.50551,     0.50651,     0.50751,     0.50851,     0.50951,     0.51051,     0.51151,     0.51251,     0.51351,     0.51451,     0.51552,     0.51652,     0.51752,     0.51852,     0.51952,     0.52052,     0.52152,     0.52252,     0.52352,     0.52452,     0.52553,     0.52653,     0.52753,\n",
              "           0.52853,     0.52953,     0.53053,     0.53153,     0.53253,     0.53353,     0.53453,     0.53554,     0.53654,     0.53754,     0.53854,     0.53954,     0.54054,     0.54154,     0.54254,     0.54354,     0.54454,     0.54555,     0.54655,     0.54755,     0.54855,     0.54955,     0.55055,     0.55155,\n",
              "           0.55255,     0.55355,     0.55455,     0.55556,     0.55656,     0.55756,     0.55856,     0.55956,     0.56056,     0.56156,     0.56256,     0.56356,     0.56456,     0.56557,     0.56657,     0.56757,     0.56857,     0.56957,     0.57057,     0.57157,     0.57257,     0.57357,     0.57457,     0.57558,\n",
              "           0.57658,     0.57758,     0.57858,     0.57958,     0.58058,     0.58158,     0.58258,     0.58358,     0.58458,     0.58559,     0.58659,     0.58759,     0.58859,     0.58959,     0.59059,     0.59159,     0.59259,     0.59359,     0.59459,      0.5956,      0.5966,      0.5976,      0.5986,      0.5996,\n",
              "            0.6006,      0.6016,      0.6026,      0.6036,      0.6046,     0.60561,     0.60661,     0.60761,     0.60861,     0.60961,     0.61061,     0.61161,     0.61261,     0.61361,     0.61461,     0.61562,     0.61662,     0.61762,     0.61862,     0.61962,     0.62062,     0.62162,     0.62262,     0.62362,\n",
              "           0.62462,     0.62563,     0.62663,     0.62763,     0.62863,     0.62963,     0.63063,     0.63163,     0.63263,     0.63363,     0.63463,     0.63564,     0.63664,     0.63764,     0.63864,     0.63964,     0.64064,     0.64164,     0.64264,     0.64364,     0.64464,     0.64565,     0.64665,     0.64765,\n",
              "           0.64865,     0.64965,     0.65065,     0.65165,     0.65265,     0.65365,     0.65465,     0.65566,     0.65666,     0.65766,     0.65866,     0.65966,     0.66066,     0.66166,     0.66266,     0.66366,     0.66466,     0.66567,     0.66667,     0.66767,     0.66867,     0.66967,     0.67067,     0.67167,\n",
              "           0.67267,     0.67367,     0.67467,     0.67568,     0.67668,     0.67768,     0.67868,     0.67968,     0.68068,     0.68168,     0.68268,     0.68368,     0.68468,     0.68569,     0.68669,     0.68769,     0.68869,     0.68969,     0.69069,     0.69169,     0.69269,     0.69369,     0.69469,      0.6957,\n",
              "            0.6967,      0.6977,      0.6987,      0.6997,      0.7007,      0.7017,      0.7027,      0.7037,      0.7047,     0.70571,     0.70671,     0.70771,     0.70871,     0.70971,     0.71071,     0.71171,     0.71271,     0.71371,     0.71471,     0.71572,     0.71672,     0.71772,     0.71872,     0.71972,\n",
              "           0.72072,     0.72172,     0.72272,     0.72372,     0.72472,     0.72573,     0.72673,     0.72773,     0.72873,     0.72973,     0.73073,     0.73173,     0.73273,     0.73373,     0.73473,     0.73574,     0.73674,     0.73774,     0.73874,     0.73974,     0.74074,     0.74174,     0.74274,     0.74374,\n",
              "           0.74474,     0.74575,     0.74675,     0.74775,     0.74875,     0.74975,     0.75075,     0.75175,     0.75275,     0.75375,     0.75475,     0.75576,     0.75676,     0.75776,     0.75876,     0.75976,     0.76076,     0.76176,     0.76276,     0.76376,     0.76476,     0.76577,     0.76677,     0.76777,\n",
              "           0.76877,     0.76977,     0.77077,     0.77177,     0.77277,     0.77377,     0.77477,     0.77578,     0.77678,     0.77778,     0.77878,     0.77978,     0.78078,     0.78178,     0.78278,     0.78378,     0.78478,     0.78579,     0.78679,     0.78779,     0.78879,     0.78979,     0.79079,     0.79179,\n",
              "           0.79279,     0.79379,     0.79479,      0.7958,      0.7968,      0.7978,      0.7988,      0.7998,      0.8008,      0.8018,      0.8028,      0.8038,      0.8048,     0.80581,     0.80681,     0.80781,     0.80881,     0.80981,     0.81081,     0.81181,     0.81281,     0.81381,     0.81481,     0.81582,\n",
              "           0.81682,     0.81782,     0.81882,     0.81982,     0.82082,     0.82182,     0.82282,     0.82382,     0.82482,     0.82583,     0.82683,     0.82783,     0.82883,     0.82983,     0.83083,     0.83183,     0.83283,     0.83383,     0.83483,     0.83584,     0.83684,     0.83784,     0.83884,     0.83984,\n",
              "           0.84084,     0.84184,     0.84284,     0.84384,     0.84484,     0.84585,     0.84685,     0.84785,     0.84885,     0.84985,     0.85085,     0.85185,     0.85285,     0.85385,     0.85485,     0.85586,     0.85686,     0.85786,     0.85886,     0.85986,     0.86086,     0.86186,     0.86286,     0.86386,\n",
              "           0.86486,     0.86587,     0.86687,     0.86787,     0.86887,     0.86987,     0.87087,     0.87187,     0.87287,     0.87387,     0.87487,     0.87588,     0.87688,     0.87788,     0.87888,     0.87988,     0.88088,     0.88188,     0.88288,     0.88388,     0.88488,     0.88589,     0.88689,     0.88789,\n",
              "           0.88889,     0.88989,     0.89089,     0.89189,     0.89289,     0.89389,     0.89489,      0.8959,      0.8969,      0.8979,      0.8989,      0.8999,      0.9009,      0.9019,      0.9029,      0.9039,      0.9049,     0.90591,     0.90691,     0.90791,     0.90891,     0.90991,     0.91091,     0.91191,\n",
              "           0.91291,     0.91391,     0.91491,     0.91592,     0.91692,     0.91792,     0.91892,     0.91992,     0.92092,     0.92192,     0.92292,     0.92392,     0.92492,     0.92593,     0.92693,     0.92793,     0.92893,     0.92993,     0.93093,     0.93193,     0.93293,     0.93393,     0.93493,     0.93594,\n",
              "           0.93694,     0.93794,     0.93894,     0.93994,     0.94094,     0.94194,     0.94294,     0.94394,     0.94494,     0.94595,     0.94695,     0.94795,     0.94895,     0.94995,     0.95095,     0.95195,     0.95295,     0.95395,     0.95495,     0.95596,     0.95696,     0.95796,     0.95896,     0.95996,\n",
              "           0.96096,     0.96196,     0.96296,     0.96396,     0.96496,     0.96597,     0.96697,     0.96797,     0.96897,     0.96997,     0.97097,     0.97197,     0.97297,     0.97397,     0.97497,     0.97598,     0.97698,     0.97798,     0.97898,     0.97998,     0.98098,     0.98198,     0.98298,     0.98398,\n",
              "           0.98498,     0.98599,     0.98699,     0.98799,     0.98899,     0.98999,     0.99099,     0.99199,     0.99299,     0.99399,     0.99499,       0.996,       0.997,       0.998,       0.999,           1]), array([[          1,           1,           1,           1,           1,           1,           1,           1,           1,           1,           1,           1,           1,           1,           1,           1,           1,           1,           1,           1,           1,           1,           1,\n",
              "                  1,           1,           1,           1,           1,           1,           1,           1,           1,           1,           1,           1,           1,           1,           1,           1,           1,           1,           1,           1,           1,           1,           1,\n",
              "                  1,           1,           1,           1,           1,           1,           1,           1,           1,           1,           1,           1,           1,           1,           1,           1,           1,           1,           1,           1,           1,           1,           1,\n",
              "                  1,           1,           1,           1,           1,           1,           1,           1,           1,           1,           1,           1,           1,           1,           1,           1,           1,           1,           1,           1,           1,           1,           1,\n",
              "                  1,           1,           1,           1,           1,           1,           1,           1,           1,           1,           1,           1,           1,           1,           1,           1,           1,           1,           1,           1,           1,           1,           1,\n",
              "                  1,           1,           1,           1,           1,           1,           1,           1,           1,           1,           1,           1,           1,           1,           1,           1,           1,           1,           1,           1,           1,           1,           1,\n",
              "                  1,           1,           1,           1,           1,           1,           1,           1,           1,           1,           1,           1,           1,           1,           1,           1,           1,           1,           1,           1,           1,           1,           1,\n",
              "                  1,           1,           1,           1,           1,           1,           1,           1,           1,           1,           1,           1,           1,           1,           1,           1,           1,           1,           1,           1,           1,           1,           1,\n",
              "                  1,           1,           1,           1,           1,           1,           1,           1,           1,           1,           1,           1,           1,           1,           1,           1,           1,           1,           1,           1,           1,           1,           1,\n",
              "                  1,           1,           1,           1,           1,           1,           1,           1,           1,           1,           1,           1,           1,           1,           1,           1,           1,           1,           1,           1,           1,           1,           1,\n",
              "                  1,           1,           1,           1,           1,           1,           1,           1,           1,           1,           1,           1,           1,           1,           1,           1,           1,           1,           1,           1,           1,           1,           1,\n",
              "                  1,           1,           1,           1,           1,           1,           1,           1,           1,           1,           1,           1,           1,           1,           1,           1,           1,           1,           1,           1,           1,           1,           1,\n",
              "                  1,           1,           1,           1,           1,           1,           1,           1,           1,           1,           1,           1,           1,           1,     0.99231,     0.99231,     0.99231,     0.99231,     0.99231,     0.99231,     0.99231,     0.99231,     0.99231,\n",
              "            0.99231,     0.99231,     0.99231,     0.99231,     0.99231,     0.99231,     0.99231,     0.99231,     0.99231,     0.99231,     0.99231,     0.99231,     0.99231,      0.9863,      0.9863,      0.9863,      0.9863,      0.9863,      0.9863,      0.9863,      0.9863,      0.9863,      0.9863,\n",
              "             0.9863,      0.9863,      0.9863,      0.9863,      0.9863,      0.9863,      0.9863,      0.9863,      0.9863,      0.9863,      0.9863,      0.9863,      0.9863,      0.9863,      0.9863,      0.9863,      0.9863,      0.9863,      0.9863,      0.9863,      0.9863,      0.9863,      0.9863,\n",
              "             0.9863,      0.9863,      0.9863,     0.98113,     0.98113,     0.98113,     0.98113,     0.98113,     0.98113,     0.98113,     0.98113,     0.98113,     0.98113,     0.98113,     0.98113,     0.98113,     0.98113,     0.98113,     0.98113,     0.98113,     0.98113,     0.98113,     0.98113,\n",
              "            0.98113,     0.98113,     0.98113,     0.98113,     0.98113,     0.98113,     0.98113,     0.98113,     0.98113,     0.97605,     0.97605,     0.97605,     0.97605,     0.97605,     0.97605,     0.97605,     0.97605,     0.97605,     0.97605,     0.97605,     0.97605,     0.97605,     0.97605,\n",
              "            0.97605,     0.97605,     0.97605,     0.97222,     0.97222,     0.97222,     0.97222,     0.97222,     0.97222,     0.97222,     0.97222,     0.97222,     0.97222,     0.97222,     0.97222,     0.97222,     0.97222,     0.97222,     0.97222,     0.97222,     0.97222,     0.97222,     0.97222,\n",
              "            0.97222,     0.97222,     0.97222,     0.97222,     0.97222,     0.97222,     0.97222,     0.97222,     0.97222,     0.96774,     0.96774,     0.96774,     0.96774,     0.96774,     0.96774,     0.96774,     0.96774,     0.96774,     0.96774,     0.96774,     0.96774,     0.96714,     0.96714,\n",
              "            0.96714,     0.96714,     0.96714,     0.96714,     0.96714,     0.96714,     0.96714,     0.96714,     0.96714,     0.96714,     0.96714,     0.96714,     0.96714,     0.96714,     0.96714,     0.96714,     0.96714,     0.96714,     0.96714,     0.96714,     0.96714,     0.96714,     0.96714,\n",
              "            0.96714,     0.96714,     0.96714,     0.96714,     0.96714,     0.96714,     0.96714,     0.96714,     0.96714,     0.96714,     0.96714,     0.96714,     0.96714,     0.96714,     0.96714,     0.96714,     0.96714,     0.96714,     0.96714,     0.96714,     0.96714,     0.96714,     0.96714,\n",
              "            0.96714,     0.96714,     0.96714,     0.96714,     0.96714,     0.96714,     0.96714,     0.96714,     0.96714,     0.96714,     0.96714,     0.96714,     0.96714,     0.96714,     0.96714,     0.96413,     0.96413,     0.96413,     0.96413,     0.96413,     0.96413,     0.96413,     0.96413,\n",
              "            0.96413,     0.96413,     0.96413,     0.96413,     0.96413,     0.96413,     0.96413,     0.96413,     0.96413,     0.96413,     0.96413,     0.96413,     0.96413,     0.96053,     0.96053,     0.96053,     0.96053,     0.96053,     0.96053,     0.96053,     0.96053,     0.96053,     0.96053,\n",
              "             0.9569,      0.9569,      0.9569,      0.9569,      0.9569,      0.9569,      0.9569,     0.94937,     0.94937,     0.94937,     0.94937,     0.94937,     0.94937,     0.94937,     0.94606,     0.94606,     0.94606,     0.94606,     0.94606,     0.94606,     0.94606,     0.94606,     0.93852,\n",
              "            0.93852,     0.93307,     0.93307,     0.93307,     0.93307,     0.93307,     0.93307,     0.93307,     0.93307,     0.93307,     0.93307,     0.93307,     0.93307,     0.93307,     0.93307,     0.93307,     0.93307,     0.93307,     0.93307,     0.93307,     0.92996,     0.92996,     0.92996,\n",
              "            0.92996,     0.92996,     0.92803,     0.92803,     0.92803,     0.92803,     0.92803,     0.92803,     0.92803,     0.92803,     0.92803,     0.92803,     0.92803,     0.92803,     0.92803,     0.92803,     0.92803,     0.92509,     0.92509,     0.92509,     0.92509,     0.92509,     0.92336,\n",
              "            0.92336,     0.92336,     0.92336,     0.92336,     0.92336,     0.92336,     0.92336,     0.92336,     0.92336,     0.92336,     0.92336,     0.92336,     0.92336,     0.92086,     0.92086,     0.92086,     0.92086,     0.92086,     0.92086,     0.92086,     0.91549,     0.91549,     0.91549,\n",
              "            0.91549,     0.91549,     0.91549,     0.91549,     0.91549,     0.91549,     0.91549,     0.91289,     0.91289,     0.91289,     0.91289,     0.91289,     0.91186,     0.91186,     0.91186,     0.91186,     0.91186,     0.91186,     0.91186,     0.91186,     0.91186,     0.91186,     0.91186,\n",
              "            0.91186,     0.91186,     0.91186,     0.91186,     0.91186,     0.91186,     0.90909,     0.90909,     0.90397,     0.90397,     0.90397,     0.90397,     0.90397,     0.90397,     0.90397,     0.89836,     0.89836,     0.89836,     0.89577,     0.89577,      0.8932,      0.8932,     0.88254,\n",
              "            0.88254,     0.88254,     0.88254,     0.88254,     0.87813,     0.87813,     0.87813,     0.87813,     0.87813,     0.87813,     0.87813,     0.87813,     0.87346,     0.87346,     0.87346,     0.87346,     0.87156,     0.87156,     0.87156,     0.87156,     0.87156,      0.8693,      0.8693,\n",
              "             0.8693,     0.86826,     0.86826,     0.86826,     0.86826,     0.86826,     0.86826,     0.86826,     0.86826,     0.86826,     0.86136,     0.86136,     0.86136,     0.86136,     0.86136,     0.85673,     0.85673,     0.85673,     0.85507,     0.85507,     0.85507,     0.85507,     0.85303,\n",
              "            0.85303,     0.85303,       0.851,       0.851,       0.849,       0.849,       0.849,     0.84831,     0.84831,     0.84831,     0.84831,     0.84831,     0.84831,     0.84831,     0.84831,     0.84831,     0.84637,     0.84637,     0.84637,     0.84211,     0.84211,     0.84022,     0.84022,\n",
              "             0.8388,      0.8388,      0.8388,      0.8388,      0.8388,     0.83784,     0.83784,     0.83784,     0.83784,     0.83784,     0.83784,     0.83784,     0.83784,     0.82933,     0.82933,      0.8254,      0.8254,     0.82415,     0.82415,     0.82415,     0.82415,     0.82415,     0.80769,\n",
              "            0.80769,     0.80769,     0.79798,     0.79798,       0.795,       0.795,       0.795,       0.795,       0.795,     0.79455,     0.79455,     0.79455,     0.79455,     0.79455,     0.79455,     0.79455,     0.79167,     0.79167,     0.79167,     0.79167,     0.79167,     0.78832,     0.78832,\n",
              "            0.77014,     0.77014,     0.77014,     0.76526,     0.76526,     0.75694,     0.75694,     0.75694,     0.75576,     0.75576,     0.75286,     0.75286,     0.75171,     0.75171,     0.75171,     0.75113,     0.75113,     0.75113,     0.75113,     0.75113,      0.7472,      0.7472,      0.7472,\n",
              "             0.7472,     0.74444,     0.74444,     0.74444,     0.73523,     0.73523,     0.71762,     0.71762,     0.71762,     0.71762,     0.71762,      0.7167,      0.7167,      0.7167,     0.69815,     0.69815,     0.69734,     0.69734,     0.67589,     0.67589,     0.67589,     0.66992,     0.66992,\n",
              "            0.66027,     0.66027,     0.66027,     0.63956,     0.63956,     0.63956,     0.63956,     0.63206,     0.63206,     0.63206,      0.6311,      0.6311,      0.6311,      0.6311,      0.6311,     0.62167,     0.62167,     0.61796,     0.61796,      0.6069,      0.6069,      0.6069,     0.59932,\n",
              "            0.59932,     0.59068,     0.59068,     0.59068,     0.59068,     0.59068,     0.57212,     0.57212,     0.57212,     0.57212,     0.57212,      0.5585,      0.5585,     0.55401,     0.55401,     0.55401,     0.55385,     0.55385,     0.54947,     0.54947,     0.54947,     0.54273,     0.54273,\n",
              "            0.51705,     0.51705,     0.51705,     0.51705,     0.51705,     0.50414,     0.50414,     0.48735,     0.48735,     0.48735,     0.48674,     0.48674,     0.48362,     0.48362,     0.48362,     0.48362,     0.48362,     0.45849,     0.45849,      0.4541,      0.4541,      0.4541,     0.43256,\n",
              "            0.43256,      0.4229,      0.4229,      0.4229,     0.41741,     0.41741,     0.41574,     0.41574,     0.40387,     0.40387,     0.40387,     0.39394,     0.39394,     0.38182,     0.38182,     0.38182,     0.36061,     0.36061,     0.35023,     0.35023,     0.34079,     0.34079,     0.34079,\n",
              "            0.32818,     0.32818,     0.32763,     0.32763,     0.32763,     0.32161,     0.32161,     0.30998,     0.30998,     0.30998,     0.29385,     0.29385,     0.29385,     0.29385,     0.29283,     0.29283,     0.29283,     0.26355,     0.26355,     0.24528,     0.24528,     0.24528,     0.23783,\n",
              "            0.23783,     0.22516,     0.22516,     0.20706,     0.20706,     0.20706,     0.20553,     0.20553,     0.17439,     0.17439,     0.17439,     0.17308,     0.17308,     0.15466,     0.15466,     0.15397,     0.15397,     0.15397,     0.14483,     0.14483,     0.12442,     0.12442,     0.12442,\n",
              "            0.10492,     0.10492,    0.096844,    0.096844,    0.096844,    0.095407,    0.095407,    0.094107,    0.094107,    0.091733,    0.091733,    0.091733,    0.089055,    0.089055,    0.062423,    0.062423,    0.062423,    0.056996,    0.053434,    0.049872,     0.04631,    0.042747,    0.039185,\n",
              "           0.035623,     0.03206,    0.028498,    0.024936,    0.021374,    0.017811,    0.014249,    0.010687,   0.0071246,   0.0035623,           0]]), 'Recall', 'Precision'], [array([          0,    0.001001,    0.002002,    0.003003,    0.004004,    0.005005,    0.006006,    0.007007,    0.008008,    0.009009,     0.01001,    0.011011,    0.012012,    0.013013,    0.014014,    0.015015,    0.016016,    0.017017,    0.018018,    0.019019,     0.02002,    0.021021,    0.022022,    0.023023,\n",
              "          0.024024,    0.025025,    0.026026,    0.027027,    0.028028,    0.029029,     0.03003,    0.031031,    0.032032,    0.033033,    0.034034,    0.035035,    0.036036,    0.037037,    0.038038,    0.039039,     0.04004,    0.041041,    0.042042,    0.043043,    0.044044,    0.045045,    0.046046,    0.047047,\n",
              "          0.048048,    0.049049,     0.05005,    0.051051,    0.052052,    0.053053,    0.054054,    0.055055,    0.056056,    0.057057,    0.058058,    0.059059,     0.06006,    0.061061,    0.062062,    0.063063,    0.064064,    0.065065,    0.066066,    0.067067,    0.068068,    0.069069,     0.07007,    0.071071,\n",
              "          0.072072,    0.073073,    0.074074,    0.075075,    0.076076,    0.077077,    0.078078,    0.079079,     0.08008,    0.081081,    0.082082,    0.083083,    0.084084,    0.085085,    0.086086,    0.087087,    0.088088,    0.089089,     0.09009,    0.091091,    0.092092,    0.093093,    0.094094,    0.095095,\n",
              "          0.096096,    0.097097,    0.098098,    0.099099,      0.1001,      0.1011,      0.1021,      0.1031,      0.1041,     0.10511,     0.10611,     0.10711,     0.10811,     0.10911,     0.11011,     0.11111,     0.11211,     0.11311,     0.11411,     0.11512,     0.11612,     0.11712,     0.11812,     0.11912,\n",
              "           0.12012,     0.12112,     0.12212,     0.12312,     0.12412,     0.12513,     0.12613,     0.12713,     0.12813,     0.12913,     0.13013,     0.13113,     0.13213,     0.13313,     0.13413,     0.13514,     0.13614,     0.13714,     0.13814,     0.13914,     0.14014,     0.14114,     0.14214,     0.14314,\n",
              "           0.14414,     0.14515,     0.14615,     0.14715,     0.14815,     0.14915,     0.15015,     0.15115,     0.15215,     0.15315,     0.15415,     0.15516,     0.15616,     0.15716,     0.15816,     0.15916,     0.16016,     0.16116,     0.16216,     0.16316,     0.16416,     0.16517,     0.16617,     0.16717,\n",
              "           0.16817,     0.16917,     0.17017,     0.17117,     0.17217,     0.17317,     0.17417,     0.17518,     0.17618,     0.17718,     0.17818,     0.17918,     0.18018,     0.18118,     0.18218,     0.18318,     0.18418,     0.18519,     0.18619,     0.18719,     0.18819,     0.18919,     0.19019,     0.19119,\n",
              "           0.19219,     0.19319,     0.19419,      0.1952,      0.1962,      0.1972,      0.1982,      0.1992,      0.2002,      0.2012,      0.2022,      0.2032,      0.2042,     0.20521,     0.20621,     0.20721,     0.20821,     0.20921,     0.21021,     0.21121,     0.21221,     0.21321,     0.21421,     0.21522,\n",
              "           0.21622,     0.21722,     0.21822,     0.21922,     0.22022,     0.22122,     0.22222,     0.22322,     0.22422,     0.22523,     0.22623,     0.22723,     0.22823,     0.22923,     0.23023,     0.23123,     0.23223,     0.23323,     0.23423,     0.23524,     0.23624,     0.23724,     0.23824,     0.23924,\n",
              "           0.24024,     0.24124,     0.24224,     0.24324,     0.24424,     0.24525,     0.24625,     0.24725,     0.24825,     0.24925,     0.25025,     0.25125,     0.25225,     0.25325,     0.25425,     0.25526,     0.25626,     0.25726,     0.25826,     0.25926,     0.26026,     0.26126,     0.26226,     0.26326,\n",
              "           0.26426,     0.26527,     0.26627,     0.26727,     0.26827,     0.26927,     0.27027,     0.27127,     0.27227,     0.27327,     0.27427,     0.27528,     0.27628,     0.27728,     0.27828,     0.27928,     0.28028,     0.28128,     0.28228,     0.28328,     0.28428,     0.28529,     0.28629,     0.28729,\n",
              "           0.28829,     0.28929,     0.29029,     0.29129,     0.29229,     0.29329,     0.29429,      0.2953,      0.2963,      0.2973,      0.2983,      0.2993,      0.3003,      0.3013,      0.3023,      0.3033,      0.3043,     0.30531,     0.30631,     0.30731,     0.30831,     0.30931,     0.31031,     0.31131,\n",
              "           0.31231,     0.31331,     0.31431,     0.31532,     0.31632,     0.31732,     0.31832,     0.31932,     0.32032,     0.32132,     0.32232,     0.32332,     0.32432,     0.32533,     0.32633,     0.32733,     0.32833,     0.32933,     0.33033,     0.33133,     0.33233,     0.33333,     0.33433,     0.33534,\n",
              "           0.33634,     0.33734,     0.33834,     0.33934,     0.34034,     0.34134,     0.34234,     0.34334,     0.34434,     0.34535,     0.34635,     0.34735,     0.34835,     0.34935,     0.35035,     0.35135,     0.35235,     0.35335,     0.35435,     0.35536,     0.35636,     0.35736,     0.35836,     0.35936,\n",
              "           0.36036,     0.36136,     0.36236,     0.36336,     0.36436,     0.36537,     0.36637,     0.36737,     0.36837,     0.36937,     0.37037,     0.37137,     0.37237,     0.37337,     0.37437,     0.37538,     0.37638,     0.37738,     0.37838,     0.37938,     0.38038,     0.38138,     0.38238,     0.38338,\n",
              "           0.38438,     0.38539,     0.38639,     0.38739,     0.38839,     0.38939,     0.39039,     0.39139,     0.39239,     0.39339,     0.39439,      0.3954,      0.3964,      0.3974,      0.3984,      0.3994,      0.4004,      0.4014,      0.4024,      0.4034,      0.4044,     0.40541,     0.40641,     0.40741,\n",
              "           0.40841,     0.40941,     0.41041,     0.41141,     0.41241,     0.41341,     0.41441,     0.41542,     0.41642,     0.41742,     0.41842,     0.41942,     0.42042,     0.42142,     0.42242,     0.42342,     0.42442,     0.42543,     0.42643,     0.42743,     0.42843,     0.42943,     0.43043,     0.43143,\n",
              "           0.43243,     0.43343,     0.43443,     0.43544,     0.43644,     0.43744,     0.43844,     0.43944,     0.44044,     0.44144,     0.44244,     0.44344,     0.44444,     0.44545,     0.44645,     0.44745,     0.44845,     0.44945,     0.45045,     0.45145,     0.45245,     0.45345,     0.45445,     0.45546,\n",
              "           0.45646,     0.45746,     0.45846,     0.45946,     0.46046,     0.46146,     0.46246,     0.46346,     0.46446,     0.46547,     0.46647,     0.46747,     0.46847,     0.46947,     0.47047,     0.47147,     0.47247,     0.47347,     0.47447,     0.47548,     0.47648,     0.47748,     0.47848,     0.47948,\n",
              "           0.48048,     0.48148,     0.48248,     0.48348,     0.48448,     0.48549,     0.48649,     0.48749,     0.48849,     0.48949,     0.49049,     0.49149,     0.49249,     0.49349,     0.49449,      0.4955,      0.4965,      0.4975,      0.4985,      0.4995,      0.5005,      0.5015,      0.5025,      0.5035,\n",
              "            0.5045,     0.50551,     0.50651,     0.50751,     0.50851,     0.50951,     0.51051,     0.51151,     0.51251,     0.51351,     0.51451,     0.51552,     0.51652,     0.51752,     0.51852,     0.51952,     0.52052,     0.52152,     0.52252,     0.52352,     0.52452,     0.52553,     0.52653,     0.52753,\n",
              "           0.52853,     0.52953,     0.53053,     0.53153,     0.53253,     0.53353,     0.53453,     0.53554,     0.53654,     0.53754,     0.53854,     0.53954,     0.54054,     0.54154,     0.54254,     0.54354,     0.54454,     0.54555,     0.54655,     0.54755,     0.54855,     0.54955,     0.55055,     0.55155,\n",
              "           0.55255,     0.55355,     0.55455,     0.55556,     0.55656,     0.55756,     0.55856,     0.55956,     0.56056,     0.56156,     0.56256,     0.56356,     0.56456,     0.56557,     0.56657,     0.56757,     0.56857,     0.56957,     0.57057,     0.57157,     0.57257,     0.57357,     0.57457,     0.57558,\n",
              "           0.57658,     0.57758,     0.57858,     0.57958,     0.58058,     0.58158,     0.58258,     0.58358,     0.58458,     0.58559,     0.58659,     0.58759,     0.58859,     0.58959,     0.59059,     0.59159,     0.59259,     0.59359,     0.59459,      0.5956,      0.5966,      0.5976,      0.5986,      0.5996,\n",
              "            0.6006,      0.6016,      0.6026,      0.6036,      0.6046,     0.60561,     0.60661,     0.60761,     0.60861,     0.60961,     0.61061,     0.61161,     0.61261,     0.61361,     0.61461,     0.61562,     0.61662,     0.61762,     0.61862,     0.61962,     0.62062,     0.62162,     0.62262,     0.62362,\n",
              "           0.62462,     0.62563,     0.62663,     0.62763,     0.62863,     0.62963,     0.63063,     0.63163,     0.63263,     0.63363,     0.63463,     0.63564,     0.63664,     0.63764,     0.63864,     0.63964,     0.64064,     0.64164,     0.64264,     0.64364,     0.64464,     0.64565,     0.64665,     0.64765,\n",
              "           0.64865,     0.64965,     0.65065,     0.65165,     0.65265,     0.65365,     0.65465,     0.65566,     0.65666,     0.65766,     0.65866,     0.65966,     0.66066,     0.66166,     0.66266,     0.66366,     0.66466,     0.66567,     0.66667,     0.66767,     0.66867,     0.66967,     0.67067,     0.67167,\n",
              "           0.67267,     0.67367,     0.67467,     0.67568,     0.67668,     0.67768,     0.67868,     0.67968,     0.68068,     0.68168,     0.68268,     0.68368,     0.68468,     0.68569,     0.68669,     0.68769,     0.68869,     0.68969,     0.69069,     0.69169,     0.69269,     0.69369,     0.69469,      0.6957,\n",
              "            0.6967,      0.6977,      0.6987,      0.6997,      0.7007,      0.7017,      0.7027,      0.7037,      0.7047,     0.70571,     0.70671,     0.70771,     0.70871,     0.70971,     0.71071,     0.71171,     0.71271,     0.71371,     0.71471,     0.71572,     0.71672,     0.71772,     0.71872,     0.71972,\n",
              "           0.72072,     0.72172,     0.72272,     0.72372,     0.72472,     0.72573,     0.72673,     0.72773,     0.72873,     0.72973,     0.73073,     0.73173,     0.73273,     0.73373,     0.73473,     0.73574,     0.73674,     0.73774,     0.73874,     0.73974,     0.74074,     0.74174,     0.74274,     0.74374,\n",
              "           0.74474,     0.74575,     0.74675,     0.74775,     0.74875,     0.74975,     0.75075,     0.75175,     0.75275,     0.75375,     0.75475,     0.75576,     0.75676,     0.75776,     0.75876,     0.75976,     0.76076,     0.76176,     0.76276,     0.76376,     0.76476,     0.76577,     0.76677,     0.76777,\n",
              "           0.76877,     0.76977,     0.77077,     0.77177,     0.77277,     0.77377,     0.77477,     0.77578,     0.77678,     0.77778,     0.77878,     0.77978,     0.78078,     0.78178,     0.78278,     0.78378,     0.78478,     0.78579,     0.78679,     0.78779,     0.78879,     0.78979,     0.79079,     0.79179,\n",
              "           0.79279,     0.79379,     0.79479,      0.7958,      0.7968,      0.7978,      0.7988,      0.7998,      0.8008,      0.8018,      0.8028,      0.8038,      0.8048,     0.80581,     0.80681,     0.80781,     0.80881,     0.80981,     0.81081,     0.81181,     0.81281,     0.81381,     0.81481,     0.81582,\n",
              "           0.81682,     0.81782,     0.81882,     0.81982,     0.82082,     0.82182,     0.82282,     0.82382,     0.82482,     0.82583,     0.82683,     0.82783,     0.82883,     0.82983,     0.83083,     0.83183,     0.83283,     0.83383,     0.83483,     0.83584,     0.83684,     0.83784,     0.83884,     0.83984,\n",
              "           0.84084,     0.84184,     0.84284,     0.84384,     0.84484,     0.84585,     0.84685,     0.84785,     0.84885,     0.84985,     0.85085,     0.85185,     0.85285,     0.85385,     0.85485,     0.85586,     0.85686,     0.85786,     0.85886,     0.85986,     0.86086,     0.86186,     0.86286,     0.86386,\n",
              "           0.86486,     0.86587,     0.86687,     0.86787,     0.86887,     0.86987,     0.87087,     0.87187,     0.87287,     0.87387,     0.87487,     0.87588,     0.87688,     0.87788,     0.87888,     0.87988,     0.88088,     0.88188,     0.88288,     0.88388,     0.88488,     0.88589,     0.88689,     0.88789,\n",
              "           0.88889,     0.88989,     0.89089,     0.89189,     0.89289,     0.89389,     0.89489,      0.8959,      0.8969,      0.8979,      0.8989,      0.8999,      0.9009,      0.9019,      0.9029,      0.9039,      0.9049,     0.90591,     0.90691,     0.90791,     0.90891,     0.90991,     0.91091,     0.91191,\n",
              "           0.91291,     0.91391,     0.91491,     0.91592,     0.91692,     0.91792,     0.91892,     0.91992,     0.92092,     0.92192,     0.92292,     0.92392,     0.92492,     0.92593,     0.92693,     0.92793,     0.92893,     0.92993,     0.93093,     0.93193,     0.93293,     0.93393,     0.93493,     0.93594,\n",
              "           0.93694,     0.93794,     0.93894,     0.93994,     0.94094,     0.94194,     0.94294,     0.94394,     0.94494,     0.94595,     0.94695,     0.94795,     0.94895,     0.94995,     0.95095,     0.95195,     0.95295,     0.95395,     0.95495,     0.95596,     0.95696,     0.95796,     0.95896,     0.95996,\n",
              "           0.96096,     0.96196,     0.96296,     0.96396,     0.96496,     0.96597,     0.96697,     0.96797,     0.96897,     0.96997,     0.97097,     0.97197,     0.97297,     0.97397,     0.97497,     0.97598,     0.97698,     0.97798,     0.97898,     0.97998,     0.98098,     0.98198,     0.98298,     0.98398,\n",
              "           0.98498,     0.98599,     0.98699,     0.98799,     0.98899,     0.98999,     0.99099,     0.99199,     0.99299,     0.99399,     0.99499,       0.996,       0.997,       0.998,       0.999,           1]), array([[     0.1134,      0.1134,     0.16756,     0.20263,     0.23484,     0.26057,     0.28216,     0.30052,     0.31866,     0.33485,     0.34938,     0.36255,     0.37328,     0.38422,     0.39535,     0.40521,     0.41187,     0.42027,     0.43085,     0.43995,     0.44713,     0.45367,     0.46211,\n",
              "            0.46771,     0.47363,     0.48076,     0.48556,      0.4933,     0.49618,     0.50127,     0.50627,     0.51049,     0.51737,     0.52002,     0.52428,     0.52858,     0.53362,     0.53745,     0.53983,     0.54494,      0.5481,     0.55068,     0.55356,     0.55705,     0.55878,     0.56226,\n",
              "            0.56464,     0.56722,     0.56971,     0.57095,     0.57143,     0.57323,     0.57461,     0.57775,     0.58094,     0.58376,     0.58431,     0.58617,      0.5877,     0.59009,     0.59523,     0.59832,     0.60113,     0.60199,     0.60339,     0.60538,      0.6061,      0.6069,     0.60968,\n",
              "             0.6121,     0.61603,     0.61868,     0.62119,      0.6239,     0.62639,     0.62532,     0.62686,     0.62813,      0.6274,     0.63007,     0.63095,     0.63376,     0.63711,     0.63846,     0.63974,     0.64113,     0.64064,     0.64181,     0.64348,     0.64408,     0.64539,     0.64831,\n",
              "            0.64933,     0.64884,     0.65018,     0.65137,     0.65292,     0.65388,      0.6576,     0.65874,     0.65926,     0.66033,     0.66133,     0.66208,     0.66298,     0.66442,     0.66476,     0.66573,     0.66619,     0.66797,     0.66843,     0.66903,     0.66876,       0.672,     0.67312,\n",
              "            0.67397,     0.67353,     0.67309,     0.67436,     0.67599,     0.67641,      0.6759,     0.67573,     0.67607,     0.67547,     0.67484,     0.67691,      0.6786,     0.67819,     0.67778,     0.67753,     0.67897,     0.68048,     0.68126,      0.6822,     0.68256,     0.68458,     0.68529,\n",
              "            0.68616,      0.6878,     0.68688,     0.68788,     0.68927,     0.69161,      0.6929,     0.69336,     0.69382,     0.69475,     0.69543,      0.6959,     0.69682,     0.69729,     0.69821,     0.69864,     0.69895,     0.69918,      0.6994,     0.69709,     0.69761,      0.6983,      0.7003,\n",
              "            0.70224,     0.70302,     0.70447,     0.70508,     0.70688,     0.70733,     0.70789,     0.70717,     0.71035,     0.71131,     0.71157,     0.71182,     0.71249,     0.71434,     0.71377,     0.71438,     0.71461,     0.71484,     0.71586,     0.71636,     0.71547,     0.71615,     0.71835,\n",
              "            0.71915,     0.71961,      0.7198,     0.71999,     0.72018,     0.72135,     0.71954,     0.71944,      0.7198,     0.72024,     0.72057,     0.71966,     0.72009,     0.72026,     0.72043,      0.7206,     0.72077,     0.72114,     0.72163,     0.72238,     0.72285,     0.72323,      0.7235,\n",
              "            0.72377,     0.72325,     0.72297,      0.7227,     0.72243,     0.72215,     0.72235,     0.72521,     0.72636,     0.72676,     0.72704,      0.7283,        0.73,     0.73218,     0.73571,      0.7347,      0.7356,     0.73616,     0.73662,     0.73772,     0.73832,     0.73858,     0.73878,\n",
              "            0.73897,     0.73916,     0.73959,     0.74045,     0.73968,     0.74015,     0.74122,      0.7416,     0.74192,     0.74208,     0.74224,      0.7424,     0.74256,     0.74291,     0.74336,     0.74282,     0.74229,     0.74248,     0.74319,     0.74386,     0.74407,     0.74429,      0.7445,\n",
              "            0.74481,     0.74515,      0.7456,     0.74634,      0.7491,     0.74971,     0.75009,     0.75055,     0.75113,     0.75199,     0.75294,     0.75351,     0.75384,     0.75412,     0.75441,      0.7546,     0.75389,     0.75462,     0.75443,     0.75425,     0.75406,     0.75387,     0.75368,\n",
              "            0.75349,     0.75364,     0.75437,     0.75466,     0.75494,     0.75689,     0.75756,     0.75791,     0.75826,      0.7596,     0.76027,     0.76201,     0.76251,     0.76349,     0.76437,     0.76322,     0.76328,     0.76256,     0.76207,     0.76163,     0.76119,     0.76138,     0.76188,\n",
              "            0.76247,     0.76283,     0.76296,     0.76309,     0.76321,     0.76334,     0.76347,     0.76359,      0.7649,     0.76541,     0.76558,     0.76575,     0.76592,     0.76609,     0.76631,     0.76702,     0.76819,     0.76871,     0.76968,     0.77014,     0.77054,     0.77118,     0.77039,\n",
              "             0.7709,     0.77174,     0.77316,     0.77362,     0.77478,      0.7753,     0.77429,     0.77514,     0.77555,      0.7757,     0.77517,     0.77463,     0.77331,     0.77383,     0.77546,      0.7752,     0.77493,     0.77466,      0.7744,     0.77325,     0.77307,     0.77231,     0.77244,\n",
              "            0.77258,     0.77271,     0.77284,     0.77298,     0.77311,     0.77291,     0.77179,     0.77253,     0.77278,      0.7729,     0.77302,     0.77315,     0.77327,      0.7734,     0.77352,       0.773,     0.77227,     0.77273,     0.77292,     0.77252,     0.77213,     0.77173,     0.77243,\n",
              "            0.77278,     0.77307,     0.77336,     0.77553,     0.77612,     0.77587,     0.77562,     0.77537,     0.77512,     0.77487,     0.77478,      0.7749,     0.77502,     0.77514,     0.77526,     0.77538,      0.7755,     0.77561,      0.7758,     0.77602,     0.77625,     0.77647,     0.77751,\n",
              "            0.77736,      0.7772,     0.77705,      0.7769,     0.77674,     0.77659,     0.77643,     0.77628,     0.77613,     0.77801,     0.77821,     0.77842,     0.77862,     0.77882,     0.77926,     0.77974,      0.7809,      0.7817,      0.7819,     0.78209,     0.78229,     0.78248,     0.78266,\n",
              "             0.7828,     0.78294,     0.78309,     0.78323,     0.78337,     0.78352,     0.78428,     0.78488,     0.78412,     0.78495,     0.78515,     0.78534,     0.78554,     0.78573,      0.7841,     0.78296,     0.78313,     0.78329,     0.78345,     0.78362,     0.78378,     0.78402,     0.78437,\n",
              "            0.78473,     0.78282,     0.78206,     0.78073,     0.78112,     0.78072,     0.77995,     0.77918,     0.77841,     0.77854,     0.77879,     0.77904,     0.77928,     0.77971,     0.78004,     0.78037,     0.78075,     0.78168,     0.78204,      0.7824,     0.78303,     0.78288,     0.78328,\n",
              "            0.78378,     0.78455,     0.78528,     0.78578,     0.78618,     0.78652,     0.78686,      0.7871,     0.78731,     0.78751,     0.78771,     0.78791,     0.78876,     0.78903,     0.78913,     0.78923,     0.78933,     0.78943,     0.78954,     0.78964,     0.78974,     0.78984,     0.78991,\n",
              "            0.78939,     0.78886,     0.78838,     0.78816,     0.78794,     0.78771,     0.78749,     0.78726,     0.78704,     0.78696,     0.78722,     0.78747,     0.78773,     0.78767,     0.78714,     0.78662,     0.78647,     0.78672,     0.78698,     0.78723,     0.78764,     0.78815,     0.78785,\n",
              "            0.78706,     0.78703,     0.78737,     0.78771,     0.78818,      0.7887,     0.78921,     0.78973,     0.79024,     0.79076,     0.79058,     0.79032,     0.79005,     0.78979,     0.78953,     0.78926,     0.78894,     0.78863,     0.78831,     0.78799,      0.7876,      0.7868,     0.78628,\n",
              "             0.7868,     0.78697,     0.78618,     0.78554,     0.78527,     0.78501,     0.78474,     0.78447,     0.78421,      0.7843,     0.78481,      0.7848,     0.78427,     0.78373,     0.78359,     0.78374,     0.78389,     0.78403,     0.78418,     0.78433,     0.78448,     0.78422,     0.78381,\n",
              "            0.78341,     0.78301,     0.78382,     0.78408,     0.78422,     0.78436,      0.7845,     0.78463,     0.78477,     0.78491,     0.78468,     0.78414,      0.7836,     0.78362,     0.78396,     0.78431,     0.78329,     0.78272,     0.78256,     0.78239,     0.78223,     0.78207,     0.78191,\n",
              "            0.78174,     0.78158,     0.78142,     0.78126,     0.78046,     0.77964,     0.77808,     0.77838,     0.77868,     0.77897,     0.77874,      0.7782,     0.77765,     0.77822,     0.77699,     0.77712,     0.77724,     0.77736,     0.77748,     0.77761,     0.77773,     0.77785,     0.77722,\n",
              "            0.77679,     0.77708,     0.77652,     0.77597,     0.77481,     0.77471,     0.77413,     0.77417,     0.77522,     0.77512,     0.77445,     0.77354,     0.77258,     0.77337,     0.77351,     0.77366,      0.7738,     0.77394,     0.77408,     0.77422,     0.77436,     0.77488,     0.77539,\n",
              "            0.77455,     0.77371,     0.77287,     0.77204,     0.77137,     0.77069,     0.76933,      0.7689,     0.76901,     0.76912,     0.76923,     0.76934,     0.76945,     0.76957,     0.76968,     0.76979,     0.76956,     0.76888,      0.7682,     0.76872,     0.76922,     0.76891,      0.7686,\n",
              "            0.76829,     0.76798,     0.76767,     0.76711,     0.76642,     0.76603,     0.76656,      0.7668,     0.76631,     0.76582,     0.76533,     0.76509,     0.76562,     0.76335,     0.76266,     0.76146,     0.76114,     0.76181,     0.76211,     0.76242,     0.76264,     0.76226,     0.76187,\n",
              "            0.76148,      0.7611,     0.76074,     0.76039,     0.76004,     0.75969,     0.75934,     0.76019,     0.76127,     0.76282,     0.76325,     0.76317,     0.76246,     0.76179,      0.7628,      0.7621,     0.76139,     0.76111,     0.75973,     0.75794,     0.75863,     0.75939,     0.75887,\n",
              "            0.75836,     0.75785,       0.758,     0.75831,     0.75862,     0.75854,     0.75782,      0.7571,     0.75417,     0.74965,     0.74892,     0.74817,     0.74695,     0.74707,     0.74728,     0.74692,     0.74655,     0.74618,     0.74582,     0.74538,     0.74492,     0.74446,       0.744,\n",
              "            0.74482,     0.74342,     0.73939,     0.73893,     0.73846,     0.73799,     0.73796,      0.7384,     0.73886,     0.73964,     0.73698,     0.73603,     0.73568,     0.73534,       0.735,     0.73466,     0.73466,     0.73522,     0.73428,     0.73346,     0.73292,     0.73238,     0.73183,\n",
              "            0.73144,     0.73106,     0.73068,      0.7303,     0.72992,     0.72958,     0.72923,     0.72888,     0.72854,     0.72819,     0.72724,     0.72606,      0.7253,     0.72453,     0.72507,     0.72379,     0.72199,     0.72187,     0.72215,     0.72242,     0.72269,     0.72246,     0.72218,\n",
              "            0.72191,     0.72163,     0.72135,     0.72108,     0.72074,     0.71977,     0.71685,     0.71555,     0.71152,      0.7122,     0.71141,     0.71063,     0.70908,     0.70896,     0.70631,     0.70347,     0.70267,     0.70187,     0.69996,     0.69922,     0.69854,     0.69781,     0.69484,\n",
              "            0.69409,     0.69436,     0.69463,      0.6949,     0.69528,     0.69571,     0.69583,     0.69481,     0.69425,     0.69498,     0.69491,      0.6925,     0.69149,     0.69067,     0.69063,     0.69035,     0.68906,     0.68868,     0.68831,     0.68793,     0.68755,     0.68683,     0.68584,\n",
              "            0.68652,     0.68695,     0.68691,     0.68437,     0.68301,     0.68271,     0.68241,     0.68211,     0.68181,     0.68151,     0.68121,     0.67845,     0.67513,     0.67498,     0.67297,     0.67189,     0.67068,     0.66652,     0.66018,     0.65873,     0.65694,     0.65584,     0.65453,\n",
              "            0.65256,     0.65146,     0.64947,     0.64596,     0.64551,     0.64506,     0.64462,     0.64417,     0.64211,     0.63925,     0.63812,      0.6346,     0.63302,     0.62622,     0.62185,     0.62069,     0.61912,     0.61682,     0.61589,     0.61483,     0.61327,     0.61114,     0.60649,\n",
              "            0.59959,     0.59923,     0.59827,     0.59679,     0.59109,     0.58988,     0.58907,     0.58826,     0.58922,     0.57235,     0.56974,     0.56659,     0.56483,     0.56201,     0.56096,     0.55994,     0.55892,     0.55742,     0.55552,     0.55295,     0.54711,     0.54386,     0.54137,\n",
              "            0.53962,     0.53711,     0.53318,     0.53053,     0.52665,      0.5252,     0.52122,     0.51341,     0.51416,     0.51234,     0.50596,      0.5032,     0.50067,     0.49928,     0.49699,     0.49344,      0.4879,     0.48287,     0.47947,     0.47376,     0.47421,     0.46892,     0.46176,\n",
              "            0.45352,     0.45155,     0.44944,     0.44055,     0.43019,     0.42242,     0.40709,     0.39807,     0.39205,     0.39077,     0.38948,     0.38369,     0.37488,     0.37293,     0.37162,     0.37031,     0.35813,     0.35102,     0.34533,     0.33452,     0.33188,     0.32746,     0.29981,\n",
              "            0.29156,     0.28537,     0.27474,     0.27069,     0.25594,     0.25077,     0.23324,     0.22901,     0.22147,     0.21648,     0.20867,     0.19766,     0.19284,     0.16937,     0.15694,     0.13599,     0.13384,      0.1324,     0.13096,     0.12246,     0.10939,     0.10078,    0.097795,\n",
              "           0.094804,    0.091622,    0.086446,    0.076882,    0.068141,    0.050739,    0.041401,    0.035366,    0.022456,    0.018371,    0.015938,    0.013201,   0.0099378,    0.005185,           0,           0,           0,           0,           0,           0,           0,           0,           0,\n",
              "                  0,           0,           0,           0,           0,           0,           0,           0,           0,           0,           0,           0,           0,           0,           0,           0,           0,           0,           0,           0,           0,           0,           0,\n",
              "                  0,           0,           0,           0,           0,           0,           0,           0,           0,           0,           0]]), 'Confidence', 'F1'], [array([          0,    0.001001,    0.002002,    0.003003,    0.004004,    0.005005,    0.006006,    0.007007,    0.008008,    0.009009,     0.01001,    0.011011,    0.012012,    0.013013,    0.014014,    0.015015,    0.016016,    0.017017,    0.018018,    0.019019,     0.02002,    0.021021,    0.022022,    0.023023,\n",
              "          0.024024,    0.025025,    0.026026,    0.027027,    0.028028,    0.029029,     0.03003,    0.031031,    0.032032,    0.033033,    0.034034,    0.035035,    0.036036,    0.037037,    0.038038,    0.039039,     0.04004,    0.041041,    0.042042,    0.043043,    0.044044,    0.045045,    0.046046,    0.047047,\n",
              "          0.048048,    0.049049,     0.05005,    0.051051,    0.052052,    0.053053,    0.054054,    0.055055,    0.056056,    0.057057,    0.058058,    0.059059,     0.06006,    0.061061,    0.062062,    0.063063,    0.064064,    0.065065,    0.066066,    0.067067,    0.068068,    0.069069,     0.07007,    0.071071,\n",
              "          0.072072,    0.073073,    0.074074,    0.075075,    0.076076,    0.077077,    0.078078,    0.079079,     0.08008,    0.081081,    0.082082,    0.083083,    0.084084,    0.085085,    0.086086,    0.087087,    0.088088,    0.089089,     0.09009,    0.091091,    0.092092,    0.093093,    0.094094,    0.095095,\n",
              "          0.096096,    0.097097,    0.098098,    0.099099,      0.1001,      0.1011,      0.1021,      0.1031,      0.1041,     0.10511,     0.10611,     0.10711,     0.10811,     0.10911,     0.11011,     0.11111,     0.11211,     0.11311,     0.11411,     0.11512,     0.11612,     0.11712,     0.11812,     0.11912,\n",
              "           0.12012,     0.12112,     0.12212,     0.12312,     0.12412,     0.12513,     0.12613,     0.12713,     0.12813,     0.12913,     0.13013,     0.13113,     0.13213,     0.13313,     0.13413,     0.13514,     0.13614,     0.13714,     0.13814,     0.13914,     0.14014,     0.14114,     0.14214,     0.14314,\n",
              "           0.14414,     0.14515,     0.14615,     0.14715,     0.14815,     0.14915,     0.15015,     0.15115,     0.15215,     0.15315,     0.15415,     0.15516,     0.15616,     0.15716,     0.15816,     0.15916,     0.16016,     0.16116,     0.16216,     0.16316,     0.16416,     0.16517,     0.16617,     0.16717,\n",
              "           0.16817,     0.16917,     0.17017,     0.17117,     0.17217,     0.17317,     0.17417,     0.17518,     0.17618,     0.17718,     0.17818,     0.17918,     0.18018,     0.18118,     0.18218,     0.18318,     0.18418,     0.18519,     0.18619,     0.18719,     0.18819,     0.18919,     0.19019,     0.19119,\n",
              "           0.19219,     0.19319,     0.19419,      0.1952,      0.1962,      0.1972,      0.1982,      0.1992,      0.2002,      0.2012,      0.2022,      0.2032,      0.2042,     0.20521,     0.20621,     0.20721,     0.20821,     0.20921,     0.21021,     0.21121,     0.21221,     0.21321,     0.21421,     0.21522,\n",
              "           0.21622,     0.21722,     0.21822,     0.21922,     0.22022,     0.22122,     0.22222,     0.22322,     0.22422,     0.22523,     0.22623,     0.22723,     0.22823,     0.22923,     0.23023,     0.23123,     0.23223,     0.23323,     0.23423,     0.23524,     0.23624,     0.23724,     0.23824,     0.23924,\n",
              "           0.24024,     0.24124,     0.24224,     0.24324,     0.24424,     0.24525,     0.24625,     0.24725,     0.24825,     0.24925,     0.25025,     0.25125,     0.25225,     0.25325,     0.25425,     0.25526,     0.25626,     0.25726,     0.25826,     0.25926,     0.26026,     0.26126,     0.26226,     0.26326,\n",
              "           0.26426,     0.26527,     0.26627,     0.26727,     0.26827,     0.26927,     0.27027,     0.27127,     0.27227,     0.27327,     0.27427,     0.27528,     0.27628,     0.27728,     0.27828,     0.27928,     0.28028,     0.28128,     0.28228,     0.28328,     0.28428,     0.28529,     0.28629,     0.28729,\n",
              "           0.28829,     0.28929,     0.29029,     0.29129,     0.29229,     0.29329,     0.29429,      0.2953,      0.2963,      0.2973,      0.2983,      0.2993,      0.3003,      0.3013,      0.3023,      0.3033,      0.3043,     0.30531,     0.30631,     0.30731,     0.30831,     0.30931,     0.31031,     0.31131,\n",
              "           0.31231,     0.31331,     0.31431,     0.31532,     0.31632,     0.31732,     0.31832,     0.31932,     0.32032,     0.32132,     0.32232,     0.32332,     0.32432,     0.32533,     0.32633,     0.32733,     0.32833,     0.32933,     0.33033,     0.33133,     0.33233,     0.33333,     0.33433,     0.33534,\n",
              "           0.33634,     0.33734,     0.33834,     0.33934,     0.34034,     0.34134,     0.34234,     0.34334,     0.34434,     0.34535,     0.34635,     0.34735,     0.34835,     0.34935,     0.35035,     0.35135,     0.35235,     0.35335,     0.35435,     0.35536,     0.35636,     0.35736,     0.35836,     0.35936,\n",
              "           0.36036,     0.36136,     0.36236,     0.36336,     0.36436,     0.36537,     0.36637,     0.36737,     0.36837,     0.36937,     0.37037,     0.37137,     0.37237,     0.37337,     0.37437,     0.37538,     0.37638,     0.37738,     0.37838,     0.37938,     0.38038,     0.38138,     0.38238,     0.38338,\n",
              "           0.38438,     0.38539,     0.38639,     0.38739,     0.38839,     0.38939,     0.39039,     0.39139,     0.39239,     0.39339,     0.39439,      0.3954,      0.3964,      0.3974,      0.3984,      0.3994,      0.4004,      0.4014,      0.4024,      0.4034,      0.4044,     0.40541,     0.40641,     0.40741,\n",
              "           0.40841,     0.40941,     0.41041,     0.41141,     0.41241,     0.41341,     0.41441,     0.41542,     0.41642,     0.41742,     0.41842,     0.41942,     0.42042,     0.42142,     0.42242,     0.42342,     0.42442,     0.42543,     0.42643,     0.42743,     0.42843,     0.42943,     0.43043,     0.43143,\n",
              "           0.43243,     0.43343,     0.43443,     0.43544,     0.43644,     0.43744,     0.43844,     0.43944,     0.44044,     0.44144,     0.44244,     0.44344,     0.44444,     0.44545,     0.44645,     0.44745,     0.44845,     0.44945,     0.45045,     0.45145,     0.45245,     0.45345,     0.45445,     0.45546,\n",
              "           0.45646,     0.45746,     0.45846,     0.45946,     0.46046,     0.46146,     0.46246,     0.46346,     0.46446,     0.46547,     0.46647,     0.46747,     0.46847,     0.46947,     0.47047,     0.47147,     0.47247,     0.47347,     0.47447,     0.47548,     0.47648,     0.47748,     0.47848,     0.47948,\n",
              "           0.48048,     0.48148,     0.48248,     0.48348,     0.48448,     0.48549,     0.48649,     0.48749,     0.48849,     0.48949,     0.49049,     0.49149,     0.49249,     0.49349,     0.49449,      0.4955,      0.4965,      0.4975,      0.4985,      0.4995,      0.5005,      0.5015,      0.5025,      0.5035,\n",
              "            0.5045,     0.50551,     0.50651,     0.50751,     0.50851,     0.50951,     0.51051,     0.51151,     0.51251,     0.51351,     0.51451,     0.51552,     0.51652,     0.51752,     0.51852,     0.51952,     0.52052,     0.52152,     0.52252,     0.52352,     0.52452,     0.52553,     0.52653,     0.52753,\n",
              "           0.52853,     0.52953,     0.53053,     0.53153,     0.53253,     0.53353,     0.53453,     0.53554,     0.53654,     0.53754,     0.53854,     0.53954,     0.54054,     0.54154,     0.54254,     0.54354,     0.54454,     0.54555,     0.54655,     0.54755,     0.54855,     0.54955,     0.55055,     0.55155,\n",
              "           0.55255,     0.55355,     0.55455,     0.55556,     0.55656,     0.55756,     0.55856,     0.55956,     0.56056,     0.56156,     0.56256,     0.56356,     0.56456,     0.56557,     0.56657,     0.56757,     0.56857,     0.56957,     0.57057,     0.57157,     0.57257,     0.57357,     0.57457,     0.57558,\n",
              "           0.57658,     0.57758,     0.57858,     0.57958,     0.58058,     0.58158,     0.58258,     0.58358,     0.58458,     0.58559,     0.58659,     0.58759,     0.58859,     0.58959,     0.59059,     0.59159,     0.59259,     0.59359,     0.59459,      0.5956,      0.5966,      0.5976,      0.5986,      0.5996,\n",
              "            0.6006,      0.6016,      0.6026,      0.6036,      0.6046,     0.60561,     0.60661,     0.60761,     0.60861,     0.60961,     0.61061,     0.61161,     0.61261,     0.61361,     0.61461,     0.61562,     0.61662,     0.61762,     0.61862,     0.61962,     0.62062,     0.62162,     0.62262,     0.62362,\n",
              "           0.62462,     0.62563,     0.62663,     0.62763,     0.62863,     0.62963,     0.63063,     0.63163,     0.63263,     0.63363,     0.63463,     0.63564,     0.63664,     0.63764,     0.63864,     0.63964,     0.64064,     0.64164,     0.64264,     0.64364,     0.64464,     0.64565,     0.64665,     0.64765,\n",
              "           0.64865,     0.64965,     0.65065,     0.65165,     0.65265,     0.65365,     0.65465,     0.65566,     0.65666,     0.65766,     0.65866,     0.65966,     0.66066,     0.66166,     0.66266,     0.66366,     0.66466,     0.66567,     0.66667,     0.66767,     0.66867,     0.66967,     0.67067,     0.67167,\n",
              "           0.67267,     0.67367,     0.67467,     0.67568,     0.67668,     0.67768,     0.67868,     0.67968,     0.68068,     0.68168,     0.68268,     0.68368,     0.68468,     0.68569,     0.68669,     0.68769,     0.68869,     0.68969,     0.69069,     0.69169,     0.69269,     0.69369,     0.69469,      0.6957,\n",
              "            0.6967,      0.6977,      0.6987,      0.6997,      0.7007,      0.7017,      0.7027,      0.7037,      0.7047,     0.70571,     0.70671,     0.70771,     0.70871,     0.70971,     0.71071,     0.71171,     0.71271,     0.71371,     0.71471,     0.71572,     0.71672,     0.71772,     0.71872,     0.71972,\n",
              "           0.72072,     0.72172,     0.72272,     0.72372,     0.72472,     0.72573,     0.72673,     0.72773,     0.72873,     0.72973,     0.73073,     0.73173,     0.73273,     0.73373,     0.73473,     0.73574,     0.73674,     0.73774,     0.73874,     0.73974,     0.74074,     0.74174,     0.74274,     0.74374,\n",
              "           0.74474,     0.74575,     0.74675,     0.74775,     0.74875,     0.74975,     0.75075,     0.75175,     0.75275,     0.75375,     0.75475,     0.75576,     0.75676,     0.75776,     0.75876,     0.75976,     0.76076,     0.76176,     0.76276,     0.76376,     0.76476,     0.76577,     0.76677,     0.76777,\n",
              "           0.76877,     0.76977,     0.77077,     0.77177,     0.77277,     0.77377,     0.77477,     0.77578,     0.77678,     0.77778,     0.77878,     0.77978,     0.78078,     0.78178,     0.78278,     0.78378,     0.78478,     0.78579,     0.78679,     0.78779,     0.78879,     0.78979,     0.79079,     0.79179,\n",
              "           0.79279,     0.79379,     0.79479,      0.7958,      0.7968,      0.7978,      0.7988,      0.7998,      0.8008,      0.8018,      0.8028,      0.8038,      0.8048,     0.80581,     0.80681,     0.80781,     0.80881,     0.80981,     0.81081,     0.81181,     0.81281,     0.81381,     0.81481,     0.81582,\n",
              "           0.81682,     0.81782,     0.81882,     0.81982,     0.82082,     0.82182,     0.82282,     0.82382,     0.82482,     0.82583,     0.82683,     0.82783,     0.82883,     0.82983,     0.83083,     0.83183,     0.83283,     0.83383,     0.83483,     0.83584,     0.83684,     0.83784,     0.83884,     0.83984,\n",
              "           0.84084,     0.84184,     0.84284,     0.84384,     0.84484,     0.84585,     0.84685,     0.84785,     0.84885,     0.84985,     0.85085,     0.85185,     0.85285,     0.85385,     0.85485,     0.85586,     0.85686,     0.85786,     0.85886,     0.85986,     0.86086,     0.86186,     0.86286,     0.86386,\n",
              "           0.86486,     0.86587,     0.86687,     0.86787,     0.86887,     0.86987,     0.87087,     0.87187,     0.87287,     0.87387,     0.87487,     0.87588,     0.87688,     0.87788,     0.87888,     0.87988,     0.88088,     0.88188,     0.88288,     0.88388,     0.88488,     0.88589,     0.88689,     0.88789,\n",
              "           0.88889,     0.88989,     0.89089,     0.89189,     0.89289,     0.89389,     0.89489,      0.8959,      0.8969,      0.8979,      0.8989,      0.8999,      0.9009,      0.9019,      0.9029,      0.9039,      0.9049,     0.90591,     0.90691,     0.90791,     0.90891,     0.90991,     0.91091,     0.91191,\n",
              "           0.91291,     0.91391,     0.91491,     0.91592,     0.91692,     0.91792,     0.91892,     0.91992,     0.92092,     0.92192,     0.92292,     0.92392,     0.92492,     0.92593,     0.92693,     0.92793,     0.92893,     0.92993,     0.93093,     0.93193,     0.93293,     0.93393,     0.93493,     0.93594,\n",
              "           0.93694,     0.93794,     0.93894,     0.93994,     0.94094,     0.94194,     0.94294,     0.94394,     0.94494,     0.94595,     0.94695,     0.94795,     0.94895,     0.94995,     0.95095,     0.95195,     0.95295,     0.95395,     0.95495,     0.95596,     0.95696,     0.95796,     0.95896,     0.95996,\n",
              "           0.96096,     0.96196,     0.96296,     0.96396,     0.96496,     0.96597,     0.96697,     0.96797,     0.96897,     0.96997,     0.97097,     0.97197,     0.97297,     0.97397,     0.97497,     0.97598,     0.97698,     0.97798,     0.97898,     0.97998,     0.98098,     0.98198,     0.98298,     0.98398,\n",
              "           0.98498,     0.98599,     0.98699,     0.98799,     0.98899,     0.98999,     0.99099,     0.99199,     0.99299,     0.99399,     0.99499,       0.996,       0.997,       0.998,       0.999,           1]), array([[   0.060171,    0.060171,     0.09165,     0.11318,     0.13371,     0.15071,     0.16549,     0.17843,     0.19137,     0.20317,     0.21421,      0.2242,     0.23261,     0.24132,     0.25034,      0.2583,     0.26393,     0.27087,     0.27972,     0.28744,     0.29384,     0.30001,     0.30745,\n",
              "            0.31269,     0.31801,     0.32476,     0.32977,     0.33696,     0.33966,     0.34478,     0.34988,     0.35393,     0.36058,     0.36354,     0.36771,     0.37196,     0.37697,     0.38123,     0.38363,      0.3888,     0.39203,     0.39514,      0.3981,     0.40172,       0.404,     0.40765,\n",
              "            0.41016,     0.41289,     0.41604,     0.41736,      0.4184,     0.42034,     0.42235,     0.42575,     0.42922,     0.43231,     0.43347,     0.43553,     0.43721,     0.43987,     0.44561,     0.44907,     0.45225,     0.45384,     0.45544,     0.45771,     0.45918,     0.46009,     0.46329,\n",
              "            0.46609,     0.47067,     0.47377,     0.47672,     0.47992,     0.48287,     0.48303,     0.48487,     0.48639,     0.48697,      0.4902,     0.49126,     0.49468,     0.49877,     0.50042,       0.502,     0.50372,     0.50366,     0.50535,     0.50742,     0.50817,     0.50981,     0.51346,\n",
              "            0.51474,     0.51578,     0.51748,       0.519,     0.52096,     0.52219,     0.52695,     0.52842,     0.52909,     0.53046,     0.53176,     0.53273,     0.53389,     0.53577,      0.5362,     0.53747,     0.53807,      0.5404,       0.541,     0.54179,     0.54217,     0.54663,     0.54811,\n",
              "            0.54938,     0.54913,     0.54889,     0.55073,     0.55291,     0.55347,     0.55341,     0.55354,     0.55399,     0.55368,     0.55333,     0.55611,     0.55846,     0.55824,     0.55801,     0.55796,     0.55992,     0.56197,     0.56304,     0.56433,     0.56482,     0.56759,     0.56857,\n",
              "            0.56976,     0.57204,     0.57289,     0.57429,     0.57623,      0.5795,     0.58132,     0.58197,     0.58262,     0.58393,     0.58489,     0.58555,     0.58686,     0.58752,     0.58883,     0.58945,     0.58989,     0.59021,     0.59053,     0.58953,     0.59027,     0.59127,     0.59414,\n",
              "            0.59694,     0.59926,     0.60136,     0.60226,     0.60489,     0.60555,     0.60637,     0.60655,     0.61124,     0.61266,     0.61304,     0.61342,     0.61442,     0.61717,      0.6176,     0.61851,     0.61886,      0.6192,     0.62074,     0.62149,     0.62147,     0.62249,     0.62582,\n",
              "            0.62703,     0.62773,     0.62802,     0.62831,      0.6286,     0.63038,     0.62995,     0.63018,     0.63074,     0.63141,     0.63201,     0.63155,     0.63255,     0.63281,     0.63308,     0.63334,      0.6336,     0.63417,     0.63493,     0.63609,     0.63683,     0.63741,     0.63783,\n",
              "            0.63825,     0.63888,     0.63874,      0.6386,     0.63847,     0.63833,     0.63887,     0.64336,     0.64517,      0.6458,     0.64625,     0.64824,     0.65095,     0.65442,     0.66008,     0.65998,     0.66143,     0.66233,     0.66308,     0.66487,     0.66584,     0.66627,     0.66659,\n",
              "             0.6669,     0.66721,     0.66791,     0.66974,     0.66964,     0.67041,     0.67216,      0.6728,     0.67331,     0.67358,     0.67385,     0.67411,     0.67438,     0.67495,     0.67583,     0.67558,     0.67533,     0.67586,     0.67703,     0.67814,      0.6785,     0.67886,     0.67922,\n",
              "            0.67973,     0.68029,     0.68105,     0.68229,     0.68691,     0.68794,     0.68857,     0.68936,     0.69033,     0.69179,      0.6934,     0.69437,     0.69492,      0.6954,     0.69589,     0.69704,     0.69673,     0.69811,     0.69803,     0.69794,     0.69786,     0.69777,     0.69769,\n",
              "             0.6976,     0.69805,     0.69931,      0.6998,      0.7003,     0.70365,     0.70482,     0.70542,     0.70602,     0.70835,     0.70952,     0.71256,     0.71343,     0.71515,      0.7167,     0.71621,     0.71738,     0.71707,     0.71686,     0.71667,     0.71648,     0.71701,     0.71791,\n",
              "            0.71896,      0.7196,     0.71982,     0.72005,     0.72028,      0.7205,     0.72073,     0.72095,     0.72329,      0.7242,     0.72451,     0.72481,     0.72512,     0.72542,     0.72581,     0.72709,      0.7292,     0.73013,     0.73188,     0.73271,     0.73343,      0.7346,     0.73514,\n",
              "            0.73609,     0.73761,     0.74022,     0.74105,     0.74318,     0.74415,     0.74434,     0.74589,     0.74665,     0.74715,     0.74693,     0.74672,     0.74665,     0.74764,     0.75104,     0.75093,     0.75083,     0.75072,     0.75062,     0.75016,     0.75145,     0.75116,     0.75141,\n",
              "            0.75167,     0.75192,     0.75217,     0.75242,     0.75267,     0.75274,     0.75234,     0.75376,     0.75422,     0.75445,     0.75469,     0.75493,     0.75517,      0.7554,     0.75564,     0.75553,     0.75544,     0.75634,     0.75689,     0.75674,     0.75659,     0.75643,     0.75799,\n",
              "            0.75866,     0.75922,     0.75978,     0.76398,     0.76523,     0.76514,     0.76504,     0.76495,     0.76485,     0.76476,     0.76481,     0.76504,     0.76527,      0.7655,     0.76573,     0.76596,      0.7662,     0.76643,     0.76679,     0.76723,     0.76766,      0.7681,     0.77014,\n",
              "            0.77008,     0.77003,     0.76997,     0.76991,     0.76985,      0.7698,     0.76974,     0.76968,     0.76963,     0.77347,     0.77387,     0.77427,     0.77467,     0.77507,     0.77594,     0.77689,     0.77919,      0.7808,     0.78119,     0.78158,     0.78196,     0.78235,      0.7827,\n",
              "            0.78299,     0.78328,     0.78357,     0.78385,     0.78414,     0.78443,     0.78595,     0.78812,     0.78785,     0.78976,     0.79016,     0.79056,     0.79095,     0.79135,     0.79105,     0.79072,     0.79105,     0.79138,     0.79172,     0.79205,     0.79238,     0.79287,      0.7936,\n",
              "            0.79433,     0.79386,      0.7936,     0.79314,     0.79458,     0.79479,     0.79453,     0.79426,       0.794,     0.79443,     0.79494,     0.79545,     0.79596,      0.7995,      0.8002,     0.80089,      0.8017,     0.80365,     0.80442,     0.80519,     0.80653,     0.80746,     0.80979,\n",
              "            0.81086,      0.8125,     0.81406,     0.81515,     0.81602,     0.81674,     0.81747,       0.818,     0.81844,     0.81888,     0.81931,     0.81975,     0.82159,     0.82217,     0.82239,     0.82261,     0.82283,     0.82305,     0.82328,      0.8235,     0.82372,     0.82394,     0.82414,\n",
              "            0.82398,     0.82382,     0.82368,     0.82361,     0.82354,     0.82347,      0.8234,     0.82333,     0.82327,     0.82339,     0.82395,     0.82451,     0.82506,     0.82533,     0.82517,     0.82502,      0.8252,     0.82576,     0.82633,     0.82689,     0.82778,     0.82891,     0.82919,\n",
              "            0.82895,     0.82939,     0.83015,      0.8309,     0.83195,      0.8331,     0.83425,      0.8354,     0.83655,     0.83771,     0.83777,      0.8377,     0.83762,     0.83755,     0.83747,      0.8374,      0.8373,     0.83721,     0.83712,     0.83703,     0.83692,     0.83669,     0.83676,\n",
              "            0.83793,     0.83874,     0.83851,     0.83833,     0.83826,     0.83818,     0.83811,     0.83803,     0.83795,     0.83845,     0.83963,     0.84014,     0.83999,     0.83984,     0.83997,     0.84032,     0.84066,       0.841,     0.84134,     0.84168,     0.84202,     0.84202,     0.84191,\n",
              "             0.8418,     0.84168,     0.84369,     0.84429,     0.84461,     0.84493,     0.84526,     0.84558,      0.8459,     0.84622,     0.84629,     0.84614,     0.84599,     0.84644,     0.84726,     0.84807,     0.84801,     0.84786,     0.84781,     0.84777,     0.84772,     0.84768,     0.84764,\n",
              "            0.84759,     0.84755,      0.8475,     0.84746,     0.84724,     0.84702,     0.84662,     0.84732,     0.84803,     0.84874,     0.84891,     0.84876,     0.84862,     0.85031,     0.85079,     0.85108,     0.85138,     0.85167,     0.85197,     0.85227,     0.85256,     0.85286,     0.85284,\n",
              "            0.85375,       0.855,     0.85486,     0.85472,     0.85441,      0.8557,     0.85647,     0.85792,     0.86051,     0.86124,     0.86108,     0.86085,     0.86121,     0.86319,     0.86355,      0.8639,     0.86425,      0.8646,     0.86496,     0.86531,     0.86566,     0.86696,     0.86826,\n",
              "            0.86806,     0.86785,     0.86765,     0.86745,     0.86729,     0.86712,     0.86679,     0.86687,     0.86715,     0.86743,     0.86772,       0.868,     0.86829,     0.86857,     0.86885,     0.86914,     0.86923,     0.86907,      0.8689,     0.87025,     0.87156,     0.87148,     0.87141,\n",
              "            0.87134,     0.87126,     0.87119,     0.87106,     0.87089,     0.87109,     0.87247,     0.87342,     0.87331,     0.87319,     0.87308,     0.87661,     0.87801,      0.8776,     0.87744,     0.87717,     0.87841,     0.88018,       0.881,     0.88181,     0.88253,     0.88244,     0.88236,\n",
              "            0.88227,     0.88219,     0.88211,     0.88203,     0.88196,     0.88188,      0.8818,     0.88424,     0.88715,     0.89138,     0.89256,     0.89314,       0.893,     0.89291,     0.89576,     0.89562,     0.89548,     0.89815,     0.90345,     0.90312,     0.90663,     0.90907,     0.90898,\n",
              "            0.90889,      0.9088,      0.9095,     0.91041,     0.91131,     0.91182,     0.91169,     0.91157,     0.91107,     0.91028,     0.91016,     0.91003,     0.90981,      0.9116,     0.91285,     0.91279,     0.91273,     0.91267,      0.9126,     0.91253,     0.91245,     0.91237,     0.91229,\n",
              "            0.91499,     0.91523,     0.91456,     0.91448,      0.9144,     0.91433,     0.91493,     0.91628,      0.9177,     0.92082,     0.92041,     0.92026,      0.9202,     0.92015,      0.9201,     0.92004,     0.92082,     0.92332,     0.92318,     0.92305,     0.92297,     0.92289,      0.9228,\n",
              "            0.92274,     0.92268,     0.92262,     0.92257,     0.92251,     0.92245,      0.9224,     0.92235,     0.92229,     0.92224,     0.92209,     0.92191,     0.92179,     0.92167,     0.92504,     0.92485,     0.92458,     0.92527,     0.92616,     0.92706,     0.92796,     0.92799,     0.92795,\n",
              "            0.92791,     0.92787,     0.92783,     0.92779,     0.92774,      0.9276,     0.92718,     0.92698,     0.92706,     0.92994,     0.92982,     0.92971,     0.93135,     0.93299,     0.93262,     0.93223,     0.93212,     0.93201,     0.93174,     0.93164,     0.93154,     0.93144,     0.93102,\n",
              "            0.93144,     0.93241,     0.93338,     0.93436,     0.93572,     0.93729,      0.9385,     0.93837,     0.93897,     0.94162,     0.94591,     0.94564,     0.94553,     0.94543,     0.94705,     0.94927,     0.94913,     0.94909,     0.94905,     0.94901,     0.94897,     0.94889,     0.95124,\n",
              "            0.95385,     0.95553,     0.95686,     0.95663,      0.9565,     0.95647,     0.95645,     0.95642,     0.95639,     0.95636,     0.95633,      0.9602,     0.95992,     0.96387,     0.96396,     0.96388,     0.96379,     0.96346,     0.96295,     0.96283,     0.96712,     0.96705,     0.96695,\n",
              "            0.96681,     0.96673,     0.96658,     0.96632,     0.96629,     0.96625,     0.96622,     0.96619,     0.96603,     0.96582,     0.96573,     0.96546,     0.96534,     0.96481,     0.96446,     0.96437,     0.96424,     0.96405,     0.96398,     0.96389,     0.96377,     0.96359,      0.9632,\n",
              "            0.96563,     0.96768,     0.96761,      0.9675,     0.96707,     0.96698,     0.96691,     0.96685,      0.9722,     0.97109,     0.97091,     0.97069,     0.97057,     0.97037,     0.97604,     0.97598,     0.97592,     0.97583,     0.97572,     0.97557,     0.97522,     0.97697,     0.98098,\n",
              "             0.9809,     0.98078,     0.98059,     0.98046,     0.98027,      0.9802,        0.98,     0.97991,      0.9863,     0.98623,       0.986,      0.9859,     0.98581,     0.98575,     0.98567,     0.98553,     0.98532,     0.98512,     0.98498,     0.98794,     0.99182,     0.99219,     0.99204,\n",
              "            0.99185,      0.9918,     0.99998,           1,           1,           1,           1,           1,           1,           1,           1,           1,           1,           1,           1,           1,           1,           1,           1,           1,           1,           1,           1,\n",
              "                  1,           1,           1,           1,           1,           1,           1,           1,           1,           1,           1,           1,           1,           1,           1,           1,           1,           1,           1,           1,           1,           1,           1,\n",
              "                  1,           1,           1,           1,           1,           1,           1,           1,           1,           1,           1,           1,           1,           1,           1,           1,           1,           1,           1,           1,           1,           1,           1,\n",
              "                  1,           1,           1,           1,           1,           1,           1,           1,           1,           1,           1,           1,           1,           1,           1,           1,           1,           1,           1,           1,           1,           1,           1,\n",
              "                  1,           1,           1,           1,           1,           1,           1,           1,           1,           1,           1]]), 'Confidence', 'Precision'], [array([          0,    0.001001,    0.002002,    0.003003,    0.004004,    0.005005,    0.006006,    0.007007,    0.008008,    0.009009,     0.01001,    0.011011,    0.012012,    0.013013,    0.014014,    0.015015,    0.016016,    0.017017,    0.018018,    0.019019,     0.02002,    0.021021,    0.022022,    0.023023,\n",
              "          0.024024,    0.025025,    0.026026,    0.027027,    0.028028,    0.029029,     0.03003,    0.031031,    0.032032,    0.033033,    0.034034,    0.035035,    0.036036,    0.037037,    0.038038,    0.039039,     0.04004,    0.041041,    0.042042,    0.043043,    0.044044,    0.045045,    0.046046,    0.047047,\n",
              "          0.048048,    0.049049,     0.05005,    0.051051,    0.052052,    0.053053,    0.054054,    0.055055,    0.056056,    0.057057,    0.058058,    0.059059,     0.06006,    0.061061,    0.062062,    0.063063,    0.064064,    0.065065,    0.066066,    0.067067,    0.068068,    0.069069,     0.07007,    0.071071,\n",
              "          0.072072,    0.073073,    0.074074,    0.075075,    0.076076,    0.077077,    0.078078,    0.079079,     0.08008,    0.081081,    0.082082,    0.083083,    0.084084,    0.085085,    0.086086,    0.087087,    0.088088,    0.089089,     0.09009,    0.091091,    0.092092,    0.093093,    0.094094,    0.095095,\n",
              "          0.096096,    0.097097,    0.098098,    0.099099,      0.1001,      0.1011,      0.1021,      0.1031,      0.1041,     0.10511,     0.10611,     0.10711,     0.10811,     0.10911,     0.11011,     0.11111,     0.11211,     0.11311,     0.11411,     0.11512,     0.11612,     0.11712,     0.11812,     0.11912,\n",
              "           0.12012,     0.12112,     0.12212,     0.12312,     0.12412,     0.12513,     0.12613,     0.12713,     0.12813,     0.12913,     0.13013,     0.13113,     0.13213,     0.13313,     0.13413,     0.13514,     0.13614,     0.13714,     0.13814,     0.13914,     0.14014,     0.14114,     0.14214,     0.14314,\n",
              "           0.14414,     0.14515,     0.14615,     0.14715,     0.14815,     0.14915,     0.15015,     0.15115,     0.15215,     0.15315,     0.15415,     0.15516,     0.15616,     0.15716,     0.15816,     0.15916,     0.16016,     0.16116,     0.16216,     0.16316,     0.16416,     0.16517,     0.16617,     0.16717,\n",
              "           0.16817,     0.16917,     0.17017,     0.17117,     0.17217,     0.17317,     0.17417,     0.17518,     0.17618,     0.17718,     0.17818,     0.17918,     0.18018,     0.18118,     0.18218,     0.18318,     0.18418,     0.18519,     0.18619,     0.18719,     0.18819,     0.18919,     0.19019,     0.19119,\n",
              "           0.19219,     0.19319,     0.19419,      0.1952,      0.1962,      0.1972,      0.1982,      0.1992,      0.2002,      0.2012,      0.2022,      0.2032,      0.2042,     0.20521,     0.20621,     0.20721,     0.20821,     0.20921,     0.21021,     0.21121,     0.21221,     0.21321,     0.21421,     0.21522,\n",
              "           0.21622,     0.21722,     0.21822,     0.21922,     0.22022,     0.22122,     0.22222,     0.22322,     0.22422,     0.22523,     0.22623,     0.22723,     0.22823,     0.22923,     0.23023,     0.23123,     0.23223,     0.23323,     0.23423,     0.23524,     0.23624,     0.23724,     0.23824,     0.23924,\n",
              "           0.24024,     0.24124,     0.24224,     0.24324,     0.24424,     0.24525,     0.24625,     0.24725,     0.24825,     0.24925,     0.25025,     0.25125,     0.25225,     0.25325,     0.25425,     0.25526,     0.25626,     0.25726,     0.25826,     0.25926,     0.26026,     0.26126,     0.26226,     0.26326,\n",
              "           0.26426,     0.26527,     0.26627,     0.26727,     0.26827,     0.26927,     0.27027,     0.27127,     0.27227,     0.27327,     0.27427,     0.27528,     0.27628,     0.27728,     0.27828,     0.27928,     0.28028,     0.28128,     0.28228,     0.28328,     0.28428,     0.28529,     0.28629,     0.28729,\n",
              "           0.28829,     0.28929,     0.29029,     0.29129,     0.29229,     0.29329,     0.29429,      0.2953,      0.2963,      0.2973,      0.2983,      0.2993,      0.3003,      0.3013,      0.3023,      0.3033,      0.3043,     0.30531,     0.30631,     0.30731,     0.30831,     0.30931,     0.31031,     0.31131,\n",
              "           0.31231,     0.31331,     0.31431,     0.31532,     0.31632,     0.31732,     0.31832,     0.31932,     0.32032,     0.32132,     0.32232,     0.32332,     0.32432,     0.32533,     0.32633,     0.32733,     0.32833,     0.32933,     0.33033,     0.33133,     0.33233,     0.33333,     0.33433,     0.33534,\n",
              "           0.33634,     0.33734,     0.33834,     0.33934,     0.34034,     0.34134,     0.34234,     0.34334,     0.34434,     0.34535,     0.34635,     0.34735,     0.34835,     0.34935,     0.35035,     0.35135,     0.35235,     0.35335,     0.35435,     0.35536,     0.35636,     0.35736,     0.35836,     0.35936,\n",
              "           0.36036,     0.36136,     0.36236,     0.36336,     0.36436,     0.36537,     0.36637,     0.36737,     0.36837,     0.36937,     0.37037,     0.37137,     0.37237,     0.37337,     0.37437,     0.37538,     0.37638,     0.37738,     0.37838,     0.37938,     0.38038,     0.38138,     0.38238,     0.38338,\n",
              "           0.38438,     0.38539,     0.38639,     0.38739,     0.38839,     0.38939,     0.39039,     0.39139,     0.39239,     0.39339,     0.39439,      0.3954,      0.3964,      0.3974,      0.3984,      0.3994,      0.4004,      0.4014,      0.4024,      0.4034,      0.4044,     0.40541,     0.40641,     0.40741,\n",
              "           0.40841,     0.40941,     0.41041,     0.41141,     0.41241,     0.41341,     0.41441,     0.41542,     0.41642,     0.41742,     0.41842,     0.41942,     0.42042,     0.42142,     0.42242,     0.42342,     0.42442,     0.42543,     0.42643,     0.42743,     0.42843,     0.42943,     0.43043,     0.43143,\n",
              "           0.43243,     0.43343,     0.43443,     0.43544,     0.43644,     0.43744,     0.43844,     0.43944,     0.44044,     0.44144,     0.44244,     0.44344,     0.44444,     0.44545,     0.44645,     0.44745,     0.44845,     0.44945,     0.45045,     0.45145,     0.45245,     0.45345,     0.45445,     0.45546,\n",
              "           0.45646,     0.45746,     0.45846,     0.45946,     0.46046,     0.46146,     0.46246,     0.46346,     0.46446,     0.46547,     0.46647,     0.46747,     0.46847,     0.46947,     0.47047,     0.47147,     0.47247,     0.47347,     0.47447,     0.47548,     0.47648,     0.47748,     0.47848,     0.47948,\n",
              "           0.48048,     0.48148,     0.48248,     0.48348,     0.48448,     0.48549,     0.48649,     0.48749,     0.48849,     0.48949,     0.49049,     0.49149,     0.49249,     0.49349,     0.49449,      0.4955,      0.4965,      0.4975,      0.4985,      0.4995,      0.5005,      0.5015,      0.5025,      0.5035,\n",
              "            0.5045,     0.50551,     0.50651,     0.50751,     0.50851,     0.50951,     0.51051,     0.51151,     0.51251,     0.51351,     0.51451,     0.51552,     0.51652,     0.51752,     0.51852,     0.51952,     0.52052,     0.52152,     0.52252,     0.52352,     0.52452,     0.52553,     0.52653,     0.52753,\n",
              "           0.52853,     0.52953,     0.53053,     0.53153,     0.53253,     0.53353,     0.53453,     0.53554,     0.53654,     0.53754,     0.53854,     0.53954,     0.54054,     0.54154,     0.54254,     0.54354,     0.54454,     0.54555,     0.54655,     0.54755,     0.54855,     0.54955,     0.55055,     0.55155,\n",
              "           0.55255,     0.55355,     0.55455,     0.55556,     0.55656,     0.55756,     0.55856,     0.55956,     0.56056,     0.56156,     0.56256,     0.56356,     0.56456,     0.56557,     0.56657,     0.56757,     0.56857,     0.56957,     0.57057,     0.57157,     0.57257,     0.57357,     0.57457,     0.57558,\n",
              "           0.57658,     0.57758,     0.57858,     0.57958,     0.58058,     0.58158,     0.58258,     0.58358,     0.58458,     0.58559,     0.58659,     0.58759,     0.58859,     0.58959,     0.59059,     0.59159,     0.59259,     0.59359,     0.59459,      0.5956,      0.5966,      0.5976,      0.5986,      0.5996,\n",
              "            0.6006,      0.6016,      0.6026,      0.6036,      0.6046,     0.60561,     0.60661,     0.60761,     0.60861,     0.60961,     0.61061,     0.61161,     0.61261,     0.61361,     0.61461,     0.61562,     0.61662,     0.61762,     0.61862,     0.61962,     0.62062,     0.62162,     0.62262,     0.62362,\n",
              "           0.62462,     0.62563,     0.62663,     0.62763,     0.62863,     0.62963,     0.63063,     0.63163,     0.63263,     0.63363,     0.63463,     0.63564,     0.63664,     0.63764,     0.63864,     0.63964,     0.64064,     0.64164,     0.64264,     0.64364,     0.64464,     0.64565,     0.64665,     0.64765,\n",
              "           0.64865,     0.64965,     0.65065,     0.65165,     0.65265,     0.65365,     0.65465,     0.65566,     0.65666,     0.65766,     0.65866,     0.65966,     0.66066,     0.66166,     0.66266,     0.66366,     0.66466,     0.66567,     0.66667,     0.66767,     0.66867,     0.66967,     0.67067,     0.67167,\n",
              "           0.67267,     0.67367,     0.67467,     0.67568,     0.67668,     0.67768,     0.67868,     0.67968,     0.68068,     0.68168,     0.68268,     0.68368,     0.68468,     0.68569,     0.68669,     0.68769,     0.68869,     0.68969,     0.69069,     0.69169,     0.69269,     0.69369,     0.69469,      0.6957,\n",
              "            0.6967,      0.6977,      0.6987,      0.6997,      0.7007,      0.7017,      0.7027,      0.7037,      0.7047,     0.70571,     0.70671,     0.70771,     0.70871,     0.70971,     0.71071,     0.71171,     0.71271,     0.71371,     0.71471,     0.71572,     0.71672,     0.71772,     0.71872,     0.71972,\n",
              "           0.72072,     0.72172,     0.72272,     0.72372,     0.72472,     0.72573,     0.72673,     0.72773,     0.72873,     0.72973,     0.73073,     0.73173,     0.73273,     0.73373,     0.73473,     0.73574,     0.73674,     0.73774,     0.73874,     0.73974,     0.74074,     0.74174,     0.74274,     0.74374,\n",
              "           0.74474,     0.74575,     0.74675,     0.74775,     0.74875,     0.74975,     0.75075,     0.75175,     0.75275,     0.75375,     0.75475,     0.75576,     0.75676,     0.75776,     0.75876,     0.75976,     0.76076,     0.76176,     0.76276,     0.76376,     0.76476,     0.76577,     0.76677,     0.76777,\n",
              "           0.76877,     0.76977,     0.77077,     0.77177,     0.77277,     0.77377,     0.77477,     0.77578,     0.77678,     0.77778,     0.77878,     0.77978,     0.78078,     0.78178,     0.78278,     0.78378,     0.78478,     0.78579,     0.78679,     0.78779,     0.78879,     0.78979,     0.79079,     0.79179,\n",
              "           0.79279,     0.79379,     0.79479,      0.7958,      0.7968,      0.7978,      0.7988,      0.7998,      0.8008,      0.8018,      0.8028,      0.8038,      0.8048,     0.80581,     0.80681,     0.80781,     0.80881,     0.80981,     0.81081,     0.81181,     0.81281,     0.81381,     0.81481,     0.81582,\n",
              "           0.81682,     0.81782,     0.81882,     0.81982,     0.82082,     0.82182,     0.82282,     0.82382,     0.82482,     0.82583,     0.82683,     0.82783,     0.82883,     0.82983,     0.83083,     0.83183,     0.83283,     0.83383,     0.83483,     0.83584,     0.83684,     0.83784,     0.83884,     0.83984,\n",
              "           0.84084,     0.84184,     0.84284,     0.84384,     0.84484,     0.84585,     0.84685,     0.84785,     0.84885,     0.84985,     0.85085,     0.85185,     0.85285,     0.85385,     0.85485,     0.85586,     0.85686,     0.85786,     0.85886,     0.85986,     0.86086,     0.86186,     0.86286,     0.86386,\n",
              "           0.86486,     0.86587,     0.86687,     0.86787,     0.86887,     0.86987,     0.87087,     0.87187,     0.87287,     0.87387,     0.87487,     0.87588,     0.87688,     0.87788,     0.87888,     0.87988,     0.88088,     0.88188,     0.88288,     0.88388,     0.88488,     0.88589,     0.88689,     0.88789,\n",
              "           0.88889,     0.88989,     0.89089,     0.89189,     0.89289,     0.89389,     0.89489,      0.8959,      0.8969,      0.8979,      0.8989,      0.8999,      0.9009,      0.9019,      0.9029,      0.9039,      0.9049,     0.90591,     0.90691,     0.90791,     0.90891,     0.90991,     0.91091,     0.91191,\n",
              "           0.91291,     0.91391,     0.91491,     0.91592,     0.91692,     0.91792,     0.91892,     0.91992,     0.92092,     0.92192,     0.92292,     0.92392,     0.92492,     0.92593,     0.92693,     0.92793,     0.92893,     0.92993,     0.93093,     0.93193,     0.93293,     0.93393,     0.93493,     0.93594,\n",
              "           0.93694,     0.93794,     0.93894,     0.93994,     0.94094,     0.94194,     0.94294,     0.94394,     0.94494,     0.94595,     0.94695,     0.94795,     0.94895,     0.94995,     0.95095,     0.95195,     0.95295,     0.95395,     0.95495,     0.95596,     0.95696,     0.95796,     0.95896,     0.95996,\n",
              "           0.96096,     0.96196,     0.96296,     0.96396,     0.96496,     0.96597,     0.96697,     0.96797,     0.96897,     0.96997,     0.97097,     0.97197,     0.97297,     0.97397,     0.97497,     0.97598,     0.97698,     0.97798,     0.97898,     0.97998,     0.98098,     0.98198,     0.98298,     0.98398,\n",
              "           0.98498,     0.98599,     0.98699,     0.98799,     0.98899,     0.98999,     0.99099,     0.99199,     0.99299,     0.99399,     0.99499,       0.996,       0.997,       0.998,       0.999,           1]), array([[    0.98309,     0.98309,     0.97585,     0.96618,     0.96377,     0.96135,     0.95652,     0.95169,     0.95169,     0.95169,     0.94686,     0.94686,     0.94444,     0.94203,     0.93961,     0.93961,      0.9372,      0.9372,      0.9372,      0.9372,     0.93476,     0.92995,     0.92995,\n",
              "            0.92754,     0.92754,     0.92512,     0.92029,     0.92029,     0.92029,     0.91787,     0.91546,     0.91546,     0.91546,     0.91304,     0.91304,     0.91304,     0.91304,     0.91063,     0.91063,     0.91063,     0.91063,     0.90821,     0.90821,     0.90821,      0.9058,      0.9058,\n",
              "             0.9058,      0.9058,     0.90338,     0.90338,     0.90097,     0.90097,     0.89855,     0.89855,     0.89855,     0.89855,     0.89614,     0.89614,     0.89614,     0.89614,     0.89614,     0.89614,     0.89614,     0.89372,     0.89372,     0.89372,      0.8913,      0.8913,      0.8913,\n",
              "             0.8913,      0.8913,      0.8913,      0.8913,      0.8913,      0.8913,     0.88647,     0.88647,     0.88647,     0.88164,     0.88164,     0.88164,     0.88164,     0.88164,     0.88164,     0.88164,     0.88164,     0.87994,     0.87923,     0.87923,     0.87923,     0.87923,     0.87923,\n",
              "            0.87923,      0.8744,      0.8744,      0.8744,      0.8744,      0.8744,      0.8744,      0.8744,      0.8744,      0.8744,      0.8744,      0.8744,      0.8744,      0.8744,      0.8744,      0.8744,      0.8744,      0.8744,      0.8744,      0.8744,     0.87245,     0.87198,     0.87198,\n",
              "            0.87166,      0.8708,     0.86994,     0.86957,     0.86957,     0.86957,     0.86803,     0.86715,     0.86715,     0.86597,     0.86473,     0.86473,      0.8646,      0.8638,     0.86301,     0.86232,     0.86232,     0.86232,     0.86232,     0.86232,     0.86232,     0.86232,     0.86232,\n",
              "            0.86232,     0.86232,     0.85749,     0.85749,     0.85749,     0.85749,     0.85749,     0.85749,     0.85749,     0.85749,     0.85749,     0.85749,     0.85749,     0.85749,     0.85749,     0.85749,     0.85749,     0.85749,     0.85749,     0.85266,     0.85266,     0.85266,     0.85266,\n",
              "            0.85266,     0.85024,     0.85024,     0.85024,     0.85024,     0.85024,     0.85024,     0.84783,     0.84783,     0.84783,     0.84783,     0.84783,     0.84783,     0.84783,     0.84541,     0.84541,     0.84541,     0.84541,     0.84541,     0.84541,       0.843,       0.843,       0.843,\n",
              "              0.843,       0.843,       0.843,       0.843,       0.843,       0.843,     0.83884,     0.83816,     0.83816,     0.83816,       0.838,     0.83634,     0.83575,     0.83575,     0.83575,     0.83575,     0.83575,     0.83575,     0.83575,     0.83575,     0.83575,     0.83575,     0.83575,\n",
              "            0.83575,     0.83329,      0.8328,      0.8323,     0.83181,     0.83131,     0.83092,     0.83092,     0.83092,     0.83092,     0.83092,     0.83092,     0.83092,     0.83092,     0.83092,      0.8285,      0.8285,      0.8285,      0.8285,      0.8285,      0.8285,      0.8285,      0.8285,\n",
              "             0.8285,      0.8285,      0.8285,     0.82784,     0.82609,     0.82609,     0.82609,     0.82609,     0.82609,     0.82609,     0.82609,     0.82609,     0.82609,     0.82609,     0.82587,     0.82493,     0.82399,     0.82367,     0.82367,     0.82367,     0.82367,     0.82367,     0.82367,\n",
              "            0.82367,     0.82367,     0.82367,     0.82367,     0.82367,     0.82367,     0.82367,     0.82367,     0.82367,     0.82367,     0.82367,     0.82367,     0.82367,     0.82367,     0.82367,     0.82252,     0.82128,     0.82109,     0.82076,     0.82043,      0.8201,     0.81977,     0.81944,\n",
              "            0.81911,     0.81884,     0.81884,     0.81884,     0.81884,     0.81884,     0.81884,     0.81884,     0.81884,     0.81884,     0.81884,     0.81884,     0.81884,     0.81884,     0.81883,     0.81685,     0.81545,     0.81421,     0.81337,     0.81261,     0.81185,     0.81159,     0.81159,\n",
              "            0.81159,     0.81159,     0.81159,     0.81159,     0.81159,     0.81159,     0.81159,     0.81159,     0.81159,     0.81159,     0.81159,     0.81159,     0.81159,     0.81159,     0.81159,     0.81159,     0.81159,     0.81159,     0.81159,     0.81159,     0.81159,     0.81159,     0.80918,\n",
              "            0.80918,     0.80918,     0.80918,     0.80918,     0.80918,     0.80918,     0.80676,     0.80676,     0.80676,     0.80651,     0.80561,     0.80471,     0.80193,     0.80193,     0.80153,     0.80108,     0.80063,     0.80018,     0.79973,      0.7978,     0.79599,     0.79469,     0.79469,\n",
              "            0.79469,     0.79469,     0.79469,     0.79469,     0.79469,     0.79419,     0.79227,     0.79227,     0.79227,     0.79227,     0.79227,     0.79227,     0.79227,     0.79227,     0.79227,     0.79129,     0.78986,     0.78986,     0.78964,     0.78898,     0.78832,     0.78766,     0.78744,\n",
              "            0.78744,     0.78744,     0.78744,     0.78744,     0.78732,      0.7869,     0.78649,     0.78608,     0.78566,     0.78525,     0.78502,     0.78502,     0.78502,     0.78502,     0.78502,     0.78502,     0.78502,     0.78502,     0.78502,     0.78502,     0.78502,     0.78502,     0.78502,\n",
              "            0.78477,     0.78451,     0.78426,     0.78401,     0.78375,      0.7835,     0.78324,     0.78299,     0.78274,     0.78261,     0.78261,     0.78261,     0.78261,     0.78261,     0.78261,     0.78261,     0.78261,     0.78261,     0.78261,     0.78261,     0.78261,     0.78261,     0.78261,\n",
              "            0.78261,     0.78261,     0.78261,     0.78261,     0.78261,     0.78261,     0.78261,     0.78166,     0.78042,     0.78019,     0.78019,     0.78019,     0.78019,     0.78019,     0.77727,     0.77536,     0.77536,     0.77536,     0.77536,     0.77536,     0.77536,     0.77536,     0.77536,\n",
              "            0.77536,     0.77209,     0.77085,     0.76869,     0.76812,     0.76714,      0.7659,     0.76466,     0.76342,     0.76329,     0.76329,     0.76329,     0.76329,     0.76087,     0.76087,     0.76087,     0.76087,     0.76087,     0.76087,     0.76087,     0.76087,     0.75975,     0.75845,\n",
              "            0.75845,     0.75845,     0.75845,     0.75845,     0.75845,     0.75845,     0.75845,     0.75845,     0.75845,     0.75845,     0.75845,     0.75845,     0.75845,     0.75845,     0.75845,     0.75845,     0.75845,     0.75845,     0.75845,     0.75845,     0.75845,     0.75845,      0.7584,\n",
              "            0.75758,     0.75675,     0.75599,     0.75564,     0.75528,     0.75493,     0.75458,     0.75422,     0.75387,     0.75362,     0.75362,     0.75362,     0.75362,     0.75329,     0.75247,     0.75164,     0.75121,     0.75121,     0.75121,     0.75121,     0.75121,     0.75121,     0.75044,\n",
              "             0.7492,     0.74879,     0.74879,     0.74879,     0.74879,     0.74879,     0.74879,     0.74879,     0.74879,     0.74879,     0.74842,     0.74801,      0.7476,     0.74719,     0.74677,     0.74636,     0.74586,     0.74537,     0.74487,     0.74438,     0.74376,     0.74253,     0.74155,\n",
              "            0.74155,     0.74123,     0.73999,       0.739,     0.73859,     0.73818,     0.73777,     0.73735,     0.73694,     0.73671,     0.73671,      0.7363,     0.73548,     0.73465,      0.7343,      0.7343,      0.7343,      0.7343,      0.7343,      0.7343,      0.7343,     0.73384,     0.73322,\n",
              "             0.7326,     0.73198,     0.73188,     0.73188,     0.73188,     0.73188,     0.73188,     0.73188,     0.73188,     0.73188,     0.73143,      0.7306,     0.72978,     0.72947,     0.72947,     0.72947,     0.72774,     0.72687,     0.72663,     0.72638,     0.72613,     0.72588,     0.72564,\n",
              "            0.72539,     0.72514,     0.72489,     0.72465,     0.72344,     0.72219,     0.71981,     0.71981,     0.71981,     0.71981,     0.71929,     0.71847,     0.71764,     0.71739,     0.71498,     0.71498,     0.71498,     0.71498,     0.71498,     0.71498,     0.71498,     0.71498,     0.71391,\n",
              "            0.71256,     0.71217,     0.71134,     0.71052,     0.70878,     0.70773,     0.70624,     0.70531,     0.70531,     0.70465,     0.70366,     0.70232,     0.70048,     0.70048,     0.70048,     0.70048,     0.70048,     0.70048,     0.70048,     0.70048,     0.70048,     0.70048,     0.70046,\n",
              "            0.69923,     0.69799,     0.69675,     0.69554,     0.69455,     0.69356,     0.69157,     0.69082,     0.69082,     0.69082,     0.69082,     0.69082,     0.69082,     0.69082,     0.69082,     0.69082,      0.6904,      0.6894,     0.68841,     0.68841,     0.68839,     0.68794,     0.68749,\n",
              "            0.68704,     0.68659,     0.68614,     0.68532,     0.68433,     0.68357,     0.68357,     0.68337,     0.68267,     0.68196,     0.68125,     0.67874,     0.67874,     0.67542,     0.67443,     0.67273,      0.6715,      0.6715,      0.6715,      0.6715,     0.67143,     0.67088,     0.67033,\n",
              "            0.66978,     0.66923,     0.66872,     0.66823,     0.66773,     0.66724,     0.66674,     0.66667,     0.66667,     0.66667,     0.66667,     0.66622,     0.66523,     0.66425,     0.66421,     0.66322,     0.66223,     0.66035,     0.65545,     0.65298,     0.65217,     0.65202,     0.65132,\n",
              "            0.65061,      0.6499,     0.64976,     0.64976,     0.64976,     0.64938,     0.64839,      0.6474,     0.64337,     0.63721,     0.63621,      0.6352,     0.63355,     0.63285,     0.63255,     0.63206,     0.63156,     0.63107,     0.63057,     0.62999,     0.62937,     0.62875,     0.62813,\n",
              "            0.62802,     0.62592,     0.62054,     0.61992,      0.6193,     0.61868,     0.61836,     0.61836,     0.61836,     0.61803,     0.61451,     0.61326,      0.6128,     0.61235,      0.6119,     0.61145,     0.61111,     0.61079,     0.60955,     0.60848,     0.60777,     0.60706,     0.60635,\n",
              "            0.60584,     0.60534,     0.60485,     0.60435,     0.60386,     0.60341,     0.60296,     0.60251,     0.60206,     0.60161,     0.60037,     0.59885,     0.59786,     0.59687,     0.59619,     0.59453,     0.59223,     0.59179,     0.59179,     0.59179,     0.59179,     0.59146,     0.59111,\n",
              "            0.59075,      0.5904,     0.59005,     0.58969,     0.58926,     0.58802,     0.58431,     0.58266,     0.57729,     0.57708,     0.57609,      0.5751,     0.57246,     0.57169,     0.56838,     0.56486,     0.56387,     0.56288,     0.56052,     0.55961,     0.55878,     0.55788,     0.55424,\n",
              "            0.55314,     0.55314,     0.55314,     0.55314,     0.55314,     0.55314,     0.55287,     0.55164,     0.55072,     0.55072,     0.54918,     0.54627,     0.54505,     0.54406,     0.54348,      0.5424,     0.54086,     0.54041,     0.53996,     0.53951,     0.53906,     0.53819,     0.53623,\n",
              "            0.53623,     0.53623,     0.53576,     0.53275,     0.53114,     0.53079,     0.53044,     0.53008,     0.52973,     0.52938,     0.52902,     0.52454,     0.52066,     0.51932,     0.51692,     0.51568,     0.51427,     0.50949,     0.50226,     0.50061,     0.49741,     0.49617,      0.4947,\n",
              "            0.49249,     0.49125,     0.48903,     0.48512,     0.48463,     0.48413,     0.48364,     0.48314,     0.48087,     0.47772,     0.47648,     0.47263,     0.47091,     0.46355,     0.45885,     0.45761,     0.45594,     0.45348,     0.45249,     0.45137,     0.44972,     0.44747,     0.44258,\n",
              "            0.43478,     0.43399,       0.433,     0.43147,     0.42562,     0.42438,     0.42355,     0.42273,     0.42271,     0.40575,     0.40316,     0.40005,     0.39832,     0.39555,     0.39358,     0.39259,      0.3916,     0.39014,     0.38829,     0.38582,     0.38021,     0.37681,     0.37384,\n",
              "            0.37219,     0.36981,     0.36613,     0.36365,     0.36004,      0.3587,     0.35502,     0.34783,     0.34771,     0.34606,     0.34028,     0.33781,     0.33554,      0.3343,     0.33226,     0.32911,     0.32422,     0.31982,     0.31685,     0.31159,     0.31159,     0.30701,     0.30091,\n",
              "            0.29397,     0.29231,     0.28986,      0.2825,     0.27404,     0.26777,     0.25557,      0.2485,     0.24382,     0.24283,     0.24184,     0.23738,     0.23068,     0.22921,     0.22821,     0.22722,     0.21813,     0.21287,      0.2087,     0.20086,     0.19896,     0.19578,     0.17634,\n",
              "            0.17066,     0.16643,     0.15924,     0.15653,     0.14675,     0.14336,     0.13201,     0.12931,     0.12453,     0.12138,     0.11649,     0.10967,     0.10671,     0.09252,    0.085153,    0.072955,     0.07172,    0.070895,     0.07007,    0.065221,    0.057857,    0.053062,    0.051411,\n",
              "           0.049761,    0.048011,    0.045176,    0.039978,    0.035272,     0.02603,    0.021138,    0.018001,    0.011356,   0.0092707,   0.0080328,   0.0066443,   0.0049937,   0.0025992,           0,           0,           0,           0,           0,           0,           0,           0,           0,\n",
              "                  0,           0,           0,           0,           0,           0,           0,           0,           0,           0,           0,           0,           0,           0,           0,           0,           0,           0,           0,           0,           0,           0,           0,\n",
              "                  0,           0,           0,           0,           0,           0,           0,           0,           0,           0,           0]]), 'Confidence', 'Recall']]\n",
              "fitness: np.float64(0.6360686743422008)\n",
              "keys: ['metrics/precision(B)', 'metrics/recall(B)', 'metrics/mAP50(B)', 'metrics/mAP50-95(B)']\n",
              "maps: array([    0.61318])\n",
              "names: {0: 'Mangrove_Trunk'}\n",
              "plot: True\n",
              "results_dict: {'metrics/precision(B)': np.float64(0.834246195881416), 'metrics/recall(B)': np.float64(0.748792270531401), 'metrics/mAP50(B)': np.float64(0.8420725117841392), 'metrics/mAP50-95(B)': np.float64(0.6131793590708744), 'fitness': np.float64(0.6360686743422008)}\n",
              "save_dir: PosixPath('runs/detect/train3')\n",
              "speed: {'preprocess': 0.13381799138203168, 'inference': 1.592225612065359, 'loss': 0.21564768965633666, 'postprocess': 2.280679181040043}\n",
              "task: 'detect'"
            ]
          },
          "metadata": {},
          "execution_count": 6
        }
      ]
    },
    {
      "cell_type": "code",
      "source": [
        "# Predict on new images\n",
        "results = yolov5_model.predict(source='/content/drive/MyDrive/FYP/Mangrove Detection.v6i.yolov8/test/images', save=True, imgsz=640)\n",
        "\n",
        "trunk_count=0\n",
        "\n",
        "# Visualize predictions\n",
        "for result in results:\n",
        "  trunk_count = len(result.boxes.cls)\n",
        "  print(f\"Number of trunks detected: {trunk_count}\")\n",
        "  result.show()"
      ],
      "metadata": {
        "id": "fOP-nGRFhYtB"
      },
      "execution_count": null,
      "outputs": []
    },
    {
      "cell_type": "code",
      "source": [
        "# Save the trained model\n",
        "yolov5_model.save('/content/drive/MyDrive/FYP/YOLO Models/yolov5_model.pt')"
      ],
      "metadata": {
        "id": "DKCAuW1RoDWB"
      },
      "execution_count": null,
      "outputs": []
    },
    {
      "cell_type": "markdown",
      "source": [
        "# **YOLOv8s**"
      ],
      "metadata": {
        "id": "-M8GUTKXFJo0"
      }
    },
    {
      "cell_type": "code",
      "source": [
        "#Load model\n",
        "yolov8s_model = YOLO('yolov8s.pt')\n",
        "\n",
        "#Train model\n",
        "yolov8s_model.train(\n",
        "    data='/content/drive/MyDrive/FYP/Mangrove Detection.v6i.yolov8/data.yaml',\n",
        "    epochs=70,\n",
        "    batch=16,\n",
        "    imgsz=640\n",
        ")"
      ],
      "metadata": {
        "id": "3r0ZiSLnKe4e",
        "colab": {
          "base_uri": "https://localhost:8080/"
        },
        "outputId": "c6f9a8b3-8b27-4679-958e-04bdf5ee4714"
      },
      "execution_count": null,
      "outputs": [
        {
          "output_type": "stream",
          "name": "stdout",
          "text": [
            "Downloading https://github.com/ultralytics/assets/releases/download/v8.3.0/yolov8s.pt to 'yolov8s.pt'...\n"
          ]
        },
        {
          "output_type": "stream",
          "name": "stderr",
          "text": [
            "100%|██████████| 21.5M/21.5M [00:00<00:00, 39.2MB/s]\n"
          ]
        },
        {
          "output_type": "stream",
          "name": "stdout",
          "text": [
            "Ultralytics 8.3.103 🚀 Python-3.11.11 torch-2.6.0+cu124 CUDA:0 (NVIDIA L4, 22693MiB)\n",
            "\u001b[34m\u001b[1mengine/trainer: \u001b[0mtask=detect, mode=train, model=yolov8s.pt, data=/content/drive/MyDrive/FYP/Mangrove Detection.v6i.yolov8/data.yaml, epochs=70, time=None, patience=100, batch=16, imgsz=640, save=True, save_period=-1, cache=False, device=None, workers=8, project=None, name=train, exist_ok=False, pretrained=True, optimizer=auto, verbose=True, seed=0, deterministic=True, single_cls=False, rect=False, cos_lr=False, close_mosaic=10, resume=False, amp=True, fraction=1.0, profile=False, freeze=None, multi_scale=False, overlap_mask=True, mask_ratio=4, dropout=0.0, val=True, split=val, save_json=False, save_hybrid=False, conf=None, iou=0.7, max_det=300, half=False, dnn=False, plots=True, source=None, vid_stride=1, stream_buffer=False, visualize=False, augment=False, agnostic_nms=False, classes=None, retina_masks=False, embed=None, show=False, save_frames=False, save_txt=False, save_conf=False, save_crop=False, show_labels=True, show_conf=True, show_boxes=True, line_width=None, format=torchscript, keras=False, optimize=False, int8=False, dynamic=False, simplify=True, opset=None, workspace=None, nms=False, lr0=0.01, lrf=0.01, momentum=0.937, weight_decay=0.0005, warmup_epochs=3.0, warmup_momentum=0.8, warmup_bias_lr=0.1, box=7.5, cls=0.5, dfl=1.5, pose=12.0, kobj=1.0, nbs=64, hsv_h=0.015, hsv_s=0.7, hsv_v=0.4, degrees=0.0, translate=0.1, scale=0.5, shear=0.0, perspective=0.0, flipud=0.0, fliplr=0.5, bgr=0.0, mosaic=1.0, mixup=0.0, copy_paste=0.0, copy_paste_mode=flip, auto_augment=randaugment, erasing=0.4, crop_fraction=1.0, cfg=None, tracker=botsort.yaml, save_dir=runs/detect/train\n",
            "Downloading https://ultralytics.com/assets/Arial.ttf to '/root/.config/Ultralytics/Arial.ttf'...\n"
          ]
        },
        {
          "output_type": "stream",
          "name": "stderr",
          "text": [
            "100%|██████████| 755k/755k [00:00<00:00, 140MB/s]\n"
          ]
        },
        {
          "output_type": "stream",
          "name": "stdout",
          "text": [
            "Overriding model.yaml nc=80 with nc=1\n",
            "\n",
            "                   from  n    params  module                                       arguments                     \n",
            "  0                  -1  1       928  ultralytics.nn.modules.conv.Conv             [3, 32, 3, 2]                 \n",
            "  1                  -1  1     18560  ultralytics.nn.modules.conv.Conv             [32, 64, 3, 2]                \n",
            "  2                  -1  1     29056  ultralytics.nn.modules.block.C2f             [64, 64, 1, True]             \n",
            "  3                  -1  1     73984  ultralytics.nn.modules.conv.Conv             [64, 128, 3, 2]               \n",
            "  4                  -1  2    197632  ultralytics.nn.modules.block.C2f             [128, 128, 2, True]           \n",
            "  5                  -1  1    295424  ultralytics.nn.modules.conv.Conv             [128, 256, 3, 2]              \n",
            "  6                  -1  2    788480  ultralytics.nn.modules.block.C2f             [256, 256, 2, True]           \n",
            "  7                  -1  1   1180672  ultralytics.nn.modules.conv.Conv             [256, 512, 3, 2]              \n",
            "  8                  -1  1   1838080  ultralytics.nn.modules.block.C2f             [512, 512, 1, True]           \n",
            "  9                  -1  1    656896  ultralytics.nn.modules.block.SPPF            [512, 512, 5]                 \n",
            " 10                  -1  1         0  torch.nn.modules.upsampling.Upsample         [None, 2, 'nearest']          \n",
            " 11             [-1, 6]  1         0  ultralytics.nn.modules.conv.Concat           [1]                           \n",
            " 12                  -1  1    591360  ultralytics.nn.modules.block.C2f             [768, 256, 1]                 \n",
            " 13                  -1  1         0  torch.nn.modules.upsampling.Upsample         [None, 2, 'nearest']          \n",
            " 14             [-1, 4]  1         0  ultralytics.nn.modules.conv.Concat           [1]                           \n",
            " 15                  -1  1    148224  ultralytics.nn.modules.block.C2f             [384, 128, 1]                 \n",
            " 16                  -1  1    147712  ultralytics.nn.modules.conv.Conv             [128, 128, 3, 2]              \n",
            " 17            [-1, 12]  1         0  ultralytics.nn.modules.conv.Concat           [1]                           \n",
            " 18                  -1  1    493056  ultralytics.nn.modules.block.C2f             [384, 256, 1]                 \n",
            " 19                  -1  1    590336  ultralytics.nn.modules.conv.Conv             [256, 256, 3, 2]              \n",
            " 20             [-1, 9]  1         0  ultralytics.nn.modules.conv.Concat           [1]                           \n",
            " 21                  -1  1   1969152  ultralytics.nn.modules.block.C2f             [768, 512, 1]                 \n",
            " 22        [15, 18, 21]  1   2116435  ultralytics.nn.modules.head.Detect           [1, [128, 256, 512]]          \n",
            "Model summary: 129 layers, 11,135,987 parameters, 11,135,971 gradients, 28.6 GFLOPs\n",
            "\n",
            "Transferred 349/355 items from pretrained weights\n",
            "\u001b[34m\u001b[1mTensorBoard: \u001b[0mStart with 'tensorboard --logdir runs/detect/train', view at http://localhost:6006/\n",
            "Freezing layer 'model.22.dfl.conv.weight'\n",
            "\u001b[34m\u001b[1mAMP: \u001b[0mrunning Automatic Mixed Precision (AMP) checks...\n",
            "Downloading https://github.com/ultralytics/assets/releases/download/v8.3.0/yolo11n.pt to 'yolo11n.pt'...\n"
          ]
        },
        {
          "output_type": "stream",
          "name": "stderr",
          "text": [
            "100%|██████████| 5.35M/5.35M [00:00<00:00, 358MB/s]\n"
          ]
        },
        {
          "output_type": "stream",
          "name": "stdout",
          "text": [
            "\u001b[34m\u001b[1mAMP: \u001b[0mchecks passed ✅\n"
          ]
        },
        {
          "output_type": "stream",
          "name": "stderr",
          "text": [
            "\u001b[34m\u001b[1mtrain: \u001b[0mScanning /content/drive/MyDrive/FYP/Mangrove Detection.v6i.yolov8/train/labels.cache... 432 images, 1 backgrounds, 0 corrupt: 100%|██████████| 432/432 [00:00<?, ?it/s]\n"
          ]
        },
        {
          "output_type": "stream",
          "name": "stdout",
          "text": [
            "\u001b[34m\u001b[1malbumentations: \u001b[0mBlur(p=0.01, blur_limit=(3, 7)), MedianBlur(p=0.01, blur_limit=(3, 7)), ToGray(p=0.01, num_output_channels=3, method='weighted_average'), CLAHE(p=0.01, clip_limit=(1.0, 4.0), tile_grid_size=(8, 8))\n"
          ]
        },
        {
          "output_type": "stream",
          "name": "stderr",
          "text": [
            "\u001b[34m\u001b[1mval: \u001b[0mScanning /content/drive/MyDrive/FYP/Mangrove Detection.v6i.yolov8/valid/labels.cache... 116 images, 0 backgrounds, 0 corrupt: 100%|██████████| 116/116 [00:00<?, ?it/s]\n"
          ]
        },
        {
          "output_type": "stream",
          "name": "stdout",
          "text": [
            "Plotting labels to runs/detect/train/labels.jpg... \n",
            "\u001b[34m\u001b[1moptimizer:\u001b[0m 'optimizer=auto' found, ignoring 'lr0=0.01' and 'momentum=0.937' and determining best 'optimizer', 'lr0' and 'momentum' automatically... \n",
            "\u001b[34m\u001b[1moptimizer:\u001b[0m AdamW(lr=0.002, momentum=0.9) with parameter groups 57 weight(decay=0.0), 64 weight(decay=0.0005), 63 bias(decay=0.0)\n",
            "\u001b[34m\u001b[1mTensorBoard: \u001b[0mmodel graph visualization added ✅\n",
            "Image sizes 640 train, 640 val\n",
            "Using 8 dataloader workers\n",
            "Logging results to \u001b[1mruns/detect/train\u001b[0m\n",
            "Starting training for 70 epochs...\n",
            "\n",
            "      Epoch    GPU_mem   box_loss   cls_loss   dfl_loss  Instances       Size\n"
          ]
        },
        {
          "output_type": "stream",
          "name": "stderr",
          "text": [
            "       1/70      3.74G      1.303      1.894      1.431        102        640: 100%|██████████| 27/27 [00:29<00:00,  1.08s/it]\n",
            "                 Class     Images  Instances      Box(P          R      mAP50  mAP50-95): 100%|██████████| 4/4 [00:11<00:00,  2.96s/it]"
          ]
        },
        {
          "output_type": "stream",
          "name": "stdout",
          "text": [
            "                   all        116        414      0.587      0.572      0.551      0.308\n"
          ]
        },
        {
          "output_type": "stream",
          "name": "stderr",
          "text": [
            "\n"
          ]
        },
        {
          "output_type": "stream",
          "name": "stdout",
          "text": [
            "\n",
            "      Epoch    GPU_mem   box_loss   cls_loss   dfl_loss  Instances       Size\n"
          ]
        },
        {
          "output_type": "stream",
          "name": "stderr",
          "text": [
            "       2/70      4.11G      1.161      1.258      1.285        120        640: 100%|██████████| 27/27 [00:08<00:00,  3.18it/s]\n",
            "                 Class     Images  Instances      Box(P          R      mAP50  mAP50-95): 100%|██████████| 4/4 [00:00<00:00,  4.86it/s]"
          ]
        },
        {
          "output_type": "stream",
          "name": "stdout",
          "text": [
            "                   all        116        414      0.433       0.51       0.36      0.176\n"
          ]
        },
        {
          "output_type": "stream",
          "name": "stderr",
          "text": [
            "\n"
          ]
        },
        {
          "output_type": "stream",
          "name": "stdout",
          "text": [
            "\n",
            "      Epoch    GPU_mem   box_loss   cls_loss   dfl_loss  Instances       Size\n"
          ]
        },
        {
          "output_type": "stream",
          "name": "stderr",
          "text": [
            "       3/70      4.11G      1.227      1.237       1.33        131        640: 100%|██████████| 27/27 [00:08<00:00,  3.09it/s]\n",
            "                 Class     Images  Instances      Box(P          R      mAP50  mAP50-95): 100%|██████████| 4/4 [00:00<00:00,  4.77it/s]"
          ]
        },
        {
          "output_type": "stream",
          "name": "stdout",
          "text": [
            "                   all        116        414      0.396      0.457      0.342      0.141\n"
          ]
        },
        {
          "output_type": "stream",
          "name": "stderr",
          "text": [
            "\n"
          ]
        },
        {
          "output_type": "stream",
          "name": "stdout",
          "text": [
            "\n",
            "      Epoch    GPU_mem   box_loss   cls_loss   dfl_loss  Instances       Size\n"
          ]
        },
        {
          "output_type": "stream",
          "name": "stderr",
          "text": [
            "       4/70      4.11G      1.297       1.25      1.361        106        640: 100%|██████████| 27/27 [00:08<00:00,  3.26it/s]\n",
            "                 Class     Images  Instances      Box(P          R      mAP50  mAP50-95): 100%|██████████| 4/4 [00:00<00:00,  5.21it/s]"
          ]
        },
        {
          "output_type": "stream",
          "name": "stdout",
          "text": [
            "                   all        116        414      0.353      0.481      0.324      0.135\n"
          ]
        },
        {
          "output_type": "stream",
          "name": "stderr",
          "text": [
            "\n"
          ]
        },
        {
          "output_type": "stream",
          "name": "stdout",
          "text": [
            "\n",
            "      Epoch    GPU_mem   box_loss   cls_loss   dfl_loss  Instances       Size\n"
          ]
        },
        {
          "output_type": "stream",
          "name": "stderr",
          "text": [
            "       5/70      4.11G      1.267      1.242      1.333        141        640: 100%|██████████| 27/27 [00:08<00:00,  3.30it/s]\n",
            "                 Class     Images  Instances      Box(P          R      mAP50  mAP50-95): 100%|██████████| 4/4 [00:00<00:00,  5.06it/s]"
          ]
        },
        {
          "output_type": "stream",
          "name": "stdout",
          "text": [
            "                   all        116        414      0.111      0.435      0.083     0.0398\n"
          ]
        },
        {
          "output_type": "stream",
          "name": "stderr",
          "text": [
            "\n"
          ]
        },
        {
          "output_type": "stream",
          "name": "stdout",
          "text": [
            "\n",
            "      Epoch    GPU_mem   box_loss   cls_loss   dfl_loss  Instances       Size\n"
          ]
        },
        {
          "output_type": "stream",
          "name": "stderr",
          "text": [
            "       6/70      4.11G      1.212      1.143      1.321        114        640: 100%|██████████| 27/27 [00:08<00:00,  3.09it/s]\n",
            "                 Class     Images  Instances      Box(P          R      mAP50  mAP50-95): 100%|██████████| 4/4 [00:00<00:00,  5.00it/s]"
          ]
        },
        {
          "output_type": "stream",
          "name": "stdout",
          "text": [
            "                   all        116        414      0.403      0.401      0.359      0.167\n"
          ]
        },
        {
          "output_type": "stream",
          "name": "stderr",
          "text": [
            "\n"
          ]
        },
        {
          "output_type": "stream",
          "name": "stdout",
          "text": [
            "\n",
            "      Epoch    GPU_mem   box_loss   cls_loss   dfl_loss  Instances       Size\n"
          ]
        },
        {
          "output_type": "stream",
          "name": "stderr",
          "text": [
            "       7/70      4.11G      1.222      1.137      1.327        102        640: 100%|██████████| 27/27 [00:07<00:00,  3.56it/s]\n",
            "                 Class     Images  Instances      Box(P          R      mAP50  mAP50-95): 100%|██████████| 4/4 [00:00<00:00,  4.81it/s]"
          ]
        },
        {
          "output_type": "stream",
          "name": "stdout",
          "text": [
            "                   all        116        414      0.579      0.589      0.589       0.34\n"
          ]
        },
        {
          "output_type": "stream",
          "name": "stderr",
          "text": [
            "\n"
          ]
        },
        {
          "output_type": "stream",
          "name": "stdout",
          "text": [
            "\n",
            "      Epoch    GPU_mem   box_loss   cls_loss   dfl_loss  Instances       Size\n"
          ]
        },
        {
          "output_type": "stream",
          "name": "stderr",
          "text": [
            "       8/70      4.14G       1.22      1.148       1.33         96        640: 100%|██████████| 27/27 [00:08<00:00,  3.31it/s]\n",
            "                 Class     Images  Instances      Box(P          R      mAP50  mAP50-95): 100%|██████████| 4/4 [00:00<00:00,  5.49it/s]"
          ]
        },
        {
          "output_type": "stream",
          "name": "stdout",
          "text": [
            "                   all        116        414      0.766      0.576      0.687      0.424\n"
          ]
        },
        {
          "output_type": "stream",
          "name": "stderr",
          "text": [
            "\n"
          ]
        },
        {
          "output_type": "stream",
          "name": "stdout",
          "text": [
            "\n",
            "      Epoch    GPU_mem   box_loss   cls_loss   dfl_loss  Instances       Size\n"
          ]
        },
        {
          "output_type": "stream",
          "name": "stderr",
          "text": [
            "       9/70      4.18G      1.165      1.115      1.299        104        640: 100%|██████████| 27/27 [00:07<00:00,  3.73it/s]\n",
            "                 Class     Images  Instances      Box(P          R      mAP50  mAP50-95): 100%|██████████| 4/4 [00:00<00:00,  5.01it/s]"
          ]
        },
        {
          "output_type": "stream",
          "name": "stdout",
          "text": [
            "                   all        116        414      0.626      0.502      0.564      0.351\n"
          ]
        },
        {
          "output_type": "stream",
          "name": "stderr",
          "text": [
            "\n"
          ]
        },
        {
          "output_type": "stream",
          "name": "stdout",
          "text": [
            "\n",
            "      Epoch    GPU_mem   box_loss   cls_loss   dfl_loss  Instances       Size\n"
          ]
        },
        {
          "output_type": "stream",
          "name": "stderr",
          "text": [
            "      10/70      4.21G      1.174      1.138      1.298        109        640: 100%|██████████| 27/27 [00:08<00:00,  3.32it/s]\n",
            "                 Class     Images  Instances      Box(P          R      mAP50  mAP50-95): 100%|██████████| 4/4 [00:00<00:00,  4.86it/s]"
          ]
        },
        {
          "output_type": "stream",
          "name": "stdout",
          "text": [
            "                   all        116        414      0.567      0.582      0.593      0.356\n"
          ]
        },
        {
          "output_type": "stream",
          "name": "stderr",
          "text": [
            "\n"
          ]
        },
        {
          "output_type": "stream",
          "name": "stdout",
          "text": [
            "\n",
            "      Epoch    GPU_mem   box_loss   cls_loss   dfl_loss  Instances       Size\n"
          ]
        },
        {
          "output_type": "stream",
          "name": "stderr",
          "text": [
            "      11/70      4.21G      1.104      1.049      1.257        123        640: 100%|██████████| 27/27 [00:07<00:00,  3.60it/s]\n",
            "                 Class     Images  Instances      Box(P          R      mAP50  mAP50-95): 100%|██████████| 4/4 [00:00<00:00,  5.08it/s]"
          ]
        },
        {
          "output_type": "stream",
          "name": "stdout",
          "text": [
            "                   all        116        414      0.716      0.696      0.734      0.452\n"
          ]
        },
        {
          "output_type": "stream",
          "name": "stderr",
          "text": [
            "\n"
          ]
        },
        {
          "output_type": "stream",
          "name": "stdout",
          "text": [
            "\n",
            "      Epoch    GPU_mem   box_loss   cls_loss   dfl_loss  Instances       Size\n"
          ]
        },
        {
          "output_type": "stream",
          "name": "stderr",
          "text": [
            "      12/70      4.21G      1.097      1.018      1.263        120        640: 100%|██████████| 27/27 [00:07<00:00,  3.71it/s]\n",
            "                 Class     Images  Instances      Box(P          R      mAP50  mAP50-95): 100%|██████████| 4/4 [00:00<00:00,  5.01it/s]"
          ]
        },
        {
          "output_type": "stream",
          "name": "stdout",
          "text": [
            "                   all        116        414      0.736      0.662      0.736      0.466\n"
          ]
        },
        {
          "output_type": "stream",
          "name": "stderr",
          "text": [
            "\n"
          ]
        },
        {
          "output_type": "stream",
          "name": "stdout",
          "text": [
            "\n",
            "      Epoch    GPU_mem   box_loss   cls_loss   dfl_loss  Instances       Size\n"
          ]
        },
        {
          "output_type": "stream",
          "name": "stderr",
          "text": [
            "      13/70      4.21G      1.104      1.024      1.257        105        640: 100%|██████████| 27/27 [00:07<00:00,  3.81it/s]\n",
            "                 Class     Images  Instances      Box(P          R      mAP50  mAP50-95): 100%|██████████| 4/4 [00:00<00:00,  4.78it/s]"
          ]
        },
        {
          "output_type": "stream",
          "name": "stdout",
          "text": [
            "                   all        116        414      0.733      0.623      0.692      0.449\n"
          ]
        },
        {
          "output_type": "stream",
          "name": "stderr",
          "text": [
            "\n"
          ]
        },
        {
          "output_type": "stream",
          "name": "stdout",
          "text": [
            "\n",
            "      Epoch    GPU_mem   box_loss   cls_loss   dfl_loss  Instances       Size\n"
          ]
        },
        {
          "output_type": "stream",
          "name": "stderr",
          "text": [
            "      14/70      4.21G      1.095      1.038      1.257        122        640: 100%|██████████| 27/27 [00:07<00:00,  3.51it/s]\n",
            "                 Class     Images  Instances      Box(P          R      mAP50  mAP50-95): 100%|██████████| 4/4 [00:00<00:00,  4.93it/s]"
          ]
        },
        {
          "output_type": "stream",
          "name": "stdout",
          "text": [
            "                   all        116        414      0.693      0.589      0.646      0.395\n"
          ]
        },
        {
          "output_type": "stream",
          "name": "stderr",
          "text": [
            "\n"
          ]
        },
        {
          "output_type": "stream",
          "name": "stdout",
          "text": [
            "\n",
            "      Epoch    GPU_mem   box_loss   cls_loss   dfl_loss  Instances       Size\n"
          ]
        },
        {
          "output_type": "stream",
          "name": "stderr",
          "text": [
            "      15/70      4.21G      1.063     0.9986       1.24         93        640: 100%|██████████| 27/27 [00:08<00:00,  3.25it/s]\n",
            "                 Class     Images  Instances      Box(P          R      mAP50  mAP50-95): 100%|██████████| 4/4 [00:00<00:00,  4.94it/s]"
          ]
        },
        {
          "output_type": "stream",
          "name": "stdout",
          "text": [
            "                   all        116        414        0.7      0.676      0.726      0.476\n"
          ]
        },
        {
          "output_type": "stream",
          "name": "stderr",
          "text": [
            "\n"
          ]
        },
        {
          "output_type": "stream",
          "name": "stdout",
          "text": [
            "\n",
            "      Epoch    GPU_mem   box_loss   cls_loss   dfl_loss  Instances       Size\n"
          ]
        },
        {
          "output_type": "stream",
          "name": "stderr",
          "text": [
            "      16/70      4.21G      1.056     0.9574      1.227        135        640: 100%|██████████| 27/27 [00:07<00:00,  3.55it/s]\n",
            "                 Class     Images  Instances      Box(P          R      mAP50  mAP50-95): 100%|██████████| 4/4 [00:00<00:00,  5.09it/s]"
          ]
        },
        {
          "output_type": "stream",
          "name": "stdout",
          "text": [
            "                   all        116        414      0.719      0.662      0.717      0.476\n"
          ]
        },
        {
          "output_type": "stream",
          "name": "stderr",
          "text": [
            "\n"
          ]
        },
        {
          "output_type": "stream",
          "name": "stdout",
          "text": [
            "\n",
            "      Epoch    GPU_mem   box_loss   cls_loss   dfl_loss  Instances       Size\n"
          ]
        },
        {
          "output_type": "stream",
          "name": "stderr",
          "text": [
            "      17/70      4.21G      1.054     0.9621      1.231        119        640: 100%|██████████| 27/27 [00:08<00:00,  3.25it/s]\n",
            "                 Class     Images  Instances      Box(P          R      mAP50  mAP50-95): 100%|██████████| 4/4 [00:00<00:00,  4.89it/s]"
          ]
        },
        {
          "output_type": "stream",
          "name": "stdout",
          "text": [
            "                   all        116        414      0.786      0.717      0.783      0.536\n"
          ]
        },
        {
          "output_type": "stream",
          "name": "stderr",
          "text": [
            "\n"
          ]
        },
        {
          "output_type": "stream",
          "name": "stdout",
          "text": [
            "\n",
            "      Epoch    GPU_mem   box_loss   cls_loss   dfl_loss  Instances       Size\n"
          ]
        },
        {
          "output_type": "stream",
          "name": "stderr",
          "text": [
            "      18/70      4.21G      1.031     0.9178      1.211         93        640: 100%|██████████| 27/27 [00:07<00:00,  3.81it/s]\n",
            "                 Class     Images  Instances      Box(P          R      mAP50  mAP50-95): 100%|██████████| 4/4 [00:00<00:00,  5.00it/s]"
          ]
        },
        {
          "output_type": "stream",
          "name": "stdout",
          "text": [
            "                   all        116        414      0.698      0.667      0.706      0.453\n"
          ]
        },
        {
          "output_type": "stream",
          "name": "stderr",
          "text": [
            "\n"
          ]
        },
        {
          "output_type": "stream",
          "name": "stdout",
          "text": [
            "\n",
            "      Epoch    GPU_mem   box_loss   cls_loss   dfl_loss  Instances       Size\n"
          ]
        },
        {
          "output_type": "stream",
          "name": "stderr",
          "text": [
            "      19/70      4.21G      1.044     0.9547      1.237        109        640: 100%|██████████| 27/27 [00:08<00:00,  3.21it/s]\n",
            "                 Class     Images  Instances      Box(P          R      mAP50  mAP50-95): 100%|██████████| 4/4 [00:00<00:00,  5.23it/s]"
          ]
        },
        {
          "output_type": "stream",
          "name": "stdout",
          "text": [
            "                   all        116        414      0.798       0.63      0.761      0.519\n"
          ]
        },
        {
          "output_type": "stream",
          "name": "stderr",
          "text": [
            "\n"
          ]
        },
        {
          "output_type": "stream",
          "name": "stdout",
          "text": [
            "\n",
            "      Epoch    GPU_mem   box_loss   cls_loss   dfl_loss  Instances       Size\n"
          ]
        },
        {
          "output_type": "stream",
          "name": "stderr",
          "text": [
            "      20/70      4.21G      1.016     0.9344      1.218        112        640: 100%|██████████| 27/27 [00:07<00:00,  3.75it/s]\n",
            "                 Class     Images  Instances      Box(P          R      mAP50  mAP50-95): 100%|██████████| 4/4 [00:00<00:00,  5.03it/s]"
          ]
        },
        {
          "output_type": "stream",
          "name": "stdout",
          "text": [
            "                   all        116        414      0.803      0.701      0.773      0.503\n"
          ]
        },
        {
          "output_type": "stream",
          "name": "stderr",
          "text": [
            "\n"
          ]
        },
        {
          "output_type": "stream",
          "name": "stdout",
          "text": [
            "\n",
            "      Epoch    GPU_mem   box_loss   cls_loss   dfl_loss  Instances       Size\n"
          ]
        },
        {
          "output_type": "stream",
          "name": "stderr",
          "text": [
            "      21/70      4.21G      1.006     0.9155      1.207        117        640: 100%|██████████| 27/27 [00:07<00:00,  3.48it/s]\n",
            "                 Class     Images  Instances      Box(P          R      mAP50  mAP50-95): 100%|██████████| 4/4 [00:00<00:00,  5.09it/s]"
          ]
        },
        {
          "output_type": "stream",
          "name": "stdout",
          "text": [
            "                   all        116        414      0.714      0.716      0.756      0.496\n"
          ]
        },
        {
          "output_type": "stream",
          "name": "stderr",
          "text": [
            "\n"
          ]
        },
        {
          "output_type": "stream",
          "name": "stdout",
          "text": [
            "\n",
            "      Epoch    GPU_mem   box_loss   cls_loss   dfl_loss  Instances       Size\n"
          ]
        },
        {
          "output_type": "stream",
          "name": "stderr",
          "text": [
            "      22/70      4.21G      1.006      0.889      1.206        140        640: 100%|██████████| 27/27 [00:07<00:00,  3.78it/s]\n",
            "                 Class     Images  Instances      Box(P          R      mAP50  mAP50-95): 100%|██████████| 4/4 [00:00<00:00,  4.88it/s]"
          ]
        },
        {
          "output_type": "stream",
          "name": "stdout",
          "text": [
            "                   all        116        414      0.752      0.734      0.777      0.514\n"
          ]
        },
        {
          "output_type": "stream",
          "name": "stderr",
          "text": [
            "\n"
          ]
        },
        {
          "output_type": "stream",
          "name": "stdout",
          "text": [
            "\n",
            "      Epoch    GPU_mem   box_loss   cls_loss   dfl_loss  Instances       Size\n"
          ]
        },
        {
          "output_type": "stream",
          "name": "stderr",
          "text": [
            "      23/70      4.21G     0.9666     0.8748      1.184        133        640: 100%|██████████| 27/27 [00:08<00:00,  3.25it/s]\n",
            "                 Class     Images  Instances      Box(P          R      mAP50  mAP50-95): 100%|██████████| 4/4 [00:00<00:00,  4.88it/s]"
          ]
        },
        {
          "output_type": "stream",
          "name": "stdout",
          "text": [
            "                   all        116        414      0.743      0.742      0.788       0.53\n"
          ]
        },
        {
          "output_type": "stream",
          "name": "stderr",
          "text": [
            "\n"
          ]
        },
        {
          "output_type": "stream",
          "name": "stdout",
          "text": [
            "\n",
            "      Epoch    GPU_mem   box_loss   cls_loss   dfl_loss  Instances       Size\n"
          ]
        },
        {
          "output_type": "stream",
          "name": "stderr",
          "text": [
            "      24/70      4.21G     0.9897     0.8848      1.192        128        640: 100%|██████████| 27/27 [00:06<00:00,  3.94it/s]\n",
            "                 Class     Images  Instances      Box(P          R      mAP50  mAP50-95): 100%|██████████| 4/4 [00:00<00:00,  5.09it/s]"
          ]
        },
        {
          "output_type": "stream",
          "name": "stdout",
          "text": [
            "                   all        116        414      0.721      0.676      0.719      0.486\n"
          ]
        },
        {
          "output_type": "stream",
          "name": "stderr",
          "text": [
            "\n"
          ]
        },
        {
          "output_type": "stream",
          "name": "stdout",
          "text": [
            "\n",
            "      Epoch    GPU_mem   box_loss   cls_loss   dfl_loss  Instances       Size\n"
          ]
        },
        {
          "output_type": "stream",
          "name": "stderr",
          "text": [
            "      25/70      4.21G     0.9496      0.846      1.166        111        640: 100%|██████████| 27/27 [00:08<00:00,  3.34it/s]\n",
            "                 Class     Images  Instances      Box(P          R      mAP50  mAP50-95): 100%|██████████| 4/4 [00:00<00:00,  4.99it/s]"
          ]
        },
        {
          "output_type": "stream",
          "name": "stdout",
          "text": [
            "                   all        116        414      0.774       0.73      0.783      0.526\n"
          ]
        },
        {
          "output_type": "stream",
          "name": "stderr",
          "text": [
            "\n"
          ]
        },
        {
          "output_type": "stream",
          "name": "stdout",
          "text": [
            "\n",
            "      Epoch    GPU_mem   box_loss   cls_loss   dfl_loss  Instances       Size\n"
          ]
        },
        {
          "output_type": "stream",
          "name": "stderr",
          "text": [
            "      26/70      4.21G     0.9739      0.879      1.185        115        640: 100%|██████████| 27/27 [00:08<00:00,  3.36it/s]\n",
            "                 Class     Images  Instances      Box(P          R      mAP50  mAP50-95): 100%|██████████| 4/4 [00:00<00:00,  4.84it/s]"
          ]
        },
        {
          "output_type": "stream",
          "name": "stdout",
          "text": [
            "                   all        116        414      0.775      0.706       0.77      0.507\n"
          ]
        },
        {
          "output_type": "stream",
          "name": "stderr",
          "text": [
            "\n"
          ]
        },
        {
          "output_type": "stream",
          "name": "stdout",
          "text": [
            "\n",
            "      Epoch    GPU_mem   box_loss   cls_loss   dfl_loss  Instances       Size\n"
          ]
        },
        {
          "output_type": "stream",
          "name": "stderr",
          "text": [
            "      27/70      4.21G     0.9615     0.8373      1.177        117        640: 100%|██████████| 27/27 [00:07<00:00,  3.53it/s]\n",
            "                 Class     Images  Instances      Box(P          R      mAP50  mAP50-95): 100%|██████████| 4/4 [00:00<00:00,  5.21it/s]"
          ]
        },
        {
          "output_type": "stream",
          "name": "stdout",
          "text": [
            "                   all        116        414      0.782      0.685      0.784      0.516\n"
          ]
        },
        {
          "output_type": "stream",
          "name": "stderr",
          "text": [
            "\n"
          ]
        },
        {
          "output_type": "stream",
          "name": "stdout",
          "text": [
            "\n",
            "      Epoch    GPU_mem   box_loss   cls_loss   dfl_loss  Instances       Size\n"
          ]
        },
        {
          "output_type": "stream",
          "name": "stderr",
          "text": [
            "      28/70      4.21G     0.9246     0.8303      1.168        112        640: 100%|██████████| 27/27 [00:07<00:00,  3.38it/s]\n",
            "                 Class     Images  Instances      Box(P          R      mAP50  mAP50-95): 100%|██████████| 4/4 [00:00<00:00,  5.02it/s]"
          ]
        },
        {
          "output_type": "stream",
          "name": "stdout",
          "text": [
            "                   all        116        414      0.769      0.685      0.771       0.52\n"
          ]
        },
        {
          "output_type": "stream",
          "name": "stderr",
          "text": [
            "\n"
          ]
        },
        {
          "output_type": "stream",
          "name": "stdout",
          "text": [
            "\n",
            "      Epoch    GPU_mem   box_loss   cls_loss   dfl_loss  Instances       Size\n"
          ]
        },
        {
          "output_type": "stream",
          "name": "stderr",
          "text": [
            "      29/70      4.21G     0.9374     0.8363      1.163        101        640: 100%|██████████| 27/27 [00:08<00:00,  3.27it/s]\n",
            "                 Class     Images  Instances      Box(P          R      mAP50  mAP50-95): 100%|██████████| 4/4 [00:00<00:00,  5.11it/s]"
          ]
        },
        {
          "output_type": "stream",
          "name": "stdout",
          "text": [
            "                   all        116        414       0.82      0.684       0.79       0.54\n"
          ]
        },
        {
          "output_type": "stream",
          "name": "stderr",
          "text": [
            "\n"
          ]
        },
        {
          "output_type": "stream",
          "name": "stdout",
          "text": [
            "\n",
            "      Epoch    GPU_mem   box_loss   cls_loss   dfl_loss  Instances       Size\n"
          ]
        },
        {
          "output_type": "stream",
          "name": "stderr",
          "text": [
            "      30/70      4.21G     0.9284     0.8227      1.157        123        640: 100%|██████████| 27/27 [00:07<00:00,  3.68it/s]\n",
            "                 Class     Images  Instances      Box(P          R      mAP50  mAP50-95): 100%|██████████| 4/4 [00:00<00:00,  5.32it/s]"
          ]
        },
        {
          "output_type": "stream",
          "name": "stdout",
          "text": [
            "                   all        116        414      0.799      0.732      0.802      0.536\n"
          ]
        },
        {
          "output_type": "stream",
          "name": "stderr",
          "text": [
            "\n"
          ]
        },
        {
          "output_type": "stream",
          "name": "stdout",
          "text": [
            "\n",
            "      Epoch    GPU_mem   box_loss   cls_loss   dfl_loss  Instances       Size\n"
          ]
        },
        {
          "output_type": "stream",
          "name": "stderr",
          "text": [
            "      31/70      4.21G     0.9198     0.8205      1.152        112        640: 100%|██████████| 27/27 [00:08<00:00,  3.24it/s]\n",
            "                 Class     Images  Instances      Box(P          R      mAP50  mAP50-95): 100%|██████████| 4/4 [00:00<00:00,  5.72it/s]"
          ]
        },
        {
          "output_type": "stream",
          "name": "stdout",
          "text": [
            "                   all        116        414      0.829      0.703      0.821      0.565\n"
          ]
        },
        {
          "output_type": "stream",
          "name": "stderr",
          "text": [
            "\n"
          ]
        },
        {
          "output_type": "stream",
          "name": "stdout",
          "text": [
            "\n",
            "      Epoch    GPU_mem   box_loss   cls_loss   dfl_loss  Instances       Size\n"
          ]
        },
        {
          "output_type": "stream",
          "name": "stderr",
          "text": [
            "      32/70      4.21G      0.881     0.7583      1.139        110        640: 100%|██████████| 27/27 [00:07<00:00,  3.50it/s]\n",
            "                 Class     Images  Instances      Box(P          R      mAP50  mAP50-95): 100%|██████████| 4/4 [00:00<00:00,  5.08it/s]"
          ]
        },
        {
          "output_type": "stream",
          "name": "stdout",
          "text": [
            "                   all        116        414       0.75      0.725      0.783      0.545\n"
          ]
        },
        {
          "output_type": "stream",
          "name": "stderr",
          "text": [
            "\n"
          ]
        },
        {
          "output_type": "stream",
          "name": "stdout",
          "text": [
            "\n",
            "      Epoch    GPU_mem   box_loss   cls_loss   dfl_loss  Instances       Size\n"
          ]
        },
        {
          "output_type": "stream",
          "name": "stderr",
          "text": [
            "      33/70      4.25G      0.899     0.7743      1.137        132        640: 100%|██████████| 27/27 [00:06<00:00,  3.89it/s]\n",
            "                 Class     Images  Instances      Box(P          R      mAP50  mAP50-95): 100%|██████████| 4/4 [00:00<00:00,  4.97it/s]"
          ]
        },
        {
          "output_type": "stream",
          "name": "stdout",
          "text": [
            "                   all        116        414      0.742      0.737      0.785      0.553\n"
          ]
        },
        {
          "output_type": "stream",
          "name": "stderr",
          "text": [
            "\n"
          ]
        },
        {
          "output_type": "stream",
          "name": "stdout",
          "text": [
            "\n",
            "      Epoch    GPU_mem   box_loss   cls_loss   dfl_loss  Instances       Size\n"
          ]
        },
        {
          "output_type": "stream",
          "name": "stderr",
          "text": [
            "      34/70      4.28G       0.89     0.7832      1.144        133        640: 100%|██████████| 27/27 [00:07<00:00,  3.72it/s]\n",
            "                 Class     Images  Instances      Box(P          R      mAP50  mAP50-95): 100%|██████████| 4/4 [00:00<00:00,  5.13it/s]"
          ]
        },
        {
          "output_type": "stream",
          "name": "stdout",
          "text": [
            "                   all        116        414      0.795      0.715      0.804      0.575\n"
          ]
        },
        {
          "output_type": "stream",
          "name": "stderr",
          "text": [
            "\n"
          ]
        },
        {
          "output_type": "stream",
          "name": "stdout",
          "text": [
            "\n",
            "      Epoch    GPU_mem   box_loss   cls_loss   dfl_loss  Instances       Size\n"
          ]
        },
        {
          "output_type": "stream",
          "name": "stderr",
          "text": [
            "      35/70      4.29G     0.8744     0.7791      1.134        131        640: 100%|██████████| 27/27 [00:07<00:00,  3.56it/s]\n",
            "                 Class     Images  Instances      Box(P          R      mAP50  mAP50-95): 100%|██████████| 4/4 [00:00<00:00,  4.81it/s]"
          ]
        },
        {
          "output_type": "stream",
          "name": "stdout",
          "text": [
            "                   all        116        414      0.757      0.722        0.8      0.569\n"
          ]
        },
        {
          "output_type": "stream",
          "name": "stderr",
          "text": [
            "\n"
          ]
        },
        {
          "output_type": "stream",
          "name": "stdout",
          "text": [
            "\n",
            "      Epoch    GPU_mem   box_loss   cls_loss   dfl_loss  Instances       Size\n"
          ]
        },
        {
          "output_type": "stream",
          "name": "stderr",
          "text": [
            "      36/70      4.29G     0.8623     0.7463      1.121        141        640: 100%|██████████| 27/27 [00:08<00:00,  3.26it/s]\n",
            "                 Class     Images  Instances      Box(P          R      mAP50  mAP50-95): 100%|██████████| 4/4 [00:00<00:00,  5.16it/s]"
          ]
        },
        {
          "output_type": "stream",
          "name": "stdout",
          "text": [
            "                   all        116        414      0.794      0.775      0.803       0.57\n"
          ]
        },
        {
          "output_type": "stream",
          "name": "stderr",
          "text": [
            "\n"
          ]
        },
        {
          "output_type": "stream",
          "name": "stdout",
          "text": [
            "\n",
            "      Epoch    GPU_mem   box_loss   cls_loss   dfl_loss  Instances       Size\n"
          ]
        },
        {
          "output_type": "stream",
          "name": "stderr",
          "text": [
            "      37/70      4.29G     0.8443     0.7513      1.118        118        640: 100%|██████████| 27/27 [00:08<00:00,  3.11it/s]\n",
            "                 Class     Images  Instances      Box(P          R      mAP50  mAP50-95): 100%|██████████| 4/4 [00:00<00:00,  5.47it/s]"
          ]
        },
        {
          "output_type": "stream",
          "name": "stdout",
          "text": [
            "                   all        116        414      0.814      0.725      0.808      0.574\n"
          ]
        },
        {
          "output_type": "stream",
          "name": "stderr",
          "text": [
            "\n"
          ]
        },
        {
          "output_type": "stream",
          "name": "stdout",
          "text": [
            "\n",
            "      Epoch    GPU_mem   box_loss   cls_loss   dfl_loss  Instances       Size\n"
          ]
        },
        {
          "output_type": "stream",
          "name": "stderr",
          "text": [
            "      38/70      4.29G     0.8551     0.7277      1.122        133        640: 100%|██████████| 27/27 [00:07<00:00,  3.67it/s]\n",
            "                 Class     Images  Instances      Box(P          R      mAP50  mAP50-95): 100%|██████████| 4/4 [00:00<00:00,  5.20it/s]"
          ]
        },
        {
          "output_type": "stream",
          "name": "stdout",
          "text": [
            "                   all        116        414      0.796      0.766      0.808      0.559\n"
          ]
        },
        {
          "output_type": "stream",
          "name": "stderr",
          "text": [
            "\n"
          ]
        },
        {
          "output_type": "stream",
          "name": "stdout",
          "text": [
            "\n",
            "      Epoch    GPU_mem   box_loss   cls_loss   dfl_loss  Instances       Size\n"
          ]
        },
        {
          "output_type": "stream",
          "name": "stderr",
          "text": [
            "      39/70      4.29G     0.8463     0.7064      1.105        169        640: 100%|██████████| 27/27 [00:07<00:00,  3.71it/s]\n",
            "                 Class     Images  Instances      Box(P          R      mAP50  mAP50-95): 100%|██████████| 4/4 [00:00<00:00,  4.81it/s]"
          ]
        },
        {
          "output_type": "stream",
          "name": "stdout",
          "text": [
            "                   all        116        414      0.821      0.732      0.814      0.572\n"
          ]
        },
        {
          "output_type": "stream",
          "name": "stderr",
          "text": [
            "\n"
          ]
        },
        {
          "output_type": "stream",
          "name": "stdout",
          "text": [
            "\n",
            "      Epoch    GPU_mem   box_loss   cls_loss   dfl_loss  Instances       Size\n"
          ]
        },
        {
          "output_type": "stream",
          "name": "stderr",
          "text": [
            "      40/70      4.29G     0.8318     0.7017      1.105        137        640: 100%|██████████| 27/27 [00:07<00:00,  3.65it/s]\n",
            "                 Class     Images  Instances      Box(P          R      mAP50  mAP50-95): 100%|██████████| 4/4 [00:00<00:00,  5.04it/s]"
          ]
        },
        {
          "output_type": "stream",
          "name": "stdout",
          "text": [
            "                   all        116        414      0.827      0.725      0.823       0.58\n"
          ]
        },
        {
          "output_type": "stream",
          "name": "stderr",
          "text": [
            "\n"
          ]
        },
        {
          "output_type": "stream",
          "name": "stdout",
          "text": [
            "\n",
            "      Epoch    GPU_mem   box_loss   cls_loss   dfl_loss  Instances       Size\n"
          ]
        },
        {
          "output_type": "stream",
          "name": "stderr",
          "text": [
            "      41/70      4.29G     0.8249     0.7027      1.099         95        640: 100%|██████████| 27/27 [00:07<00:00,  3.55it/s]\n",
            "                 Class     Images  Instances      Box(P          R      mAP50  mAP50-95): 100%|██████████| 4/4 [00:00<00:00,  5.31it/s]"
          ]
        },
        {
          "output_type": "stream",
          "name": "stdout",
          "text": [
            "                   all        116        414       0.82      0.725      0.807      0.568\n"
          ]
        },
        {
          "output_type": "stream",
          "name": "stderr",
          "text": [
            "\n"
          ]
        },
        {
          "output_type": "stream",
          "name": "stdout",
          "text": [
            "\n",
            "      Epoch    GPU_mem   box_loss   cls_loss   dfl_loss  Instances       Size\n"
          ]
        },
        {
          "output_type": "stream",
          "name": "stderr",
          "text": [
            "      42/70      4.29G     0.8289     0.7201      1.103        141        640: 100%|██████████| 27/27 [00:07<00:00,  3.59it/s]\n",
            "                 Class     Images  Instances      Box(P          R      mAP50  mAP50-95): 100%|██████████| 4/4 [00:00<00:00,  4.91it/s]"
          ]
        },
        {
          "output_type": "stream",
          "name": "stdout",
          "text": [
            "                   all        116        414      0.811      0.727      0.803      0.558\n"
          ]
        },
        {
          "output_type": "stream",
          "name": "stderr",
          "text": [
            "\n"
          ]
        },
        {
          "output_type": "stream",
          "name": "stdout",
          "text": [
            "\n",
            "      Epoch    GPU_mem   box_loss   cls_loss   dfl_loss  Instances       Size\n"
          ]
        },
        {
          "output_type": "stream",
          "name": "stderr",
          "text": [
            "      43/70      4.29G     0.7803     0.6914      1.084         91        640: 100%|██████████| 27/27 [00:07<00:00,  3.44it/s]\n",
            "                 Class     Images  Instances      Box(P          R      mAP50  mAP50-95): 100%|██████████| 4/4 [00:00<00:00,  5.12it/s]"
          ]
        },
        {
          "output_type": "stream",
          "name": "stdout",
          "text": [
            "                   all        116        414      0.781      0.778      0.809      0.586\n"
          ]
        },
        {
          "output_type": "stream",
          "name": "stderr",
          "text": [
            "\n"
          ]
        },
        {
          "output_type": "stream",
          "name": "stdout",
          "text": [
            "\n",
            "      Epoch    GPU_mem   box_loss   cls_loss   dfl_loss  Instances       Size\n"
          ]
        },
        {
          "output_type": "stream",
          "name": "stderr",
          "text": [
            "      44/70      4.29G     0.8057     0.6693      1.101         95        640: 100%|██████████| 27/27 [00:07<00:00,  3.66it/s]\n",
            "                 Class     Images  Instances      Box(P          R      mAP50  mAP50-95): 100%|██████████| 4/4 [00:00<00:00,  4.99it/s]"
          ]
        },
        {
          "output_type": "stream",
          "name": "stdout",
          "text": [
            "                   all        116        414      0.791       0.76      0.821      0.583\n"
          ]
        },
        {
          "output_type": "stream",
          "name": "stderr",
          "text": [
            "\n"
          ]
        },
        {
          "output_type": "stream",
          "name": "stdout",
          "text": [
            "\n",
            "      Epoch    GPU_mem   box_loss   cls_loss   dfl_loss  Instances       Size\n"
          ]
        },
        {
          "output_type": "stream",
          "name": "stderr",
          "text": [
            "      45/70      4.29G     0.8043     0.6788      1.093        109        640: 100%|██████████| 27/27 [00:07<00:00,  3.69it/s]\n",
            "                 Class     Images  Instances      Box(P          R      mAP50  mAP50-95): 100%|██████████| 4/4 [00:00<00:00,  5.24it/s]"
          ]
        },
        {
          "output_type": "stream",
          "name": "stdout",
          "text": [
            "                   all        116        414      0.805      0.756      0.805      0.582\n"
          ]
        },
        {
          "output_type": "stream",
          "name": "stderr",
          "text": [
            "\n"
          ]
        },
        {
          "output_type": "stream",
          "name": "stdout",
          "text": [
            "\n",
            "      Epoch    GPU_mem   box_loss   cls_loss   dfl_loss  Instances       Size\n"
          ]
        },
        {
          "output_type": "stream",
          "name": "stderr",
          "text": [
            "      46/70      4.29G     0.8019     0.6729      1.082        151        640: 100%|██████████| 27/27 [00:07<00:00,  3.83it/s]\n",
            "                 Class     Images  Instances      Box(P          R      mAP50  mAP50-95): 100%|██████████| 4/4 [00:00<00:00,  5.11it/s]"
          ]
        },
        {
          "output_type": "stream",
          "name": "stdout",
          "text": [
            "                   all        116        414       0.79      0.732      0.789      0.563\n"
          ]
        },
        {
          "output_type": "stream",
          "name": "stderr",
          "text": [
            "\n"
          ]
        },
        {
          "output_type": "stream",
          "name": "stdout",
          "text": [
            "\n",
            "      Epoch    GPU_mem   box_loss   cls_loss   dfl_loss  Instances       Size\n"
          ]
        },
        {
          "output_type": "stream",
          "name": "stderr",
          "text": [
            "      47/70      4.29G     0.7836     0.6511      1.082         99        640: 100%|██████████| 27/27 [00:08<00:00,  3.14it/s]\n",
            "                 Class     Images  Instances      Box(P          R      mAP50  mAP50-95): 100%|██████████| 4/4 [00:00<00:00,  5.30it/s]"
          ]
        },
        {
          "output_type": "stream",
          "name": "stdout",
          "text": [
            "                   all        116        414      0.829      0.725      0.814      0.595\n"
          ]
        },
        {
          "output_type": "stream",
          "name": "stderr",
          "text": [
            "\n"
          ]
        },
        {
          "output_type": "stream",
          "name": "stdout",
          "text": [
            "\n",
            "      Epoch    GPU_mem   box_loss   cls_loss   dfl_loss  Instances       Size\n"
          ]
        },
        {
          "output_type": "stream",
          "name": "stderr",
          "text": [
            "      48/70      4.29G     0.7558     0.6319      1.074        130        640: 100%|██████████| 27/27 [00:07<00:00,  3.80it/s]\n",
            "                 Class     Images  Instances      Box(P          R      mAP50  mAP50-95): 100%|██████████| 4/4 [00:00<00:00,  5.06it/s]"
          ]
        },
        {
          "output_type": "stream",
          "name": "stdout",
          "text": [
            "                   all        116        414      0.805      0.759      0.822      0.596\n"
          ]
        },
        {
          "output_type": "stream",
          "name": "stderr",
          "text": [
            "\n"
          ]
        },
        {
          "output_type": "stream",
          "name": "stdout",
          "text": [
            "\n",
            "      Epoch    GPU_mem   box_loss   cls_loss   dfl_loss  Instances       Size\n"
          ]
        },
        {
          "output_type": "stream",
          "name": "stderr",
          "text": [
            "      49/70      4.29G     0.7642     0.6386       1.07        107        640: 100%|██████████| 27/27 [00:07<00:00,  3.39it/s]\n",
            "                 Class     Images  Instances      Box(P          R      mAP50  mAP50-95): 100%|██████████| 4/4 [00:00<00:00,  5.48it/s]"
          ]
        },
        {
          "output_type": "stream",
          "name": "stdout",
          "text": [
            "                   all        116        414      0.789       0.79      0.827      0.598\n"
          ]
        },
        {
          "output_type": "stream",
          "name": "stderr",
          "text": [
            "\n"
          ]
        },
        {
          "output_type": "stream",
          "name": "stdout",
          "text": [
            "\n",
            "      Epoch    GPU_mem   box_loss   cls_loss   dfl_loss  Instances       Size\n"
          ]
        },
        {
          "output_type": "stream",
          "name": "stderr",
          "text": [
            "      50/70      4.29G     0.7844     0.6494      1.088        102        640: 100%|██████████| 27/27 [00:07<00:00,  3.58it/s]\n",
            "                 Class     Images  Instances      Box(P          R      mAP50  mAP50-95): 100%|██████████| 4/4 [00:00<00:00,  5.18it/s]"
          ]
        },
        {
          "output_type": "stream",
          "name": "stdout",
          "text": [
            "                   all        116        414      0.771      0.783       0.82      0.595\n"
          ]
        },
        {
          "output_type": "stream",
          "name": "stderr",
          "text": [
            "\n"
          ]
        },
        {
          "output_type": "stream",
          "name": "stdout",
          "text": [
            "\n",
            "      Epoch    GPU_mem   box_loss   cls_loss   dfl_loss  Instances       Size\n"
          ]
        },
        {
          "output_type": "stream",
          "name": "stderr",
          "text": [
            "      51/70      4.29G     0.7613      0.644      1.068        139        640: 100%|██████████| 27/27 [00:08<00:00,  3.15it/s]\n",
            "                 Class     Images  Instances      Box(P          R      mAP50  mAP50-95): 100%|██████████| 4/4 [00:00<00:00,  5.28it/s]"
          ]
        },
        {
          "output_type": "stream",
          "name": "stdout",
          "text": [
            "                   all        116        414      0.865      0.737      0.835      0.595\n"
          ]
        },
        {
          "output_type": "stream",
          "name": "stderr",
          "text": [
            "\n"
          ]
        },
        {
          "output_type": "stream",
          "name": "stdout",
          "text": [
            "\n",
            "      Epoch    GPU_mem   box_loss   cls_loss   dfl_loss  Instances       Size\n"
          ]
        },
        {
          "output_type": "stream",
          "name": "stderr",
          "text": [
            "      52/70      4.29G     0.7686     0.6412      1.079         99        640: 100%|██████████| 27/27 [00:06<00:00,  3.89it/s]\n",
            "                 Class     Images  Instances      Box(P          R      mAP50  mAP50-95): 100%|██████████| 4/4 [00:00<00:00,  5.05it/s]"
          ]
        },
        {
          "output_type": "stream",
          "name": "stdout",
          "text": [
            "                   all        116        414      0.832      0.746      0.836      0.603\n"
          ]
        },
        {
          "output_type": "stream",
          "name": "stderr",
          "text": [
            "\n"
          ]
        },
        {
          "output_type": "stream",
          "name": "stdout",
          "text": [
            "\n",
            "      Epoch    GPU_mem   box_loss   cls_loss   dfl_loss  Instances       Size\n"
          ]
        },
        {
          "output_type": "stream",
          "name": "stderr",
          "text": [
            "      53/70      4.29G     0.7567     0.6287      1.073        143        640: 100%|██████████| 27/27 [00:07<00:00,  3.59it/s]\n",
            "                 Class     Images  Instances      Box(P          R      mAP50  mAP50-95): 100%|██████████| 4/4 [00:00<00:00,  5.10it/s]"
          ]
        },
        {
          "output_type": "stream",
          "name": "stdout",
          "text": [
            "                   all        116        414      0.852      0.762      0.842      0.621\n"
          ]
        },
        {
          "output_type": "stream",
          "name": "stderr",
          "text": [
            "\n"
          ]
        },
        {
          "output_type": "stream",
          "name": "stdout",
          "text": [
            "\n",
            "      Epoch    GPU_mem   box_loss   cls_loss   dfl_loss  Instances       Size\n"
          ]
        },
        {
          "output_type": "stream",
          "name": "stderr",
          "text": [
            "      54/70      4.29G      0.753     0.6216      1.069        121        640: 100%|██████████| 27/27 [00:08<00:00,  3.19it/s]\n",
            "                 Class     Images  Instances      Box(P          R      mAP50  mAP50-95): 100%|██████████| 4/4 [00:00<00:00,  5.10it/s]"
          ]
        },
        {
          "output_type": "stream",
          "name": "stdout",
          "text": [
            "                   all        116        414      0.797      0.758      0.823      0.591\n"
          ]
        },
        {
          "output_type": "stream",
          "name": "stderr",
          "text": [
            "\n"
          ]
        },
        {
          "output_type": "stream",
          "name": "stdout",
          "text": [
            "\n",
            "      Epoch    GPU_mem   box_loss   cls_loss   dfl_loss  Instances       Size\n"
          ]
        },
        {
          "output_type": "stream",
          "name": "stderr",
          "text": [
            "      55/70      4.29G     0.7285     0.5944       1.04         97        640: 100%|██████████| 27/27 [00:07<00:00,  3.86it/s]\n",
            "                 Class     Images  Instances      Box(P          R      mAP50  mAP50-95): 100%|██████████| 4/4 [00:00<00:00,  4.79it/s]"
          ]
        },
        {
          "output_type": "stream",
          "name": "stdout",
          "text": [
            "                   all        116        414      0.808      0.775      0.838      0.605\n"
          ]
        },
        {
          "output_type": "stream",
          "name": "stderr",
          "text": [
            "\n"
          ]
        },
        {
          "output_type": "stream",
          "name": "stdout",
          "text": [
            "\n",
            "      Epoch    GPU_mem   box_loss   cls_loss   dfl_loss  Instances       Size\n"
          ]
        },
        {
          "output_type": "stream",
          "name": "stderr",
          "text": [
            "      56/70      4.29G     0.7388     0.5936      1.047        145        640: 100%|██████████| 27/27 [00:08<00:00,  3.37it/s]\n",
            "                 Class     Images  Instances      Box(P          R      mAP50  mAP50-95): 100%|██████████| 4/4 [00:00<00:00,  5.43it/s]"
          ]
        },
        {
          "output_type": "stream",
          "name": "stdout",
          "text": [
            "                   all        116        414      0.825      0.774      0.839      0.611\n"
          ]
        },
        {
          "output_type": "stream",
          "name": "stderr",
          "text": [
            "\n"
          ]
        },
        {
          "output_type": "stream",
          "name": "stdout",
          "text": [
            "\n",
            "      Epoch    GPU_mem   box_loss   cls_loss   dfl_loss  Instances       Size\n"
          ]
        },
        {
          "output_type": "stream",
          "name": "stderr",
          "text": [
            "      57/70      4.29G     0.7168     0.5859       1.04        113        640: 100%|██████████| 27/27 [00:06<00:00,  4.12it/s]\n",
            "                 Class     Images  Instances      Box(P          R      mAP50  mAP50-95): 100%|██████████| 4/4 [00:00<00:00,  5.10it/s]"
          ]
        },
        {
          "output_type": "stream",
          "name": "stdout",
          "text": [
            "                   all        116        414      0.819      0.792      0.853      0.608\n"
          ]
        },
        {
          "output_type": "stream",
          "name": "stderr",
          "text": [
            "\n"
          ]
        },
        {
          "output_type": "stream",
          "name": "stdout",
          "text": [
            "\n",
            "      Epoch    GPU_mem   box_loss   cls_loss   dfl_loss  Instances       Size\n"
          ]
        },
        {
          "output_type": "stream",
          "name": "stderr",
          "text": [
            "      58/70      4.29G     0.7417     0.5921      1.049        124        640: 100%|██████████| 27/27 [00:08<00:00,  3.17it/s]\n",
            "                 Class     Images  Instances      Box(P          R      mAP50  mAP50-95): 100%|██████████| 4/4 [00:00<00:00,  5.00it/s]"
          ]
        },
        {
          "output_type": "stream",
          "name": "stdout",
          "text": [
            "                   all        116        414        0.8      0.797      0.832      0.603\n"
          ]
        },
        {
          "output_type": "stream",
          "name": "stderr",
          "text": [
            "\n"
          ]
        },
        {
          "output_type": "stream",
          "name": "stdout",
          "text": [
            "\n",
            "      Epoch    GPU_mem   box_loss   cls_loss   dfl_loss  Instances       Size\n"
          ]
        },
        {
          "output_type": "stream",
          "name": "stderr",
          "text": [
            "      59/70      4.29G     0.7354     0.5938      1.058        109        640: 100%|██████████| 27/27 [00:07<00:00,  3.55it/s]\n",
            "                 Class     Images  Instances      Box(P          R      mAP50  mAP50-95): 100%|██████████| 4/4 [00:00<00:00,  5.14it/s]"
          ]
        },
        {
          "output_type": "stream",
          "name": "stdout",
          "text": [
            "                   all        116        414      0.829      0.763      0.835      0.604\n"
          ]
        },
        {
          "output_type": "stream",
          "name": "stderr",
          "text": [
            "\n"
          ]
        },
        {
          "output_type": "stream",
          "name": "stdout",
          "text": [
            "\n",
            "      Epoch    GPU_mem   box_loss   cls_loss   dfl_loss  Instances       Size\n"
          ]
        },
        {
          "output_type": "stream",
          "name": "stderr",
          "text": [
            "      60/70      4.29G     0.6903     0.5585      1.028        107        640: 100%|██████████| 27/27 [00:07<00:00,  3.44it/s]\n",
            "                 Class     Images  Instances      Box(P          R      mAP50  mAP50-95): 100%|██████████| 4/4 [00:00<00:00,  4.97it/s]"
          ]
        },
        {
          "output_type": "stream",
          "name": "stdout",
          "text": [
            "                   all        116        414      0.835      0.783       0.84       0.61\n"
          ]
        },
        {
          "output_type": "stream",
          "name": "stderr",
          "text": [
            "\n"
          ]
        },
        {
          "output_type": "stream",
          "name": "stdout",
          "text": [
            "Closing dataloader mosaic\n",
            "\u001b[34m\u001b[1malbumentations: \u001b[0mBlur(p=0.01, blur_limit=(3, 7)), MedianBlur(p=0.01, blur_limit=(3, 7)), ToGray(p=0.01, num_output_channels=3, method='weighted_average'), CLAHE(p=0.01, clip_limit=(1.0, 4.0), tile_grid_size=(8, 8))\n",
            "\n",
            "      Epoch    GPU_mem   box_loss   cls_loss   dfl_loss  Instances       Size\n"
          ]
        },
        {
          "output_type": "stream",
          "name": "stderr",
          "text": [
            "      61/70      4.29G     0.7199     0.6246      1.054         44        640: 100%|██████████| 27/27 [00:11<00:00,  2.42it/s]\n",
            "                 Class     Images  Instances      Box(P          R      mAP50  mAP50-95): 100%|██████████| 4/4 [00:00<00:00,  4.97it/s]"
          ]
        },
        {
          "output_type": "stream",
          "name": "stdout",
          "text": [
            "                   all        116        414      0.837      0.737       0.83      0.613\n"
          ]
        },
        {
          "output_type": "stream",
          "name": "stderr",
          "text": [
            "\n"
          ]
        },
        {
          "output_type": "stream",
          "name": "stdout",
          "text": [
            "\n",
            "      Epoch    GPU_mem   box_loss   cls_loss   dfl_loss  Instances       Size\n"
          ]
        },
        {
          "output_type": "stream",
          "name": "stderr",
          "text": [
            "      62/70      4.29G     0.6887     0.5324      1.043         47        640: 100%|██████████| 27/27 [00:07<00:00,  3.50it/s]\n",
            "                 Class     Images  Instances      Box(P          R      mAP50  mAP50-95): 100%|██████████| 4/4 [00:00<00:00,  4.99it/s]"
          ]
        },
        {
          "output_type": "stream",
          "name": "stdout",
          "text": [
            "                   all        116        414       0.84      0.775      0.845      0.608\n"
          ]
        },
        {
          "output_type": "stream",
          "name": "stderr",
          "text": [
            "\n"
          ]
        },
        {
          "output_type": "stream",
          "name": "stdout",
          "text": [
            "\n",
            "      Epoch    GPU_mem   box_loss   cls_loss   dfl_loss  Instances       Size\n"
          ]
        },
        {
          "output_type": "stream",
          "name": "stderr",
          "text": [
            "      63/70      4.29G     0.6499     0.4989      1.023         55        640: 100%|██████████| 27/27 [00:07<00:00,  3.78it/s]\n",
            "                 Class     Images  Instances      Box(P          R      mAP50  mAP50-95): 100%|██████████| 4/4 [00:00<00:00,  4.98it/s]"
          ]
        },
        {
          "output_type": "stream",
          "name": "stdout",
          "text": [
            "                   all        116        414      0.839      0.785      0.846      0.618\n"
          ]
        },
        {
          "output_type": "stream",
          "name": "stderr",
          "text": [
            "\n"
          ]
        },
        {
          "output_type": "stream",
          "name": "stdout",
          "text": [
            "\n",
            "      Epoch    GPU_mem   box_loss   cls_loss   dfl_loss  Instances       Size\n"
          ]
        },
        {
          "output_type": "stream",
          "name": "stderr",
          "text": [
            "      64/70      4.32G     0.6571     0.4921      1.029         47        640: 100%|██████████| 27/27 [00:08<00:00,  3.08it/s]\n",
            "                 Class     Images  Instances      Box(P          R      mAP50  mAP50-95): 100%|██████████| 4/4 [00:00<00:00,  5.06it/s]"
          ]
        },
        {
          "output_type": "stream",
          "name": "stdout",
          "text": [
            "                   all        116        414      0.892      0.742      0.849       0.62\n"
          ]
        },
        {
          "output_type": "stream",
          "name": "stderr",
          "text": [
            "\n"
          ]
        },
        {
          "output_type": "stream",
          "name": "stdout",
          "text": [
            "\n",
            "      Epoch    GPU_mem   box_loss   cls_loss   dfl_loss  Instances       Size\n"
          ]
        },
        {
          "output_type": "stream",
          "name": "stderr",
          "text": [
            "      65/70      4.32G     0.6532     0.4949      1.026         52        640: 100%|██████████| 27/27 [00:07<00:00,  3.44it/s]\n",
            "                 Class     Images  Instances      Box(P          R      mAP50  mAP50-95): 100%|██████████| 4/4 [00:00<00:00,  5.13it/s]"
          ]
        },
        {
          "output_type": "stream",
          "name": "stdout",
          "text": [
            "                   all        116        414      0.854      0.779      0.851      0.624\n"
          ]
        },
        {
          "output_type": "stream",
          "name": "stderr",
          "text": [
            "\n"
          ]
        },
        {
          "output_type": "stream",
          "name": "stdout",
          "text": [
            "\n",
            "      Epoch    GPU_mem   box_loss   cls_loss   dfl_loss  Instances       Size\n"
          ]
        },
        {
          "output_type": "stream",
          "name": "stderr",
          "text": [
            "      66/70      4.32G     0.6095     0.4675     0.9894         55        640: 100%|██████████| 27/27 [00:07<00:00,  3.54it/s]\n",
            "                 Class     Images  Instances      Box(P          R      mAP50  mAP50-95): 100%|██████████| 4/4 [00:00<00:00,  5.04it/s]"
          ]
        },
        {
          "output_type": "stream",
          "name": "stdout",
          "text": [
            "                   all        116        414      0.874      0.767       0.85      0.618\n"
          ]
        },
        {
          "output_type": "stream",
          "name": "stderr",
          "text": [
            "\n"
          ]
        },
        {
          "output_type": "stream",
          "name": "stdout",
          "text": [
            "\n",
            "      Epoch    GPU_mem   box_loss   cls_loss   dfl_loss  Instances       Size\n"
          ]
        },
        {
          "output_type": "stream",
          "name": "stderr",
          "text": [
            "      67/70      4.32G     0.6262      0.467      1.012         56        640: 100%|██████████| 27/27 [00:07<00:00,  3.77it/s]\n",
            "                 Class     Images  Instances      Box(P          R      mAP50  mAP50-95): 100%|██████████| 4/4 [00:00<00:00,  4.70it/s]"
          ]
        },
        {
          "output_type": "stream",
          "name": "stdout",
          "text": [
            "                   all        116        414      0.867      0.778      0.854      0.621\n"
          ]
        },
        {
          "output_type": "stream",
          "name": "stderr",
          "text": [
            "\n"
          ]
        },
        {
          "output_type": "stream",
          "name": "stdout",
          "text": [
            "\n",
            "      Epoch    GPU_mem   box_loss   cls_loss   dfl_loss  Instances       Size\n"
          ]
        },
        {
          "output_type": "stream",
          "name": "stderr",
          "text": [
            "      68/70      4.32G      0.613     0.4654      1.007         46        640: 100%|██████████| 27/27 [00:07<00:00,  3.38it/s]\n",
            "                 Class     Images  Instances      Box(P          R      mAP50  mAP50-95): 100%|██████████| 4/4 [00:00<00:00,  5.19it/s]"
          ]
        },
        {
          "output_type": "stream",
          "name": "stdout",
          "text": [
            "                   all        116        414      0.866      0.752      0.849      0.623\n"
          ]
        },
        {
          "output_type": "stream",
          "name": "stderr",
          "text": [
            "\n"
          ]
        },
        {
          "output_type": "stream",
          "name": "stdout",
          "text": [
            "\n",
            "      Epoch    GPU_mem   box_loss   cls_loss   dfl_loss  Instances       Size\n"
          ]
        },
        {
          "output_type": "stream",
          "name": "stderr",
          "text": [
            "      69/70      4.32G      0.593     0.4453     0.9808         51        640: 100%|██████████| 27/27 [00:07<00:00,  3.82it/s]\n",
            "                 Class     Images  Instances      Box(P          R      mAP50  mAP50-95): 100%|██████████| 4/4 [00:00<00:00,  5.17it/s]"
          ]
        },
        {
          "output_type": "stream",
          "name": "stdout",
          "text": [
            "                   all        116        414      0.867      0.766      0.855      0.627\n"
          ]
        },
        {
          "output_type": "stream",
          "name": "stderr",
          "text": [
            "\n"
          ]
        },
        {
          "output_type": "stream",
          "name": "stdout",
          "text": [
            "\n",
            "      Epoch    GPU_mem   box_loss   cls_loss   dfl_loss  Instances       Size\n"
          ]
        },
        {
          "output_type": "stream",
          "name": "stderr",
          "text": [
            "      70/70      4.32G     0.6125     0.4679      1.008         54        640: 100%|██████████| 27/27 [00:07<00:00,  3.63it/s]\n",
            "                 Class     Images  Instances      Box(P          R      mAP50  mAP50-95): 100%|██████████| 4/4 [00:00<00:00,  5.05it/s]"
          ]
        },
        {
          "output_type": "stream",
          "name": "stdout",
          "text": [
            "                   all        116        414      0.862      0.768      0.857      0.628\n"
          ]
        },
        {
          "output_type": "stream",
          "name": "stderr",
          "text": [
            "\n"
          ]
        },
        {
          "output_type": "stream",
          "name": "stdout",
          "text": [
            "\n",
            "70 epochs completed in 0.192 hours.\n",
            "Optimizer stripped from runs/detect/train/weights/last.pt, 22.5MB\n",
            "Optimizer stripped from runs/detect/train/weights/best.pt, 22.5MB\n",
            "\n",
            "Validating runs/detect/train/weights/best.pt...\n",
            "Ultralytics 8.3.103 🚀 Python-3.11.11 torch-2.6.0+cu124 CUDA:0 (NVIDIA L4, 22693MiB)\n",
            "Model summary (fused): 72 layers, 11,125,971 parameters, 0 gradients, 28.4 GFLOPs\n"
          ]
        },
        {
          "output_type": "stream",
          "name": "stderr",
          "text": [
            "                 Class     Images  Instances      Box(P          R      mAP50  mAP50-95): 100%|██████████| 4/4 [00:01<00:00,  2.15it/s]\n"
          ]
        },
        {
          "output_type": "stream",
          "name": "stdout",
          "text": [
            "                   all        116        414      0.862      0.767      0.857      0.627\n",
            "Speed: 0.1ms preprocess, 1.7ms inference, 0.0ms loss, 9.5ms postprocess per image\n",
            "Results saved to \u001b[1mruns/detect/train\u001b[0m\n"
          ]
        },
        {
          "output_type": "execute_result",
          "data": {
            "text/plain": [
              "ultralytics.utils.metrics.DetMetrics object with attributes:\n",
              "\n",
              "ap_class_index: array([0])\n",
              "box: ultralytics.utils.metrics.Metric object\n",
              "confusion_matrix: <ultralytics.utils.metrics.ConfusionMatrix object at 0x79f76875d190>\n",
              "curves: ['Precision-Recall(B)', 'F1-Confidence(B)', 'Precision-Confidence(B)', 'Recall-Confidence(B)']\n",
              "curves_results: [[array([          0,    0.001001,    0.002002,    0.003003,    0.004004,    0.005005,    0.006006,    0.007007,    0.008008,    0.009009,     0.01001,    0.011011,    0.012012,    0.013013,    0.014014,    0.015015,    0.016016,    0.017017,    0.018018,    0.019019,     0.02002,    0.021021,    0.022022,    0.023023,\n",
              "          0.024024,    0.025025,    0.026026,    0.027027,    0.028028,    0.029029,     0.03003,    0.031031,    0.032032,    0.033033,    0.034034,    0.035035,    0.036036,    0.037037,    0.038038,    0.039039,     0.04004,    0.041041,    0.042042,    0.043043,    0.044044,    0.045045,    0.046046,    0.047047,\n",
              "          0.048048,    0.049049,     0.05005,    0.051051,    0.052052,    0.053053,    0.054054,    0.055055,    0.056056,    0.057057,    0.058058,    0.059059,     0.06006,    0.061061,    0.062062,    0.063063,    0.064064,    0.065065,    0.066066,    0.067067,    0.068068,    0.069069,     0.07007,    0.071071,\n",
              "          0.072072,    0.073073,    0.074074,    0.075075,    0.076076,    0.077077,    0.078078,    0.079079,     0.08008,    0.081081,    0.082082,    0.083083,    0.084084,    0.085085,    0.086086,    0.087087,    0.088088,    0.089089,     0.09009,    0.091091,    0.092092,    0.093093,    0.094094,    0.095095,\n",
              "          0.096096,    0.097097,    0.098098,    0.099099,      0.1001,      0.1011,      0.1021,      0.1031,      0.1041,     0.10511,     0.10611,     0.10711,     0.10811,     0.10911,     0.11011,     0.11111,     0.11211,     0.11311,     0.11411,     0.11512,     0.11612,     0.11712,     0.11812,     0.11912,\n",
              "           0.12012,     0.12112,     0.12212,     0.12312,     0.12412,     0.12513,     0.12613,     0.12713,     0.12813,     0.12913,     0.13013,     0.13113,     0.13213,     0.13313,     0.13413,     0.13514,     0.13614,     0.13714,     0.13814,     0.13914,     0.14014,     0.14114,     0.14214,     0.14314,\n",
              "           0.14414,     0.14515,     0.14615,     0.14715,     0.14815,     0.14915,     0.15015,     0.15115,     0.15215,     0.15315,     0.15415,     0.15516,     0.15616,     0.15716,     0.15816,     0.15916,     0.16016,     0.16116,     0.16216,     0.16316,     0.16416,     0.16517,     0.16617,     0.16717,\n",
              "           0.16817,     0.16917,     0.17017,     0.17117,     0.17217,     0.17317,     0.17417,     0.17518,     0.17618,     0.17718,     0.17818,     0.17918,     0.18018,     0.18118,     0.18218,     0.18318,     0.18418,     0.18519,     0.18619,     0.18719,     0.18819,     0.18919,     0.19019,     0.19119,\n",
              "           0.19219,     0.19319,     0.19419,      0.1952,      0.1962,      0.1972,      0.1982,      0.1992,      0.2002,      0.2012,      0.2022,      0.2032,      0.2042,     0.20521,     0.20621,     0.20721,     0.20821,     0.20921,     0.21021,     0.21121,     0.21221,     0.21321,     0.21421,     0.21522,\n",
              "           0.21622,     0.21722,     0.21822,     0.21922,     0.22022,     0.22122,     0.22222,     0.22322,     0.22422,     0.22523,     0.22623,     0.22723,     0.22823,     0.22923,     0.23023,     0.23123,     0.23223,     0.23323,     0.23423,     0.23524,     0.23624,     0.23724,     0.23824,     0.23924,\n",
              "           0.24024,     0.24124,     0.24224,     0.24324,     0.24424,     0.24525,     0.24625,     0.24725,     0.24825,     0.24925,     0.25025,     0.25125,     0.25225,     0.25325,     0.25425,     0.25526,     0.25626,     0.25726,     0.25826,     0.25926,     0.26026,     0.26126,     0.26226,     0.26326,\n",
              "           0.26426,     0.26527,     0.26627,     0.26727,     0.26827,     0.26927,     0.27027,     0.27127,     0.27227,     0.27327,     0.27427,     0.27528,     0.27628,     0.27728,     0.27828,     0.27928,     0.28028,     0.28128,     0.28228,     0.28328,     0.28428,     0.28529,     0.28629,     0.28729,\n",
              "           0.28829,     0.28929,     0.29029,     0.29129,     0.29229,     0.29329,     0.29429,      0.2953,      0.2963,      0.2973,      0.2983,      0.2993,      0.3003,      0.3013,      0.3023,      0.3033,      0.3043,     0.30531,     0.30631,     0.30731,     0.30831,     0.30931,     0.31031,     0.31131,\n",
              "           0.31231,     0.31331,     0.31431,     0.31532,     0.31632,     0.31732,     0.31832,     0.31932,     0.32032,     0.32132,     0.32232,     0.32332,     0.32432,     0.32533,     0.32633,     0.32733,     0.32833,     0.32933,     0.33033,     0.33133,     0.33233,     0.33333,     0.33433,     0.33534,\n",
              "           0.33634,     0.33734,     0.33834,     0.33934,     0.34034,     0.34134,     0.34234,     0.34334,     0.34434,     0.34535,     0.34635,     0.34735,     0.34835,     0.34935,     0.35035,     0.35135,     0.35235,     0.35335,     0.35435,     0.35536,     0.35636,     0.35736,     0.35836,     0.35936,\n",
              "           0.36036,     0.36136,     0.36236,     0.36336,     0.36436,     0.36537,     0.36637,     0.36737,     0.36837,     0.36937,     0.37037,     0.37137,     0.37237,     0.37337,     0.37437,     0.37538,     0.37638,     0.37738,     0.37838,     0.37938,     0.38038,     0.38138,     0.38238,     0.38338,\n",
              "           0.38438,     0.38539,     0.38639,     0.38739,     0.38839,     0.38939,     0.39039,     0.39139,     0.39239,     0.39339,     0.39439,      0.3954,      0.3964,      0.3974,      0.3984,      0.3994,      0.4004,      0.4014,      0.4024,      0.4034,      0.4044,     0.40541,     0.40641,     0.40741,\n",
              "           0.40841,     0.40941,     0.41041,     0.41141,     0.41241,     0.41341,     0.41441,     0.41542,     0.41642,     0.41742,     0.41842,     0.41942,     0.42042,     0.42142,     0.42242,     0.42342,     0.42442,     0.42543,     0.42643,     0.42743,     0.42843,     0.42943,     0.43043,     0.43143,\n",
              "           0.43243,     0.43343,     0.43443,     0.43544,     0.43644,     0.43744,     0.43844,     0.43944,     0.44044,     0.44144,     0.44244,     0.44344,     0.44444,     0.44545,     0.44645,     0.44745,     0.44845,     0.44945,     0.45045,     0.45145,     0.45245,     0.45345,     0.45445,     0.45546,\n",
              "           0.45646,     0.45746,     0.45846,     0.45946,     0.46046,     0.46146,     0.46246,     0.46346,     0.46446,     0.46547,     0.46647,     0.46747,     0.46847,     0.46947,     0.47047,     0.47147,     0.47247,     0.47347,     0.47447,     0.47548,     0.47648,     0.47748,     0.47848,     0.47948,\n",
              "           0.48048,     0.48148,     0.48248,     0.48348,     0.48448,     0.48549,     0.48649,     0.48749,     0.48849,     0.48949,     0.49049,     0.49149,     0.49249,     0.49349,     0.49449,      0.4955,      0.4965,      0.4975,      0.4985,      0.4995,      0.5005,      0.5015,      0.5025,      0.5035,\n",
              "            0.5045,     0.50551,     0.50651,     0.50751,     0.50851,     0.50951,     0.51051,     0.51151,     0.51251,     0.51351,     0.51451,     0.51552,     0.51652,     0.51752,     0.51852,     0.51952,     0.52052,     0.52152,     0.52252,     0.52352,     0.52452,     0.52553,     0.52653,     0.52753,\n",
              "           0.52853,     0.52953,     0.53053,     0.53153,     0.53253,     0.53353,     0.53453,     0.53554,     0.53654,     0.53754,     0.53854,     0.53954,     0.54054,     0.54154,     0.54254,     0.54354,     0.54454,     0.54555,     0.54655,     0.54755,     0.54855,     0.54955,     0.55055,     0.55155,\n",
              "           0.55255,     0.55355,     0.55455,     0.55556,     0.55656,     0.55756,     0.55856,     0.55956,     0.56056,     0.56156,     0.56256,     0.56356,     0.56456,     0.56557,     0.56657,     0.56757,     0.56857,     0.56957,     0.57057,     0.57157,     0.57257,     0.57357,     0.57457,     0.57558,\n",
              "           0.57658,     0.57758,     0.57858,     0.57958,     0.58058,     0.58158,     0.58258,     0.58358,     0.58458,     0.58559,     0.58659,     0.58759,     0.58859,     0.58959,     0.59059,     0.59159,     0.59259,     0.59359,     0.59459,      0.5956,      0.5966,      0.5976,      0.5986,      0.5996,\n",
              "            0.6006,      0.6016,      0.6026,      0.6036,      0.6046,     0.60561,     0.60661,     0.60761,     0.60861,     0.60961,     0.61061,     0.61161,     0.61261,     0.61361,     0.61461,     0.61562,     0.61662,     0.61762,     0.61862,     0.61962,     0.62062,     0.62162,     0.62262,     0.62362,\n",
              "           0.62462,     0.62563,     0.62663,     0.62763,     0.62863,     0.62963,     0.63063,     0.63163,     0.63263,     0.63363,     0.63463,     0.63564,     0.63664,     0.63764,     0.63864,     0.63964,     0.64064,     0.64164,     0.64264,     0.64364,     0.64464,     0.64565,     0.64665,     0.64765,\n",
              "           0.64865,     0.64965,     0.65065,     0.65165,     0.65265,     0.65365,     0.65465,     0.65566,     0.65666,     0.65766,     0.65866,     0.65966,     0.66066,     0.66166,     0.66266,     0.66366,     0.66466,     0.66567,     0.66667,     0.66767,     0.66867,     0.66967,     0.67067,     0.67167,\n",
              "           0.67267,     0.67367,     0.67467,     0.67568,     0.67668,     0.67768,     0.67868,     0.67968,     0.68068,     0.68168,     0.68268,     0.68368,     0.68468,     0.68569,     0.68669,     0.68769,     0.68869,     0.68969,     0.69069,     0.69169,     0.69269,     0.69369,     0.69469,      0.6957,\n",
              "            0.6967,      0.6977,      0.6987,      0.6997,      0.7007,      0.7017,      0.7027,      0.7037,      0.7047,     0.70571,     0.70671,     0.70771,     0.70871,     0.70971,     0.71071,     0.71171,     0.71271,     0.71371,     0.71471,     0.71572,     0.71672,     0.71772,     0.71872,     0.71972,\n",
              "           0.72072,     0.72172,     0.72272,     0.72372,     0.72472,     0.72573,     0.72673,     0.72773,     0.72873,     0.72973,     0.73073,     0.73173,     0.73273,     0.73373,     0.73473,     0.73574,     0.73674,     0.73774,     0.73874,     0.73974,     0.74074,     0.74174,     0.74274,     0.74374,\n",
              "           0.74474,     0.74575,     0.74675,     0.74775,     0.74875,     0.74975,     0.75075,     0.75175,     0.75275,     0.75375,     0.75475,     0.75576,     0.75676,     0.75776,     0.75876,     0.75976,     0.76076,     0.76176,     0.76276,     0.76376,     0.76476,     0.76577,     0.76677,     0.76777,\n",
              "           0.76877,     0.76977,     0.77077,     0.77177,     0.77277,     0.77377,     0.77477,     0.77578,     0.77678,     0.77778,     0.77878,     0.77978,     0.78078,     0.78178,     0.78278,     0.78378,     0.78478,     0.78579,     0.78679,     0.78779,     0.78879,     0.78979,     0.79079,     0.79179,\n",
              "           0.79279,     0.79379,     0.79479,      0.7958,      0.7968,      0.7978,      0.7988,      0.7998,      0.8008,      0.8018,      0.8028,      0.8038,      0.8048,     0.80581,     0.80681,     0.80781,     0.80881,     0.80981,     0.81081,     0.81181,     0.81281,     0.81381,     0.81481,     0.81582,\n",
              "           0.81682,     0.81782,     0.81882,     0.81982,     0.82082,     0.82182,     0.82282,     0.82382,     0.82482,     0.82583,     0.82683,     0.82783,     0.82883,     0.82983,     0.83083,     0.83183,     0.83283,     0.83383,     0.83483,     0.83584,     0.83684,     0.83784,     0.83884,     0.83984,\n",
              "           0.84084,     0.84184,     0.84284,     0.84384,     0.84484,     0.84585,     0.84685,     0.84785,     0.84885,     0.84985,     0.85085,     0.85185,     0.85285,     0.85385,     0.85485,     0.85586,     0.85686,     0.85786,     0.85886,     0.85986,     0.86086,     0.86186,     0.86286,     0.86386,\n",
              "           0.86486,     0.86587,     0.86687,     0.86787,     0.86887,     0.86987,     0.87087,     0.87187,     0.87287,     0.87387,     0.87487,     0.87588,     0.87688,     0.87788,     0.87888,     0.87988,     0.88088,     0.88188,     0.88288,     0.88388,     0.88488,     0.88589,     0.88689,     0.88789,\n",
              "           0.88889,     0.88989,     0.89089,     0.89189,     0.89289,     0.89389,     0.89489,      0.8959,      0.8969,      0.8979,      0.8989,      0.8999,      0.9009,      0.9019,      0.9029,      0.9039,      0.9049,     0.90591,     0.90691,     0.90791,     0.90891,     0.90991,     0.91091,     0.91191,\n",
              "           0.91291,     0.91391,     0.91491,     0.91592,     0.91692,     0.91792,     0.91892,     0.91992,     0.92092,     0.92192,     0.92292,     0.92392,     0.92492,     0.92593,     0.92693,     0.92793,     0.92893,     0.92993,     0.93093,     0.93193,     0.93293,     0.93393,     0.93493,     0.93594,\n",
              "           0.93694,     0.93794,     0.93894,     0.93994,     0.94094,     0.94194,     0.94294,     0.94394,     0.94494,     0.94595,     0.94695,     0.94795,     0.94895,     0.94995,     0.95095,     0.95195,     0.95295,     0.95395,     0.95495,     0.95596,     0.95696,     0.95796,     0.95896,     0.95996,\n",
              "           0.96096,     0.96196,     0.96296,     0.96396,     0.96496,     0.96597,     0.96697,     0.96797,     0.96897,     0.96997,     0.97097,     0.97197,     0.97297,     0.97397,     0.97497,     0.97598,     0.97698,     0.97798,     0.97898,     0.97998,     0.98098,     0.98198,     0.98298,     0.98398,\n",
              "           0.98498,     0.98599,     0.98699,     0.98799,     0.98899,     0.98999,     0.99099,     0.99199,     0.99299,     0.99399,     0.99499,       0.996,       0.997,       0.998,       0.999,           1]), array([[          1,           1,           1,           1,           1,           1,           1,           1,           1,           1,           1,           1,           1,           1,           1,           1,           1,           1,           1,           1,           1,           1,           1,\n",
              "                  1,           1,           1,           1,           1,           1,           1,           1,           1,           1,           1,           1,           1,           1,           1,           1,     0.99138,     0.99138,     0.99138,     0.99138,     0.99138,     0.99138,     0.99138,\n",
              "            0.99138,     0.99138,     0.99138,     0.99138,     0.99138,     0.99138,     0.99138,     0.99138,     0.99138,     0.99138,     0.99138,     0.99138,     0.99138,     0.99138,     0.99138,     0.99138,     0.99138,     0.99138,     0.99138,     0.99138,     0.99138,     0.99138,     0.99138,\n",
              "            0.99138,     0.99138,     0.99138,     0.99138,     0.99138,     0.99138,     0.99138,     0.99138,     0.99138,     0.99138,     0.99138,     0.99138,     0.99138,     0.99138,     0.99138,     0.99138,     0.99138,     0.99138,     0.99138,     0.99138,     0.99138,     0.99138,     0.99138,\n",
              "            0.99138,     0.99138,     0.99138,     0.99138,     0.99138,     0.99138,     0.99138,     0.99138,     0.99138,     0.99138,     0.99138,     0.99138,     0.99138,     0.99138,     0.99138,     0.99138,     0.99138,     0.99138,     0.99138,     0.99138,     0.99138,     0.99138,     0.99138,\n",
              "            0.99138,     0.99138,     0.99138,     0.99138,     0.99138,     0.99138,     0.99138,     0.99138,     0.99138,     0.99138,     0.99138,     0.99138,     0.99138,     0.99138,     0.99138,     0.99138,     0.99138,     0.99138,     0.99138,     0.99138,     0.99138,     0.99138,     0.99138,\n",
              "            0.99138,     0.99138,     0.99138,     0.99138,     0.99138,     0.99138,     0.99138,     0.99138,     0.99138,     0.99138,     0.99138,     0.99138,     0.99138,     0.99138,     0.99138,     0.99138,     0.99138,     0.99138,     0.99138,     0.99138,     0.99138,     0.99138,     0.99138,\n",
              "            0.99138,     0.99138,     0.99138,     0.99138,     0.99138,     0.99138,     0.99138,     0.99138,     0.99138,     0.99138,     0.99138,     0.99138,     0.99138,     0.99138,     0.99138,     0.99138,     0.99138,     0.99138,     0.99138,     0.99138,     0.99138,     0.99138,     0.99138,\n",
              "            0.99138,     0.99138,     0.99138,     0.99138,     0.99138,     0.99138,     0.99138,     0.99138,     0.99138,     0.99138,     0.99138,     0.99138,     0.99138,     0.99138,     0.99138,     0.99138,     0.99138,     0.99138,     0.99138,     0.99138,     0.99138,     0.99138,     0.99138,\n",
              "            0.99138,     0.99138,     0.99138,     0.99138,     0.99138,     0.99138,     0.99138,     0.99138,     0.99138,     0.99138,     0.99138,     0.99138,     0.99138,     0.99138,     0.99138,     0.99138,     0.99138,     0.99138,     0.99138,     0.99138,     0.99138,     0.99138,     0.99138,\n",
              "            0.99138,     0.99138,     0.99138,     0.99138,     0.99138,     0.99138,     0.99138,     0.99138,     0.99138,     0.99138,     0.99138,     0.99138,     0.99138,     0.99138,     0.99138,     0.99138,     0.99138,     0.99138,     0.99138,     0.99138,     0.99138,     0.99138,     0.99138,\n",
              "            0.99138,     0.99138,     0.99138,     0.99138,     0.99138,     0.99138,     0.99138,     0.99138,     0.99138,     0.99138,     0.99138,     0.99138,     0.99138,     0.99138,     0.99138,     0.99138,     0.99138,     0.99138,     0.99138,     0.99138,     0.99138,     0.99138,     0.99138,\n",
              "            0.99138,     0.99138,     0.98529,     0.98529,     0.98529,     0.98529,     0.98529,     0.98529,     0.98529,     0.98529,     0.98529,     0.98529,     0.98529,     0.98529,     0.98529,     0.98529,     0.98529,     0.98529,     0.98529,     0.98529,     0.98529,     0.98529,     0.98529,\n",
              "            0.98529,     0.98529,     0.98529,     0.98529,     0.98529,     0.98529,     0.98529,     0.98529,     0.98529,     0.98529,     0.98529,     0.98529,     0.98529,     0.98529,     0.98529,     0.98529,     0.98529,     0.98529,     0.98529,     0.98529,     0.98529,     0.98529,     0.98529,\n",
              "            0.98529,     0.98529,     0.98171,     0.98171,     0.98171,     0.98171,     0.98171,     0.98171,     0.98171,     0.98171,     0.98171,     0.98171,     0.98171,     0.98171,     0.98171,     0.98171,     0.98171,     0.98171,     0.98171,     0.98171,     0.98171,     0.98171,     0.98171,\n",
              "            0.98171,     0.98171,     0.98171,     0.98171,     0.98171,     0.98171,     0.98171,     0.98171,     0.98171,     0.98171,     0.98171,     0.98171,     0.98171,     0.98171,     0.98171,     0.98171,     0.98171,     0.98171,     0.98171,     0.98171,     0.98171,     0.98171,     0.98171,\n",
              "            0.98171,     0.98171,     0.98171,     0.98171,     0.98171,     0.98171,     0.98171,     0.98171,     0.98171,     0.98171,     0.98171,     0.98171,     0.98171,     0.98171,     0.98171,     0.98171,     0.98171,     0.98171,     0.98171,     0.98171,     0.98171,     0.97765,     0.97765,\n",
              "            0.97765,     0.97765,     0.97765,     0.97765,     0.97765,     0.97765,     0.97765,     0.97765,     0.97765,     0.97765,     0.97765,     0.97765,     0.97765,     0.97765,     0.97765,     0.97765,     0.97765,     0.97765,     0.97765,     0.97765,     0.97765,     0.97765,     0.97765,\n",
              "            0.97765,     0.97765,     0.97765,     0.97765,     0.97765,     0.97765,     0.97765,     0.97765,     0.97765,     0.97297,     0.97297,     0.97297,     0.97297,     0.97297,     0.97297,     0.97297,     0.97297,     0.97297,     0.97297,     0.97297,     0.97297,     0.97297,     0.97297,\n",
              "            0.97297,     0.97297,     0.97297,     0.97297,     0.97297,     0.97297,     0.97297,     0.97297,     0.97297,     0.97297,     0.97297,     0.97297,     0.97297,     0.97297,     0.97297,     0.97297,     0.97297,     0.97297,     0.97297,     0.97297,     0.97297,     0.97297,     0.97297,\n",
              "            0.97297,     0.97297,     0.97297,     0.97297,     0.97297,     0.97297,     0.97297,     0.97297,     0.97297,     0.97297,     0.97297,     0.97297,     0.97297,     0.97297,     0.97297,     0.97297,     0.97297,     0.97297,     0.97297,     0.97297,     0.97297,     0.97297,     0.97297,\n",
              "            0.97297,     0.97297,     0.97297,     0.97297,     0.97297,     0.97297,     0.97297,     0.97297,     0.97297,     0.97297,     0.97297,     0.97297,     0.97297,     0.97297,     0.97297,     0.97297,     0.97297,     0.97297,     0.97297,     0.97297,     0.97297,     0.97297,     0.97297,\n",
              "            0.97297,     0.97297,     0.97297,     0.97297,     0.97297,     0.97297,     0.97297,     0.97297,     0.97297,     0.97297,     0.97297,     0.97297,     0.97297,     0.97297,     0.97297,     0.97297,     0.96983,     0.96983,     0.96983,     0.96983,     0.96983,     0.96983,     0.96983,\n",
              "            0.96983,     0.96983,     0.96983,     0.96983,     0.96983,     0.96983,     0.96983,     0.96983,     0.96983,     0.96983,     0.96983,     0.96983,     0.96983,     0.96983,     0.96581,     0.96581,     0.96581,     0.96281,     0.96281,     0.96281,     0.96281,     0.96281,     0.96281,\n",
              "            0.96281,     0.96281,     0.96281,     0.96281,     0.96281,     0.96281,     0.96281,     0.96281,     0.96281,     0.96281,     0.96281,     0.95918,     0.95918,     0.95918,     0.95918,     0.95918,       0.956,       0.956,       0.956,       0.956,       0.956,       0.956,       0.956,\n",
              "              0.956,       0.956,     0.95502,     0.95502,     0.95502,     0.95502,     0.95502,     0.95502,     0.95502,     0.95502,     0.95502,     0.95502,     0.95502,     0.95502,     0.95502,     0.95502,     0.95502,     0.95502,     0.95502,     0.95502,     0.95502,     0.95502,     0.95502,\n",
              "            0.95502,     0.95502,     0.95502,     0.95502,     0.95502,     0.95502,     0.95502,     0.95502,     0.95502,     0.95502,     0.95502,     0.95502,     0.95502,     0.95502,     0.95502,     0.95502,     0.95502,     0.95502,     0.95502,     0.95502,     0.95502,     0.95502,     0.95502,\n",
              "            0.95502,     0.95502,     0.95502,     0.95502,     0.95502,     0.95502,     0.95502,     0.95502,     0.95502,     0.95502,     0.95502,     0.95502,     0.95502,     0.95502,     0.95502,     0.95502,     0.95502,     0.95502,     0.95502,     0.95502,     0.95502,     0.95502,     0.95502,\n",
              "            0.95502,     0.95502,     0.95502,     0.95502,     0.95502,     0.95502,     0.95502,     0.95502,     0.95502,     0.95502,     0.95502,     0.95502,     0.95502,     0.95502,     0.95502,     0.95502,     0.95502,     0.95502,     0.95502,     0.95502,     0.95502,     0.95502,     0.95205,\n",
              "            0.95205,     0.95205,     0.95205,     0.95205,     0.94898,     0.94898,     0.94898,     0.94684,     0.94684,     0.94684,     0.94684,     0.94684,     0.94684,     0.94684,     0.94684,     0.94684,     0.94684,     0.94684,     0.94684,     0.94684,     0.94684,      0.9288,      0.9288,\n",
              "             0.9288,      0.9288,      0.9288,     0.92605,     0.92605,     0.92332,     0.92332,     0.92332,     0.92163,     0.92163,     0.92163,     0.92163,     0.92163,     0.92163,     0.92163,     0.92163,     0.92163,     0.92163,     0.92163,     0.92163,     0.91615,     0.91615,     0.91411,\n",
              "            0.91411,     0.91411,     0.91411,     0.91411,     0.91411,     0.91411,     0.91411,     0.90881,     0.90881,     0.90294,     0.90294,     0.90294,     0.90294,     0.90294,     0.90294,     0.90294,     0.90294,     0.90294,     0.90294,     0.90294,     0.90294,     0.90294,     0.90294,\n",
              "            0.90294,     0.90294,     0.90294,     0.90294,     0.90294,     0.89535,     0.89535,     0.89535,     0.89112,     0.89112,     0.89112,     0.89112,     0.89112,     0.89112,     0.89112,     0.88889,     0.88889,     0.88701,     0.88701,     0.88701,     0.88701,     0.88701,     0.88235,\n",
              "            0.88235,     0.88235,     0.87293,     0.87293,     0.87088,     0.87088,     0.86179,     0.86179,     0.86179,     0.86059,     0.86059,     0.86059,     0.86059,     0.86059,     0.86059,     0.86059,     0.85867,     0.85867,     0.85676,     0.85676,     0.85676,     0.85039,     0.85039,\n",
              "            0.84635,     0.84635,     0.84635,     0.84456,     0.84456,     0.83673,     0.83673,     0.83673,     0.83673,     0.83673,     0.83503,     0.83503,     0.83333,     0.83333,     0.83333,     0.83166,     0.83166,     0.81907,     0.81907,     0.81907,     0.81907,     0.81907,     0.81907,\n",
              "            0.81907,     0.81907,     0.81907,     0.81907,     0.81553,     0.81553,      0.8076,      0.8076,      0.8076,      0.8076,      0.8076,      0.8076,      0.8076,      0.8076,      0.8076,      0.8076,     0.80615,     0.80615,      0.7972,      0.7972,      0.7972,     0.78851,     0.78851,\n",
              "            0.78539,     0.78539,     0.78539,     0.78054,     0.78054,     0.77928,     0.77928,     0.73987,     0.73987,     0.73987,     0.73573,     0.73573,     0.73474,     0.73474,     0.73474,     0.73375,     0.73375,     0.73125,     0.73125,     0.71545,     0.71545,     0.71545,     0.70884,\n",
              "            0.70884,     0.70659,     0.70659,     0.70659,     0.68665,     0.68665,     0.67681,     0.67681,     0.67681,     0.67614,     0.67614,     0.67547,     0.67547,     0.62326,     0.62326,     0.62326,     0.62284,     0.62284,     0.61395,     0.61395,     0.61395,     0.58862,     0.58862,\n",
              "            0.57711,     0.57711,     0.57413,     0.57413,     0.57413,      0.5721,      0.5721,     0.56744,     0.56744,     0.56744,     0.55105,     0.55105,     0.53411,     0.53411,     0.53017,     0.53017,     0.53017,     0.51318,     0.51318,     0.47081,     0.47081,     0.47081,     0.44982,\n",
              "            0.44982,     0.44886,     0.44886,     0.44886,     0.44313,     0.44313,      0.4386,      0.4386,     0.42247,     0.42247,     0.42247,     0.38197,     0.38197,     0.36103,     0.36103,     0.36103,     0.35158,     0.35158,     0.34327,     0.34327,     0.34201,     0.34201,     0.34201,\n",
              "            0.24902,     0.24902,     0.22255,     0.22255,     0.22255,     0.22069,     0.22069,     0.21353,     0.21353,     0.21353,     0.20842,     0.20842,     0.16553,     0.16553,     0.15876,     0.15876,     0.15876,     0.15629,     0.15629,     0.15575,     0.15575,     0.15575,     0.14019,\n",
              "            0.14019,     0.13141,     0.13141,     0.13035,     0.13035,     0.13035,    0.084079,    0.082398,    0.080716,    0.079034,    0.077353,    0.075671,     0.07399,    0.072308,    0.070627,    0.068945,    0.067263,    0.065582,      0.0639,    0.062219,    0.060537,    0.058855,    0.057174,\n",
              "           0.055492,    0.053811,    0.052129,    0.050448,    0.048766,    0.047084,    0.045403,    0.043721,     0.04204,    0.040358,    0.038676,    0.036995,    0.035313,    0.033632,     0.03195,    0.030269,    0.028587,    0.026905,    0.025224,    0.023542,    0.021861,    0.020179,    0.018497,\n",
              "           0.016816,    0.015134,    0.013453,    0.011771,     0.01009,   0.0084079,   0.0067263,   0.0050448,   0.0033632,   0.0016816,           0]]), 'Recall', 'Precision'], [array([          0,    0.001001,    0.002002,    0.003003,    0.004004,    0.005005,    0.006006,    0.007007,    0.008008,    0.009009,     0.01001,    0.011011,    0.012012,    0.013013,    0.014014,    0.015015,    0.016016,    0.017017,    0.018018,    0.019019,     0.02002,    0.021021,    0.022022,    0.023023,\n",
              "          0.024024,    0.025025,    0.026026,    0.027027,    0.028028,    0.029029,     0.03003,    0.031031,    0.032032,    0.033033,    0.034034,    0.035035,    0.036036,    0.037037,    0.038038,    0.039039,     0.04004,    0.041041,    0.042042,    0.043043,    0.044044,    0.045045,    0.046046,    0.047047,\n",
              "          0.048048,    0.049049,     0.05005,    0.051051,    0.052052,    0.053053,    0.054054,    0.055055,    0.056056,    0.057057,    0.058058,    0.059059,     0.06006,    0.061061,    0.062062,    0.063063,    0.064064,    0.065065,    0.066066,    0.067067,    0.068068,    0.069069,     0.07007,    0.071071,\n",
              "          0.072072,    0.073073,    0.074074,    0.075075,    0.076076,    0.077077,    0.078078,    0.079079,     0.08008,    0.081081,    0.082082,    0.083083,    0.084084,    0.085085,    0.086086,    0.087087,    0.088088,    0.089089,     0.09009,    0.091091,    0.092092,    0.093093,    0.094094,    0.095095,\n",
              "          0.096096,    0.097097,    0.098098,    0.099099,      0.1001,      0.1011,      0.1021,      0.1031,      0.1041,     0.10511,     0.10611,     0.10711,     0.10811,     0.10911,     0.11011,     0.11111,     0.11211,     0.11311,     0.11411,     0.11512,     0.11612,     0.11712,     0.11812,     0.11912,\n",
              "           0.12012,     0.12112,     0.12212,     0.12312,     0.12412,     0.12513,     0.12613,     0.12713,     0.12813,     0.12913,     0.13013,     0.13113,     0.13213,     0.13313,     0.13413,     0.13514,     0.13614,     0.13714,     0.13814,     0.13914,     0.14014,     0.14114,     0.14214,     0.14314,\n",
              "           0.14414,     0.14515,     0.14615,     0.14715,     0.14815,     0.14915,     0.15015,     0.15115,     0.15215,     0.15315,     0.15415,     0.15516,     0.15616,     0.15716,     0.15816,     0.15916,     0.16016,     0.16116,     0.16216,     0.16316,     0.16416,     0.16517,     0.16617,     0.16717,\n",
              "           0.16817,     0.16917,     0.17017,     0.17117,     0.17217,     0.17317,     0.17417,     0.17518,     0.17618,     0.17718,     0.17818,     0.17918,     0.18018,     0.18118,     0.18218,     0.18318,     0.18418,     0.18519,     0.18619,     0.18719,     0.18819,     0.18919,     0.19019,     0.19119,\n",
              "           0.19219,     0.19319,     0.19419,      0.1952,      0.1962,      0.1972,      0.1982,      0.1992,      0.2002,      0.2012,      0.2022,      0.2032,      0.2042,     0.20521,     0.20621,     0.20721,     0.20821,     0.20921,     0.21021,     0.21121,     0.21221,     0.21321,     0.21421,     0.21522,\n",
              "           0.21622,     0.21722,     0.21822,     0.21922,     0.22022,     0.22122,     0.22222,     0.22322,     0.22422,     0.22523,     0.22623,     0.22723,     0.22823,     0.22923,     0.23023,     0.23123,     0.23223,     0.23323,     0.23423,     0.23524,     0.23624,     0.23724,     0.23824,     0.23924,\n",
              "           0.24024,     0.24124,     0.24224,     0.24324,     0.24424,     0.24525,     0.24625,     0.24725,     0.24825,     0.24925,     0.25025,     0.25125,     0.25225,     0.25325,     0.25425,     0.25526,     0.25626,     0.25726,     0.25826,     0.25926,     0.26026,     0.26126,     0.26226,     0.26326,\n",
              "           0.26426,     0.26527,     0.26627,     0.26727,     0.26827,     0.26927,     0.27027,     0.27127,     0.27227,     0.27327,     0.27427,     0.27528,     0.27628,     0.27728,     0.27828,     0.27928,     0.28028,     0.28128,     0.28228,     0.28328,     0.28428,     0.28529,     0.28629,     0.28729,\n",
              "           0.28829,     0.28929,     0.29029,     0.29129,     0.29229,     0.29329,     0.29429,      0.2953,      0.2963,      0.2973,      0.2983,      0.2993,      0.3003,      0.3013,      0.3023,      0.3033,      0.3043,     0.30531,     0.30631,     0.30731,     0.30831,     0.30931,     0.31031,     0.31131,\n",
              "           0.31231,     0.31331,     0.31431,     0.31532,     0.31632,     0.31732,     0.31832,     0.31932,     0.32032,     0.32132,     0.32232,     0.32332,     0.32432,     0.32533,     0.32633,     0.32733,     0.32833,     0.32933,     0.33033,     0.33133,     0.33233,     0.33333,     0.33433,     0.33534,\n",
              "           0.33634,     0.33734,     0.33834,     0.33934,     0.34034,     0.34134,     0.34234,     0.34334,     0.34434,     0.34535,     0.34635,     0.34735,     0.34835,     0.34935,     0.35035,     0.35135,     0.35235,     0.35335,     0.35435,     0.35536,     0.35636,     0.35736,     0.35836,     0.35936,\n",
              "           0.36036,     0.36136,     0.36236,     0.36336,     0.36436,     0.36537,     0.36637,     0.36737,     0.36837,     0.36937,     0.37037,     0.37137,     0.37237,     0.37337,     0.37437,     0.37538,     0.37638,     0.37738,     0.37838,     0.37938,     0.38038,     0.38138,     0.38238,     0.38338,\n",
              "           0.38438,     0.38539,     0.38639,     0.38739,     0.38839,     0.38939,     0.39039,     0.39139,     0.39239,     0.39339,     0.39439,      0.3954,      0.3964,      0.3974,      0.3984,      0.3994,      0.4004,      0.4014,      0.4024,      0.4034,      0.4044,     0.40541,     0.40641,     0.40741,\n",
              "           0.40841,     0.40941,     0.41041,     0.41141,     0.41241,     0.41341,     0.41441,     0.41542,     0.41642,     0.41742,     0.41842,     0.41942,     0.42042,     0.42142,     0.42242,     0.42342,     0.42442,     0.42543,     0.42643,     0.42743,     0.42843,     0.42943,     0.43043,     0.43143,\n",
              "           0.43243,     0.43343,     0.43443,     0.43544,     0.43644,     0.43744,     0.43844,     0.43944,     0.44044,     0.44144,     0.44244,     0.44344,     0.44444,     0.44545,     0.44645,     0.44745,     0.44845,     0.44945,     0.45045,     0.45145,     0.45245,     0.45345,     0.45445,     0.45546,\n",
              "           0.45646,     0.45746,     0.45846,     0.45946,     0.46046,     0.46146,     0.46246,     0.46346,     0.46446,     0.46547,     0.46647,     0.46747,     0.46847,     0.46947,     0.47047,     0.47147,     0.47247,     0.47347,     0.47447,     0.47548,     0.47648,     0.47748,     0.47848,     0.47948,\n",
              "           0.48048,     0.48148,     0.48248,     0.48348,     0.48448,     0.48549,     0.48649,     0.48749,     0.48849,     0.48949,     0.49049,     0.49149,     0.49249,     0.49349,     0.49449,      0.4955,      0.4965,      0.4975,      0.4985,      0.4995,      0.5005,      0.5015,      0.5025,      0.5035,\n",
              "            0.5045,     0.50551,     0.50651,     0.50751,     0.50851,     0.50951,     0.51051,     0.51151,     0.51251,     0.51351,     0.51451,     0.51552,     0.51652,     0.51752,     0.51852,     0.51952,     0.52052,     0.52152,     0.52252,     0.52352,     0.52452,     0.52553,     0.52653,     0.52753,\n",
              "           0.52853,     0.52953,     0.53053,     0.53153,     0.53253,     0.53353,     0.53453,     0.53554,     0.53654,     0.53754,     0.53854,     0.53954,     0.54054,     0.54154,     0.54254,     0.54354,     0.54454,     0.54555,     0.54655,     0.54755,     0.54855,     0.54955,     0.55055,     0.55155,\n",
              "           0.55255,     0.55355,     0.55455,     0.55556,     0.55656,     0.55756,     0.55856,     0.55956,     0.56056,     0.56156,     0.56256,     0.56356,     0.56456,     0.56557,     0.56657,     0.56757,     0.56857,     0.56957,     0.57057,     0.57157,     0.57257,     0.57357,     0.57457,     0.57558,\n",
              "           0.57658,     0.57758,     0.57858,     0.57958,     0.58058,     0.58158,     0.58258,     0.58358,     0.58458,     0.58559,     0.58659,     0.58759,     0.58859,     0.58959,     0.59059,     0.59159,     0.59259,     0.59359,     0.59459,      0.5956,      0.5966,      0.5976,      0.5986,      0.5996,\n",
              "            0.6006,      0.6016,      0.6026,      0.6036,      0.6046,     0.60561,     0.60661,     0.60761,     0.60861,     0.60961,     0.61061,     0.61161,     0.61261,     0.61361,     0.61461,     0.61562,     0.61662,     0.61762,     0.61862,     0.61962,     0.62062,     0.62162,     0.62262,     0.62362,\n",
              "           0.62462,     0.62563,     0.62663,     0.62763,     0.62863,     0.62963,     0.63063,     0.63163,     0.63263,     0.63363,     0.63463,     0.63564,     0.63664,     0.63764,     0.63864,     0.63964,     0.64064,     0.64164,     0.64264,     0.64364,     0.64464,     0.64565,     0.64665,     0.64765,\n",
              "           0.64865,     0.64965,     0.65065,     0.65165,     0.65265,     0.65365,     0.65465,     0.65566,     0.65666,     0.65766,     0.65866,     0.65966,     0.66066,     0.66166,     0.66266,     0.66366,     0.66466,     0.66567,     0.66667,     0.66767,     0.66867,     0.66967,     0.67067,     0.67167,\n",
              "           0.67267,     0.67367,     0.67467,     0.67568,     0.67668,     0.67768,     0.67868,     0.67968,     0.68068,     0.68168,     0.68268,     0.68368,     0.68468,     0.68569,     0.68669,     0.68769,     0.68869,     0.68969,     0.69069,     0.69169,     0.69269,     0.69369,     0.69469,      0.6957,\n",
              "            0.6967,      0.6977,      0.6987,      0.6997,      0.7007,      0.7017,      0.7027,      0.7037,      0.7047,     0.70571,     0.70671,     0.70771,     0.70871,     0.70971,     0.71071,     0.71171,     0.71271,     0.71371,     0.71471,     0.71572,     0.71672,     0.71772,     0.71872,     0.71972,\n",
              "           0.72072,     0.72172,     0.72272,     0.72372,     0.72472,     0.72573,     0.72673,     0.72773,     0.72873,     0.72973,     0.73073,     0.73173,     0.73273,     0.73373,     0.73473,     0.73574,     0.73674,     0.73774,     0.73874,     0.73974,     0.74074,     0.74174,     0.74274,     0.74374,\n",
              "           0.74474,     0.74575,     0.74675,     0.74775,     0.74875,     0.74975,     0.75075,     0.75175,     0.75275,     0.75375,     0.75475,     0.75576,     0.75676,     0.75776,     0.75876,     0.75976,     0.76076,     0.76176,     0.76276,     0.76376,     0.76476,     0.76577,     0.76677,     0.76777,\n",
              "           0.76877,     0.76977,     0.77077,     0.77177,     0.77277,     0.77377,     0.77477,     0.77578,     0.77678,     0.77778,     0.77878,     0.77978,     0.78078,     0.78178,     0.78278,     0.78378,     0.78478,     0.78579,     0.78679,     0.78779,     0.78879,     0.78979,     0.79079,     0.79179,\n",
              "           0.79279,     0.79379,     0.79479,      0.7958,      0.7968,      0.7978,      0.7988,      0.7998,      0.8008,      0.8018,      0.8028,      0.8038,      0.8048,     0.80581,     0.80681,     0.80781,     0.80881,     0.80981,     0.81081,     0.81181,     0.81281,     0.81381,     0.81481,     0.81582,\n",
              "           0.81682,     0.81782,     0.81882,     0.81982,     0.82082,     0.82182,     0.82282,     0.82382,     0.82482,     0.82583,     0.82683,     0.82783,     0.82883,     0.82983,     0.83083,     0.83183,     0.83283,     0.83383,     0.83483,     0.83584,     0.83684,     0.83784,     0.83884,     0.83984,\n",
              "           0.84084,     0.84184,     0.84284,     0.84384,     0.84484,     0.84585,     0.84685,     0.84785,     0.84885,     0.84985,     0.85085,     0.85185,     0.85285,     0.85385,     0.85485,     0.85586,     0.85686,     0.85786,     0.85886,     0.85986,     0.86086,     0.86186,     0.86286,     0.86386,\n",
              "           0.86486,     0.86587,     0.86687,     0.86787,     0.86887,     0.86987,     0.87087,     0.87187,     0.87287,     0.87387,     0.87487,     0.87588,     0.87688,     0.87788,     0.87888,     0.87988,     0.88088,     0.88188,     0.88288,     0.88388,     0.88488,     0.88589,     0.88689,     0.88789,\n",
              "           0.88889,     0.88989,     0.89089,     0.89189,     0.89289,     0.89389,     0.89489,      0.8959,      0.8969,      0.8979,      0.8989,      0.8999,      0.9009,      0.9019,      0.9029,      0.9039,      0.9049,     0.90591,     0.90691,     0.90791,     0.90891,     0.90991,     0.91091,     0.91191,\n",
              "           0.91291,     0.91391,     0.91491,     0.91592,     0.91692,     0.91792,     0.91892,     0.91992,     0.92092,     0.92192,     0.92292,     0.92392,     0.92492,     0.92593,     0.92693,     0.92793,     0.92893,     0.92993,     0.93093,     0.93193,     0.93293,     0.93393,     0.93493,     0.93594,\n",
              "           0.93694,     0.93794,     0.93894,     0.93994,     0.94094,     0.94194,     0.94294,     0.94394,     0.94494,     0.94595,     0.94695,     0.94795,     0.94895,     0.94995,     0.95095,     0.95195,     0.95295,     0.95395,     0.95495,     0.95596,     0.95696,     0.95796,     0.95896,     0.95996,\n",
              "           0.96096,     0.96196,     0.96296,     0.96396,     0.96496,     0.96597,     0.96697,     0.96797,     0.96897,     0.96997,     0.97097,     0.97197,     0.97297,     0.97397,     0.97497,     0.97598,     0.97698,     0.97798,     0.97898,     0.97998,     0.98098,     0.98198,     0.98298,     0.98398,\n",
              "           0.98498,     0.98599,     0.98699,     0.98799,     0.98899,     0.98999,     0.99099,     0.99199,     0.99299,     0.99399,     0.99499,       0.996,       0.997,       0.998,       0.999,           1]), array([[    0.15639,     0.15639,     0.22029,     0.26279,     0.29476,     0.32277,     0.34655,     0.36395,     0.38726,     0.40226,     0.41662,     0.42702,     0.43984,     0.44847,     0.46157,     0.47008,     0.47993,     0.48745,     0.49801,     0.50182,     0.50755,     0.51377,     0.51995,\n",
              "            0.52874,     0.53229,      0.5373,     0.53977,     0.54406,     0.54856,     0.55659,     0.56068,     0.56554,     0.57048,     0.57352,     0.57831,     0.58165,     0.58476,     0.58868,     0.59019,     0.59169,     0.59281,     0.59387,     0.59826,     0.59894,     0.60201,     0.60346,\n",
              "            0.60647,     0.60947,     0.61477,     0.61668,     0.62042,     0.62327,     0.62611,     0.62916,     0.63077,     0.63426,     0.63607,     0.63737,     0.63883,      0.6405,     0.64307,     0.64483,       0.647,     0.64915,     0.65126,     0.65397,       0.657,     0.66143,     0.66309,\n",
              "            0.66436,     0.66413,     0.66705,     0.66643,     0.66767,     0.66996,     0.67039,     0.67228,     0.67306,     0.67386,     0.67483,     0.67525,     0.67667,     0.67773,     0.67933,     0.67932,     0.68072,     0.68287,     0.68324,     0.68378,     0.68441,     0.68555,     0.68606,\n",
              "            0.68709,     0.68802,     0.68879,     0.69065,     0.69026,     0.69109,     0.69361,     0.69438,      0.6937,     0.69578,     0.69532,     0.69629,     0.69765,     0.69811,     0.69961,     0.70091,     0.70193,      0.7025,      0.7028,     0.70325,     0.70254,      0.7033,     0.70453,\n",
              "            0.70567,     0.70712,     0.70745,     0.70775,     0.70935,     0.70969,     0.71067,     0.71115,     0.71167,     0.71278,     0.71326,     0.71432,      0.7152,     0.71771,     0.71791,     0.71811,     0.71832,     0.71928,     0.71935,      0.7197,     0.72006,     0.72051,     0.72104,\n",
              "            0.72159,     0.72205,      0.7226,     0.72333,     0.72411,     0.72503,     0.72536,     0.72566,     0.72491,     0.72497,     0.72444,     0.72404,     0.72473,     0.72502,     0.72531,     0.72564,     0.72602,     0.72732,     0.72939,     0.72993,     0.73204,     0.73358,     0.73522,\n",
              "            0.73552,     0.73581,     0.73659,     0.73687,     0.73713,     0.73743,     0.73915,     0.73959,     0.74084,     0.74133,     0.74186,     0.74217,     0.74242,     0.74267,     0.74433,     0.74452,     0.74472,     0.74491,     0.74516,     0.74561,     0.74597,     0.74624,      0.7465,\n",
              "            0.74815,      0.7485,     0.74884,     0.74938,     0.75081,     0.75147,     0.75218,     0.75283,     0.75313,     0.75339,     0.75365,     0.75396,     0.75429,     0.75465,     0.75506,     0.75589,     0.75635,     0.75668,     0.75708,     0.75759,     0.75798,     0.75834,     0.75687,\n",
              "            0.75704,     0.75639,     0.75739,      0.7586,     0.75902,     0.75946,     0.76007,     0.76134,     0.76175,     0.76229,     0.76162,     0.76223,     0.76284,     0.76329,     0.76372,     0.76465,     0.76508,     0.76551,       0.766,     0.76724,     0.76847,     0.76972,     0.77006,\n",
              "             0.7704,     0.77064,     0.77088,     0.77112,     0.77189,     0.77223,      0.7724,     0.77257,     0.77273,      0.7729,     0.77318,     0.77349,     0.77375,     0.77334,     0.77293,     0.77253,     0.77278,     0.77324,     0.77409,     0.77299,     0.77336,      0.7748,     0.77636,\n",
              "            0.77695,     0.77589,     0.77648,     0.77672,     0.77692,     0.77711,     0.77731,     0.77885,     0.78001,     0.78019,     0.78038,     0.78057,     0.78075,     0.78098,     0.78125,     0.78153,     0.78177,     0.78194,      0.7821,     0.78226,     0.78242,     0.78259,     0.78312,\n",
              "            0.78396,     0.78466,     0.78511,     0.78508,     0.78485,     0.78463,     0.78441,     0.78418,     0.78396,     0.78462,     0.78485,     0.78496,     0.78507,     0.78518,     0.78529,      0.7854,     0.78551,     0.78562,     0.78517,     0.78461,     0.78487,     0.78417,     0.78392,\n",
              "            0.78422,     0.78452,     0.78438,     0.78381,     0.78433,     0.78525,     0.78555,     0.78586,     0.78586,     0.78572,     0.78557,     0.78543,     0.78528,     0.78514,     0.78499,     0.78485,      0.7847,     0.78463,     0.78493,     0.78524,     0.78568,     0.78732,     0.78759,\n",
              "            0.78785,     0.78811,     0.78854,       0.789,     0.79001,     0.79014,     0.79027,      0.7904,     0.79054,     0.79067,      0.7908,     0.79195,     0.79229,     0.79263,     0.79304,     0.79345,     0.79371,     0.79389,     0.79408,     0.79427,     0.79445,     0.79542,     0.79563,\n",
              "            0.79584,     0.79604,     0.79625,     0.79638,     0.79646,     0.79655,     0.79663,     0.79672,      0.7968,     0.79689,     0.79698,     0.79706,     0.79715,     0.79723,     0.79756,     0.79791,     0.79934,     0.80002,      0.8001,     0.80018,     0.80026,     0.80034,     0.80042,\n",
              "             0.8005,     0.80058,     0.80066,     0.80074,     0.80081,     0.80089,     0.80201,     0.80226,     0.80251,     0.80277,     0.80368,     0.80475,     0.80485,     0.80495,     0.80505,     0.80515,     0.80525,     0.80535,     0.80546,     0.80556,     0.80592,      0.8064,     0.80469,\n",
              "            0.80569,     0.80749,     0.80711,     0.80672,     0.80634,      0.8065,     0.80747,     0.80758,     0.80662,     0.80679,     0.80697,     0.80716,     0.80734,     0.80753,      0.8084,     0.80866,     0.80883,       0.809,     0.80917,     0.80934,     0.80952,     0.80969,     0.80986,\n",
              "            0.81003,      0.8102,     0.81037,     0.81119,     0.81091,     0.81062,     0.81033,     0.81004,     0.81076,     0.81115,     0.81142,     0.81168,     0.81194,     0.81219,     0.81244,     0.81269,     0.81292,     0.81309,     0.81326,     0.81344,     0.81361,     0.81378,     0.81406,\n",
              "            0.81439,     0.81472,     0.81377,     0.81358,     0.81383,     0.81408,     0.81433,     0.81315,     0.81026,     0.80984,     0.80954,     0.80925,     0.80895,     0.80868,     0.80966,     0.81016,     0.81064,     0.81091,     0.81117,     0.81144,     0.81167,     0.81183,       0.812,\n",
              "            0.81217,     0.81234,      0.8125,     0.81272,     0.81297,     0.81322,     0.81348,     0.81324,     0.81345,     0.81365,     0.81385,     0.81405,      0.8137,     0.81321,     0.81272,      0.8124,      0.8121,      0.8118,     0.81151,     0.81121,     0.80974,     0.80831,     0.80841,\n",
              "            0.80851,     0.80861,     0.80871,     0.80881,     0.80891,     0.80902,     0.80912,     0.80922,     0.80943,     0.80994,     0.81032,     0.81045,     0.81058,     0.81071,     0.81083,     0.81096,     0.81109,     0.81121,     0.81134,     0.81147,      0.8116,     0.81172,     0.81185,\n",
              "            0.81198,     0.81211,     0.81223,     0.81301,     0.81403,     0.81504,     0.81474,     0.81444,     0.81414,     0.81384,     0.81348,     0.81429,       0.814,     0.81363,     0.81325,      0.8129,     0.81316,     0.81341,     0.81367,     0.81369,       0.811,     0.81135,     0.81169,\n",
              "             0.8122,     0.81405,     0.81431,     0.81457,     0.81483,     0.81473,     0.81397,     0.81373,     0.81425,     0.81419,     0.81343,     0.81331,     0.81383,     0.81426,     0.81461,     0.81496,     0.81414,     0.81372,     0.81389,     0.81407,     0.81424,     0.81442,     0.81459,\n",
              "            0.81478,     0.81497,     0.81516,     0.81536,     0.81555,     0.81611,     0.81527,     0.81545,     0.81562,      0.8158,     0.81598,     0.81615,     0.81536,     0.81544,     0.81492,     0.81441,     0.81238,     0.81186,     0.81134,     0.81132,     0.81143,     0.81155,     0.81167,\n",
              "            0.81179,     0.81191,     0.81202,     0.81214,     0.81226,     0.81164,     0.81102,     0.81094,     0.81129,     0.81165,       0.812,     0.81236,     0.81271,     0.81405,     0.81432,     0.81459,     0.81486,     0.81429,     0.81351,     0.81375,     0.81418,     0.81431,     0.81399,\n",
              "            0.81368,     0.81337,     0.81305,     0.81297,      0.8131,     0.81322,     0.81335,     0.81348,      0.8136,     0.81373,     0.81386,     0.81408,     0.81462,     0.81506,     0.81526,     0.81546,     0.81565,     0.81585,     0.81605,     0.81656,      0.8171,     0.81717,     0.81614,\n",
              "            0.81562,     0.81417,     0.81472,     0.81513,     0.81449,     0.81386,      0.8135,     0.81329,     0.81308,     0.81287,     0.81265,     0.81244,     0.81223,     0.81152,     0.81069,     0.81113,     0.81157,     0.81191,      0.8111,      0.8112,      0.8113,      0.8114,      0.8115,\n",
              "             0.8116,      0.8117,      0.8118,      0.8119,       0.812,      0.8121,     0.81333,     0.81364,     0.81396,     0.81427,     0.81364,     0.81283,     0.81249,     0.81219,      0.8119,      0.8116,     0.81131,     0.81031,     0.80797,     0.80757,     0.80716,     0.80675,     0.80623,\n",
              "            0.80514,     0.80264,     0.80182,     0.80297,     0.80392,     0.80448,     0.80463,     0.80397,      0.8033,     0.80423,     0.80469,     0.80357,      0.8031,     0.80262,     0.80216,     0.80185,     0.80155,     0.80125,     0.80094,     0.80064,     0.80132,     0.80024,     0.80127,\n",
              "            0.80201,     0.80166,     0.80099,     0.80042,     0.80005,     0.79967,      0.7993,     0.79893,     0.79784,     0.79712,     0.79684,     0.79656,     0.79628,       0.796,     0.79572,      0.7949,     0.79477,     0.79353,     0.79428,     0.79295,     0.79314,     0.79333,     0.79352,\n",
              "             0.7937,     0.79389,      0.7937,     0.79346,     0.79321,     0.79297,     0.79272,     0.79248,     0.79058,     0.79086,     0.79114,     0.79142,     0.79182,       0.794,     0.79475,     0.79662,     0.79693,     0.79578,     0.79518,     0.79475,     0.79432,     0.79388,     0.79062,\n",
              "            0.78802,     0.78662,     0.78666,     0.78692,     0.78717,     0.78742,     0.78714,     0.78644,     0.78418,     0.78494,     0.78444,     0.78334,     0.78263,     0.78192,     0.77794,     0.77675,     0.77593,     0.77521,     0.77456,     0.77405,     0.77353,     0.77302,      0.7689,\n",
              "            0.76768,     0.76695,     0.76622,     0.76399,     0.76225,     0.76152,     0.76078,     0.75932,     0.75809,     0.75717,     0.75481,     0.75356,     0.75049,     0.74721,      0.7458,     0.74533,     0.74486,     0.74439,     0.74379,     0.74303,     0.74227,     0.74101,     0.73835,\n",
              "            0.73797,     0.73758,      0.7372,     0.73682,     0.73627,     0.73563,     0.73499,     0.73342,     0.73149,     0.73031,     0.72934,     0.72757,     0.72455,     0.72357,     0.72222,     0.72179,     0.72057,     0.72024,     0.71991,     0.71958,     0.71926,     0.71893,     0.71913,\n",
              "            0.71969,     0.71923,     0.71824,     0.71739,      0.7166,     0.71549,     0.71349,     0.71281,     0.71069,     0.71002,     0.70935,     0.70995,     0.70949,     0.70456,      0.6998,     0.69843,     0.69706,     0.69666,     0.69703,      0.6974,     0.69667,     0.69559,     0.69603,\n",
              "            0.69647,     0.69397,     0.69314,     0.69134,     0.68679,      0.6816,     0.67871,     0.67866,      0.6792,     0.67415,     0.67101,     0.66949,     0.66768,      0.6659,     0.66447,     0.66338,     0.66233,     0.66161,     0.66088,     0.65731,     0.65445,     0.65277,     0.64675,\n",
              "            0.64451,     0.64156,     0.62706,     0.62591,     0.62116,      0.6186,     0.61734,     0.61618,     0.61295,     0.61201,     0.61073,      0.6068,      0.6042,     0.59475,     0.59144,     0.59105,     0.59066,     0.58994,     0.58486,     0.58272,     0.58149,     0.57909,     0.57253,\n",
              "            0.56667,     0.56292,     0.56123,     0.55954,     0.55473,     0.54705,     0.54574,     0.54172,     0.53794,     0.53531,     0.53008,     0.52583,     0.52476,     0.52286,     0.52033,     0.51898,     0.51235,     0.51098,     0.50317,     0.49812,     0.49612,     0.49472,     0.49358,\n",
              "            0.49247,     0.48722,     0.48314,     0.47606,     0.46197,     0.45885,     0.45051,     0.44903,       0.444,     0.44097,     0.43947,      0.4369,     0.43027,     0.42722,     0.42416,      0.4171,     0.40784,     0.40206,     0.39831,     0.38702,     0.37796,     0.37579,     0.36722,\n",
              "            0.35953,     0.35302,     0.34942,     0.32932,      0.3224,     0.31874,     0.31699,     0.30544,     0.30111,     0.28336,     0.27605,     0.26506,     0.25025,     0.24265,     0.23827,     0.23442,     0.22328,     0.21525,     0.21131,     0.20347,     0.18966,     0.17944,     0.15904,\n",
              "            0.14069,     0.13221,     0.12091,     0.11215,    0.090209,    0.081158,    0.072188,    0.066443,    0.053608,    0.047981,    0.039319,    0.022984,    0.020562,    0.018134,      0.0157,    0.013485,    0.011529,   0.0095977,   0.0088429,   0.0080875,   0.0073316,    0.006575,   0.0058179,\n",
              "          0.0050602,           0,           0,           0,           0,           0,           0,           0,           0,           0,           0,           0,           0,           0,           0,           0,           0,           0,           0,           0,           0,           0,           0,\n",
              "                  0,           0,           0,           0,           0,           0,           0,           0,           0,           0,           0]]), 'Confidence', 'F1'], [array([          0,    0.001001,    0.002002,    0.003003,    0.004004,    0.005005,    0.006006,    0.007007,    0.008008,    0.009009,     0.01001,    0.011011,    0.012012,    0.013013,    0.014014,    0.015015,    0.016016,    0.017017,    0.018018,    0.019019,     0.02002,    0.021021,    0.022022,    0.023023,\n",
              "          0.024024,    0.025025,    0.026026,    0.027027,    0.028028,    0.029029,     0.03003,    0.031031,    0.032032,    0.033033,    0.034034,    0.035035,    0.036036,    0.037037,    0.038038,    0.039039,     0.04004,    0.041041,    0.042042,    0.043043,    0.044044,    0.045045,    0.046046,    0.047047,\n",
              "          0.048048,    0.049049,     0.05005,    0.051051,    0.052052,    0.053053,    0.054054,    0.055055,    0.056056,    0.057057,    0.058058,    0.059059,     0.06006,    0.061061,    0.062062,    0.063063,    0.064064,    0.065065,    0.066066,    0.067067,    0.068068,    0.069069,     0.07007,    0.071071,\n",
              "          0.072072,    0.073073,    0.074074,    0.075075,    0.076076,    0.077077,    0.078078,    0.079079,     0.08008,    0.081081,    0.082082,    0.083083,    0.084084,    0.085085,    0.086086,    0.087087,    0.088088,    0.089089,     0.09009,    0.091091,    0.092092,    0.093093,    0.094094,    0.095095,\n",
              "          0.096096,    0.097097,    0.098098,    0.099099,      0.1001,      0.1011,      0.1021,      0.1031,      0.1041,     0.10511,     0.10611,     0.10711,     0.10811,     0.10911,     0.11011,     0.11111,     0.11211,     0.11311,     0.11411,     0.11512,     0.11612,     0.11712,     0.11812,     0.11912,\n",
              "           0.12012,     0.12112,     0.12212,     0.12312,     0.12412,     0.12513,     0.12613,     0.12713,     0.12813,     0.12913,     0.13013,     0.13113,     0.13213,     0.13313,     0.13413,     0.13514,     0.13614,     0.13714,     0.13814,     0.13914,     0.14014,     0.14114,     0.14214,     0.14314,\n",
              "           0.14414,     0.14515,     0.14615,     0.14715,     0.14815,     0.14915,     0.15015,     0.15115,     0.15215,     0.15315,     0.15415,     0.15516,     0.15616,     0.15716,     0.15816,     0.15916,     0.16016,     0.16116,     0.16216,     0.16316,     0.16416,     0.16517,     0.16617,     0.16717,\n",
              "           0.16817,     0.16917,     0.17017,     0.17117,     0.17217,     0.17317,     0.17417,     0.17518,     0.17618,     0.17718,     0.17818,     0.17918,     0.18018,     0.18118,     0.18218,     0.18318,     0.18418,     0.18519,     0.18619,     0.18719,     0.18819,     0.18919,     0.19019,     0.19119,\n",
              "           0.19219,     0.19319,     0.19419,      0.1952,      0.1962,      0.1972,      0.1982,      0.1992,      0.2002,      0.2012,      0.2022,      0.2032,      0.2042,     0.20521,     0.20621,     0.20721,     0.20821,     0.20921,     0.21021,     0.21121,     0.21221,     0.21321,     0.21421,     0.21522,\n",
              "           0.21622,     0.21722,     0.21822,     0.21922,     0.22022,     0.22122,     0.22222,     0.22322,     0.22422,     0.22523,     0.22623,     0.22723,     0.22823,     0.22923,     0.23023,     0.23123,     0.23223,     0.23323,     0.23423,     0.23524,     0.23624,     0.23724,     0.23824,     0.23924,\n",
              "           0.24024,     0.24124,     0.24224,     0.24324,     0.24424,     0.24525,     0.24625,     0.24725,     0.24825,     0.24925,     0.25025,     0.25125,     0.25225,     0.25325,     0.25425,     0.25526,     0.25626,     0.25726,     0.25826,     0.25926,     0.26026,     0.26126,     0.26226,     0.26326,\n",
              "           0.26426,     0.26527,     0.26627,     0.26727,     0.26827,     0.26927,     0.27027,     0.27127,     0.27227,     0.27327,     0.27427,     0.27528,     0.27628,     0.27728,     0.27828,     0.27928,     0.28028,     0.28128,     0.28228,     0.28328,     0.28428,     0.28529,     0.28629,     0.28729,\n",
              "           0.28829,     0.28929,     0.29029,     0.29129,     0.29229,     0.29329,     0.29429,      0.2953,      0.2963,      0.2973,      0.2983,      0.2993,      0.3003,      0.3013,      0.3023,      0.3033,      0.3043,     0.30531,     0.30631,     0.30731,     0.30831,     0.30931,     0.31031,     0.31131,\n",
              "           0.31231,     0.31331,     0.31431,     0.31532,     0.31632,     0.31732,     0.31832,     0.31932,     0.32032,     0.32132,     0.32232,     0.32332,     0.32432,     0.32533,     0.32633,     0.32733,     0.32833,     0.32933,     0.33033,     0.33133,     0.33233,     0.33333,     0.33433,     0.33534,\n",
              "           0.33634,     0.33734,     0.33834,     0.33934,     0.34034,     0.34134,     0.34234,     0.34334,     0.34434,     0.34535,     0.34635,     0.34735,     0.34835,     0.34935,     0.35035,     0.35135,     0.35235,     0.35335,     0.35435,     0.35536,     0.35636,     0.35736,     0.35836,     0.35936,\n",
              "           0.36036,     0.36136,     0.36236,     0.36336,     0.36436,     0.36537,     0.36637,     0.36737,     0.36837,     0.36937,     0.37037,     0.37137,     0.37237,     0.37337,     0.37437,     0.37538,     0.37638,     0.37738,     0.37838,     0.37938,     0.38038,     0.38138,     0.38238,     0.38338,\n",
              "           0.38438,     0.38539,     0.38639,     0.38739,     0.38839,     0.38939,     0.39039,     0.39139,     0.39239,     0.39339,     0.39439,      0.3954,      0.3964,      0.3974,      0.3984,      0.3994,      0.4004,      0.4014,      0.4024,      0.4034,      0.4044,     0.40541,     0.40641,     0.40741,\n",
              "           0.40841,     0.40941,     0.41041,     0.41141,     0.41241,     0.41341,     0.41441,     0.41542,     0.41642,     0.41742,     0.41842,     0.41942,     0.42042,     0.42142,     0.42242,     0.42342,     0.42442,     0.42543,     0.42643,     0.42743,     0.42843,     0.42943,     0.43043,     0.43143,\n",
              "           0.43243,     0.43343,     0.43443,     0.43544,     0.43644,     0.43744,     0.43844,     0.43944,     0.44044,     0.44144,     0.44244,     0.44344,     0.44444,     0.44545,     0.44645,     0.44745,     0.44845,     0.44945,     0.45045,     0.45145,     0.45245,     0.45345,     0.45445,     0.45546,\n",
              "           0.45646,     0.45746,     0.45846,     0.45946,     0.46046,     0.46146,     0.46246,     0.46346,     0.46446,     0.46547,     0.46647,     0.46747,     0.46847,     0.46947,     0.47047,     0.47147,     0.47247,     0.47347,     0.47447,     0.47548,     0.47648,     0.47748,     0.47848,     0.47948,\n",
              "           0.48048,     0.48148,     0.48248,     0.48348,     0.48448,     0.48549,     0.48649,     0.48749,     0.48849,     0.48949,     0.49049,     0.49149,     0.49249,     0.49349,     0.49449,      0.4955,      0.4965,      0.4975,      0.4985,      0.4995,      0.5005,      0.5015,      0.5025,      0.5035,\n",
              "            0.5045,     0.50551,     0.50651,     0.50751,     0.50851,     0.50951,     0.51051,     0.51151,     0.51251,     0.51351,     0.51451,     0.51552,     0.51652,     0.51752,     0.51852,     0.51952,     0.52052,     0.52152,     0.52252,     0.52352,     0.52452,     0.52553,     0.52653,     0.52753,\n",
              "           0.52853,     0.52953,     0.53053,     0.53153,     0.53253,     0.53353,     0.53453,     0.53554,     0.53654,     0.53754,     0.53854,     0.53954,     0.54054,     0.54154,     0.54254,     0.54354,     0.54454,     0.54555,     0.54655,     0.54755,     0.54855,     0.54955,     0.55055,     0.55155,\n",
              "           0.55255,     0.55355,     0.55455,     0.55556,     0.55656,     0.55756,     0.55856,     0.55956,     0.56056,     0.56156,     0.56256,     0.56356,     0.56456,     0.56557,     0.56657,     0.56757,     0.56857,     0.56957,     0.57057,     0.57157,     0.57257,     0.57357,     0.57457,     0.57558,\n",
              "           0.57658,     0.57758,     0.57858,     0.57958,     0.58058,     0.58158,     0.58258,     0.58358,     0.58458,     0.58559,     0.58659,     0.58759,     0.58859,     0.58959,     0.59059,     0.59159,     0.59259,     0.59359,     0.59459,      0.5956,      0.5966,      0.5976,      0.5986,      0.5996,\n",
              "            0.6006,      0.6016,      0.6026,      0.6036,      0.6046,     0.60561,     0.60661,     0.60761,     0.60861,     0.60961,     0.61061,     0.61161,     0.61261,     0.61361,     0.61461,     0.61562,     0.61662,     0.61762,     0.61862,     0.61962,     0.62062,     0.62162,     0.62262,     0.62362,\n",
              "           0.62462,     0.62563,     0.62663,     0.62763,     0.62863,     0.62963,     0.63063,     0.63163,     0.63263,     0.63363,     0.63463,     0.63564,     0.63664,     0.63764,     0.63864,     0.63964,     0.64064,     0.64164,     0.64264,     0.64364,     0.64464,     0.64565,     0.64665,     0.64765,\n",
              "           0.64865,     0.64965,     0.65065,     0.65165,     0.65265,     0.65365,     0.65465,     0.65566,     0.65666,     0.65766,     0.65866,     0.65966,     0.66066,     0.66166,     0.66266,     0.66366,     0.66466,     0.66567,     0.66667,     0.66767,     0.66867,     0.66967,     0.67067,     0.67167,\n",
              "           0.67267,     0.67367,     0.67467,     0.67568,     0.67668,     0.67768,     0.67868,     0.67968,     0.68068,     0.68168,     0.68268,     0.68368,     0.68468,     0.68569,     0.68669,     0.68769,     0.68869,     0.68969,     0.69069,     0.69169,     0.69269,     0.69369,     0.69469,      0.6957,\n",
              "            0.6967,      0.6977,      0.6987,      0.6997,      0.7007,      0.7017,      0.7027,      0.7037,      0.7047,     0.70571,     0.70671,     0.70771,     0.70871,     0.70971,     0.71071,     0.71171,     0.71271,     0.71371,     0.71471,     0.71572,     0.71672,     0.71772,     0.71872,     0.71972,\n",
              "           0.72072,     0.72172,     0.72272,     0.72372,     0.72472,     0.72573,     0.72673,     0.72773,     0.72873,     0.72973,     0.73073,     0.73173,     0.73273,     0.73373,     0.73473,     0.73574,     0.73674,     0.73774,     0.73874,     0.73974,     0.74074,     0.74174,     0.74274,     0.74374,\n",
              "           0.74474,     0.74575,     0.74675,     0.74775,     0.74875,     0.74975,     0.75075,     0.75175,     0.75275,     0.75375,     0.75475,     0.75576,     0.75676,     0.75776,     0.75876,     0.75976,     0.76076,     0.76176,     0.76276,     0.76376,     0.76476,     0.76577,     0.76677,     0.76777,\n",
              "           0.76877,     0.76977,     0.77077,     0.77177,     0.77277,     0.77377,     0.77477,     0.77578,     0.77678,     0.77778,     0.77878,     0.77978,     0.78078,     0.78178,     0.78278,     0.78378,     0.78478,     0.78579,     0.78679,     0.78779,     0.78879,     0.78979,     0.79079,     0.79179,\n",
              "           0.79279,     0.79379,     0.79479,      0.7958,      0.7968,      0.7978,      0.7988,      0.7998,      0.8008,      0.8018,      0.8028,      0.8038,      0.8048,     0.80581,     0.80681,     0.80781,     0.80881,     0.80981,     0.81081,     0.81181,     0.81281,     0.81381,     0.81481,     0.81582,\n",
              "           0.81682,     0.81782,     0.81882,     0.81982,     0.82082,     0.82182,     0.82282,     0.82382,     0.82482,     0.82583,     0.82683,     0.82783,     0.82883,     0.82983,     0.83083,     0.83183,     0.83283,     0.83383,     0.83483,     0.83584,     0.83684,     0.83784,     0.83884,     0.83984,\n",
              "           0.84084,     0.84184,     0.84284,     0.84384,     0.84484,     0.84585,     0.84685,     0.84785,     0.84885,     0.84985,     0.85085,     0.85185,     0.85285,     0.85385,     0.85485,     0.85586,     0.85686,     0.85786,     0.85886,     0.85986,     0.86086,     0.86186,     0.86286,     0.86386,\n",
              "           0.86486,     0.86587,     0.86687,     0.86787,     0.86887,     0.86987,     0.87087,     0.87187,     0.87287,     0.87387,     0.87487,     0.87588,     0.87688,     0.87788,     0.87888,     0.87988,     0.88088,     0.88188,     0.88288,     0.88388,     0.88488,     0.88589,     0.88689,     0.88789,\n",
              "           0.88889,     0.88989,     0.89089,     0.89189,     0.89289,     0.89389,     0.89489,      0.8959,      0.8969,      0.8979,      0.8989,      0.8999,      0.9009,      0.9019,      0.9029,      0.9039,      0.9049,     0.90591,     0.90691,     0.90791,     0.90891,     0.90991,     0.91091,     0.91191,\n",
              "           0.91291,     0.91391,     0.91491,     0.91592,     0.91692,     0.91792,     0.91892,     0.91992,     0.92092,     0.92192,     0.92292,     0.92392,     0.92492,     0.92593,     0.92693,     0.92793,     0.92893,     0.92993,     0.93093,     0.93193,     0.93293,     0.93393,     0.93493,     0.93594,\n",
              "           0.93694,     0.93794,     0.93894,     0.93994,     0.94094,     0.94194,     0.94294,     0.94394,     0.94494,     0.94595,     0.94695,     0.94795,     0.94895,     0.94995,     0.95095,     0.95195,     0.95295,     0.95395,     0.95495,     0.95596,     0.95696,     0.95796,     0.95896,     0.95996,\n",
              "           0.96096,     0.96196,     0.96296,     0.96396,     0.96496,     0.96597,     0.96697,     0.96797,     0.96897,     0.96997,     0.97097,     0.97197,     0.97297,     0.97397,     0.97497,     0.97598,     0.97698,     0.97798,     0.97898,     0.97998,     0.98098,     0.98198,     0.98298,     0.98398,\n",
              "           0.98498,     0.98599,     0.98699,     0.98799,     0.98899,     0.98999,     0.99099,     0.99199,     0.99299,     0.99399,     0.99499,       0.996,       0.997,       0.998,       0.999,           1]), array([[   0.085212,    0.085212,      0.1246,      0.1527,     0.17505,     0.19517,     0.21295,     0.22668,     0.24505,     0.25738,     0.26926,     0.27801,     0.28897,     0.29647,     0.30803,     0.31566,     0.32461,     0.33153,     0.34137,     0.34564,     0.35147,     0.35745,     0.36385,\n",
              "            0.37252,     0.37605,      0.3815,     0.38399,     0.38835,     0.39295,     0.40125,     0.40551,     0.41061,     0.41584,     0.41908,     0.42474,     0.42836,     0.43174,     0.43603,     0.43826,     0.43991,     0.44115,     0.44291,     0.44831,     0.44978,     0.45325,      0.4549,\n",
              "            0.45833,     0.46176,     0.46787,     0.47045,     0.47512,     0.47848,     0.48183,     0.48545,     0.48737,     0.49156,     0.49374,      0.4953,     0.49707,      0.4991,     0.50222,     0.50437,     0.50703,     0.50967,     0.51308,     0.51645,     0.52024,     0.52581,     0.52792,\n",
              "            0.52953,     0.53009,     0.53382,      0.5339,      0.5355,     0.53845,       0.539,     0.54145,     0.54246,      0.5435,     0.54477,     0.54532,     0.54717,     0.54855,     0.55065,     0.55158,     0.55343,     0.55627,     0.55677,     0.55748,     0.55832,     0.55984,     0.56052,\n",
              "             0.5619,     0.56314,     0.56418,     0.56668,     0.56715,     0.56827,     0.57169,     0.57375,     0.57386,     0.57672,      0.5767,     0.57847,     0.58035,     0.58098,     0.58306,     0.58487,     0.58629,     0.58709,     0.58751,     0.58843,     0.58824,      0.5893,     0.59103,\n",
              "            0.59264,     0.59469,     0.59515,     0.59558,     0.59785,     0.59832,     0.59973,     0.60041,     0.60115,     0.60274,     0.60343,     0.60494,     0.60621,     0.60982,     0.61011,      0.6104,     0.61069,     0.61209,     0.61339,     0.61389,     0.61442,     0.61508,     0.61585,\n",
              "            0.61665,     0.61732,     0.61814,      0.6192,     0.62035,      0.6217,     0.62218,     0.62262,     0.62275,     0.62312,     0.62285,     0.62272,     0.62375,     0.62417,      0.6246,      0.6251,     0.62566,     0.62759,     0.63067,     0.63149,     0.63465,     0.63696,     0.63945,\n",
              "             0.6399,     0.64034,     0.64152,     0.64195,     0.64235,      0.6428,     0.64541,      0.6461,     0.64799,     0.64875,     0.64955,     0.65003,     0.65042,     0.65081,     0.65336,     0.65366,     0.65395,     0.65425,     0.65464,     0.65534,     0.65589,      0.6563,     0.65671,\n",
              "            0.65926,     0.65981,     0.66034,     0.66118,     0.66341,     0.66445,     0.66556,     0.66657,     0.66704,     0.66744,     0.66785,     0.66835,     0.66886,     0.66943,     0.67007,     0.67138,     0.67211,     0.67263,     0.67327,     0.67407,     0.67468,     0.67526,     0.67588,\n",
              "            0.67662,     0.67662,     0.67822,     0.68016,     0.68083,     0.68155,     0.68253,     0.68457,     0.68525,      0.6865,     0.68658,     0.68758,     0.68858,     0.68931,        0.69,     0.69153,     0.69222,     0.69294,     0.69373,     0.69577,      0.6978,     0.69986,     0.70043,\n",
              "            0.70099,     0.70139,     0.70178,     0.70217,     0.70346,     0.70402,      0.7043,     0.70458,     0.70486,     0.70514,     0.70561,     0.70611,     0.70658,      0.7064,     0.70622,     0.70604,     0.70659,     0.70736,     0.70877,     0.70861,     0.70923,     0.71165,     0.71429,\n",
              "            0.71528,     0.71521,     0.71621,     0.71662,     0.71696,     0.71729,     0.71762,     0.72026,     0.72223,     0.72255,     0.72287,      0.7232,     0.72352,      0.7239,     0.72437,     0.72484,     0.72527,     0.72555,     0.72583,     0.72611,     0.72639,     0.72667,     0.72759,\n",
              "            0.72904,     0.73025,     0.73103,     0.73118,     0.73109,       0.731,     0.73091,     0.73082,     0.73072,     0.73198,     0.73239,     0.73258,     0.73277,     0.73296,     0.73315,     0.73334,     0.73353,     0.73372,     0.73356,     0.73333,     0.73462,     0.73434,     0.73441,\n",
              "            0.73494,     0.73547,     0.73561,     0.73538,     0.73699,     0.73862,     0.73915,     0.73969,     0.73983,     0.73977,     0.73972,     0.73966,      0.7396,     0.73954,     0.73948,     0.73942,     0.73937,      0.7394,     0.73994,     0.74048,     0.74127,      0.7442,     0.74467,\n",
              "            0.74514,     0.74561,     0.74638,     0.74721,     0.74901,     0.74925,     0.74949,     0.74973,     0.74996,      0.7502,     0.75044,     0.75252,     0.75313,     0.75374,     0.75448,     0.75523,     0.75569,     0.75603,     0.75637,     0.75671,     0.75705,      0.7588,     0.75918,\n",
              "            0.75956,     0.75994,     0.76032,     0.76055,      0.7607,     0.76086,     0.76102,     0.76117,     0.76133,     0.76148,     0.76164,      0.7618,     0.76195,     0.76211,     0.76272,     0.76334,     0.76597,     0.76723,     0.76737,     0.76752,     0.76766,     0.76781,     0.76796,\n",
              "             0.7681,     0.76825,     0.76839,     0.76854,     0.76868,     0.76883,     0.77088,     0.77135,     0.77182,     0.77229,     0.77398,     0.77597,     0.77615,     0.77634,     0.77653,     0.77672,     0.77691,     0.77709,     0.77728,     0.77747,     0.77815,     0.77905,     0.78006,\n",
              "            0.78194,     0.78538,     0.78525,     0.78511,     0.78498,     0.78563,     0.78748,     0.78836,     0.78802,     0.78837,     0.78872,     0.78908,     0.78943,     0.78979,     0.79146,     0.79196,     0.79228,     0.79261,     0.79294,     0.79327,      0.7936,     0.79392,     0.79425,\n",
              "            0.79458,     0.79491,     0.79524,     0.79714,     0.79704,     0.79694,     0.79685,     0.79675,     0.79824,     0.79901,     0.79952,     0.80004,     0.80055,     0.80103,     0.80151,     0.80199,     0.80244,     0.80278,     0.80311,     0.80345,     0.80379,     0.80413,     0.80466,\n",
              "            0.80531,     0.80596,     0.80581,     0.80605,     0.80654,     0.80703,     0.80752,     0.80721,     0.80627,     0.80614,     0.80604,     0.80594,     0.80585,     0.80578,     0.80773,     0.80873,     0.80968,     0.81022,     0.81075,     0.81129,     0.81174,     0.81207,     0.81241,\n",
              "            0.81274,     0.81308,     0.81342,     0.81385,     0.81435,     0.81486,     0.81537,     0.81735,     0.81776,     0.81817,     0.81858,     0.81899,     0.81895,      0.8188,     0.81865,     0.81855,     0.81846,     0.81837,     0.81827,     0.81818,     0.81773,     0.81729,      0.8175,\n",
              "            0.81771,     0.81791,     0.81812,     0.81833,     0.81854,     0.81874,     0.81895,     0.81916,      0.8196,     0.82064,     0.82143,     0.82169,     0.82195,     0.82221,     0.82247,     0.82274,       0.823,     0.82326,     0.82352,     0.82378,     0.82405,     0.82431,     0.82457,\n",
              "            0.82484,      0.8251,     0.82536,     0.82696,     0.82908,     0.83159,      0.8315,     0.83142,     0.83133,     0.83124,     0.83295,     0.83489,     0.83492,     0.83482,     0.83471,     0.83463,     0.83517,     0.83572,     0.83626,     0.83668,     0.83601,     0.83675,     0.83748,\n",
              "            0.83856,     0.84252,     0.84308,     0.84364,      0.8442,     0.84449,     0.84428,     0.84461,     0.84574,     0.84626,     0.84606,     0.84652,     0.84766,     0.84859,     0.84935,     0.85011,     0.85014,     0.85025,     0.85063,     0.85101,      0.8514,     0.85178,     0.85216,\n",
              "            0.85258,       0.853,     0.85342,     0.85384,     0.85426,     0.85549,     0.85656,     0.85695,     0.85734,     0.85773,     0.85812,     0.85851,      0.8597,     0.86051,     0.86038,     0.86025,     0.85975,     0.85962,     0.85949,     0.85966,     0.85993,     0.86019,     0.86046,\n",
              "            0.86072,     0.86099,     0.86126,     0.86152,     0.86179,     0.86164,     0.86148,     0.86185,     0.86266,     0.86346,     0.86426,     0.86507,     0.86588,     0.86892,     0.86953,     0.87014,     0.87075,     0.87073,     0.87055,     0.87136,     0.87234,      0.8729,     0.87283,\n",
              "            0.87275,     0.87268,     0.87261,     0.87273,     0.87302,     0.87331,     0.87361,      0.8739,     0.87419,     0.87448,     0.87478,     0.87529,     0.87654,     0.87757,     0.87802,     0.87848,     0.87894,     0.87939,     0.87985,     0.88105,     0.88231,     0.88574,     0.88668,\n",
              "            0.88888,     0.88865,     0.88996,      0.8911,     0.89097,     0.89085,     0.89078,     0.89073,     0.89069,     0.89065,      0.8906,     0.89056,     0.89052,     0.89037,     0.89058,     0.89163,     0.89269,      0.8952,     0.89505,     0.89529,     0.89553,     0.89577,     0.89602,\n",
              "            0.89626,      0.8965,     0.89675,     0.89699,     0.89724,     0.89748,     0.90049,     0.90127,     0.90205,     0.90282,     0.90282,     0.90267,     0.90261,     0.90255,      0.9025,     0.90245,     0.90239,     0.90221,     0.90178,     0.90171,     0.90163,     0.90156,     0.90146,\n",
              "            0.90126,     0.90079,     0.90064,     0.90405,     0.90646,     0.90787,     0.90878,     0.90866,     0.90855,     0.91108,     0.91399,     0.91381,     0.91373,     0.91365,     0.91358,     0.91353,     0.91348,     0.91343,     0.91338,     0.91333,      0.9161,     0.91651,     0.91922,\n",
              "            0.92118,     0.92155,     0.92145,     0.92136,     0.92131,     0.92125,      0.9212,     0.92114,     0.92097,     0.92087,     0.92082,     0.92078,     0.92074,     0.92069,     0.92065,     0.92053,     0.92328,     0.92346,     0.92549,     0.92618,     0.92669,      0.9272,     0.92771,\n",
              "            0.92822,     0.92874,     0.92877,     0.92874,     0.92871,     0.92867,     0.92864,      0.9286,     0.92837,     0.92915,     0.92993,      0.9307,     0.93181,     0.93785,     0.93996,     0.94521,     0.94682,     0.94669,     0.94663,     0.94659,     0.94654,     0.94649,     0.94615,\n",
              "            0.94587,     0.94883,      0.9495,     0.95024,     0.95099,     0.95173,     0.95202,     0.95195,     0.95198,     0.95423,     0.95495,     0.95485,     0.95478,     0.95472,     0.95436,     0.95425,     0.95417,     0.95411,     0.95405,       0.954,     0.95395,      0.9539,     0.95352,\n",
              "            0.95341,     0.95334,     0.95327,     0.95306,     0.95289,     0.95282,     0.95275,     0.95261,     0.95249,     0.95241,     0.95218,     0.95206,     0.95176,     0.95143,      0.9513,     0.95125,      0.9512,     0.95115,      0.9511,     0.95102,     0.95094,     0.95082,     0.95055,\n",
              "            0.95051,     0.95047,     0.95043,      0.9504,     0.95034,     0.95027,     0.95021,     0.95005,     0.94985,     0.94973,     0.94963,     0.94945,     0.94913,     0.94903,     0.95112,     0.95249,     0.95237,     0.95233,      0.9523,     0.95227,     0.95224,      0.9522,     0.95337,\n",
              "            0.95532,     0.95594,     0.95585,     0.95577,      0.9557,      0.9556,     0.95541,     0.95778,     0.95897,     0.95891,     0.95885,     0.96128,     0.96274,     0.96235,     0.96197,     0.96186,     0.96175,     0.96248,     0.96389,     0.96529,     0.96575,     0.96595,     0.96766,\n",
              "            0.96936,     0.96966,      0.9696,     0.96949,     0.96919,     0.96884,     0.96865,     0.97056,      0.9728,     0.97267,     0.97248,     0.97239,     0.97228,     0.97218,     0.97209,     0.97202,     0.97196,     0.97191,     0.97187,     0.97165,     0.97147,     0.97136,     0.97098,\n",
              "            0.97083,     0.97064,     0.96967,     0.96959,     0.96926,     0.96908,       0.969,     0.96891,     0.96868,     0.96862,     0.96853,     0.96824,     0.96805,     0.96735,      0.9671,     0.96943,     0.97232,     0.97614,     0.97737,     0.97726,     0.97719,     0.97706,      0.9767,\n",
              "            0.97637,     0.97615,     0.97606,     0.97596,      0.9816,     0.98125,     0.98119,       0.981,     0.98082,      0.9807,     0.98044,     0.98023,     0.98018,     0.98008,     0.97995,     0.97988,     0.97954,     0.97947,     0.97905,     0.97877,     0.97866,     0.97858,     0.97851,\n",
              "            0.97845,      0.9849,     0.98513,     0.98484,     0.98425,     0.98411,     0.98373,     0.98367,     0.98343,     0.98329,     0.98321,     0.98309,     0.99129,     0.99121,     0.99113,     0.99094,     0.99068,     0.99051,      0.9904,     0.99006,     0.98976,     0.98969,      0.9894,\n",
              "            0.98912,     0.98888,     0.98875,     0.98792,     0.98762,     0.98745,     0.98737,     0.98681,     0.98659,     0.98561,     0.98517,     0.98447,     0.98343,     0.98285,     0.98249,     0.98217,     0.98119,     0.98041,     0.98001,     0.97917,     0.97751,     0.97613,     0.97286,\n",
              "            0.96913,     0.96707,     0.96389,       0.961,     0.95143,     0.94606,           1,           1,           1,           1,           1,           1,           1,           1,           1,           1,           1,           1,           1,           1,           1,           1,           1,\n",
              "                  1,           1,           1,           1,           1,           1,           1,           1,           1,           1,           1,           1,           1,           1,           1,           1,           1,           1,           1,           1,           1,           1,           1,\n",
              "                  1,           1,           1,           1,           1,           1,           1,           1,           1,           1,           1]]), 'Confidence', 'Precision'], [array([          0,    0.001001,    0.002002,    0.003003,    0.004004,    0.005005,    0.006006,    0.007007,    0.008008,    0.009009,     0.01001,    0.011011,    0.012012,    0.013013,    0.014014,    0.015015,    0.016016,    0.017017,    0.018018,    0.019019,     0.02002,    0.021021,    0.022022,    0.023023,\n",
              "          0.024024,    0.025025,    0.026026,    0.027027,    0.028028,    0.029029,     0.03003,    0.031031,    0.032032,    0.033033,    0.034034,    0.035035,    0.036036,    0.037037,    0.038038,    0.039039,     0.04004,    0.041041,    0.042042,    0.043043,    0.044044,    0.045045,    0.046046,    0.047047,\n",
              "          0.048048,    0.049049,     0.05005,    0.051051,    0.052052,    0.053053,    0.054054,    0.055055,    0.056056,    0.057057,    0.058058,    0.059059,     0.06006,    0.061061,    0.062062,    0.063063,    0.064064,    0.065065,    0.066066,    0.067067,    0.068068,    0.069069,     0.07007,    0.071071,\n",
              "          0.072072,    0.073073,    0.074074,    0.075075,    0.076076,    0.077077,    0.078078,    0.079079,     0.08008,    0.081081,    0.082082,    0.083083,    0.084084,    0.085085,    0.086086,    0.087087,    0.088088,    0.089089,     0.09009,    0.091091,    0.092092,    0.093093,    0.094094,    0.095095,\n",
              "          0.096096,    0.097097,    0.098098,    0.099099,      0.1001,      0.1011,      0.1021,      0.1031,      0.1041,     0.10511,     0.10611,     0.10711,     0.10811,     0.10911,     0.11011,     0.11111,     0.11211,     0.11311,     0.11411,     0.11512,     0.11612,     0.11712,     0.11812,     0.11912,\n",
              "           0.12012,     0.12112,     0.12212,     0.12312,     0.12412,     0.12513,     0.12613,     0.12713,     0.12813,     0.12913,     0.13013,     0.13113,     0.13213,     0.13313,     0.13413,     0.13514,     0.13614,     0.13714,     0.13814,     0.13914,     0.14014,     0.14114,     0.14214,     0.14314,\n",
              "           0.14414,     0.14515,     0.14615,     0.14715,     0.14815,     0.14915,     0.15015,     0.15115,     0.15215,     0.15315,     0.15415,     0.15516,     0.15616,     0.15716,     0.15816,     0.15916,     0.16016,     0.16116,     0.16216,     0.16316,     0.16416,     0.16517,     0.16617,     0.16717,\n",
              "           0.16817,     0.16917,     0.17017,     0.17117,     0.17217,     0.17317,     0.17417,     0.17518,     0.17618,     0.17718,     0.17818,     0.17918,     0.18018,     0.18118,     0.18218,     0.18318,     0.18418,     0.18519,     0.18619,     0.18719,     0.18819,     0.18919,     0.19019,     0.19119,\n",
              "           0.19219,     0.19319,     0.19419,      0.1952,      0.1962,      0.1972,      0.1982,      0.1992,      0.2002,      0.2012,      0.2022,      0.2032,      0.2042,     0.20521,     0.20621,     0.20721,     0.20821,     0.20921,     0.21021,     0.21121,     0.21221,     0.21321,     0.21421,     0.21522,\n",
              "           0.21622,     0.21722,     0.21822,     0.21922,     0.22022,     0.22122,     0.22222,     0.22322,     0.22422,     0.22523,     0.22623,     0.22723,     0.22823,     0.22923,     0.23023,     0.23123,     0.23223,     0.23323,     0.23423,     0.23524,     0.23624,     0.23724,     0.23824,     0.23924,\n",
              "           0.24024,     0.24124,     0.24224,     0.24324,     0.24424,     0.24525,     0.24625,     0.24725,     0.24825,     0.24925,     0.25025,     0.25125,     0.25225,     0.25325,     0.25425,     0.25526,     0.25626,     0.25726,     0.25826,     0.25926,     0.26026,     0.26126,     0.26226,     0.26326,\n",
              "           0.26426,     0.26527,     0.26627,     0.26727,     0.26827,     0.26927,     0.27027,     0.27127,     0.27227,     0.27327,     0.27427,     0.27528,     0.27628,     0.27728,     0.27828,     0.27928,     0.28028,     0.28128,     0.28228,     0.28328,     0.28428,     0.28529,     0.28629,     0.28729,\n",
              "           0.28829,     0.28929,     0.29029,     0.29129,     0.29229,     0.29329,     0.29429,      0.2953,      0.2963,      0.2973,      0.2983,      0.2993,      0.3003,      0.3013,      0.3023,      0.3033,      0.3043,     0.30531,     0.30631,     0.30731,     0.30831,     0.30931,     0.31031,     0.31131,\n",
              "           0.31231,     0.31331,     0.31431,     0.31532,     0.31632,     0.31732,     0.31832,     0.31932,     0.32032,     0.32132,     0.32232,     0.32332,     0.32432,     0.32533,     0.32633,     0.32733,     0.32833,     0.32933,     0.33033,     0.33133,     0.33233,     0.33333,     0.33433,     0.33534,\n",
              "           0.33634,     0.33734,     0.33834,     0.33934,     0.34034,     0.34134,     0.34234,     0.34334,     0.34434,     0.34535,     0.34635,     0.34735,     0.34835,     0.34935,     0.35035,     0.35135,     0.35235,     0.35335,     0.35435,     0.35536,     0.35636,     0.35736,     0.35836,     0.35936,\n",
              "           0.36036,     0.36136,     0.36236,     0.36336,     0.36436,     0.36537,     0.36637,     0.36737,     0.36837,     0.36937,     0.37037,     0.37137,     0.37237,     0.37337,     0.37437,     0.37538,     0.37638,     0.37738,     0.37838,     0.37938,     0.38038,     0.38138,     0.38238,     0.38338,\n",
              "           0.38438,     0.38539,     0.38639,     0.38739,     0.38839,     0.38939,     0.39039,     0.39139,     0.39239,     0.39339,     0.39439,      0.3954,      0.3964,      0.3974,      0.3984,      0.3994,      0.4004,      0.4014,      0.4024,      0.4034,      0.4044,     0.40541,     0.40641,     0.40741,\n",
              "           0.40841,     0.40941,     0.41041,     0.41141,     0.41241,     0.41341,     0.41441,     0.41542,     0.41642,     0.41742,     0.41842,     0.41942,     0.42042,     0.42142,     0.42242,     0.42342,     0.42442,     0.42543,     0.42643,     0.42743,     0.42843,     0.42943,     0.43043,     0.43143,\n",
              "           0.43243,     0.43343,     0.43443,     0.43544,     0.43644,     0.43744,     0.43844,     0.43944,     0.44044,     0.44144,     0.44244,     0.44344,     0.44444,     0.44545,     0.44645,     0.44745,     0.44845,     0.44945,     0.45045,     0.45145,     0.45245,     0.45345,     0.45445,     0.45546,\n",
              "           0.45646,     0.45746,     0.45846,     0.45946,     0.46046,     0.46146,     0.46246,     0.46346,     0.46446,     0.46547,     0.46647,     0.46747,     0.46847,     0.46947,     0.47047,     0.47147,     0.47247,     0.47347,     0.47447,     0.47548,     0.47648,     0.47748,     0.47848,     0.47948,\n",
              "           0.48048,     0.48148,     0.48248,     0.48348,     0.48448,     0.48549,     0.48649,     0.48749,     0.48849,     0.48949,     0.49049,     0.49149,     0.49249,     0.49349,     0.49449,      0.4955,      0.4965,      0.4975,      0.4985,      0.4995,      0.5005,      0.5015,      0.5025,      0.5035,\n",
              "            0.5045,     0.50551,     0.50651,     0.50751,     0.50851,     0.50951,     0.51051,     0.51151,     0.51251,     0.51351,     0.51451,     0.51552,     0.51652,     0.51752,     0.51852,     0.51952,     0.52052,     0.52152,     0.52252,     0.52352,     0.52452,     0.52553,     0.52653,     0.52753,\n",
              "           0.52853,     0.52953,     0.53053,     0.53153,     0.53253,     0.53353,     0.53453,     0.53554,     0.53654,     0.53754,     0.53854,     0.53954,     0.54054,     0.54154,     0.54254,     0.54354,     0.54454,     0.54555,     0.54655,     0.54755,     0.54855,     0.54955,     0.55055,     0.55155,\n",
              "           0.55255,     0.55355,     0.55455,     0.55556,     0.55656,     0.55756,     0.55856,     0.55956,     0.56056,     0.56156,     0.56256,     0.56356,     0.56456,     0.56557,     0.56657,     0.56757,     0.56857,     0.56957,     0.57057,     0.57157,     0.57257,     0.57357,     0.57457,     0.57558,\n",
              "           0.57658,     0.57758,     0.57858,     0.57958,     0.58058,     0.58158,     0.58258,     0.58358,     0.58458,     0.58559,     0.58659,     0.58759,     0.58859,     0.58959,     0.59059,     0.59159,     0.59259,     0.59359,     0.59459,      0.5956,      0.5966,      0.5976,      0.5986,      0.5996,\n",
              "            0.6006,      0.6016,      0.6026,      0.6036,      0.6046,     0.60561,     0.60661,     0.60761,     0.60861,     0.60961,     0.61061,     0.61161,     0.61261,     0.61361,     0.61461,     0.61562,     0.61662,     0.61762,     0.61862,     0.61962,     0.62062,     0.62162,     0.62262,     0.62362,\n",
              "           0.62462,     0.62563,     0.62663,     0.62763,     0.62863,     0.62963,     0.63063,     0.63163,     0.63263,     0.63363,     0.63463,     0.63564,     0.63664,     0.63764,     0.63864,     0.63964,     0.64064,     0.64164,     0.64264,     0.64364,     0.64464,     0.64565,     0.64665,     0.64765,\n",
              "           0.64865,     0.64965,     0.65065,     0.65165,     0.65265,     0.65365,     0.65465,     0.65566,     0.65666,     0.65766,     0.65866,     0.65966,     0.66066,     0.66166,     0.66266,     0.66366,     0.66466,     0.66567,     0.66667,     0.66767,     0.66867,     0.66967,     0.67067,     0.67167,\n",
              "           0.67267,     0.67367,     0.67467,     0.67568,     0.67668,     0.67768,     0.67868,     0.67968,     0.68068,     0.68168,     0.68268,     0.68368,     0.68468,     0.68569,     0.68669,     0.68769,     0.68869,     0.68969,     0.69069,     0.69169,     0.69269,     0.69369,     0.69469,      0.6957,\n",
              "            0.6967,      0.6977,      0.6987,      0.6997,      0.7007,      0.7017,      0.7027,      0.7037,      0.7047,     0.70571,     0.70671,     0.70771,     0.70871,     0.70971,     0.71071,     0.71171,     0.71271,     0.71371,     0.71471,     0.71572,     0.71672,     0.71772,     0.71872,     0.71972,\n",
              "           0.72072,     0.72172,     0.72272,     0.72372,     0.72472,     0.72573,     0.72673,     0.72773,     0.72873,     0.72973,     0.73073,     0.73173,     0.73273,     0.73373,     0.73473,     0.73574,     0.73674,     0.73774,     0.73874,     0.73974,     0.74074,     0.74174,     0.74274,     0.74374,\n",
              "           0.74474,     0.74575,     0.74675,     0.74775,     0.74875,     0.74975,     0.75075,     0.75175,     0.75275,     0.75375,     0.75475,     0.75576,     0.75676,     0.75776,     0.75876,     0.75976,     0.76076,     0.76176,     0.76276,     0.76376,     0.76476,     0.76577,     0.76677,     0.76777,\n",
              "           0.76877,     0.76977,     0.77077,     0.77177,     0.77277,     0.77377,     0.77477,     0.77578,     0.77678,     0.77778,     0.77878,     0.77978,     0.78078,     0.78178,     0.78278,     0.78378,     0.78478,     0.78579,     0.78679,     0.78779,     0.78879,     0.78979,     0.79079,     0.79179,\n",
              "           0.79279,     0.79379,     0.79479,      0.7958,      0.7968,      0.7978,      0.7988,      0.7998,      0.8008,      0.8018,      0.8028,      0.8038,      0.8048,     0.80581,     0.80681,     0.80781,     0.80881,     0.80981,     0.81081,     0.81181,     0.81281,     0.81381,     0.81481,     0.81582,\n",
              "           0.81682,     0.81782,     0.81882,     0.81982,     0.82082,     0.82182,     0.82282,     0.82382,     0.82482,     0.82583,     0.82683,     0.82783,     0.82883,     0.82983,     0.83083,     0.83183,     0.83283,     0.83383,     0.83483,     0.83584,     0.83684,     0.83784,     0.83884,     0.83984,\n",
              "           0.84084,     0.84184,     0.84284,     0.84384,     0.84484,     0.84585,     0.84685,     0.84785,     0.84885,     0.84985,     0.85085,     0.85185,     0.85285,     0.85385,     0.85485,     0.85586,     0.85686,     0.85786,     0.85886,     0.85986,     0.86086,     0.86186,     0.86286,     0.86386,\n",
              "           0.86486,     0.86587,     0.86687,     0.86787,     0.86887,     0.86987,     0.87087,     0.87187,     0.87287,     0.87387,     0.87487,     0.87588,     0.87688,     0.87788,     0.87888,     0.87988,     0.88088,     0.88188,     0.88288,     0.88388,     0.88488,     0.88589,     0.88689,     0.88789,\n",
              "           0.88889,     0.88989,     0.89089,     0.89189,     0.89289,     0.89389,     0.89489,      0.8959,      0.8969,      0.8979,      0.8989,      0.8999,      0.9009,      0.9019,      0.9029,      0.9039,      0.9049,     0.90591,     0.90691,     0.90791,     0.90891,     0.90991,     0.91091,     0.91191,\n",
              "           0.91291,     0.91391,     0.91491,     0.91592,     0.91692,     0.91792,     0.91892,     0.91992,     0.92092,     0.92192,     0.92292,     0.92392,     0.92492,     0.92593,     0.92693,     0.92793,     0.92893,     0.92993,     0.93093,     0.93193,     0.93293,     0.93393,     0.93493,     0.93594,\n",
              "           0.93694,     0.93794,     0.93894,     0.93994,     0.94094,     0.94194,     0.94294,     0.94394,     0.94494,     0.94595,     0.94695,     0.94795,     0.94895,     0.94995,     0.95095,     0.95195,     0.95295,     0.95395,     0.95495,     0.95596,     0.95696,     0.95796,     0.95896,     0.95996,\n",
              "           0.96096,     0.96196,     0.96296,     0.96396,     0.96496,     0.96597,     0.96697,     0.96797,     0.96897,     0.96997,     0.97097,     0.97197,     0.97297,     0.97397,     0.97497,     0.97598,     0.97698,     0.97798,     0.97898,     0.97998,     0.98098,     0.98198,     0.98298,     0.98398,\n",
              "           0.98498,     0.98599,     0.98699,     0.98799,     0.98899,     0.98999,     0.99099,     0.99199,     0.99299,     0.99399,     0.99499,       0.996,       0.997,       0.998,       0.999,           1]), array([[    0.94928,     0.94928,     0.94928,     0.94203,     0.93237,     0.93237,     0.92995,     0.92271,     0.92271,     0.92029,     0.92029,     0.92029,     0.92029,     0.92029,     0.92029,     0.92029,     0.92029,     0.92029,     0.92029,     0.91546,     0.91304,     0.91304,     0.91063,\n",
              "            0.91063,     0.91063,     0.90821,     0.90821,     0.90821,     0.90821,     0.90821,     0.90821,     0.90821,     0.90821,     0.90821,      0.9058,      0.9058,      0.9058,      0.9058,     0.90338,     0.90338,     0.90338,     0.90097,     0.89896,     0.89614,     0.89614,     0.89614,\n",
              "            0.89614,     0.89614,     0.89614,     0.89483,     0.89372,     0.89372,     0.89372,     0.89372,     0.89372,     0.89372,     0.89372,     0.89372,     0.89372,     0.89372,     0.89372,     0.89372,     0.89372,     0.89372,      0.8913,      0.8913,      0.8913,      0.8913,      0.8913,\n",
              "             0.8913,     0.88889,     0.88889,     0.88647,     0.88647,     0.88647,     0.88647,     0.88647,     0.88647,     0.88647,     0.88647,     0.88647,     0.88647,     0.88647,     0.88647,     0.88406,     0.88406,     0.88406,     0.88406,     0.88406,     0.88406,     0.88406,     0.88406,\n",
              "            0.88406,     0.88406,     0.88406,     0.88406,     0.88164,     0.88164,     0.88164,     0.87923,     0.87681,     0.87681,     0.87536,      0.8744,      0.8744,      0.8744,      0.8744,      0.8744,      0.8744,      0.8744,      0.8744,     0.87373,     0.87198,     0.87198,     0.87198,\n",
              "            0.87198,     0.87198,     0.87198,     0.87198,     0.87198,     0.87198,     0.87198,     0.87198,     0.87198,     0.87198,     0.87198,     0.87198,     0.87198,     0.87198,     0.87198,     0.87198,     0.87198,     0.87198,     0.86957,     0.86957,     0.86957,     0.86957,     0.86957,\n",
              "            0.86957,     0.86957,     0.86957,     0.86957,     0.86957,     0.86957,     0.86957,     0.86957,     0.86715,     0.86661,     0.86562,     0.86473,     0.86473,     0.86473,     0.86473,     0.86473,     0.86473,     0.86473,     0.86473,     0.86473,     0.86473,     0.86473,     0.86473,\n",
              "            0.86473,     0.86473,     0.86473,     0.86473,     0.86473,     0.86473,     0.86473,     0.86473,     0.86473,     0.86473,     0.86473,     0.86473,     0.86473,     0.86473,     0.86473,     0.86473,     0.86473,     0.86473,     0.86473,     0.86473,     0.86473,     0.86473,     0.86473,\n",
              "            0.86473,     0.86473,     0.86473,     0.86473,     0.86473,     0.86473,     0.86473,     0.86473,     0.86473,     0.86473,     0.86473,     0.86473,     0.86473,     0.86473,     0.86473,     0.86473,     0.86473,     0.86473,     0.86473,     0.86473,     0.86473,     0.86473,      0.8599,\n",
              "            0.85917,     0.85749,     0.85749,     0.85749,     0.85749,     0.85749,     0.85749,     0.85749,     0.85749,     0.85689,     0.85507,     0.85507,     0.85507,     0.85507,     0.85507,     0.85507,     0.85507,     0.85507,     0.85507,     0.85507,     0.85507,     0.85507,     0.85507,\n",
              "            0.85507,     0.85507,     0.85507,     0.85507,     0.85507,     0.85507,     0.85507,     0.85507,     0.85507,     0.85507,     0.85507,     0.85507,     0.85503,      0.8543,     0.85357,     0.85283,     0.85266,     0.85266,     0.85266,     0.85024,     0.85024,     0.85024,     0.85024,\n",
              "            0.85024,     0.84783,     0.84783,     0.84783,     0.84783,     0.84783,     0.84783,     0.84783,     0.84783,     0.84783,     0.84783,     0.84783,     0.84783,     0.84783,     0.84783,     0.84783,     0.84783,     0.84783,     0.84783,     0.84783,     0.84783,     0.84783,     0.84783,\n",
              "            0.84783,     0.84783,     0.84783,     0.84754,     0.84715,     0.84675,     0.84635,     0.84596,     0.84556,     0.84541,     0.84541,     0.84541,     0.84541,     0.84541,     0.84541,     0.84541,     0.84541,     0.84541,     0.84458,     0.84359,      0.8425,     0.84127,     0.84058,\n",
              "            0.84058,     0.84058,     0.84007,     0.83907,     0.83816,     0.83816,     0.83816,     0.83816,       0.838,     0.83774,     0.83749,     0.83723,     0.83698,     0.83673,     0.83647,     0.83622,     0.83596,     0.83575,     0.83575,     0.83575,     0.83575,     0.83575,     0.83575,\n",
              "            0.83575,     0.83575,     0.83575,     0.83575,     0.83575,     0.83575,     0.83575,     0.83575,     0.83575,     0.83575,     0.83575,     0.83575,     0.83575,     0.83575,     0.83575,     0.83575,     0.83575,     0.83575,     0.83575,     0.83575,     0.83575,     0.83575,     0.83575,\n",
              "            0.83575,     0.83575,     0.83575,     0.83575,     0.83575,     0.83575,     0.83575,     0.83575,     0.83575,     0.83575,     0.83575,     0.83575,     0.83575,     0.83575,     0.83575,     0.83575,     0.83575,     0.83575,     0.83575,     0.83575,     0.83575,     0.83575,     0.83575,\n",
              "            0.83575,     0.83575,     0.83575,     0.83575,     0.83575,     0.83575,     0.83575,     0.83575,     0.83575,     0.83575,     0.83575,     0.83575,     0.83575,     0.83575,     0.83575,     0.83575,     0.83575,     0.83575,     0.83575,     0.83575,     0.83575,     0.83575,     0.83092,\n",
              "            0.83092,     0.83088,     0.83022,     0.82956,      0.8289,      0.8285,      0.8285,     0.82776,     0.82611,     0.82609,     0.82609,     0.82609,     0.82609,     0.82609,     0.82609,     0.82609,     0.82609,     0.82609,     0.82609,     0.82609,     0.82609,     0.82609,     0.82609,\n",
              "            0.82609,     0.82609,     0.82609,     0.82576,     0.82526,     0.82477,     0.82427,     0.82378,     0.82367,     0.82367,     0.82367,     0.82367,     0.82367,     0.82367,     0.82367,     0.82367,     0.82367,     0.82367,     0.82367,     0.82367,     0.82367,     0.82367,     0.82367,\n",
              "            0.82367,     0.82367,     0.82189,     0.82126,     0.82126,     0.82126,     0.82126,     0.81918,     0.81428,     0.81357,     0.81307,     0.81258,     0.81208,     0.81159,     0.81159,     0.81159,     0.81159,     0.81159,     0.81159,     0.81159,     0.81159,     0.81159,     0.81159,\n",
              "            0.81159,     0.81159,     0.81159,     0.81159,     0.81159,     0.81159,     0.81159,     0.80918,     0.80918,     0.80918,     0.80918,     0.80918,     0.80853,      0.8077,     0.80687,     0.80633,     0.80584,     0.80534,     0.80485,     0.80435,      0.8019,     0.79952,     0.79952,\n",
              "            0.79952,     0.79952,     0.79952,     0.79952,     0.79952,     0.79952,     0.79952,     0.79952,     0.79952,     0.79952,     0.79952,     0.79952,     0.79952,     0.79952,     0.79952,     0.79952,     0.79952,     0.79952,     0.79952,     0.79952,     0.79952,     0.79952,     0.79952,\n",
              "            0.79952,     0.79952,     0.79952,     0.79952,     0.79952,     0.79914,     0.79864,     0.79815,     0.79765,     0.79716,      0.7949,     0.79469,      0.7941,     0.79349,     0.79287,     0.79227,     0.79227,     0.79227,     0.79227,     0.79194,     0.78744,     0.78744,     0.78744,\n",
              "            0.78744,     0.78744,     0.78744,     0.78744,     0.78744,       0.787,     0.78576,     0.78502,     0.78502,     0.78446,     0.78323,     0.78261,     0.78261,     0.78261,     0.78261,     0.78261,     0.78107,     0.78019,     0.78019,     0.78019,     0.78019,     0.78019,     0.78019,\n",
              "            0.78019,     0.78019,     0.78019,     0.78019,     0.78019,     0.78019,     0.77778,     0.77778,     0.77778,     0.77778,     0.77778,     0.77778,     0.77536,     0.77485,     0.77402,      0.7732,     0.76996,     0.76913,     0.76831,     0.76812,     0.76812,     0.76812,     0.76812,\n",
              "            0.76812,     0.76812,     0.76812,     0.76812,     0.76812,     0.76714,     0.76615,      0.7657,      0.7657,      0.7657,      0.7657,      0.7657,      0.7657,      0.7657,      0.7657,      0.7657,      0.7657,     0.76472,     0.76348,     0.76329,     0.76329,     0.76308,     0.76259,\n",
              "            0.76209,      0.7616,      0.7611,     0.76087,     0.76087,     0.76087,     0.76087,     0.76087,     0.76087,     0.76087,     0.76087,     0.76087,     0.76087,     0.76087,     0.76087,     0.76087,     0.76087,     0.76087,     0.76087,     0.76087,     0.76087,     0.75845,       0.756,\n",
              "            0.75353,     0.75121,     0.75121,      0.7511,     0.75011,     0.74912,     0.74857,     0.74824,     0.74791,     0.74758,     0.74725,     0.74692,     0.74659,     0.74549,     0.74396,     0.74396,     0.74396,     0.74279,     0.74156,     0.74155,     0.74155,     0.74155,     0.74155,\n",
              "            0.74155,     0.74155,     0.74155,     0.74155,     0.74155,     0.74155,     0.74155,     0.74155,     0.74155,     0.74155,      0.7405,     0.73926,     0.73873,     0.73828,     0.73783,     0.73738,     0.73693,     0.73541,     0.73184,     0.73122,     0.73061,     0.72999,      0.7292,\n",
              "            0.72755,     0.72377,     0.72253,     0.72222,     0.72222,     0.72222,     0.72189,      0.7209,     0.71991,     0.71981,     0.71874,     0.71707,     0.71636,     0.71565,     0.71496,     0.71451,     0.71406,     0.71361,     0.71316,     0.71271,      0.7121,     0.71014,     0.71014,\n",
              "            0.71014,     0.70938,     0.70839,     0.70755,       0.707,     0.70645,      0.7059,     0.70534,     0.70376,      0.7027,     0.70229,     0.70187,     0.70146,     0.70105,     0.70064,     0.69945,     0.69766,     0.69565,     0.69565,     0.69324,     0.69324,     0.69324,     0.69324,\n",
              "            0.69324,     0.69324,     0.69293,     0.69257,     0.69222,     0.69187,     0.69151,     0.69116,     0.68841,     0.68841,     0.68841,     0.68841,     0.68841,     0.68841,     0.68841,     0.68841,     0.68801,     0.68636,     0.68551,     0.68489,     0.68427,     0.68365,       0.679,\n",
              "            0.67532,     0.67177,      0.6715,      0.6715,      0.6715,      0.6715,     0.67095,     0.66996,     0.66667,     0.66667,     0.66559,     0.66406,     0.66307,     0.66208,     0.65657,     0.65492,      0.6538,     0.65281,     0.65192,     0.65121,      0.6505,      0.6498,     0.64417,\n",
              "            0.64252,     0.64153,     0.64054,     0.63751,     0.63517,     0.63418,     0.63319,     0.63123,      0.6296,     0.62836,     0.62521,     0.62356,     0.61949,     0.61517,     0.61332,      0.6127,     0.61208,     0.61146,     0.61068,     0.60969,      0.6087,     0.60705,      0.6036,\n",
              "            0.60311,     0.60261,     0.60212,     0.60162,     0.60091,     0.60008,     0.59926,     0.59723,     0.59476,     0.59324,     0.59201,     0.58975,     0.58591,     0.58467,     0.58213,     0.58105,     0.57952,     0.57911,      0.5787,     0.57828,     0.57787,     0.57746,     0.57729,\n",
              "            0.57729,     0.57649,     0.57525,     0.57418,     0.57319,     0.57181,     0.56934,     0.56763,     0.56454,     0.56371,     0.56289,      0.5628,     0.56173,      0.5557,     0.54993,     0.54828,     0.54663,     0.54589,     0.54589,     0.54589,     0.54485,     0.54348,     0.54348,\n",
              "            0.54348,     0.54034,     0.53935,     0.53722,     0.53183,     0.52573,     0.52236,     0.52174,     0.52174,     0.51583,     0.51222,     0.51047,      0.5084,     0.50637,     0.50475,     0.50351,     0.50232,     0.50149,     0.50067,     0.49664,     0.49343,     0.49155,     0.48485,\n",
              "            0.48238,     0.47912,     0.46335,     0.46211,     0.45702,      0.4543,     0.45296,     0.45173,     0.44831,     0.44732,     0.44598,     0.44186,     0.43915,     0.42936,     0.42597,     0.42512,     0.42417,     0.42271,     0.41728,     0.41513,     0.41389,     0.41149,     0.40496,\n",
              "            0.39917,      0.3955,     0.39385,     0.39219,     0.38661,     0.37924,     0.37799,     0.37417,      0.3706,     0.36812,     0.36323,     0.35928,     0.35829,     0.35654,      0.3542,     0.35296,     0.34689,     0.34566,     0.33859,     0.33407,     0.33228,     0.33104,     0.33003,\n",
              "            0.32904,     0.32367,     0.32005,      0.3139,     0.30182,     0.29917,     0.29215,     0.29091,     0.28673,     0.28421,     0.28297,     0.28086,     0.27476,     0.27229,     0.26981,     0.26414,     0.25677,     0.25222,     0.24929,     0.24052,     0.23358,     0.23193,     0.22545,\n",
              "             0.2197,     0.21486,     0.21221,     0.19759,     0.19264,     0.19004,      0.1888,     0.18068,     0.17767,     0.16547,     0.16052,     0.15315,     0.14337,     0.13841,     0.13557,      0.1331,     0.12597,      0.1209,     0.11842,     0.11353,     0.10502,    0.098799,    0.086601,\n",
              "           0.075849,    0.070957,    0.064499,    0.059547,    0.047349,    0.042397,    0.037446,    0.034363,    0.027542,     0.02458,    0.020054,    0.011626,    0.010388,   0.0091499,   0.0079119,   0.0067884,   0.0057981,    0.004822,   0.0044411,   0.0040602,   0.0036793,   0.0032984,   0.0029174,\n",
              "          0.0025365,           0,           0,           0,           0,           0,           0,           0,           0,           0,           0,           0,           0,           0,           0,           0,           0,           0,           0,           0,           0,           0,           0,\n",
              "                  0,           0,           0,           0,           0,           0,           0,           0,           0,           0,           0]]), 'Confidence', 'Recall']]\n",
              "fitness: np.float64(0.6499280754612081)\n",
              "keys: ['metrics/precision(B)', 'metrics/recall(B)', 'metrics/mAP50(B)', 'metrics/mAP50-95(B)']\n",
              "maps: array([    0.62688])\n",
              "names: {0: 'Mangrove_Trunk'}\n",
              "plot: True\n",
              "results_dict: {'metrics/precision(B)': np.float64(0.8616362076109336), 'metrics/recall(B)': np.float64(0.767135734768585), 'metrics/mAP50(B)': np.float64(0.8573992805536934), 'metrics/mAP50-95(B)': np.float64(0.6268757193398209), 'fitness': np.float64(0.6499280754612081)}\n",
              "save_dir: PosixPath('runs/detect/train')\n",
              "speed: {'preprocess': 0.13387737930833252, 'inference': 1.6623513534474614, 'loss': 0.0010477672413673708, 'postprocess': 9.46960030172516}\n",
              "task: 'detect'"
            ]
          },
          "metadata": {},
          "execution_count": 4
        }
      ]
    },
    {
      "cell_type": "code",
      "source": [
        "yolov8s_model=YOLO('/content/drive/MyDrive/FYP/YOLO Models/(N)yolov8s_model4.pt')"
      ],
      "metadata": {
        "id": "qR8Ibgpa9SYZ"
      },
      "execution_count": null,
      "outputs": []
    },
    {
      "cell_type": "code",
      "source": [
        "import os\n",
        "from ultralytics import YOLO\n",
        "\n",
        "# Load your trained YOLO model\n",
        "model = YOLO('/content/drive/MyDrive/FYP/YOLO Models/(N)yolov8s_model4.pt')  # Replace with your model path\n",
        "\n",
        "# Define the output directory in your Google Drive\n",
        "output_dir = '/content/drive/MyDrive/FYP/YOLOv8 val images'  # Replace with your desired path\n",
        "\n",
        "# Create the output directory if it doesn't exist\n",
        "os.makedirs(output_dir, exist_ok=True)\n",
        "\n",
        "# Predict on new images\n",
        "results = model.predict(source='/content/drive/MyDrive/FYP/Mangrove Detection.v6i.yolov8/test/images', save=True, save_txt=True, imgsz=640)  # Replace with your image path\n",
        "\n",
        "# Iterate through the results and save the output with trunk count\n",
        "for i, result in enumerate(results):\n",
        "    # Get the number of trunks detected\n",
        "    trunk_count = len(result.boxes.cls)\n",
        "\n",
        "    # Create a filename for the output image and text file\n",
        "    filename = os.path.join(output_dir, f'image_{i}.jpg')  # Adjust file extension if needed\n",
        "    txt_filename = os.path.join(output_dir, f'image_{i}.txt')  # Adjust file extension if needed\n",
        "\n",
        "    # Save the image with bounding boxes\n",
        "    # result.save(save_dir=output_dir, file_name=f'image_{i}.jpg')  # Adjust file extension if needed\n",
        "    result.save(filename=filename)\n",
        "\n",
        "    # Save the trunk count to a text file\n",
        "    with open(txt_filename, 'w') as f:\n",
        "        f.write(f\"Number of trunks detected: {trunk_count}\\n\")\n",
        "\n",
        "    # Print the trunk count for each image (optional)\n",
        "    print(f\"Number of trunks detected in image_{i}: {trunk_count}\")"
      ],
      "metadata": {
        "colab": {
          "base_uri": "https://localhost:8080/"
        },
        "id": "ll5C-Yacmzan",
        "outputId": "fa66b5ae-0c97-4449-f879-d9e76af21347"
      },
      "execution_count": null,
      "outputs": [
        {
          "output_type": "stream",
          "name": "stdout",
          "text": [
            "\n",
            "image 1/62 /content/drive/MyDrive/FYP/Mangrove Detection.v6i.yolov8/test/images/004_jpg.rf.eae45c55ef3644cd8031f6ce2fb584ea.jpg: 384x640 3 Mangrove_Trunks, 9.0ms\n",
            "image 2/62 /content/drive/MyDrive/FYP/Mangrove Detection.v6i.yolov8/test/images/020_jpg.rf.c97e080ab29c818cfbd9a44d308fb9c7.jpg: 384x640 2 Mangrove_Trunks, 8.5ms\n",
            "image 3/62 /content/drive/MyDrive/FYP/Mangrove Detection.v6i.yolov8/test/images/030_jpg.rf.ad3af64c561b964de619b13ced4476a9.jpg: 480x640 5 Mangrove_Trunks, 8.6ms\n",
            "image 4/62 /content/drive/MyDrive/FYP/Mangrove Detection.v6i.yolov8/test/images/049_jpg.rf.85ef6eb0a767a45dfb47c8aaf43636aa.jpg: 384x640 6 Mangrove_Trunks, 8.7ms\n",
            "image 5/62 /content/drive/MyDrive/FYP/Mangrove Detection.v6i.yolov8/test/images/050_jpg.rf.b0eec227954a2c958e24c1d6cf0ec3e8.jpg: 480x640 8 Mangrove_Trunks, 8.9ms\n",
            "image 6/62 /content/drive/MyDrive/FYP/Mangrove Detection.v6i.yolov8/test/images/065_jpg.rf.47fc74a328622ceaf425730de8e568ec.jpg: 384x640 7 Mangrove_Trunks, 9.0ms\n",
            "image 7/62 /content/drive/MyDrive/FYP/Mangrove Detection.v6i.yolov8/test/images/068_jpg.rf.03a1fbe894704ab5ad79d0f787a6bf53.jpg: 384x640 5 Mangrove_Trunks, 8.1ms\n",
            "image 8/62 /content/drive/MyDrive/FYP/Mangrove Detection.v6i.yolov8/test/images/084_jpg.rf.90b9179bc4e8532eeb0b7dd13aa68961.jpg: 480x640 5 Mangrove_Trunks, 10.4ms\n",
            "image 9/62 /content/drive/MyDrive/FYP/Mangrove Detection.v6i.yolov8/test/images/102_jpg.rf.4573ed682eb45c96b0a5fcac29036df8.jpg: 384x640 8 Mangrove_Trunks, 8.7ms\n",
            "image 10/62 /content/drive/MyDrive/FYP/Mangrove Detection.v6i.yolov8/test/images/103_jpg.rf.9ccc4ab58b5b5959f70b37b53839d784.jpg: 384x640 6 Mangrove_Trunks, 8.1ms\n",
            "image 11/62 /content/drive/MyDrive/FYP/Mangrove Detection.v6i.yolov8/test/images/113_jpg.rf.12e6a7e0b213255679df74a5fa5df2a8.jpg: 384x640 6 Mangrove_Trunks, 8.0ms\n",
            "image 12/62 /content/drive/MyDrive/FYP/Mangrove Detection.v6i.yolov8/test/images/IMG_20241207_181452_jpg.rf.010d6d1cf90269f3a2e8c2b924fd5647.jpg: 384x640 8 Mangrove_Trunks, 8.1ms\n",
            "image 13/62 /content/drive/MyDrive/FYP/Mangrove Detection.v6i.yolov8/test/images/IMG_20241207_181955_jpg.rf.e9c6cc583b6f9bb3dd858348853d0979.jpg: 384x640 4 Mangrove_Trunks, 8.1ms\n",
            "image 14/62 /content/drive/MyDrive/FYP/Mangrove Detection.v6i.yolov8/test/images/IMG_20241207_182408_jpg.rf.48c229735c27815a39e437582a5d46c1.jpg: 384x640 3 Mangrove_Trunks, 8.1ms\n",
            "image 15/62 /content/drive/MyDrive/FYP/Mangrove Detection.v6i.yolov8/test/images/IMG_20241207_182620_jpg.rf.9a02c5fc1e480ecc9f23a2806881b5ae.jpg: 384x640 10 Mangrove_Trunks, 8.5ms\n",
            "image 16/62 /content/drive/MyDrive/FYP/Mangrove Detection.v6i.yolov8/test/images/IMG_20241207_182712_jpg.rf.a0f618b19686a845b5f4b06b96182fe8.jpg: 480x640 4 Mangrove_Trunks, 8.6ms\n",
            "image 17/62 /content/drive/MyDrive/FYP/Mangrove Detection.v6i.yolov8/test/images/IMG_20241207_182756_jpg.rf.36d00eb5fadc9390550539bec345d334.jpg: 480x640 6 Mangrove_Trunks, 7.8ms\n",
            "image 18/62 /content/drive/MyDrive/FYP/Mangrove Detection.v6i.yolov8/test/images/IMG_20241207_182802_jpg.rf.ffd616200d355bd29697daccd1b89877.jpg: 480x640 4 Mangrove_Trunks, 7.9ms\n",
            "image 19/62 /content/drive/MyDrive/FYP/Mangrove Detection.v6i.yolov8/test/images/IMG_20241207_182900_jpg.rf.4a198a6b863ddc3dd46e2ae13c2c55cb.jpg: 384x640 2 Mangrove_Trunks, 8.7ms\n",
            "image 20/62 /content/drive/MyDrive/FYP/Mangrove Detection.v6i.yolov8/test/images/IMG_20241207_183003_jpg.rf.a03f28ecddf96175399ddff4fb31c36f.jpg: 480x640 10 Mangrove_Trunks, 8.5ms\n",
            "image 21/62 /content/drive/MyDrive/FYP/Mangrove Detection.v6i.yolov8/test/images/IMG_20241207_183012_jpg.rf.5e095eefba454aabe2e568fa35d97019.jpg: 384x640 3 Mangrove_Trunks, 8.9ms\n",
            "image 22/62 /content/drive/MyDrive/FYP/Mangrove Detection.v6i.yolov8/test/images/IMG_20241207_183358_jpg.rf.4007012e538f61843638c25c293f54b1.jpg: 480x640 3 Mangrove_Trunks, 8.7ms\n",
            "image 23/62 /content/drive/MyDrive/FYP/Mangrove Detection.v6i.yolov8/test/images/IMG_20241207_183429_jpg.rf.f2c27174dd67adf0bba56ac391e9f24c.jpg: 480x640 9 Mangrove_Trunks, 8.2ms\n",
            "image 24/62 /content/drive/MyDrive/FYP/Mangrove Detection.v6i.yolov8/test/images/IMG_20241207_183550_jpg.rf.325bc18ce1e70e41e70c44e9ed6baf3c.jpg: 384x640 4 Mangrove_Trunks, 8.7ms\n",
            "image 25/62 /content/drive/MyDrive/FYP/Mangrove Detection.v6i.yolov8/test/images/IMG_20241207_183558_jpg.rf.18061cf5a243efb81f09db2461d0a867.jpg: 480x640 2 Mangrove_Trunks, 8.7ms\n",
            "image 26/62 /content/drive/MyDrive/FYP/Mangrove Detection.v6i.yolov8/test/images/IMG_20241207_183612_jpg.rf.4c487d368a5f135acb9ffca6d292879e.jpg: 384x640 6 Mangrove_Trunks, 8.8ms\n",
            "image 27/62 /content/drive/MyDrive/FYP/Mangrove Detection.v6i.yolov8/test/images/IMG_20241207_183615_jpg.rf.5a29aada43f582c16d954e3ff088433e.jpg: 384x640 4 Mangrove_Trunks, 8.1ms\n",
            "image 28/62 /content/drive/MyDrive/FYP/Mangrove Detection.v6i.yolov8/test/images/IMG_20241207_183635_jpg.rf.7857d267de3497227e28ef4b6d2a6192.jpg: 480x640 11 Mangrove_Trunks, 8.8ms\n",
            "image 29/62 /content/drive/MyDrive/FYP/Mangrove Detection.v6i.yolov8/test/images/IMG_20241207_183638_jpg.rf.748872cefdad783316375ad8da7d8800.jpg: 480x640 3 Mangrove_Trunks, 8.0ms\n",
            "image 30/62 /content/drive/MyDrive/FYP/Mangrove Detection.v6i.yolov8/test/images/IMG_20241207_183732_jpg.rf.c4912965fef310b2a4ad33c92a489ba1.jpg: 480x640 6 Mangrove_Trunks, 8.2ms\n",
            "image 31/62 /content/drive/MyDrive/FYP/Mangrove Detection.v6i.yolov8/test/images/IMG_20250302_162812_jpg.rf.36990217c3375005b5adfcca0fa8d009.jpg: 480x640 3 Mangrove_Trunks, 8.4ms\n",
            "image 32/62 /content/drive/MyDrive/FYP/Mangrove Detection.v6i.yolov8/test/images/IMG_20250302_162847_jpg.rf.d6519672bab3fbc293fdd082240392f3.jpg: 480x640 3 Mangrove_Trunks, 8.5ms\n",
            "image 33/62 /content/drive/MyDrive/FYP/Mangrove Detection.v6i.yolov8/test/images/IMG_20250302_162902_jpg.rf.f0a7c6c49b6dec226e6333218bfd86d5.jpg: 480x640 2 Mangrove_Trunks, 8.2ms\n",
            "image 34/62 /content/drive/MyDrive/FYP/Mangrove Detection.v6i.yolov8/test/images/IMG_20250302_163455_jpg.rf.57e42cd94f2bb76d712fc9253dfb5ee8.jpg: 480x640 3 Mangrove_Trunks, 8.2ms\n",
            "image 35/62 /content/drive/MyDrive/FYP/Mangrove Detection.v6i.yolov8/test/images/IMG_20250302_163456_jpg.rf.a9172a117198beb8e5fbb8ca4b66d44f.jpg: 480x640 2 Mangrove_Trunks, 8.0ms\n",
            "image 36/62 /content/drive/MyDrive/FYP/Mangrove Detection.v6i.yolov8/test/images/IMG_20250302_163504_jpg.rf.586c98b9b11aae5bf082b67b87fc84fc.jpg: 480x640 7 Mangrove_Trunks, 9.5ms\n",
            "image 37/62 /content/drive/MyDrive/FYP/Mangrove Detection.v6i.yolov8/test/images/IMG_20250302_163722_jpg.rf.c36dd8adaf5f25f331e523a7fd9c56a3.jpg: 480x640 5 Mangrove_Trunks, 8.2ms\n",
            "image 38/62 /content/drive/MyDrive/FYP/Mangrove Detection.v6i.yolov8/test/images/IMG_20250302_163723_jpg.rf.c6818d632033c3622647e94646dc15ea.jpg: 480x640 1 Mangrove_Trunk, 8.0ms\n",
            "image 39/62 /content/drive/MyDrive/FYP/Mangrove Detection.v6i.yolov8/test/images/IMG_20250302_163919_jpg.rf.9a5db4edd10975c736efa262162409fb.jpg: 480x640 6 Mangrove_Trunks, 8.0ms\n",
            "image 40/62 /content/drive/MyDrive/FYP/Mangrove Detection.v6i.yolov8/test/images/IMG_20250302_163928_jpg.rf.22ca9fd1fca72bf4e313e1323e1b1174.jpg: 480x640 4 Mangrove_Trunks, 7.9ms\n",
            "image 41/62 /content/drive/MyDrive/FYP/Mangrove Detection.v6i.yolov8/test/images/IMG_20250302_164000_jpg.rf.a75f0fb551103a35c1b71831933826f9.jpg: 480x640 1 Mangrove_Trunk, 8.1ms\n",
            "image 42/62 /content/drive/MyDrive/FYP/Mangrove Detection.v6i.yolov8/test/images/IMG_20250302_164042_jpg.rf.ed40005b81bfe1835ecc4b6127de1c31.jpg: 480x640 7 Mangrove_Trunks, 8.1ms\n",
            "image 43/62 /content/drive/MyDrive/FYP/Mangrove Detection.v6i.yolov8/test/images/IMG_20250302_164309_jpg.rf.2008800a2c2ec68ffacd8d44edbc301e.jpg: 480x640 1 Mangrove_Trunk, 8.2ms\n",
            "image 44/62 /content/drive/MyDrive/FYP/Mangrove Detection.v6i.yolov8/test/images/IMG_20250302_164316_jpg.rf.cc71b2dd2228a87df19eb64b7a9732a2.jpg: 480x640 1 Mangrove_Trunk, 8.5ms\n",
            "image 45/62 /content/drive/MyDrive/FYP/Mangrove Detection.v6i.yolov8/test/images/IMG_20250302_164444_jpg.rf.8e03b5d7d2598107b738222e59cefc8a.jpg: 480x640 5 Mangrove_Trunks, 8.6ms\n",
            "image 46/62 /content/drive/MyDrive/FYP/Mangrove Detection.v6i.yolov8/test/images/IMG_20250302_164453_jpg.rf.bda68298d06184666c7abff6972ba864.jpg: 480x640 3 Mangrove_Trunks, 8.7ms\n",
            "image 47/62 /content/drive/MyDrive/FYP/Mangrove Detection.v6i.yolov8/test/images/IMG_20250302_164645_jpg.rf.c11fa609539cee99bc5bfc1ff28f11b1.jpg: 480x640 4 Mangrove_Trunks, 8.3ms\n",
            "image 48/62 /content/drive/MyDrive/FYP/Mangrove Detection.v6i.yolov8/test/images/IMG_20250302_164756_jpg.rf.8c8e1cb1da08cdcd3305f52134779807.jpg: 480x640 1 Mangrove_Trunk, 9.6ms\n",
            "image 49/62 /content/drive/MyDrive/FYP/Mangrove Detection.v6i.yolov8/test/images/IMG_20250302_164930_jpg.rf.b2d1a9169dc7a3d4dd8aff13395b59be.jpg: 480x640 8 Mangrove_Trunks, 7.9ms\n",
            "image 50/62 /content/drive/MyDrive/FYP/Mangrove Detection.v6i.yolov8/test/images/IMG_20250302_165338_jpg.rf.faa9ebd934b31d7fd20f1c316b358101.jpg: 480x640 3 Mangrove_Trunks, 7.9ms\n",
            "image 51/62 /content/drive/MyDrive/FYP/Mangrove Detection.v6i.yolov8/test/images/IMG_20250302_165340_jpg.rf.cd2e34ee8a9bcb1eea6b38abcc1e925f.jpg: 480x640 2 Mangrove_Trunks, 8.1ms\n",
            "image 52/62 /content/drive/MyDrive/FYP/Mangrove Detection.v6i.yolov8/test/images/IMG_20250302_165406_jpg.rf.34655067fd295c496a972887a517edd8.jpg: 480x640 2 Mangrove_Trunks, 8.0ms\n",
            "image 53/62 /content/drive/MyDrive/FYP/Mangrove Detection.v6i.yolov8/test/images/IMG_20250302_165514_jpg.rf.6cef5588d2d0437412e754adb0aafef0.jpg: 480x640 2 Mangrove_Trunks, 7.9ms\n",
            "image 54/62 /content/drive/MyDrive/FYP/Mangrove Detection.v6i.yolov8/test/images/IMG_20250302_165836_jpg.rf.614ef6bab5c7f1006875954159961ab4.jpg: 480x640 3 Mangrove_Trunks, 8.2ms\n",
            "image 55/62 /content/drive/MyDrive/FYP/Mangrove Detection.v6i.yolov8/test/images/IMG_20250302_165923_jpg.rf.05ad3759e4465c406520bb9d01721b8e.jpg: 480x640 1 Mangrove_Trunk, 8.4ms\n",
            "image 56/62 /content/drive/MyDrive/FYP/Mangrove Detection.v6i.yolov8/test/images/IMG_20250302_165937_jpg.rf.0d2c53639fb8d97c03fc6691091ae86b.jpg: 480x640 2 Mangrove_Trunks, 7.9ms\n",
            "image 57/62 /content/drive/MyDrive/FYP/Mangrove Detection.v6i.yolov8/test/images/IMG_20250302_170253_jpg.rf.5afc3d2a84c1c68eec45c17245a30573.jpg: 480x640 3 Mangrove_Trunks, 8.1ms\n",
            "image 58/62 /content/drive/MyDrive/FYP/Mangrove Detection.v6i.yolov8/test/images/IMG_20250302_170320_jpg.rf.eafd8fe08d6eb98d5a1d237c43e4a808.jpg: 480x640 5 Mangrove_Trunks, 8.1ms\n",
            "image 59/62 /content/drive/MyDrive/FYP/Mangrove Detection.v6i.yolov8/test/images/IMG_20250302_171359_jpg.rf.f691863b4b4e10032e6e3a8ea6be3ede.jpg: 480x640 5 Mangrove_Trunks, 7.9ms\n",
            "image 60/62 /content/drive/MyDrive/FYP/Mangrove Detection.v6i.yolov8/test/images/IMG_20250302_171538_jpg.rf.1a0084853533a0e0a1b446539b78d8ec.jpg: 480x640 5 Mangrove_Trunks, 8.1ms\n",
            "image 61/62 /content/drive/MyDrive/FYP/Mangrove Detection.v6i.yolov8/test/images/IMG_20250302_171836_jpg.rf.f3e2ac039693be24fac07c2b0ac2b526.jpg: 480x640 4 Mangrove_Trunks, 8.2ms\n",
            "image 62/62 /content/drive/MyDrive/FYP/Mangrove Detection.v6i.yolov8/test/images/IMG_20250302_171912_jpg.rf.0cf4ac52907ed7a9b3d9cb1eefafacd0.jpg: 480x640 7 Mangrove_Trunks, 7.9ms\n",
            "Speed: 3.3ms preprocess, 8.4ms inference, 1.7ms postprocess per image at shape (1, 3, 480, 640)\n",
            "Results saved to \u001b[1mruns/detect/predict3\u001b[0m\n",
            "62 labels saved to runs/detect/predict3/labels\n",
            "Number of trunks detected in image_0: 3\n",
            "Number of trunks detected in image_1: 2\n",
            "Number of trunks detected in image_2: 5\n",
            "Number of trunks detected in image_3: 6\n",
            "Number of trunks detected in image_4: 8\n",
            "Number of trunks detected in image_5: 7\n",
            "Number of trunks detected in image_6: 5\n",
            "Number of trunks detected in image_7: 5\n",
            "Number of trunks detected in image_8: 8\n",
            "Number of trunks detected in image_9: 6\n",
            "Number of trunks detected in image_10: 6\n",
            "Number of trunks detected in image_11: 8\n",
            "Number of trunks detected in image_12: 4\n",
            "Number of trunks detected in image_13: 3\n",
            "Number of trunks detected in image_14: 10\n",
            "Number of trunks detected in image_15: 4\n",
            "Number of trunks detected in image_16: 6\n",
            "Number of trunks detected in image_17: 4\n",
            "Number of trunks detected in image_18: 2\n",
            "Number of trunks detected in image_19: 10\n",
            "Number of trunks detected in image_20: 3\n",
            "Number of trunks detected in image_21: 3\n",
            "Number of trunks detected in image_22: 9\n",
            "Number of trunks detected in image_23: 4\n",
            "Number of trunks detected in image_24: 2\n",
            "Number of trunks detected in image_25: 6\n",
            "Number of trunks detected in image_26: 4\n",
            "Number of trunks detected in image_27: 11\n",
            "Number of trunks detected in image_28: 3\n",
            "Number of trunks detected in image_29: 6\n",
            "Number of trunks detected in image_30: 3\n",
            "Number of trunks detected in image_31: 3\n",
            "Number of trunks detected in image_32: 2\n",
            "Number of trunks detected in image_33: 3\n",
            "Number of trunks detected in image_34: 2\n",
            "Number of trunks detected in image_35: 7\n",
            "Number of trunks detected in image_36: 5\n",
            "Number of trunks detected in image_37: 1\n",
            "Number of trunks detected in image_38: 6\n",
            "Number of trunks detected in image_39: 4\n",
            "Number of trunks detected in image_40: 1\n",
            "Number of trunks detected in image_41: 7\n",
            "Number of trunks detected in image_42: 1\n",
            "Number of trunks detected in image_43: 1\n",
            "Number of trunks detected in image_44: 5\n",
            "Number of trunks detected in image_45: 3\n",
            "Number of trunks detected in image_46: 4\n",
            "Number of trunks detected in image_47: 1\n",
            "Number of trunks detected in image_48: 8\n",
            "Number of trunks detected in image_49: 3\n",
            "Number of trunks detected in image_50: 2\n",
            "Number of trunks detected in image_51: 2\n",
            "Number of trunks detected in image_52: 2\n",
            "Number of trunks detected in image_53: 3\n",
            "Number of trunks detected in image_54: 1\n",
            "Number of trunks detected in image_55: 2\n",
            "Number of trunks detected in image_56: 3\n",
            "Number of trunks detected in image_57: 5\n",
            "Number of trunks detected in image_58: 5\n",
            "Number of trunks detected in image_59: 5\n",
            "Number of trunks detected in image_60: 4\n",
            "Number of trunks detected in image_61: 7\n"
          ]
        }
      ]
    },
    {
      "cell_type": "markdown",
      "source": [
        "# **YOLOv11**"
      ],
      "metadata": {
        "id": "04-7UpeuGKhl"
      }
    },
    {
      "cell_type": "code",
      "source": [
        "#Load model\n",
        "yolo11_model = YOLO('yolo11s.pt')\n",
        "\n",
        "#Train model\n",
        "yolo11_model.train(\n",
        "    data='/content/drive/MyDrive/FYP/Mangrove Detection.v6i.yolov8/data.yaml',\n",
        "    epochs=70,\n",
        "    batch=16,\n",
        "    imgsz=640\n",
        ")"
      ],
      "metadata": {
        "id": "2RscdoQya-CQ",
        "colab": {
          "base_uri": "https://localhost:8080/"
        },
        "outputId": "a5bde445-bee9-4bd4-b72a-2fc065719af5"
      },
      "execution_count": null,
      "outputs": [
        {
          "metadata": {
            "tags": null
          },
          "name": "stdout",
          "output_type": "stream",
          "text": [
            "Downloading https://github.com/ultralytics/assets/releases/download/v8.3.0/yolo11s.pt to 'yolo11s.pt'...\n"
          ]
        },
        {
          "metadata": {
            "tags": null
          },
          "name": "stderr",
          "output_type": "stream",
          "text": [
            "100%|██████████| 18.4M/18.4M [00:00<00:00, 458MB/s]"
          ]
        },
        {
          "metadata": {
            "tags": null
          },
          "name": "stdout",
          "output_type": "stream",
          "text": [
            "Ultralytics 8.3.103 🚀 Python-3.11.11 torch-2.6.0+cu124 CUDA:0 (NVIDIA L4, 22693MiB)\n",
            "\u001b[34m\u001b[1mengine/trainer: \u001b[0mtask=detect, mode=train, model=yolo11s.pt, data=/content/drive/MyDrive/FYP/Mangrove Detection.v6i.yolov8/data.yaml, epochs=70, time=None, patience=100, batch=16, imgsz=640, save=True, save_period=-1, cache=False, device=None, workers=8, project=None, name=train5, exist_ok=False, pretrained=True, optimizer=auto, verbose=True, seed=0, deterministic=True, single_cls=False, rect=False, cos_lr=False, close_mosaic=10, resume=False, amp=True, fraction=1.0, profile=False, freeze=None, multi_scale=False, overlap_mask=True, mask_ratio=4, dropout=0.0, val=True, split=val, save_json=False, save_hybrid=False, conf=None, iou=0.7, max_det=300, half=False, dnn=False, plots=True, source=None, vid_stride=1, stream_buffer=False, visualize=False, augment=False, agnostic_nms=False, classes=None, retina_masks=False, embed=None, show=False, save_frames=False, save_txt=False, save_conf=False, save_crop=False, show_labels=True, show_conf=True, show_boxes=True, line_width=None, format=torchscript, keras=False, optimize=False, int8=False, dynamic=False, simplify=True, opset=None, workspace=None, nms=False, lr0=0.01, lrf=0.01, momentum=0.937, weight_decay=0.0005, warmup_epochs=3.0, warmup_momentum=0.8, warmup_bias_lr=0.1, box=7.5, cls=0.5, dfl=1.5, pose=12.0, kobj=1.0, nbs=64, hsv_h=0.015, hsv_s=0.7, hsv_v=0.4, degrees=0.0, translate=0.1, scale=0.5, shear=0.0, perspective=0.0, flipud=0.0, fliplr=0.5, bgr=0.0, mosaic=1.0, mixup=0.0, copy_paste=0.0, copy_paste_mode=flip, auto_augment=randaugment, erasing=0.4, crop_fraction=1.0, cfg=None, tracker=botsort.yaml, save_dir=runs/detect/train5\n",
            "Overriding model.yaml nc=80 with nc=1\n",
            "\n",
            "                   from  n    params  module                                       arguments                     \n",
            "  0                  -1  1       928  ultralytics.nn.modules.conv.Conv             [3, 32, 3, 2]                 \n",
            "  1                  -1  1     18560  ultralytics.nn.modules.conv.Conv             [32, 64, 3, 2]                \n",
            "  2                  -1  1     26080  ultralytics.nn.modules.block.C3k2            [64, 128, 1, False, 0.25]     \n",
            "  3                  -1  1    147712  ultralytics.nn.modules.conv.Conv             [128, 128, 3, 2]              \n",
            "  4                  -1  1    103360  ultralytics.nn.modules.block.C3k2            [128, 256, 1, False, 0.25]    \n",
            "  5                  -1  1    590336  ultralytics.nn.modules.conv.Conv             [256, 256, 3, 2]              \n"
          ]
        },
        {
          "metadata": {
            "tags": null
          },
          "name": "stderr",
          "output_type": "stream",
          "text": [
            "\n"
          ]
        },
        {
          "metadata": {
            "tags": null
          },
          "name": "stdout",
          "output_type": "stream",
          "text": [
            "  6                  -1  1    346112  ultralytics.nn.modules.block.C3k2            [256, 256, 1, True]           \n",
            "  7                  -1  1   1180672  ultralytics.nn.modules.conv.Conv             [256, 512, 3, 2]              \n",
            "  8                  -1  1   1380352  ultralytics.nn.modules.block.C3k2            [512, 512, 1, True]           \n",
            "  9                  -1  1    656896  ultralytics.nn.modules.block.SPPF            [512, 512, 5]                 \n",
            " 10                  -1  1    990976  ultralytics.nn.modules.block.C2PSA           [512, 512, 1]                 \n",
            " 11                  -1  1         0  torch.nn.modules.upsampling.Upsample         [None, 2, 'nearest']          \n",
            " 12             [-1, 6]  1         0  ultralytics.nn.modules.conv.Concat           [1]                           \n",
            " 13                  -1  1    443776  ultralytics.nn.modules.block.C3k2            [768, 256, 1, False]          \n",
            " 14                  -1  1         0  torch.nn.modules.upsampling.Upsample         [None, 2, 'nearest']          \n",
            " 15             [-1, 4]  1         0  ultralytics.nn.modules.conv.Concat           [1]                           \n",
            " 16                  -1  1    127680  ultralytics.nn.modules.block.C3k2            [512, 128, 1, False]          \n",
            " 17                  -1  1    147712  ultralytics.nn.modules.conv.Conv             [128, 128, 3, 2]              \n",
            " 18            [-1, 13]  1         0  ultralytics.nn.modules.conv.Concat           [1]                           \n",
            " 19                  -1  1    345472  ultralytics.nn.modules.block.C3k2            [384, 256, 1, False]          \n",
            " 20                  -1  1    590336  ultralytics.nn.modules.conv.Conv             [256, 256, 3, 2]              \n",
            " 21            [-1, 10]  1         0  ultralytics.nn.modules.conv.Concat           [1]                           \n",
            " 22                  -1  1   1511424  ultralytics.nn.modules.block.C3k2            [768, 512, 1, True]           \n",
            " 23        [16, 19, 22]  1    819795  ultralytics.nn.modules.head.Detect           [1, [128, 256, 512]]          \n",
            "YOLO11s summary: 181 layers, 9,428,179 parameters, 9,428,163 gradients, 21.5 GFLOPs\n",
            "\n",
            "Transferred 493/499 items from pretrained weights\n",
            "\u001b[34m\u001b[1mTensorBoard: \u001b[0mStart with 'tensorboard --logdir runs/detect/train5', view at http://localhost:6006/\n",
            "Freezing layer 'model.23.dfl.conv.weight'\n",
            "\u001b[34m\u001b[1mAMP: \u001b[0mrunning Automatic Mixed Precision (AMP) checks...\n",
            "\u001b[34m\u001b[1mAMP: \u001b[0mchecks passed ✅\n"
          ]
        },
        {
          "metadata": {
            "tags": null
          },
          "name": "stderr",
          "output_type": "stream",
          "text": [
            "\u001b[34m\u001b[1mtrain: \u001b[0mScanning /content/drive/MyDrive/FYP/Mangrove Detection.v6i.yolov8/train/labels.cache... 432 images, 1 backgrounds, 0 corrupt: 100%|██████████| 432/432 [00:00<?, ?it/s]"
          ]
        },
        {
          "metadata": {
            "tags": null
          },
          "name": "stdout",
          "output_type": "stream",
          "text": [
            "\u001b[34m\u001b[1malbumentations: \u001b[0mBlur(p=0.01, blur_limit=(3, 7)), MedianBlur(p=0.01, blur_limit=(3, 7)), ToGray(p=0.01, num_output_channels=3, method='weighted_average'), CLAHE(p=0.01, clip_limit=(1.0, 4.0), tile_grid_size=(8, 8))\n"
          ]
        },
        {
          "metadata": {
            "tags": null
          },
          "name": "stderr",
          "output_type": "stream",
          "text": [
            "\n",
            "\u001b[34m\u001b[1mval: \u001b[0mScanning /content/drive/MyDrive/FYP/Mangrove Detection.v6i.yolov8/valid/labels.cache... 116 images, 0 backgrounds, 0 corrupt: 100%|██████████| 116/116 [00:00<?, ?it/s]\n"
          ]
        },
        {
          "metadata": {
            "tags": null
          },
          "name": "stdout",
          "output_type": "stream",
          "text": [
            "Plotting labels to runs/detect/train5/labels.jpg... \n",
            "\u001b[34m\u001b[1moptimizer:\u001b[0m 'optimizer=auto' found, ignoring 'lr0=0.01' and 'momentum=0.937' and determining best 'optimizer', 'lr0' and 'momentum' automatically... \n",
            "\u001b[34m\u001b[1moptimizer:\u001b[0m AdamW(lr=0.002, momentum=0.9) with parameter groups 81 weight(decay=0.0), 88 weight(decay=0.0005), 87 bias(decay=0.0)\n",
            "\u001b[34m\u001b[1mTensorBoard: \u001b[0mmodel graph visualization added ✅\n",
            "Image sizes 640 train, 640 val\n",
            "Using 8 dataloader workers\n",
            "Logging results to \u001b[1mruns/detect/train5\u001b[0m\n",
            "Starting training for 70 epochs...\n",
            "\n",
            "      Epoch    GPU_mem   box_loss   cls_loss   dfl_loss  Instances       Size\n"
          ]
        },
        {
          "metadata": {
            "tags": null
          },
          "name": "stderr",
          "output_type": "stream",
          "text": [
            "       1/70      4.58G      1.369      2.428      1.473        102        640: 100%|██████████| 27/27 [00:07<00:00,  3.71it/s]\n",
            "                 Class     Images  Instances      Box(P          R      mAP50  mAP50-95): 100%|██████████| 4/4 [00:01<00:00,  3.75it/s]"
          ]
        },
        {
          "metadata": {
            "tags": null
          },
          "name": "stdout",
          "output_type": "stream",
          "text": [
            "                   all        116        414      0.432      0.529      0.421       0.25\n"
          ]
        },
        {
          "metadata": {
            "tags": null
          },
          "name": "stderr",
          "output_type": "stream",
          "text": [
            "\n"
          ]
        },
        {
          "metadata": {
            "tags": null
          },
          "name": "stdout",
          "output_type": "stream",
          "text": [
            "\n",
            "      Epoch    GPU_mem   box_loss   cls_loss   dfl_loss  Instances       Size\n"
          ]
        },
        {
          "metadata": {
            "tags": null
          },
          "name": "stderr",
          "output_type": "stream",
          "text": [
            "       2/70      4.83G      1.238      1.318       1.34        120        640: 100%|██████████| 27/27 [00:08<00:00,  3.19it/s]\n",
            "                 Class     Images  Instances      Box(P          R      mAP50  mAP50-95): 100%|██████████| 4/4 [00:01<00:00,  2.50it/s]"
          ]
        },
        {
          "metadata": {
            "tags": null
          },
          "name": "stdout",
          "output_type": "stream",
          "text": [
            "                   all        116        414       0.36      0.367      0.296       0.13\n"
          ]
        },
        {
          "metadata": {
            "tags": null
          },
          "name": "stderr",
          "output_type": "stream",
          "text": [
            "\n"
          ]
        },
        {
          "metadata": {
            "tags": null
          },
          "name": "stdout",
          "output_type": "stream",
          "text": [
            "\n",
            "      Epoch    GPU_mem   box_loss   cls_loss   dfl_loss  Instances       Size\n"
          ]
        },
        {
          "metadata": {
            "tags": null
          },
          "name": "stderr",
          "output_type": "stream",
          "text": [
            "       3/70      4.83G      1.326      1.299      1.389        131        640: 100%|██████████| 27/27 [00:08<00:00,  3.30it/s]\n",
            "                 Class     Images  Instances      Box(P          R      mAP50  mAP50-95): 100%|██████████| 4/4 [00:01<00:00,  3.76it/s]"
          ]
        },
        {
          "metadata": {
            "tags": null
          },
          "name": "stdout",
          "output_type": "stream",
          "text": [
            "                   all        116        414       0.23      0.138      0.108     0.0417\n"
          ]
        },
        {
          "metadata": {
            "tags": null
          },
          "name": "stderr",
          "output_type": "stream",
          "text": [
            "\n"
          ]
        },
        {
          "metadata": {
            "tags": null
          },
          "name": "stdout",
          "output_type": "stream",
          "text": [
            "\n",
            "      Epoch    GPU_mem   box_loss   cls_loss   dfl_loss  Instances       Size\n"
          ]
        },
        {
          "metadata": {
            "tags": null
          },
          "name": "stderr",
          "output_type": "stream",
          "text": [
            "       4/70      4.83G      1.367      1.307      1.401        106        640: 100%|██████████| 27/27 [00:06<00:00,  4.01it/s]\n",
            "                 Class     Images  Instances      Box(P          R      mAP50  mAP50-95): 100%|██████████| 4/4 [00:00<00:00,  4.84it/s]"
          ]
        },
        {
          "metadata": {
            "tags": null
          },
          "name": "stdout",
          "output_type": "stream",
          "text": [
            "                   all        116        414      0.468      0.481      0.385      0.172\n"
          ]
        },
        {
          "metadata": {
            "tags": null
          },
          "name": "stderr",
          "output_type": "stream",
          "text": [
            "\n"
          ]
        },
        {
          "metadata": {
            "tags": null
          },
          "name": "stdout",
          "output_type": "stream",
          "text": [
            "\n",
            "      Epoch    GPU_mem   box_loss   cls_loss   dfl_loss  Instances       Size\n"
          ]
        },
        {
          "metadata": {
            "tags": null
          },
          "name": "stderr",
          "output_type": "stream",
          "text": [
            "       5/70      4.83G      1.323       1.26      1.372        141        640: 100%|██████████| 27/27 [00:07<00:00,  3.71it/s]\n",
            "                 Class     Images  Instances      Box(P          R      mAP50  mAP50-95): 100%|██████████| 4/4 [00:01<00:00,  3.87it/s]"
          ]
        },
        {
          "metadata": {
            "tags": null
          },
          "name": "stdout",
          "output_type": "stream",
          "text": [
            "                   all        116        414       0.54      0.469      0.472      0.255\n"
          ]
        },
        {
          "metadata": {
            "tags": null
          },
          "name": "stderr",
          "output_type": "stream",
          "text": [
            "\n"
          ]
        },
        {
          "metadata": {
            "tags": null
          },
          "name": "stdout",
          "output_type": "stream",
          "text": [
            "\n",
            "      Epoch    GPU_mem   box_loss   cls_loss   dfl_loss  Instances       Size\n"
          ]
        },
        {
          "metadata": {
            "tags": null
          },
          "name": "stderr",
          "output_type": "stream",
          "text": [
            "       6/70      4.83G      1.282      1.188      1.351        114        640: 100%|██████████| 27/27 [00:08<00:00,  3.12it/s]\n",
            "                 Class     Images  Instances      Box(P          R      mAP50  mAP50-95): 100%|██████████| 4/4 [00:00<00:00,  5.07it/s]"
          ]
        },
        {
          "metadata": {
            "tags": null
          },
          "name": "stdout",
          "output_type": "stream",
          "text": [
            "                   all        116        414      0.216      0.126     0.0691     0.0298\n"
          ]
        },
        {
          "metadata": {
            "tags": null
          },
          "name": "stderr",
          "output_type": "stream",
          "text": [
            "\n"
          ]
        },
        {
          "metadata": {
            "tags": null
          },
          "name": "stdout",
          "output_type": "stream",
          "text": [
            "\n",
            "      Epoch    GPU_mem   box_loss   cls_loss   dfl_loss  Instances       Size\n"
          ]
        },
        {
          "metadata": {
            "tags": null
          },
          "name": "stderr",
          "output_type": "stream",
          "text": [
            "       7/70      4.83G       1.25      1.156       1.33        102        640: 100%|██████████| 27/27 [00:06<00:00,  4.11it/s]\n",
            "                 Class     Images  Instances      Box(P          R      mAP50  mAP50-95): 100%|██████████| 4/4 [00:00<00:00,  4.37it/s]\n"
          ]
        },
        {
          "metadata": {
            "tags": null
          },
          "name": "stdout",
          "output_type": "stream",
          "text": [
            "                   all        116        414      0.582      0.509      0.529      0.288\n",
            "\n",
            "      Epoch    GPU_mem   box_loss   cls_loss   dfl_loss  Instances       Size\n"
          ]
        },
        {
          "metadata": {
            "tags": null
          },
          "name": "stderr",
          "output_type": "stream",
          "text": [
            "       8/70      4.83G      1.263      1.188      1.354         96        640: 100%|██████████| 27/27 [00:06<00:00,  3.86it/s]\n",
            "                 Class     Images  Instances      Box(P          R      mAP50  mAP50-95): 100%|██████████| 4/4 [00:00<00:00,  4.80it/s]"
          ]
        },
        {
          "metadata": {
            "tags": null
          },
          "name": "stdout",
          "output_type": "stream",
          "text": [
            "                   all        116        414      0.609      0.551      0.585      0.337\n"
          ]
        },
        {
          "metadata": {
            "tags": null
          },
          "name": "stderr",
          "output_type": "stream",
          "text": [
            "\n"
          ]
        },
        {
          "metadata": {
            "tags": null
          },
          "name": "stdout",
          "output_type": "stream",
          "text": [
            "\n",
            "      Epoch    GPU_mem   box_loss   cls_loss   dfl_loss  Instances       Size\n"
          ]
        },
        {
          "metadata": {
            "tags": null
          },
          "name": "stderr",
          "output_type": "stream",
          "text": [
            "       9/70      4.83G      1.246       1.17      1.326        104        640: 100%|██████████| 27/27 [00:07<00:00,  3.77it/s]\n",
            "                 Class     Images  Instances      Box(P          R      mAP50  mAP50-95): 100%|██████████| 4/4 [00:00<00:00,  4.64it/s]"
          ]
        },
        {
          "metadata": {
            "tags": null
          },
          "name": "stdout",
          "output_type": "stream",
          "text": [
            "                   all        116        414      0.467      0.495      0.435      0.226\n"
          ]
        },
        {
          "metadata": {
            "tags": null
          },
          "name": "stderr",
          "output_type": "stream",
          "text": [
            "\n"
          ]
        },
        {
          "metadata": {
            "tags": null
          },
          "name": "stdout",
          "output_type": "stream",
          "text": [
            "\n",
            "      Epoch    GPU_mem   box_loss   cls_loss   dfl_loss  Instances       Size\n"
          ]
        },
        {
          "metadata": {
            "tags": null
          },
          "name": "stderr",
          "output_type": "stream",
          "text": [
            "      10/70      4.83G      1.249      1.173      1.339        109        640: 100%|██████████| 27/27 [00:09<00:00,  2.96it/s]\n",
            "                 Class     Images  Instances      Box(P          R      mAP50  mAP50-95): 100%|██████████| 4/4 [00:00<00:00,  4.89it/s]"
          ]
        },
        {
          "metadata": {
            "tags": null
          },
          "name": "stdout",
          "output_type": "stream",
          "text": [
            "                   all        116        414      0.631      0.512      0.552      0.319\n"
          ]
        },
        {
          "metadata": {
            "tags": null
          },
          "name": "stderr",
          "output_type": "stream",
          "text": [
            "\n"
          ]
        },
        {
          "metadata": {
            "tags": null
          },
          "name": "stdout",
          "output_type": "stream",
          "text": [
            "\n",
            "      Epoch    GPU_mem   box_loss   cls_loss   dfl_loss  Instances       Size\n"
          ]
        },
        {
          "metadata": {
            "tags": null
          },
          "name": "stderr",
          "output_type": "stream",
          "text": [
            "      11/70      4.83G      1.167      1.103      1.284        123        640: 100%|██████████| 27/27 [00:06<00:00,  4.18it/s]\n",
            "                 Class     Images  Instances      Box(P          R      mAP50  mAP50-95): 100%|██████████| 4/4 [00:00<00:00,  4.69it/s]"
          ]
        },
        {
          "metadata": {
            "tags": null
          },
          "name": "stdout",
          "output_type": "stream",
          "text": [
            "                   all        116        414      0.743      0.659      0.701      0.445\n"
          ]
        },
        {
          "metadata": {
            "tags": null
          },
          "name": "stderr",
          "output_type": "stream",
          "text": [
            "\n"
          ]
        },
        {
          "metadata": {
            "tags": null
          },
          "name": "stdout",
          "output_type": "stream",
          "text": [
            "\n",
            "      Epoch    GPU_mem   box_loss   cls_loss   dfl_loss  Instances       Size\n"
          ]
        },
        {
          "metadata": {
            "tags": null
          },
          "name": "stderr",
          "output_type": "stream",
          "text": [
            "      12/70      4.83G      1.163      1.088      1.298        120        640: 100%|██████████| 27/27 [00:07<00:00,  3.56it/s]\n",
            "                 Class     Images  Instances      Box(P          R      mAP50  mAP50-95): 100%|██████████| 4/4 [00:00<00:00,  4.74it/s]"
          ]
        },
        {
          "metadata": {
            "tags": null
          },
          "name": "stdout",
          "output_type": "stream",
          "text": [
            "                   all        116        414      0.786      0.586      0.661      0.434\n"
          ]
        },
        {
          "metadata": {
            "tags": null
          },
          "name": "stderr",
          "output_type": "stream",
          "text": [
            "\n"
          ]
        },
        {
          "metadata": {
            "tags": null
          },
          "name": "stdout",
          "output_type": "stream",
          "text": [
            "\n",
            "      Epoch    GPU_mem   box_loss   cls_loss   dfl_loss  Instances       Size\n"
          ]
        },
        {
          "metadata": {
            "tags": null
          },
          "name": "stderr",
          "output_type": "stream",
          "text": [
            "      13/70      4.83G      1.185      1.074      1.285        105        640: 100%|██████████| 27/27 [00:07<00:00,  3.69it/s]\n",
            "                 Class     Images  Instances      Box(P          R      mAP50  mAP50-95): 100%|██████████| 4/4 [00:00<00:00,  5.13it/s]"
          ]
        },
        {
          "metadata": {
            "tags": null
          },
          "name": "stdout",
          "output_type": "stream",
          "text": [
            "                   all        116        414      0.642      0.562      0.599      0.368\n"
          ]
        },
        {
          "metadata": {
            "tags": null
          },
          "name": "stderr",
          "output_type": "stream",
          "text": [
            "\n"
          ]
        },
        {
          "metadata": {
            "tags": null
          },
          "name": "stdout",
          "output_type": "stream",
          "text": [
            "\n",
            "      Epoch    GPU_mem   box_loss   cls_loss   dfl_loss  Instances       Size\n"
          ]
        },
        {
          "metadata": {
            "tags": null
          },
          "name": "stderr",
          "output_type": "stream",
          "text": [
            "      14/70      4.83G      1.144      1.085      1.273        122        640: 100%|██████████| 27/27 [00:07<00:00,  3.85it/s]\n",
            "                 Class     Images  Instances      Box(P          R      mAP50  mAP50-95): 100%|██████████| 4/4 [00:00<00:00,  4.79it/s]"
          ]
        },
        {
          "metadata": {
            "tags": null
          },
          "name": "stdout",
          "output_type": "stream",
          "text": [
            "                   all        116        414      0.683      0.532      0.629      0.375\n"
          ]
        },
        {
          "metadata": {
            "tags": null
          },
          "name": "stderr",
          "output_type": "stream",
          "text": [
            "\n"
          ]
        },
        {
          "metadata": {
            "tags": null
          },
          "name": "stdout",
          "output_type": "stream",
          "text": [
            "\n",
            "      Epoch    GPU_mem   box_loss   cls_loss   dfl_loss  Instances       Size\n"
          ]
        },
        {
          "metadata": {
            "tags": null
          },
          "name": "stderr",
          "output_type": "stream",
          "text": [
            "      15/70      4.83G      1.075      1.011      1.229         93        640: 100%|██████████| 27/27 [00:08<00:00,  3.15it/s]\n",
            "                 Class     Images  Instances      Box(P          R      mAP50  mAP50-95): 100%|██████████| 4/4 [00:00<00:00,  4.93it/s]"
          ]
        },
        {
          "metadata": {
            "tags": null
          },
          "name": "stdout",
          "output_type": "stream",
          "text": [
            "                   all        116        414      0.725      0.684      0.744       0.48\n"
          ]
        },
        {
          "metadata": {
            "tags": null
          },
          "name": "stderr",
          "output_type": "stream",
          "text": [
            "\n"
          ]
        },
        {
          "metadata": {
            "tags": null
          },
          "name": "stdout",
          "output_type": "stream",
          "text": [
            "\n",
            "      Epoch    GPU_mem   box_loss   cls_loss   dfl_loss  Instances       Size\n"
          ]
        },
        {
          "metadata": {
            "tags": null
          },
          "name": "stderr",
          "output_type": "stream",
          "text": [
            "      16/70      4.83G      1.089          1      1.233        135        640: 100%|██████████| 27/27 [00:06<00:00,  3.90it/s]\n",
            "                 Class     Images  Instances      Box(P          R      mAP50  mAP50-95): 100%|██████████| 4/4 [00:00<00:00,  4.80it/s]"
          ]
        },
        {
          "metadata": {
            "tags": null
          },
          "name": "stdout",
          "output_type": "stream",
          "text": [
            "                   all        116        414      0.747      0.611      0.706      0.476\n"
          ]
        },
        {
          "metadata": {
            "tags": null
          },
          "name": "stderr",
          "output_type": "stream",
          "text": [
            "\n"
          ]
        },
        {
          "metadata": {
            "tags": null
          },
          "name": "stdout",
          "output_type": "stream",
          "text": [
            "\n",
            "      Epoch    GPU_mem   box_loss   cls_loss   dfl_loss  Instances       Size\n"
          ]
        },
        {
          "metadata": {
            "tags": null
          },
          "name": "stderr",
          "output_type": "stream",
          "text": [
            "      17/70      4.83G      1.064     0.9681      1.232        119        640: 100%|██████████| 27/27 [00:07<00:00,  3.47it/s]\n",
            "                 Class     Images  Instances      Box(P          R      mAP50  mAP50-95): 100%|██████████| 4/4 [00:00<00:00,  4.72it/s]"
          ]
        },
        {
          "metadata": {
            "tags": null
          },
          "name": "stdout",
          "output_type": "stream",
          "text": [
            "                   all        116        414      0.787      0.669      0.759      0.507\n"
          ]
        },
        {
          "metadata": {
            "tags": null
          },
          "name": "stderr",
          "output_type": "stream",
          "text": [
            "\n"
          ]
        },
        {
          "metadata": {
            "tags": null
          },
          "name": "stdout",
          "output_type": "stream",
          "text": [
            "\n",
            "      Epoch    GPU_mem   box_loss   cls_loss   dfl_loss  Instances       Size\n"
          ]
        },
        {
          "metadata": {
            "tags": null
          },
          "name": "stderr",
          "output_type": "stream",
          "text": [
            "      18/70      4.83G       1.06      0.948      1.219         93        640: 100%|██████████| 27/27 [00:06<00:00,  3.98it/s]\n",
            "                 Class     Images  Instances      Box(P          R      mAP50  mAP50-95): 100%|██████████| 4/4 [00:00<00:00,  4.66it/s]"
          ]
        },
        {
          "metadata": {
            "tags": null
          },
          "name": "stdout",
          "output_type": "stream",
          "text": [
            "                   all        116        414      0.805      0.679      0.764      0.508\n"
          ]
        },
        {
          "metadata": {
            "tags": null
          },
          "name": "stderr",
          "output_type": "stream",
          "text": [
            "\n"
          ]
        },
        {
          "metadata": {
            "tags": null
          },
          "name": "stdout",
          "output_type": "stream",
          "text": [
            "\n",
            "      Epoch    GPU_mem   box_loss   cls_loss   dfl_loss  Instances       Size\n"
          ]
        },
        {
          "metadata": {
            "tags": null
          },
          "name": "stderr",
          "output_type": "stream",
          "text": [
            "      19/70      4.83G      1.074     0.9892      1.246        109        640: 100%|██████████| 27/27 [00:07<00:00,  3.57it/s]\n",
            "                 Class     Images  Instances      Box(P          R      mAP50  mAP50-95): 100%|██████████| 4/4 [00:00<00:00,  4.89it/s]"
          ]
        },
        {
          "metadata": {
            "tags": null
          },
          "name": "stdout",
          "output_type": "stream",
          "text": [
            "                   all        116        414      0.738      0.664      0.741      0.496\n"
          ]
        },
        {
          "metadata": {
            "tags": null
          },
          "name": "stderr",
          "output_type": "stream",
          "text": [
            "\n"
          ]
        },
        {
          "metadata": {
            "tags": null
          },
          "name": "stdout",
          "output_type": "stream",
          "text": [
            "\n",
            "      Epoch    GPU_mem   box_loss   cls_loss   dfl_loss  Instances       Size\n"
          ]
        },
        {
          "metadata": {
            "tags": null
          },
          "name": "stderr",
          "output_type": "stream",
          "text": [
            "      20/70      4.85G      1.044     0.9532      1.216        112        640: 100%|██████████| 27/27 [00:07<00:00,  3.44it/s]\n",
            "                 Class     Images  Instances      Box(P          R      mAP50  mAP50-95): 100%|██████████| 4/4 [00:00<00:00,  5.00it/s]"
          ]
        },
        {
          "metadata": {
            "tags": null
          },
          "name": "stdout",
          "output_type": "stream",
          "text": [
            "                   all        116        414      0.735      0.669      0.752      0.503\n"
          ]
        },
        {
          "metadata": {
            "tags": null
          },
          "name": "stderr",
          "output_type": "stream",
          "text": [
            "\n"
          ]
        },
        {
          "metadata": {
            "tags": null
          },
          "name": "stdout",
          "output_type": "stream",
          "text": [
            "\n",
            "      Epoch    GPU_mem   box_loss   cls_loss   dfl_loss  Instances       Size\n"
          ]
        },
        {
          "metadata": {
            "tags": null
          },
          "name": "stderr",
          "output_type": "stream",
          "text": [
            "      21/70      4.89G      1.035     0.9346      1.215        117        640: 100%|██████████| 27/27 [00:06<00:00,  4.18it/s]\n",
            "                 Class     Images  Instances      Box(P          R      mAP50  mAP50-95): 100%|██████████| 4/4 [00:00<00:00,  5.01it/s]"
          ]
        },
        {
          "metadata": {
            "tags": null
          },
          "name": "stdout",
          "output_type": "stream",
          "text": [
            "                   all        116        414      0.801      0.642      0.749      0.501\n"
          ]
        },
        {
          "metadata": {
            "tags": null
          },
          "name": "stderr",
          "output_type": "stream",
          "text": [
            "\n"
          ]
        },
        {
          "metadata": {
            "tags": null
          },
          "name": "stdout",
          "output_type": "stream",
          "text": [
            "\n",
            "      Epoch    GPU_mem   box_loss   cls_loss   dfl_loss  Instances       Size\n"
          ]
        },
        {
          "metadata": {
            "tags": null
          },
          "name": "stderr",
          "output_type": "stream",
          "text": [
            "      22/70      4.93G      1.048     0.9234      1.221        140        640: 100%|██████████| 27/27 [00:07<00:00,  3.59it/s]\n",
            "                 Class     Images  Instances      Box(P          R      mAP50  mAP50-95): 100%|██████████| 4/4 [00:00<00:00,  4.81it/s]"
          ]
        },
        {
          "metadata": {
            "tags": null
          },
          "name": "stdout",
          "output_type": "stream",
          "text": [
            "                   all        116        414        0.7      0.679      0.736      0.483\n"
          ]
        },
        {
          "metadata": {
            "tags": null
          },
          "name": "stderr",
          "output_type": "stream",
          "text": [
            "\n"
          ]
        },
        {
          "metadata": {
            "tags": null
          },
          "name": "stdout",
          "output_type": "stream",
          "text": [
            "\n",
            "      Epoch    GPU_mem   box_loss   cls_loss   dfl_loss  Instances       Size\n"
          ]
        },
        {
          "metadata": {
            "tags": null
          },
          "name": "stderr",
          "output_type": "stream",
          "text": [
            "      23/70      4.97G       1.02     0.9231      1.204        133        640: 100%|██████████| 27/27 [00:07<00:00,  3.80it/s]\n",
            "                 Class     Images  Instances      Box(P          R      mAP50  mAP50-95): 100%|██████████| 4/4 [00:00<00:00,  4.65it/s]"
          ]
        },
        {
          "metadata": {
            "tags": null
          },
          "name": "stdout",
          "output_type": "stream",
          "text": [
            "                   all        116        414      0.741      0.656      0.743        0.5\n"
          ]
        },
        {
          "metadata": {
            "tags": null
          },
          "name": "stderr",
          "output_type": "stream",
          "text": [
            "\n"
          ]
        },
        {
          "metadata": {
            "tags": null
          },
          "name": "stdout",
          "output_type": "stream",
          "text": [
            "\n",
            "      Epoch    GPU_mem   box_loss   cls_loss   dfl_loss  Instances       Size\n"
          ]
        },
        {
          "metadata": {
            "tags": null
          },
          "name": "stderr",
          "output_type": "stream",
          "text": [
            "      24/70      4.97G      1.022     0.9095      1.213        128        640: 100%|██████████| 27/27 [00:07<00:00,  3.75it/s]\n",
            "                 Class     Images  Instances      Box(P          R      mAP50  mAP50-95): 100%|██████████| 4/4 [00:00<00:00,  4.82it/s]"
          ]
        },
        {
          "metadata": {
            "tags": null
          },
          "name": "stdout",
          "output_type": "stream",
          "text": [
            "                   all        116        414      0.844      0.643      0.764      0.529\n"
          ]
        },
        {
          "metadata": {
            "tags": null
          },
          "name": "stderr",
          "output_type": "stream",
          "text": [
            "\n"
          ]
        },
        {
          "metadata": {
            "tags": null
          },
          "name": "stdout",
          "output_type": "stream",
          "text": [
            "\n",
            "      Epoch    GPU_mem   box_loss   cls_loss   dfl_loss  Instances       Size\n"
          ]
        },
        {
          "metadata": {
            "tags": null
          },
          "name": "stderr",
          "output_type": "stream",
          "text": [
            "      25/70      4.97G     0.9935     0.8743      1.188        111        640: 100%|██████████| 27/27 [00:07<00:00,  3.42it/s]\n",
            "                 Class     Images  Instances      Box(P          R      mAP50  mAP50-95): 100%|██████████| 4/4 [00:00<00:00,  5.64it/s]"
          ]
        },
        {
          "metadata": {
            "tags": null
          },
          "name": "stdout",
          "output_type": "stream",
          "text": [
            "                   all        116        414      0.811      0.675      0.767      0.533\n"
          ]
        },
        {
          "metadata": {
            "tags": null
          },
          "name": "stderr",
          "output_type": "stream",
          "text": [
            "\n"
          ]
        },
        {
          "metadata": {
            "tags": null
          },
          "name": "stdout",
          "output_type": "stream",
          "text": [
            "\n",
            "      Epoch    GPU_mem   box_loss   cls_loss   dfl_loss  Instances       Size\n"
          ]
        },
        {
          "metadata": {
            "tags": null
          },
          "name": "stderr",
          "output_type": "stream",
          "text": [
            "      26/70      4.97G      1.031     0.9118      1.211        115        640: 100%|██████████| 27/27 [00:06<00:00,  4.22it/s]\n",
            "                 Class     Images  Instances      Box(P          R      mAP50  mAP50-95): 100%|██████████| 4/4 [00:00<00:00,  4.74it/s]"
          ]
        },
        {
          "metadata": {
            "tags": null
          },
          "name": "stdout",
          "output_type": "stream",
          "text": [
            "                   all        116        414      0.806      0.684      0.783      0.547\n"
          ]
        },
        {
          "metadata": {
            "tags": null
          },
          "name": "stderr",
          "output_type": "stream",
          "text": [
            "\n"
          ]
        },
        {
          "metadata": {
            "tags": null
          },
          "name": "stdout",
          "output_type": "stream",
          "text": [
            "\n",
            "      Epoch    GPU_mem   box_loss   cls_loss   dfl_loss  Instances       Size\n"
          ]
        },
        {
          "metadata": {
            "tags": null
          },
          "name": "stderr",
          "output_type": "stream",
          "text": [
            "      27/70      4.97G      1.009     0.8857      1.194        117        640: 100%|██████████| 27/27 [00:07<00:00,  3.83it/s]\n",
            "                 Class     Images  Instances      Box(P          R      mAP50  mAP50-95): 100%|██████████| 4/4 [00:00<00:00,  4.74it/s]"
          ]
        },
        {
          "metadata": {
            "tags": null
          },
          "name": "stdout",
          "output_type": "stream",
          "text": [
            "                   all        116        414      0.761      0.676      0.734      0.517\n"
          ]
        },
        {
          "metadata": {
            "tags": null
          },
          "name": "stderr",
          "output_type": "stream",
          "text": [
            "\n"
          ]
        },
        {
          "metadata": {
            "tags": null
          },
          "name": "stdout",
          "output_type": "stream",
          "text": [
            "\n",
            "      Epoch    GPU_mem   box_loss   cls_loss   dfl_loss  Instances       Size\n"
          ]
        },
        {
          "metadata": {
            "tags": null
          },
          "name": "stderr",
          "output_type": "stream",
          "text": [
            "      28/70      4.97G     0.9732     0.8751      1.179        112        640: 100%|██████████| 27/27 [00:07<00:00,  3.46it/s]\n",
            "                 Class     Images  Instances      Box(P          R      mAP50  mAP50-95): 100%|██████████| 4/4 [00:00<00:00,  4.90it/s]"
          ]
        },
        {
          "metadata": {
            "tags": null
          },
          "name": "stdout",
          "output_type": "stream",
          "text": [
            "                   all        116        414      0.708       0.72      0.762      0.518\n"
          ]
        },
        {
          "metadata": {
            "tags": null
          },
          "name": "stderr",
          "output_type": "stream",
          "text": [
            "\n"
          ]
        },
        {
          "metadata": {
            "tags": null
          },
          "name": "stdout",
          "output_type": "stream",
          "text": [
            "\n",
            "      Epoch    GPU_mem   box_loss   cls_loss   dfl_loss  Instances       Size\n"
          ]
        },
        {
          "metadata": {
            "tags": null
          },
          "name": "stderr",
          "output_type": "stream",
          "text": [
            "      29/70      4.97G     0.9931     0.8896      1.187        101        640: 100%|██████████| 27/27 [00:06<00:00,  4.00it/s]\n",
            "                 Class     Images  Instances      Box(P          R      mAP50  mAP50-95): 100%|██████████| 4/4 [00:00<00:00,  5.00it/s]"
          ]
        },
        {
          "metadata": {
            "tags": null
          },
          "name": "stdout",
          "output_type": "stream",
          "text": [
            "                   all        116        414      0.774      0.693      0.771       0.51\n"
          ]
        },
        {
          "metadata": {
            "tags": null
          },
          "name": "stderr",
          "output_type": "stream",
          "text": [
            "\n"
          ]
        },
        {
          "metadata": {
            "tags": null
          },
          "name": "stdout",
          "output_type": "stream",
          "text": [
            "\n",
            "      Epoch    GPU_mem   box_loss   cls_loss   dfl_loss  Instances       Size\n"
          ]
        },
        {
          "metadata": {
            "tags": null
          },
          "name": "stderr",
          "output_type": "stream",
          "text": [
            "      30/70      4.97G     0.9773      0.845      1.172        123        640: 100%|██████████| 27/27 [00:08<00:00,  3.30it/s]\n",
            "                 Class     Images  Instances      Box(P          R      mAP50  mAP50-95): 100%|██████████| 4/4 [00:00<00:00,  5.15it/s]"
          ]
        },
        {
          "metadata": {
            "tags": null
          },
          "name": "stdout",
          "output_type": "stream",
          "text": [
            "                   all        116        414      0.797      0.713      0.789       0.55\n"
          ]
        },
        {
          "metadata": {
            "tags": null
          },
          "name": "stderr",
          "output_type": "stream",
          "text": [
            "\n"
          ]
        },
        {
          "metadata": {
            "tags": null
          },
          "name": "stdout",
          "output_type": "stream",
          "text": [
            "\n",
            "      Epoch    GPU_mem   box_loss   cls_loss   dfl_loss  Instances       Size\n"
          ]
        },
        {
          "metadata": {
            "tags": null
          },
          "name": "stderr",
          "output_type": "stream",
          "text": [
            "      31/70      4.97G     0.9573     0.8594      1.172        112        640: 100%|██████████| 27/27 [00:06<00:00,  4.18it/s]\n",
            "                 Class     Images  Instances      Box(P          R      mAP50  mAP50-95): 100%|██████████| 4/4 [00:00<00:00,  4.60it/s]"
          ]
        },
        {
          "metadata": {
            "tags": null
          },
          "name": "stdout",
          "output_type": "stream",
          "text": [
            "                   all        116        414      0.822      0.708      0.784      0.545\n"
          ]
        },
        {
          "metadata": {
            "tags": null
          },
          "name": "stderr",
          "output_type": "stream",
          "text": [
            "\n"
          ]
        },
        {
          "metadata": {
            "tags": null
          },
          "name": "stdout",
          "output_type": "stream",
          "text": [
            "\n",
            "      Epoch    GPU_mem   box_loss   cls_loss   dfl_loss  Instances       Size\n"
          ]
        },
        {
          "metadata": {
            "tags": null
          },
          "name": "stderr",
          "output_type": "stream",
          "text": [
            "      32/70      4.97G      0.933     0.8184      1.169        110        640: 100%|██████████| 27/27 [00:07<00:00,  3.47it/s]\n",
            "                 Class     Images  Instances      Box(P          R      mAP50  mAP50-95): 100%|██████████| 4/4 [00:00<00:00,  4.94it/s]"
          ]
        },
        {
          "metadata": {
            "tags": null
          },
          "name": "stdout",
          "output_type": "stream",
          "text": [
            "                   all        116        414      0.781      0.713      0.777      0.546\n"
          ]
        },
        {
          "metadata": {
            "tags": null
          },
          "name": "stderr",
          "output_type": "stream",
          "text": [
            "\n"
          ]
        },
        {
          "metadata": {
            "tags": null
          },
          "name": "stdout",
          "output_type": "stream",
          "text": [
            "\n",
            "      Epoch    GPU_mem   box_loss   cls_loss   dfl_loss  Instances       Size\n"
          ]
        },
        {
          "metadata": {
            "tags": null
          },
          "name": "stderr",
          "output_type": "stream",
          "text": [
            "      33/70      4.97G     0.9268     0.8046      1.151        132        640: 100%|██████████| 27/27 [00:07<00:00,  3.80it/s]\n",
            "                 Class     Images  Instances      Box(P          R      mAP50  mAP50-95): 100%|██████████| 4/4 [00:00<00:00,  5.12it/s]"
          ]
        },
        {
          "metadata": {
            "tags": null
          },
          "name": "stdout",
          "output_type": "stream",
          "text": [
            "                   all        116        414       0.79      0.689       0.78       0.55\n"
          ]
        },
        {
          "metadata": {
            "tags": null
          },
          "name": "stderr",
          "output_type": "stream",
          "text": [
            "\n"
          ]
        },
        {
          "metadata": {
            "tags": null
          },
          "name": "stdout",
          "output_type": "stream",
          "text": [
            "\n",
            "      Epoch    GPU_mem   box_loss   cls_loss   dfl_loss  Instances       Size\n"
          ]
        },
        {
          "metadata": {
            "tags": null
          },
          "name": "stderr",
          "output_type": "stream",
          "text": [
            "      34/70      4.97G     0.9378     0.8249      1.163        133        640: 100%|██████████| 27/27 [00:07<00:00,  3.73it/s]\n",
            "                 Class     Images  Instances      Box(P          R      mAP50  mAP50-95): 100%|██████████| 4/4 [00:00<00:00,  4.94it/s]"
          ]
        },
        {
          "metadata": {
            "tags": null
          },
          "name": "stdout",
          "output_type": "stream",
          "text": [
            "                   all        116        414       0.79      0.705      0.799      0.564\n"
          ]
        },
        {
          "metadata": {
            "tags": null
          },
          "name": "stderr",
          "output_type": "stream",
          "text": [
            "\n"
          ]
        },
        {
          "metadata": {
            "tags": null
          },
          "name": "stdout",
          "output_type": "stream",
          "text": [
            "\n",
            "      Epoch    GPU_mem   box_loss   cls_loss   dfl_loss  Instances       Size\n"
          ]
        },
        {
          "metadata": {
            "tags": null
          },
          "name": "stderr",
          "output_type": "stream",
          "text": [
            "      35/70      4.97G     0.9144     0.8134       1.15        131        640: 100%|██████████| 27/27 [00:08<00:00,  3.33it/s]\n",
            "                 Class     Images  Instances      Box(P          R      mAP50  mAP50-95): 100%|██████████| 4/4 [00:00<00:00,  4.92it/s]"
          ]
        },
        {
          "metadata": {
            "tags": null
          },
          "name": "stdout",
          "output_type": "stream",
          "text": [
            "                   all        116        414      0.768       0.71      0.789       0.57\n"
          ]
        },
        {
          "metadata": {
            "tags": null
          },
          "name": "stderr",
          "output_type": "stream",
          "text": [
            "\n"
          ]
        },
        {
          "metadata": {
            "tags": null
          },
          "name": "stdout",
          "output_type": "stream",
          "text": [
            "\n",
            "      Epoch    GPU_mem   box_loss   cls_loss   dfl_loss  Instances       Size\n"
          ]
        },
        {
          "metadata": {
            "tags": null
          },
          "name": "stderr",
          "output_type": "stream",
          "text": [
            "      36/70      4.97G     0.9119     0.7778      1.143        141        640: 100%|██████████| 27/27 [00:07<00:00,  3.54it/s]\n",
            "                 Class     Images  Instances      Box(P          R      mAP50  mAP50-95): 100%|██████████| 4/4 [00:00<00:00,  4.83it/s]"
          ]
        },
        {
          "metadata": {
            "tags": null
          },
          "name": "stdout",
          "output_type": "stream",
          "text": [
            "                   all        116        414        0.8      0.725        0.8       0.57\n"
          ]
        },
        {
          "metadata": {
            "tags": null
          },
          "name": "stderr",
          "output_type": "stream",
          "text": [
            "\n"
          ]
        },
        {
          "metadata": {
            "tags": null
          },
          "name": "stdout",
          "output_type": "stream",
          "text": [
            "\n",
            "      Epoch    GPU_mem   box_loss   cls_loss   dfl_loss  Instances       Size\n"
          ]
        },
        {
          "metadata": {
            "tags": null
          },
          "name": "stderr",
          "output_type": "stream",
          "text": [
            "      37/70      4.97G     0.8858     0.7736      1.127        118        640: 100%|██████████| 27/27 [00:08<00:00,  3.17it/s]\n",
            "                 Class     Images  Instances      Box(P          R      mAP50  mAP50-95): 100%|██████████| 4/4 [00:00<00:00,  5.65it/s]"
          ]
        },
        {
          "metadata": {
            "tags": null
          },
          "name": "stdout",
          "output_type": "stream",
          "text": [
            "                   all        116        414      0.801      0.739      0.794      0.576\n"
          ]
        },
        {
          "metadata": {
            "tags": null
          },
          "name": "stderr",
          "output_type": "stream",
          "text": [
            "\n"
          ]
        },
        {
          "metadata": {
            "tags": null
          },
          "name": "stdout",
          "output_type": "stream",
          "text": [
            "\n",
            "      Epoch    GPU_mem   box_loss   cls_loss   dfl_loss  Instances       Size\n"
          ]
        },
        {
          "metadata": {
            "tags": null
          },
          "name": "stderr",
          "output_type": "stream",
          "text": [
            "      38/70      4.97G     0.9231     0.7893       1.15        133        640: 100%|██████████| 27/27 [00:07<00:00,  3.82it/s]\n",
            "                 Class     Images  Instances      Box(P          R      mAP50  mAP50-95): 100%|██████████| 4/4 [00:00<00:00,  5.04it/s]"
          ]
        },
        {
          "metadata": {
            "tags": null
          },
          "name": "stdout",
          "output_type": "stream",
          "text": [
            "                   all        116        414      0.846      0.674      0.795      0.567\n"
          ]
        },
        {
          "metadata": {
            "tags": null
          },
          "name": "stderr",
          "output_type": "stream",
          "text": [
            "\n"
          ]
        },
        {
          "metadata": {
            "tags": null
          },
          "name": "stdout",
          "output_type": "stream",
          "text": [
            "\n",
            "      Epoch    GPU_mem   box_loss   cls_loss   dfl_loss  Instances       Size\n"
          ]
        },
        {
          "metadata": {
            "tags": null
          },
          "name": "stderr",
          "output_type": "stream",
          "text": [
            "      39/70      4.97G     0.8839     0.7645      1.118        169        640: 100%|██████████| 27/27 [00:06<00:00,  3.96it/s]\n",
            "                 Class     Images  Instances      Box(P          R      mAP50  mAP50-95): 100%|██████████| 4/4 [00:00<00:00,  4.53it/s]"
          ]
        },
        {
          "metadata": {
            "tags": null
          },
          "name": "stdout",
          "output_type": "stream",
          "text": [
            "                   all        116        414      0.865      0.662      0.801      0.583\n"
          ]
        },
        {
          "metadata": {
            "tags": null
          },
          "name": "stderr",
          "output_type": "stream",
          "text": [
            "\n"
          ]
        },
        {
          "metadata": {
            "tags": null
          },
          "name": "stdout",
          "output_type": "stream",
          "text": [
            "\n",
            "      Epoch    GPU_mem   box_loss   cls_loss   dfl_loss  Instances       Size\n"
          ]
        },
        {
          "metadata": {
            "tags": null
          },
          "name": "stderr",
          "output_type": "stream",
          "text": [
            "      40/70      4.97G     0.8845     0.7685      1.134        137        640: 100%|██████████| 27/27 [00:07<00:00,  3.71it/s]\n",
            "                 Class     Images  Instances      Box(P          R      mAP50  mAP50-95): 100%|██████████| 4/4 [00:00<00:00,  5.20it/s]"
          ]
        },
        {
          "metadata": {
            "tags": null
          },
          "name": "stdout",
          "output_type": "stream",
          "text": [
            "                   all        116        414       0.77      0.737      0.795      0.569\n"
          ]
        },
        {
          "metadata": {
            "tags": null
          },
          "name": "stderr",
          "output_type": "stream",
          "text": [
            "\n"
          ]
        },
        {
          "metadata": {
            "tags": null
          },
          "name": "stdout",
          "output_type": "stream",
          "text": [
            "\n",
            "      Epoch    GPU_mem   box_loss   cls_loss   dfl_loss  Instances       Size\n"
          ]
        },
        {
          "metadata": {
            "tags": null
          },
          "name": "stderr",
          "output_type": "stream",
          "text": [
            "      41/70      4.97G     0.8751      0.752      1.122         95        640: 100%|██████████| 27/27 [00:06<00:00,  3.95it/s]\n",
            "                 Class     Images  Instances      Box(P          R      mAP50  mAP50-95): 100%|██████████| 4/4 [00:00<00:00,  5.08it/s]"
          ]
        },
        {
          "metadata": {
            "tags": null
          },
          "name": "stdout",
          "output_type": "stream",
          "text": [
            "                   all        116        414      0.837       0.72      0.819       0.59\n"
          ]
        },
        {
          "metadata": {
            "tags": null
          },
          "name": "stderr",
          "output_type": "stream",
          "text": [
            "\n"
          ]
        },
        {
          "metadata": {
            "tags": null
          },
          "name": "stdout",
          "output_type": "stream",
          "text": [
            "\n",
            "      Epoch    GPU_mem   box_loss   cls_loss   dfl_loss  Instances       Size\n"
          ]
        },
        {
          "metadata": {
            "tags": null
          },
          "name": "stderr",
          "output_type": "stream",
          "text": [
            "      42/70      4.97G     0.8724     0.7561      1.115        141        640: 100%|██████████| 27/27 [00:06<00:00,  3.96it/s]\n",
            "                 Class     Images  Instances      Box(P          R      mAP50  mAP50-95): 100%|██████████| 4/4 [00:00<00:00,  4.69it/s]"
          ]
        },
        {
          "metadata": {
            "tags": null
          },
          "name": "stdout",
          "output_type": "stream",
          "text": [
            "                   all        116        414      0.857      0.668      0.804       0.57\n"
          ]
        },
        {
          "metadata": {
            "tags": null
          },
          "name": "stderr",
          "output_type": "stream",
          "text": [
            "\n"
          ]
        },
        {
          "metadata": {
            "tags": null
          },
          "name": "stdout",
          "output_type": "stream",
          "text": [
            "\n",
            "      Epoch    GPU_mem   box_loss   cls_loss   dfl_loss  Instances       Size\n"
          ]
        },
        {
          "metadata": {
            "tags": null
          },
          "name": "stderr",
          "output_type": "stream",
          "text": [
            "      43/70      4.97G     0.8399     0.7428      1.109         91        640: 100%|██████████| 27/27 [00:08<00:00,  3.13it/s]\n",
            "                 Class     Images  Instances      Box(P          R      mAP50  mAP50-95): 100%|██████████| 4/4 [00:00<00:00,  5.23it/s]"
          ]
        },
        {
          "metadata": {
            "tags": null
          },
          "name": "stdout",
          "output_type": "stream",
          "text": [
            "                   all        116        414      0.781      0.742      0.818      0.588\n"
          ]
        },
        {
          "metadata": {
            "tags": null
          },
          "name": "stderr",
          "output_type": "stream",
          "text": [
            "\n"
          ]
        },
        {
          "metadata": {
            "tags": null
          },
          "name": "stdout",
          "output_type": "stream",
          "text": [
            "\n",
            "      Epoch    GPU_mem   box_loss   cls_loss   dfl_loss  Instances       Size\n"
          ]
        },
        {
          "metadata": {
            "tags": null
          },
          "name": "stderr",
          "output_type": "stream",
          "text": [
            "      44/70      4.97G     0.8618     0.7273      1.124         95        640: 100%|██████████| 27/27 [00:06<00:00,  4.39it/s]\n",
            "                 Class     Images  Instances      Box(P          R      mAP50  mAP50-95): 100%|██████████| 4/4 [00:00<00:00,  4.63it/s]"
          ]
        },
        {
          "metadata": {
            "tags": null
          },
          "name": "stdout",
          "output_type": "stream",
          "text": [
            "                   all        116        414      0.796      0.761      0.821      0.588\n"
          ]
        },
        {
          "metadata": {
            "tags": null
          },
          "name": "stderr",
          "output_type": "stream",
          "text": [
            "\n"
          ]
        },
        {
          "metadata": {
            "tags": null
          },
          "name": "stdout",
          "output_type": "stream",
          "text": [
            "\n",
            "      Epoch    GPU_mem   box_loss   cls_loss   dfl_loss  Instances       Size\n"
          ]
        },
        {
          "metadata": {
            "tags": null
          },
          "name": "stderr",
          "output_type": "stream",
          "text": [
            "      45/70      4.97G     0.8444     0.7288      1.112        109        640: 100%|██████████| 27/27 [00:07<00:00,  3.41it/s]\n",
            "                 Class     Images  Instances      Box(P          R      mAP50  mAP50-95): 100%|██████████| 4/4 [00:00<00:00,  4.88it/s]"
          ]
        },
        {
          "metadata": {
            "tags": null
          },
          "name": "stdout",
          "output_type": "stream",
          "text": [
            "                   all        116        414      0.785      0.751      0.815      0.583\n"
          ]
        },
        {
          "metadata": {
            "tags": null
          },
          "name": "stderr",
          "output_type": "stream",
          "text": [
            "\n"
          ]
        },
        {
          "metadata": {
            "tags": null
          },
          "name": "stdout",
          "output_type": "stream",
          "text": [
            "\n",
            "      Epoch    GPU_mem   box_loss   cls_loss   dfl_loss  Instances       Size\n"
          ]
        },
        {
          "metadata": {
            "tags": null
          },
          "name": "stderr",
          "output_type": "stream",
          "text": [
            "      46/70      4.97G     0.8482     0.7233      1.103        151        640: 100%|██████████| 27/27 [00:08<00:00,  3.34it/s]\n",
            "                 Class     Images  Instances      Box(P          R      mAP50  mAP50-95): 100%|██████████| 4/4 [00:00<00:00,  5.18it/s]"
          ]
        },
        {
          "metadata": {
            "tags": null
          },
          "name": "stdout",
          "output_type": "stream",
          "text": [
            "                   all        116        414      0.827      0.729      0.819      0.587\n"
          ]
        },
        {
          "metadata": {
            "tags": null
          },
          "name": "stderr",
          "output_type": "stream",
          "text": [
            "\n"
          ]
        },
        {
          "metadata": {
            "tags": null
          },
          "name": "stdout",
          "output_type": "stream",
          "text": [
            "\n",
            "      Epoch    GPU_mem   box_loss   cls_loss   dfl_loss  Instances       Size\n"
          ]
        },
        {
          "metadata": {
            "tags": null
          },
          "name": "stderr",
          "output_type": "stream",
          "text": [
            "      47/70      4.97G     0.8167     0.7048      1.093         99        640: 100%|██████████| 27/27 [00:07<00:00,  3.61it/s]\n",
            "                 Class     Images  Instances      Box(P          R      mAP50  mAP50-95): 100%|██████████| 4/4 [00:00<00:00,  4.66it/s]"
          ]
        },
        {
          "metadata": {
            "tags": null
          },
          "name": "stdout",
          "output_type": "stream",
          "text": [
            "                   all        116        414      0.818      0.722       0.82      0.588\n"
          ]
        },
        {
          "metadata": {
            "tags": null
          },
          "name": "stderr",
          "output_type": "stream",
          "text": [
            "\n"
          ]
        },
        {
          "metadata": {
            "tags": null
          },
          "name": "stdout",
          "output_type": "stream",
          "text": [
            "\n",
            "      Epoch    GPU_mem   box_loss   cls_loss   dfl_loss  Instances       Size\n"
          ]
        },
        {
          "metadata": {
            "tags": null
          },
          "name": "stderr",
          "output_type": "stream",
          "text": [
            "      48/70      5.01G     0.7894      0.676      1.081        130        640: 100%|██████████| 27/27 [00:08<00:00,  3.05it/s]\n",
            "                 Class     Images  Instances      Box(P          R      mAP50  mAP50-95): 100%|██████████| 4/4 [00:00<00:00,  5.62it/s]"
          ]
        },
        {
          "metadata": {
            "tags": null
          },
          "name": "stdout",
          "output_type": "stream",
          "text": [
            "                   all        116        414      0.817      0.771      0.826      0.597\n"
          ]
        },
        {
          "metadata": {
            "tags": null
          },
          "name": "stderr",
          "output_type": "stream",
          "text": [
            "\n"
          ]
        },
        {
          "metadata": {
            "tags": null
          },
          "name": "stdout",
          "output_type": "stream",
          "text": [
            "\n",
            "      Epoch    GPU_mem   box_loss   cls_loss   dfl_loss  Instances       Size\n"
          ]
        },
        {
          "metadata": {
            "tags": null
          },
          "name": "stderr",
          "output_type": "stream",
          "text": [
            "      49/70      5.01G     0.7993     0.6844       1.09        107        640: 100%|██████████| 27/27 [00:07<00:00,  3.81it/s]\n",
            "                 Class     Images  Instances      Box(P          R      mAP50  mAP50-95): 100%|██████████| 4/4 [00:00<00:00,  5.08it/s]"
          ]
        },
        {
          "metadata": {
            "tags": null
          },
          "name": "stdout",
          "output_type": "stream",
          "text": [
            "                   all        116        414      0.833      0.724      0.815      0.587\n"
          ]
        },
        {
          "metadata": {
            "tags": null
          },
          "name": "stderr",
          "output_type": "stream",
          "text": [
            "\n"
          ]
        },
        {
          "metadata": {
            "tags": null
          },
          "name": "stdout",
          "output_type": "stream",
          "text": [
            "\n",
            "      Epoch    GPU_mem   box_loss   cls_loss   dfl_loss  Instances       Size\n"
          ]
        },
        {
          "metadata": {
            "tags": null
          },
          "name": "stderr",
          "output_type": "stream",
          "text": [
            "      50/70      5.05G     0.8196     0.7008      1.104        102        640: 100%|██████████| 27/27 [00:07<00:00,  3.61it/s]\n",
            "                 Class     Images  Instances      Box(P          R      mAP50  mAP50-95): 100%|██████████| 4/4 [00:00<00:00,  4.69it/s]"
          ]
        },
        {
          "metadata": {
            "tags": null
          },
          "name": "stdout",
          "output_type": "stream",
          "text": [
            "                   all        116        414      0.847      0.717      0.818      0.592\n"
          ]
        },
        {
          "metadata": {
            "tags": null
          },
          "name": "stderr",
          "output_type": "stream",
          "text": [
            "\n"
          ]
        },
        {
          "metadata": {
            "tags": null
          },
          "name": "stdout",
          "output_type": "stream",
          "text": [
            "\n",
            "      Epoch    GPU_mem   box_loss   cls_loss   dfl_loss  Instances       Size\n"
          ]
        },
        {
          "metadata": {
            "tags": null
          },
          "name": "stderr",
          "output_type": "stream",
          "text": [
            "      51/70      5.09G     0.8032      0.692      1.086        139        640: 100%|██████████| 27/27 [00:08<00:00,  3.18it/s]\n",
            "                 Class     Images  Instances      Box(P          R      mAP50  mAP50-95): 100%|██████████| 4/4 [00:00<00:00,  5.16it/s]"
          ]
        },
        {
          "metadata": {
            "tags": null
          },
          "name": "stdout",
          "output_type": "stream",
          "text": [
            "                   all        116        414      0.838      0.739      0.826      0.604\n"
          ]
        },
        {
          "metadata": {
            "tags": null
          },
          "name": "stderr",
          "output_type": "stream",
          "text": [
            "\n"
          ]
        },
        {
          "metadata": {
            "tags": null
          },
          "name": "stdout",
          "output_type": "stream",
          "text": [
            "\n",
            "      Epoch    GPU_mem   box_loss   cls_loss   dfl_loss  Instances       Size\n"
          ]
        },
        {
          "metadata": {
            "tags": null
          },
          "name": "stderr",
          "output_type": "stream",
          "text": [
            "      52/70      5.13G     0.8176     0.6861      1.098         99        640: 100%|██████████| 27/27 [00:06<00:00,  3.90it/s]\n",
            "                 Class     Images  Instances      Box(P          R      mAP50  mAP50-95): 100%|██████████| 4/4 [00:00<00:00,  4.98it/s]"
          ]
        },
        {
          "metadata": {
            "tags": null
          },
          "name": "stdout",
          "output_type": "stream",
          "text": [
            "                   all        116        414        0.8      0.754       0.83      0.619\n"
          ]
        },
        {
          "metadata": {
            "tags": null
          },
          "name": "stderr",
          "output_type": "stream",
          "text": [
            "\n"
          ]
        },
        {
          "metadata": {
            "tags": null
          },
          "name": "stdout",
          "output_type": "stream",
          "text": [
            "\n",
            "      Epoch    GPU_mem   box_loss   cls_loss   dfl_loss  Instances       Size\n"
          ]
        },
        {
          "metadata": {
            "tags": null
          },
          "name": "stderr",
          "output_type": "stream",
          "text": [
            "      53/70      5.17G     0.8008     0.6842      1.095        143        640: 100%|██████████| 27/27 [00:06<00:00,  3.87it/s]\n",
            "                 Class     Images  Instances      Box(P          R      mAP50  mAP50-95): 100%|██████████| 4/4 [00:00<00:00,  5.02it/s]"
          ]
        },
        {
          "metadata": {
            "tags": null
          },
          "name": "stdout",
          "output_type": "stream",
          "text": [
            "                   all        116        414      0.773      0.747      0.823       0.61\n"
          ]
        },
        {
          "metadata": {
            "tags": null
          },
          "name": "stderr",
          "output_type": "stream",
          "text": [
            "\n"
          ]
        },
        {
          "metadata": {
            "tags": null
          },
          "name": "stdout",
          "output_type": "stream",
          "text": [
            "\n",
            "      Epoch    GPU_mem   box_loss   cls_loss   dfl_loss  Instances       Size\n"
          ]
        },
        {
          "metadata": {
            "tags": null
          },
          "name": "stderr",
          "output_type": "stream",
          "text": [
            "      54/70      5.21G     0.8143     0.6836      1.101        121        640: 100%|██████████| 27/27 [00:08<00:00,  3.32it/s]\n",
            "                 Class     Images  Instances      Box(P          R      mAP50  mAP50-95): 100%|██████████| 4/4 [00:00<00:00,  5.03it/s]"
          ]
        },
        {
          "metadata": {
            "tags": null
          },
          "name": "stdout",
          "output_type": "stream",
          "text": [
            "                   all        116        414      0.865      0.674      0.817      0.594\n"
          ]
        },
        {
          "metadata": {
            "tags": null
          },
          "name": "stderr",
          "output_type": "stream",
          "text": [
            "\n"
          ]
        },
        {
          "metadata": {
            "tags": null
          },
          "name": "stdout",
          "output_type": "stream",
          "text": [
            "\n",
            "      Epoch    GPU_mem   box_loss   cls_loss   dfl_loss  Instances       Size\n"
          ]
        },
        {
          "metadata": {
            "tags": null
          },
          "name": "stderr",
          "output_type": "stream",
          "text": [
            "      55/70      5.24G     0.7934     0.6569      1.074         97        640: 100%|██████████| 27/27 [00:06<00:00,  4.09it/s]\n",
            "                 Class     Images  Instances      Box(P          R      mAP50  mAP50-95): 100%|██████████| 4/4 [00:00<00:00,  4.41it/s]"
          ]
        },
        {
          "metadata": {
            "tags": null
          },
          "name": "stdout",
          "output_type": "stream",
          "text": [
            "                   all        116        414      0.787      0.766      0.822      0.595\n"
          ]
        },
        {
          "metadata": {
            "tags": null
          },
          "name": "stderr",
          "output_type": "stream",
          "text": [
            "\n"
          ]
        },
        {
          "metadata": {
            "tags": null
          },
          "name": "stdout",
          "output_type": "stream",
          "text": [
            "\n",
            "      Epoch    GPU_mem   box_loss   cls_loss   dfl_loss  Instances       Size\n"
          ]
        },
        {
          "metadata": {
            "tags": null
          },
          "name": "stderr",
          "output_type": "stream",
          "text": [
            "      56/70      5.29G     0.7939     0.6594      1.071        145        640: 100%|██████████| 27/27 [00:07<00:00,  3.59it/s]\n",
            "                 Class     Images  Instances      Box(P          R      mAP50  mAP50-95): 100%|██████████| 4/4 [00:00<00:00,  4.92it/s]"
          ]
        },
        {
          "metadata": {
            "tags": null
          },
          "name": "stdout",
          "output_type": "stream",
          "text": [
            "                   all        116        414      0.867      0.722      0.826        0.6\n"
          ]
        },
        {
          "metadata": {
            "tags": null
          },
          "name": "stderr",
          "output_type": "stream",
          "text": [
            "\n"
          ]
        },
        {
          "metadata": {
            "tags": null
          },
          "name": "stdout",
          "output_type": "stream",
          "text": [
            "\n",
            "      Epoch    GPU_mem   box_loss   cls_loss   dfl_loss  Instances       Size\n"
          ]
        },
        {
          "metadata": {
            "tags": null
          },
          "name": "stderr",
          "output_type": "stream",
          "text": [
            "      57/70      5.29G     0.7688     0.6385      1.065        113        640: 100%|██████████| 27/27 [00:06<00:00,  4.31it/s]\n",
            "                 Class     Images  Instances      Box(P          R      mAP50  mAP50-95): 100%|██████████| 4/4 [00:00<00:00,  4.89it/s]"
          ]
        },
        {
          "metadata": {
            "tags": null
          },
          "name": "stdout",
          "output_type": "stream",
          "text": [
            "                   all        116        414      0.857       0.71      0.832      0.597\n"
          ]
        },
        {
          "metadata": {
            "tags": null
          },
          "name": "stderr",
          "output_type": "stream",
          "text": [
            "\n"
          ]
        },
        {
          "metadata": {
            "tags": null
          },
          "name": "stdout",
          "output_type": "stream",
          "text": [
            "\n",
            "      Epoch    GPU_mem   box_loss   cls_loss   dfl_loss  Instances       Size\n"
          ]
        },
        {
          "metadata": {
            "tags": null
          },
          "name": "stderr",
          "output_type": "stream",
          "text": [
            "      58/70      5.29G      0.787     0.6578      1.071        124        640: 100%|██████████| 27/27 [00:07<00:00,  3.65it/s]\n",
            "                 Class     Images  Instances      Box(P          R      mAP50  mAP50-95): 100%|██████████| 4/4 [00:00<00:00,  4.82it/s]"
          ]
        },
        {
          "metadata": {
            "tags": null
          },
          "name": "stdout",
          "output_type": "stream",
          "text": [
            "                   all        116        414      0.847      0.725      0.829      0.597\n"
          ]
        },
        {
          "metadata": {
            "tags": null
          },
          "name": "stderr",
          "output_type": "stream",
          "text": [
            "\n"
          ]
        },
        {
          "metadata": {
            "tags": null
          },
          "name": "stdout",
          "output_type": "stream",
          "text": [
            "\n",
            "      Epoch    GPU_mem   box_loss   cls_loss   dfl_loss  Instances       Size\n"
          ]
        },
        {
          "metadata": {
            "tags": null
          },
          "name": "stderr",
          "output_type": "stream",
          "text": [
            "      59/70      5.29G     0.7875     0.6515      1.079        109        640: 100%|██████████| 27/27 [00:07<00:00,  3.56it/s]\n",
            "                 Class     Images  Instances      Box(P          R      mAP50  mAP50-95): 100%|██████████| 4/4 [00:00<00:00,  4.98it/s]"
          ]
        },
        {
          "metadata": {
            "tags": null
          },
          "name": "stdout",
          "output_type": "stream",
          "text": [
            "                   all        116        414      0.804      0.732      0.823      0.591\n"
          ]
        },
        {
          "metadata": {
            "tags": null
          },
          "name": "stderr",
          "output_type": "stream",
          "text": [
            "\n"
          ]
        },
        {
          "metadata": {
            "tags": null
          },
          "name": "stdout",
          "output_type": "stream",
          "text": [
            "\n",
            "      Epoch    GPU_mem   box_loss   cls_loss   dfl_loss  Instances       Size\n"
          ]
        },
        {
          "metadata": {
            "tags": null
          },
          "name": "stderr",
          "output_type": "stream",
          "text": [
            "      60/70      5.29G     0.7386     0.6179      1.046        107        640: 100%|██████████| 27/27 [00:07<00:00,  3.40it/s]\n",
            "                 Class     Images  Instances      Box(P          R      mAP50  mAP50-95): 100%|██████████| 4/4 [00:00<00:00,  4.37it/s]"
          ]
        },
        {
          "metadata": {
            "tags": null
          },
          "name": "stdout",
          "output_type": "stream",
          "text": [
            "                   all        116        414       0.83      0.761       0.84      0.609\n"
          ]
        },
        {
          "metadata": {
            "tags": null
          },
          "name": "stderr",
          "output_type": "stream",
          "text": [
            "\n"
          ]
        },
        {
          "metadata": {
            "tags": null
          },
          "name": "stdout",
          "output_type": "stream",
          "text": [
            "Closing dataloader mosaic\n",
            "\u001b[34m\u001b[1malbumentations: \u001b[0mBlur(p=0.01, blur_limit=(3, 7)), MedianBlur(p=0.01, blur_limit=(3, 7)), ToGray(p=0.01, num_output_channels=3, method='weighted_average'), CLAHE(p=0.01, clip_limit=(1.0, 4.0), tile_grid_size=(8, 8))\n",
            "\n",
            "      Epoch    GPU_mem   box_loss   cls_loss   dfl_loss  Instances       Size\n"
          ]
        },
        {
          "metadata": {
            "tags": null
          },
          "name": "stderr",
          "output_type": "stream",
          "text": [
            "      61/70      5.29G     0.7819     0.6811      1.094         44        640: 100%|██████████| 27/27 [00:09<00:00,  2.80it/s]\n",
            "                 Class     Images  Instances      Box(P          R      mAP50  mAP50-95): 100%|██████████| 4/4 [00:00<00:00,  4.97it/s]"
          ]
        },
        {
          "metadata": {
            "tags": null
          },
          "name": "stdout",
          "output_type": "stream",
          "text": [
            "                   all        116        414      0.797      0.756      0.827      0.599\n"
          ]
        },
        {
          "metadata": {
            "tags": null
          },
          "name": "stderr",
          "output_type": "stream",
          "text": [
            "\n"
          ]
        },
        {
          "metadata": {
            "tags": null
          },
          "name": "stdout",
          "output_type": "stream",
          "text": [
            "\n",
            "      Epoch    GPU_mem   box_loss   cls_loss   dfl_loss  Instances       Size\n"
          ]
        },
        {
          "metadata": {
            "tags": null
          },
          "name": "stderr",
          "output_type": "stream",
          "text": [
            "      62/70      5.29G     0.7319     0.5953      1.069         47        640: 100%|██████████| 27/27 [00:07<00:00,  3.71it/s]\n",
            "                 Class     Images  Instances      Box(P          R      mAP50  mAP50-95): 100%|██████████| 4/4 [00:00<00:00,  4.85it/s]"
          ]
        },
        {
          "metadata": {
            "tags": null
          },
          "name": "stdout",
          "output_type": "stream",
          "text": [
            "                   all        116        414      0.853        0.7      0.823      0.583\n"
          ]
        },
        {
          "metadata": {
            "tags": null
          },
          "name": "stderr",
          "output_type": "stream",
          "text": [
            "\n"
          ]
        },
        {
          "metadata": {
            "tags": null
          },
          "name": "stdout",
          "output_type": "stream",
          "text": [
            "\n",
            "      Epoch    GPU_mem   box_loss   cls_loss   dfl_loss  Instances       Size\n"
          ]
        },
        {
          "metadata": {
            "tags": null
          },
          "name": "stderr",
          "output_type": "stream",
          "text": [
            "      63/70      5.29G     0.7131     0.5592      1.065         55        640: 100%|██████████| 27/27 [00:07<00:00,  3.61it/s]\n",
            "                 Class     Images  Instances      Box(P          R      mAP50  mAP50-95): 100%|██████████| 4/4 [00:00<00:00,  4.76it/s]"
          ]
        },
        {
          "metadata": {
            "tags": null
          },
          "name": "stdout",
          "output_type": "stream",
          "text": [
            "                   all        116        414      0.827      0.737      0.829      0.598\n"
          ]
        },
        {
          "metadata": {
            "tags": null
          },
          "name": "stderr",
          "output_type": "stream",
          "text": [
            "\n"
          ]
        },
        {
          "metadata": {
            "tags": null
          },
          "name": "stdout",
          "output_type": "stream",
          "text": [
            "\n",
            "      Epoch    GPU_mem   box_loss   cls_loss   dfl_loss  Instances       Size\n"
          ]
        },
        {
          "metadata": {
            "tags": null
          },
          "name": "stderr",
          "output_type": "stream",
          "text": [
            "      64/70      5.29G     0.7099     0.5591      1.057         47        640: 100%|██████████| 27/27 [00:08<00:00,  3.35it/s]\n",
            "                 Class     Images  Instances      Box(P          R      mAP50  mAP50-95): 100%|██████████| 4/4 [00:00<00:00,  4.82it/s]"
          ]
        },
        {
          "metadata": {
            "tags": null
          },
          "name": "stdout",
          "output_type": "stream",
          "text": [
            "                   all        116        414      0.824      0.734      0.826      0.612\n"
          ]
        },
        {
          "metadata": {
            "tags": null
          },
          "name": "stderr",
          "output_type": "stream",
          "text": [
            "\n"
          ]
        },
        {
          "metadata": {
            "tags": null
          },
          "name": "stdout",
          "output_type": "stream",
          "text": [
            "\n",
            "      Epoch    GPU_mem   box_loss   cls_loss   dfl_loss  Instances       Size\n"
          ]
        },
        {
          "metadata": {
            "tags": null
          },
          "name": "stderr",
          "output_type": "stream",
          "text": [
            "      65/70      5.29G     0.7031     0.5613      1.061         52        640: 100%|██████████| 27/27 [00:07<00:00,  3.40it/s]\n",
            "                 Class     Images  Instances      Box(P          R      mAP50  mAP50-95): 100%|██████████| 4/4 [00:00<00:00,  5.01it/s]"
          ]
        },
        {
          "metadata": {
            "tags": null
          },
          "name": "stdout",
          "output_type": "stream",
          "text": [
            "                   all        116        414      0.827      0.744      0.826      0.604\n"
          ]
        },
        {
          "metadata": {
            "tags": null
          },
          "name": "stderr",
          "output_type": "stream",
          "text": [
            "\n"
          ]
        },
        {
          "metadata": {
            "tags": null
          },
          "name": "stdout",
          "output_type": "stream",
          "text": [
            "\n",
            "      Epoch    GPU_mem   box_loss   cls_loss   dfl_loss  Instances       Size\n"
          ]
        },
        {
          "metadata": {
            "tags": null
          },
          "name": "stderr",
          "output_type": "stream",
          "text": [
            "      66/70      5.29G     0.6683     0.5212      1.025         55        640: 100%|██████████| 27/27 [00:07<00:00,  3.53it/s]\n",
            "                 Class     Images  Instances      Box(P          R      mAP50  mAP50-95): 100%|██████████| 4/4 [00:00<00:00,  5.00it/s]"
          ]
        },
        {
          "metadata": {
            "tags": null
          },
          "name": "stdout",
          "output_type": "stream",
          "text": [
            "                   all        116        414      0.846      0.746      0.828      0.607\n"
          ]
        },
        {
          "metadata": {
            "tags": null
          },
          "name": "stderr",
          "output_type": "stream",
          "text": [
            "\n"
          ]
        },
        {
          "metadata": {
            "tags": null
          },
          "name": "stdout",
          "output_type": "stream",
          "text": [
            "\n",
            "      Epoch    GPU_mem   box_loss   cls_loss   dfl_loss  Instances       Size\n"
          ]
        },
        {
          "metadata": {
            "tags": null
          },
          "name": "stderr",
          "output_type": "stream",
          "text": [
            "      67/70      5.29G     0.6692     0.5293      1.034         56        640: 100%|██████████| 27/27 [00:06<00:00,  3.87it/s]\n",
            "                 Class     Images  Instances      Box(P          R      mAP50  mAP50-95): 100%|██████████| 4/4 [00:00<00:00,  4.53it/s]"
          ]
        },
        {
          "metadata": {
            "tags": null
          },
          "name": "stdout",
          "output_type": "stream",
          "text": [
            "                   all        116        414      0.814      0.741      0.819        0.6\n"
          ]
        },
        {
          "metadata": {
            "tags": null
          },
          "name": "stderr",
          "output_type": "stream",
          "text": [
            "\n"
          ]
        },
        {
          "metadata": {
            "tags": null
          },
          "name": "stdout",
          "output_type": "stream",
          "text": [
            "\n",
            "      Epoch    GPU_mem   box_loss   cls_loss   dfl_loss  Instances       Size\n"
          ]
        },
        {
          "metadata": {
            "tags": null
          },
          "name": "stderr",
          "output_type": "stream",
          "text": [
            "      68/70      5.29G     0.6737     0.5284      1.037         46        640: 100%|██████████| 27/27 [00:07<00:00,  3.69it/s]\n",
            "                 Class     Images  Instances      Box(P          R      mAP50  mAP50-95): 100%|██████████| 4/4 [00:00<00:00,  4.64it/s]"
          ]
        },
        {
          "metadata": {
            "tags": null
          },
          "name": "stdout",
          "output_type": "stream",
          "text": [
            "                   all        116        414       0.82      0.715      0.816      0.601\n"
          ]
        },
        {
          "metadata": {
            "tags": null
          },
          "name": "stderr",
          "output_type": "stream",
          "text": [
            "\n"
          ]
        },
        {
          "metadata": {
            "tags": null
          },
          "name": "stdout",
          "output_type": "stream",
          "text": [
            "\n",
            "      Epoch    GPU_mem   box_loss   cls_loss   dfl_loss  Instances       Size\n"
          ]
        },
        {
          "metadata": {
            "tags": null
          },
          "name": "stderr",
          "output_type": "stream",
          "text": [
            "      69/70      5.29G      0.663      0.519      1.019         51        640: 100%|██████████| 27/27 [00:07<00:00,  3.74it/s]\n",
            "                 Class     Images  Instances      Box(P          R      mAP50  mAP50-95): 100%|██████████| 4/4 [00:00<00:00,  5.02it/s]"
          ]
        },
        {
          "metadata": {
            "tags": null
          },
          "name": "stdout",
          "output_type": "stream",
          "text": [
            "                   all        116        414      0.841       0.71      0.826      0.605\n"
          ]
        },
        {
          "metadata": {
            "tags": null
          },
          "name": "stderr",
          "output_type": "stream",
          "text": [
            "\n"
          ]
        },
        {
          "metadata": {
            "tags": null
          },
          "name": "stdout",
          "output_type": "stream",
          "text": [
            "\n",
            "      Epoch    GPU_mem   box_loss   cls_loss   dfl_loss  Instances       Size\n"
          ]
        },
        {
          "metadata": {
            "tags": null
          },
          "name": "stderr",
          "output_type": "stream",
          "text": [
            "      70/70      5.29G     0.6738     0.5266      1.036         54        640: 100%|██████████| 27/27 [00:07<00:00,  3.56it/s]\n",
            "                 Class     Images  Instances      Box(P          R      mAP50  mAP50-95): 100%|██████████| 4/4 [00:00<00:00,  4.92it/s]"
          ]
        },
        {
          "metadata": {
            "tags": null
          },
          "name": "stdout",
          "output_type": "stream",
          "text": [
            "                   all        116        414      0.852      0.712      0.828      0.611\n"
          ]
        },
        {
          "metadata": {
            "tags": null
          },
          "name": "stderr",
          "output_type": "stream",
          "text": [
            "\n"
          ]
        },
        {
          "metadata": {
            "tags": null
          },
          "name": "stdout",
          "output_type": "stream",
          "text": [
            "\n",
            "70 epochs completed in 0.182 hours.\n",
            "Optimizer stripped from runs/detect/train5/weights/last.pt, 19.2MB\n",
            "Optimizer stripped from runs/detect/train5/weights/best.pt, 19.2MB\n",
            "\n",
            "Validating runs/detect/train5/weights/best.pt...\n",
            "Ultralytics 8.3.103 🚀 Python-3.11.11 torch-2.6.0+cu124 CUDA:0 (NVIDIA L4, 22693MiB)\n",
            "YOLO11s summary (fused): 100 layers, 9,413,187 parameters, 0 gradients, 21.3 GFLOPs\n"
          ]
        },
        {
          "metadata": {
            "tags": null
          },
          "name": "stderr",
          "output_type": "stream",
          "text": [
            "                 Class     Images  Instances      Box(P          R      mAP50  mAP50-95): 100%|██████████| 4/4 [00:02<00:00,  1.74it/s]\n"
          ]
        },
        {
          "metadata": {
            "tags": null
          },
          "name": "stdout",
          "output_type": "stream",
          "text": [
            "                   all        116        414        0.8      0.754       0.83       0.62\n",
            "Speed: 0.1ms preprocess, 2.1ms inference, 0.0ms loss, 4.1ms postprocess per image\n",
            "Results saved to \u001b[1mruns/detect/train5\u001b[0m\n"
          ]
        },
        {
          "data": {
            "text/plain": [
              "ultralytics.utils.metrics.DetMetrics object with attributes:\n",
              "\n",
              "ap_class_index: array([0])\n",
              "box: ultralytics.utils.metrics.Metric object\n",
              "confusion_matrix: <ultralytics.utils.metrics.ConfusionMatrix object at 0x79f810946390>\n",
              "curves: ['Precision-Recall(B)', 'F1-Confidence(B)', 'Precision-Confidence(B)', 'Recall-Confidence(B)']\n",
              "curves_results: [[array([          0,    0.001001,    0.002002,    0.003003,    0.004004,    0.005005,    0.006006,    0.007007,    0.008008,    0.009009,     0.01001,    0.011011,    0.012012,    0.013013,    0.014014,    0.015015,    0.016016,    0.017017,    0.018018,    0.019019,     0.02002,    0.021021,    0.022022,    0.023023,\n",
              "          0.024024,    0.025025,    0.026026,    0.027027,    0.028028,    0.029029,     0.03003,    0.031031,    0.032032,    0.033033,    0.034034,    0.035035,    0.036036,    0.037037,    0.038038,    0.039039,     0.04004,    0.041041,    0.042042,    0.043043,    0.044044,    0.045045,    0.046046,    0.047047,\n",
              "          0.048048,    0.049049,     0.05005,    0.051051,    0.052052,    0.053053,    0.054054,    0.055055,    0.056056,    0.057057,    0.058058,    0.059059,     0.06006,    0.061061,    0.062062,    0.063063,    0.064064,    0.065065,    0.066066,    0.067067,    0.068068,    0.069069,     0.07007,    0.071071,\n",
              "          0.072072,    0.073073,    0.074074,    0.075075,    0.076076,    0.077077,    0.078078,    0.079079,     0.08008,    0.081081,    0.082082,    0.083083,    0.084084,    0.085085,    0.086086,    0.087087,    0.088088,    0.089089,     0.09009,    0.091091,    0.092092,    0.093093,    0.094094,    0.095095,\n",
              "          0.096096,    0.097097,    0.098098,    0.099099,      0.1001,      0.1011,      0.1021,      0.1031,      0.1041,     0.10511,     0.10611,     0.10711,     0.10811,     0.10911,     0.11011,     0.11111,     0.11211,     0.11311,     0.11411,     0.11512,     0.11612,     0.11712,     0.11812,     0.11912,\n",
              "           0.12012,     0.12112,     0.12212,     0.12312,     0.12412,     0.12513,     0.12613,     0.12713,     0.12813,     0.12913,     0.13013,     0.13113,     0.13213,     0.13313,     0.13413,     0.13514,     0.13614,     0.13714,     0.13814,     0.13914,     0.14014,     0.14114,     0.14214,     0.14314,\n",
              "           0.14414,     0.14515,     0.14615,     0.14715,     0.14815,     0.14915,     0.15015,     0.15115,     0.15215,     0.15315,     0.15415,     0.15516,     0.15616,     0.15716,     0.15816,     0.15916,     0.16016,     0.16116,     0.16216,     0.16316,     0.16416,     0.16517,     0.16617,     0.16717,\n",
              "           0.16817,     0.16917,     0.17017,     0.17117,     0.17217,     0.17317,     0.17417,     0.17518,     0.17618,     0.17718,     0.17818,     0.17918,     0.18018,     0.18118,     0.18218,     0.18318,     0.18418,     0.18519,     0.18619,     0.18719,     0.18819,     0.18919,     0.19019,     0.19119,\n",
              "           0.19219,     0.19319,     0.19419,      0.1952,      0.1962,      0.1972,      0.1982,      0.1992,      0.2002,      0.2012,      0.2022,      0.2032,      0.2042,     0.20521,     0.20621,     0.20721,     0.20821,     0.20921,     0.21021,     0.21121,     0.21221,     0.21321,     0.21421,     0.21522,\n",
              "           0.21622,     0.21722,     0.21822,     0.21922,     0.22022,     0.22122,     0.22222,     0.22322,     0.22422,     0.22523,     0.22623,     0.22723,     0.22823,     0.22923,     0.23023,     0.23123,     0.23223,     0.23323,     0.23423,     0.23524,     0.23624,     0.23724,     0.23824,     0.23924,\n",
              "           0.24024,     0.24124,     0.24224,     0.24324,     0.24424,     0.24525,     0.24625,     0.24725,     0.24825,     0.24925,     0.25025,     0.25125,     0.25225,     0.25325,     0.25425,     0.25526,     0.25626,     0.25726,     0.25826,     0.25926,     0.26026,     0.26126,     0.26226,     0.26326,\n",
              "           0.26426,     0.26527,     0.26627,     0.26727,     0.26827,     0.26927,     0.27027,     0.27127,     0.27227,     0.27327,     0.27427,     0.27528,     0.27628,     0.27728,     0.27828,     0.27928,     0.28028,     0.28128,     0.28228,     0.28328,     0.28428,     0.28529,     0.28629,     0.28729,\n",
              "           0.28829,     0.28929,     0.29029,     0.29129,     0.29229,     0.29329,     0.29429,      0.2953,      0.2963,      0.2973,      0.2983,      0.2993,      0.3003,      0.3013,      0.3023,      0.3033,      0.3043,     0.30531,     0.30631,     0.30731,     0.30831,     0.30931,     0.31031,     0.31131,\n",
              "           0.31231,     0.31331,     0.31431,     0.31532,     0.31632,     0.31732,     0.31832,     0.31932,     0.32032,     0.32132,     0.32232,     0.32332,     0.32432,     0.32533,     0.32633,     0.32733,     0.32833,     0.32933,     0.33033,     0.33133,     0.33233,     0.33333,     0.33433,     0.33534,\n",
              "           0.33634,     0.33734,     0.33834,     0.33934,     0.34034,     0.34134,     0.34234,     0.34334,     0.34434,     0.34535,     0.34635,     0.34735,     0.34835,     0.34935,     0.35035,     0.35135,     0.35235,     0.35335,     0.35435,     0.35536,     0.35636,     0.35736,     0.35836,     0.35936,\n",
              "           0.36036,     0.36136,     0.36236,     0.36336,     0.36436,     0.36537,     0.36637,     0.36737,     0.36837,     0.36937,     0.37037,     0.37137,     0.37237,     0.37337,     0.37437,     0.37538,     0.37638,     0.37738,     0.37838,     0.37938,     0.38038,     0.38138,     0.38238,     0.38338,\n",
              "           0.38438,     0.38539,     0.38639,     0.38739,     0.38839,     0.38939,     0.39039,     0.39139,     0.39239,     0.39339,     0.39439,      0.3954,      0.3964,      0.3974,      0.3984,      0.3994,      0.4004,      0.4014,      0.4024,      0.4034,      0.4044,     0.40541,     0.40641,     0.40741,\n",
              "           0.40841,     0.40941,     0.41041,     0.41141,     0.41241,     0.41341,     0.41441,     0.41542,     0.41642,     0.41742,     0.41842,     0.41942,     0.42042,     0.42142,     0.42242,     0.42342,     0.42442,     0.42543,     0.42643,     0.42743,     0.42843,     0.42943,     0.43043,     0.43143,\n",
              "           0.43243,     0.43343,     0.43443,     0.43544,     0.43644,     0.43744,     0.43844,     0.43944,     0.44044,     0.44144,     0.44244,     0.44344,     0.44444,     0.44545,     0.44645,     0.44745,     0.44845,     0.44945,     0.45045,     0.45145,     0.45245,     0.45345,     0.45445,     0.45546,\n",
              "           0.45646,     0.45746,     0.45846,     0.45946,     0.46046,     0.46146,     0.46246,     0.46346,     0.46446,     0.46547,     0.46647,     0.46747,     0.46847,     0.46947,     0.47047,     0.47147,     0.47247,     0.47347,     0.47447,     0.47548,     0.47648,     0.47748,     0.47848,     0.47948,\n",
              "           0.48048,     0.48148,     0.48248,     0.48348,     0.48448,     0.48549,     0.48649,     0.48749,     0.48849,     0.48949,     0.49049,     0.49149,     0.49249,     0.49349,     0.49449,      0.4955,      0.4965,      0.4975,      0.4985,      0.4995,      0.5005,      0.5015,      0.5025,      0.5035,\n",
              "            0.5045,     0.50551,     0.50651,     0.50751,     0.50851,     0.50951,     0.51051,     0.51151,     0.51251,     0.51351,     0.51451,     0.51552,     0.51652,     0.51752,     0.51852,     0.51952,     0.52052,     0.52152,     0.52252,     0.52352,     0.52452,     0.52553,     0.52653,     0.52753,\n",
              "           0.52853,     0.52953,     0.53053,     0.53153,     0.53253,     0.53353,     0.53453,     0.53554,     0.53654,     0.53754,     0.53854,     0.53954,     0.54054,     0.54154,     0.54254,     0.54354,     0.54454,     0.54555,     0.54655,     0.54755,     0.54855,     0.54955,     0.55055,     0.55155,\n",
              "           0.55255,     0.55355,     0.55455,     0.55556,     0.55656,     0.55756,     0.55856,     0.55956,     0.56056,     0.56156,     0.56256,     0.56356,     0.56456,     0.56557,     0.56657,     0.56757,     0.56857,     0.56957,     0.57057,     0.57157,     0.57257,     0.57357,     0.57457,     0.57558,\n",
              "           0.57658,     0.57758,     0.57858,     0.57958,     0.58058,     0.58158,     0.58258,     0.58358,     0.58458,     0.58559,     0.58659,     0.58759,     0.58859,     0.58959,     0.59059,     0.59159,     0.59259,     0.59359,     0.59459,      0.5956,      0.5966,      0.5976,      0.5986,      0.5996,\n",
              "            0.6006,      0.6016,      0.6026,      0.6036,      0.6046,     0.60561,     0.60661,     0.60761,     0.60861,     0.60961,     0.61061,     0.61161,     0.61261,     0.61361,     0.61461,     0.61562,     0.61662,     0.61762,     0.61862,     0.61962,     0.62062,     0.62162,     0.62262,     0.62362,\n",
              "           0.62462,     0.62563,     0.62663,     0.62763,     0.62863,     0.62963,     0.63063,     0.63163,     0.63263,     0.63363,     0.63463,     0.63564,     0.63664,     0.63764,     0.63864,     0.63964,     0.64064,     0.64164,     0.64264,     0.64364,     0.64464,     0.64565,     0.64665,     0.64765,\n",
              "           0.64865,     0.64965,     0.65065,     0.65165,     0.65265,     0.65365,     0.65465,     0.65566,     0.65666,     0.65766,     0.65866,     0.65966,     0.66066,     0.66166,     0.66266,     0.66366,     0.66466,     0.66567,     0.66667,     0.66767,     0.66867,     0.66967,     0.67067,     0.67167,\n",
              "           0.67267,     0.67367,     0.67467,     0.67568,     0.67668,     0.67768,     0.67868,     0.67968,     0.68068,     0.68168,     0.68268,     0.68368,     0.68468,     0.68569,     0.68669,     0.68769,     0.68869,     0.68969,     0.69069,     0.69169,     0.69269,     0.69369,     0.69469,      0.6957,\n",
              "            0.6967,      0.6977,      0.6987,      0.6997,      0.7007,      0.7017,      0.7027,      0.7037,      0.7047,     0.70571,     0.70671,     0.70771,     0.70871,     0.70971,     0.71071,     0.71171,     0.71271,     0.71371,     0.71471,     0.71572,     0.71672,     0.71772,     0.71872,     0.71972,\n",
              "           0.72072,     0.72172,     0.72272,     0.72372,     0.72472,     0.72573,     0.72673,     0.72773,     0.72873,     0.72973,     0.73073,     0.73173,     0.73273,     0.73373,     0.73473,     0.73574,     0.73674,     0.73774,     0.73874,     0.73974,     0.74074,     0.74174,     0.74274,     0.74374,\n",
              "           0.74474,     0.74575,     0.74675,     0.74775,     0.74875,     0.74975,     0.75075,     0.75175,     0.75275,     0.75375,     0.75475,     0.75576,     0.75676,     0.75776,     0.75876,     0.75976,     0.76076,     0.76176,     0.76276,     0.76376,     0.76476,     0.76577,     0.76677,     0.76777,\n",
              "           0.76877,     0.76977,     0.77077,     0.77177,     0.77277,     0.77377,     0.77477,     0.77578,     0.77678,     0.77778,     0.77878,     0.77978,     0.78078,     0.78178,     0.78278,     0.78378,     0.78478,     0.78579,     0.78679,     0.78779,     0.78879,     0.78979,     0.79079,     0.79179,\n",
              "           0.79279,     0.79379,     0.79479,      0.7958,      0.7968,      0.7978,      0.7988,      0.7998,      0.8008,      0.8018,      0.8028,      0.8038,      0.8048,     0.80581,     0.80681,     0.80781,     0.80881,     0.80981,     0.81081,     0.81181,     0.81281,     0.81381,     0.81481,     0.81582,\n",
              "           0.81682,     0.81782,     0.81882,     0.81982,     0.82082,     0.82182,     0.82282,     0.82382,     0.82482,     0.82583,     0.82683,     0.82783,     0.82883,     0.82983,     0.83083,     0.83183,     0.83283,     0.83383,     0.83483,     0.83584,     0.83684,     0.83784,     0.83884,     0.83984,\n",
              "           0.84084,     0.84184,     0.84284,     0.84384,     0.84484,     0.84585,     0.84685,     0.84785,     0.84885,     0.84985,     0.85085,     0.85185,     0.85285,     0.85385,     0.85485,     0.85586,     0.85686,     0.85786,     0.85886,     0.85986,     0.86086,     0.86186,     0.86286,     0.86386,\n",
              "           0.86486,     0.86587,     0.86687,     0.86787,     0.86887,     0.86987,     0.87087,     0.87187,     0.87287,     0.87387,     0.87487,     0.87588,     0.87688,     0.87788,     0.87888,     0.87988,     0.88088,     0.88188,     0.88288,     0.88388,     0.88488,     0.88589,     0.88689,     0.88789,\n",
              "           0.88889,     0.88989,     0.89089,     0.89189,     0.89289,     0.89389,     0.89489,      0.8959,      0.8969,      0.8979,      0.8989,      0.8999,      0.9009,      0.9019,      0.9029,      0.9039,      0.9049,     0.90591,     0.90691,     0.90791,     0.90891,     0.90991,     0.91091,     0.91191,\n",
              "           0.91291,     0.91391,     0.91491,     0.91592,     0.91692,     0.91792,     0.91892,     0.91992,     0.92092,     0.92192,     0.92292,     0.92392,     0.92492,     0.92593,     0.92693,     0.92793,     0.92893,     0.92993,     0.93093,     0.93193,     0.93293,     0.93393,     0.93493,     0.93594,\n",
              "           0.93694,     0.93794,     0.93894,     0.93994,     0.94094,     0.94194,     0.94294,     0.94394,     0.94494,     0.94595,     0.94695,     0.94795,     0.94895,     0.94995,     0.95095,     0.95195,     0.95295,     0.95395,     0.95495,     0.95596,     0.95696,     0.95796,     0.95896,     0.95996,\n",
              "           0.96096,     0.96196,     0.96296,     0.96396,     0.96496,     0.96597,     0.96697,     0.96797,     0.96897,     0.96997,     0.97097,     0.97197,     0.97297,     0.97397,     0.97497,     0.97598,     0.97698,     0.97798,     0.97898,     0.97998,     0.98098,     0.98198,     0.98298,     0.98398,\n",
              "           0.98498,     0.98599,     0.98699,     0.98799,     0.98899,     0.98999,     0.99099,     0.99199,     0.99299,     0.99399,     0.99499,       0.996,       0.997,       0.998,       0.999,           1]), array([[          1,           1,           1,           1,           1,           1,           1,           1,           1,           1,           1,           1,           1,           1,           1,           1,           1,           1,           1,           1,           1,           1,           1,\n",
              "                  1,           1,           1,           1,           1,           1,           1,           1,           1,           1,           1,           1,           1,           1,           1,           1,           1,           1,           1,           1,           1,           1,           1,\n",
              "                  1,           1,           1,           1,           1,           1,           1,           1,           1,           1,           1,           1,           1,           1,           1,           1,           1,           1,           1,           1,           1,           1,           1,\n",
              "                  1,           1,           1,           1,           1,           1,           1,           1,           1,           1,           1,           1,           1,           1,           1,           1,           1,           1,           1,           1,           1,           1,           1,\n",
              "                  1,           1,           1,           1,           1,           1,           1,           1,           1,           1,           1,           1,           1,           1,           1,           1,           1,           1,           1,     0.98913,     0.98913,     0.98913,     0.98913,\n",
              "            0.98913,     0.98913,     0.98913,     0.98913,     0.98913,     0.98913,     0.98913,     0.98913,     0.98913,     0.98913,     0.98913,     0.98913,     0.98913,     0.98913,     0.98913,     0.98913,     0.98913,     0.98913,     0.98913,     0.98913,     0.98913,     0.98913,     0.98913,\n",
              "            0.98913,     0.98913,     0.98913,     0.98913,     0.98913,     0.98913,     0.98913,     0.98913,     0.98913,     0.98913,     0.98913,     0.98913,     0.98913,     0.98913,     0.98913,     0.98913,     0.98913,     0.98913,     0.98913,     0.98913,     0.98913,     0.98913,     0.98913,\n",
              "            0.98913,     0.98913,     0.98913,     0.98913,     0.98913,     0.98913,     0.98913,     0.98913,     0.98913,     0.98913,     0.98913,     0.98913,     0.98913,     0.98913,     0.98913,     0.98913,     0.98913,     0.98913,     0.98913,     0.98913,     0.98913,     0.98913,     0.98913,\n",
              "            0.98913,     0.98913,     0.98913,     0.98913,     0.98913,     0.98913,     0.98913,     0.98913,     0.98913,     0.98913,     0.98913,     0.98913,     0.98913,     0.98913,     0.98913,     0.98913,     0.98913,     0.98913,     0.98913,     0.98913,     0.98913,     0.98913,     0.98913,\n",
              "            0.98913,     0.98913,     0.98913,     0.98913,     0.98913,     0.98913,     0.98913,     0.98913,     0.98913,     0.98913,     0.98913,     0.98913,     0.98913,     0.98333,     0.98333,     0.98333,     0.98333,     0.98333,     0.98333,     0.98333,     0.98333,     0.98333,     0.98333,\n",
              "            0.98333,     0.98333,     0.98333,     0.98333,     0.98333,     0.98333,     0.98333,     0.98333,     0.98333,     0.98333,     0.98333,     0.98333,     0.98333,     0.98333,     0.98333,     0.98333,     0.98333,     0.98333,     0.98333,     0.98333,     0.98333,     0.98333,     0.98333,\n",
              "            0.98333,     0.98333,     0.98333,     0.98333,     0.98333,     0.98333,     0.98333,     0.98333,     0.98333,     0.98333,     0.98333,     0.98333,     0.98333,     0.98333,     0.98333,     0.98333,     0.98333,     0.98333,     0.98333,     0.98333,     0.98333,     0.98333,     0.98333,\n",
              "            0.98333,     0.98333,     0.98333,     0.98333,     0.98333,     0.98333,     0.98333,     0.98333,     0.98333,     0.98013,     0.98013,     0.98013,     0.98013,     0.98013,     0.98013,     0.98013,     0.98013,     0.98013,     0.98013,     0.98013,     0.98013,     0.98013,     0.98013,\n",
              "            0.98013,     0.98013,     0.98013,     0.98013,     0.98013,     0.98013,     0.98013,     0.98013,     0.98013,     0.98013,     0.98013,     0.98013,     0.98013,     0.98013,     0.98013,     0.98013,     0.98013,     0.98013,     0.98013,     0.98013,     0.98013,     0.98013,     0.98013,\n",
              "            0.98013,     0.98013,     0.98013,     0.98013,     0.98013,     0.98013,     0.98013,     0.98013,     0.98013,     0.98013,     0.98013,     0.98013,     0.98013,     0.98013,     0.98013,     0.98013,     0.98013,     0.98013,     0.98013,     0.98013,     0.98013,     0.98013,     0.98013,\n",
              "            0.98013,     0.98013,     0.98013,     0.98013,     0.98013,     0.98013,     0.98013,     0.98013,     0.98013,     0.98013,     0.98013,     0.98013,     0.98013,     0.97605,     0.97605,     0.97605,     0.97605,     0.97605,     0.97605,     0.97605,     0.97605,     0.97605,     0.97605,\n",
              "            0.97605,     0.97605,     0.97605,     0.97605,     0.97605,     0.97605,     0.97605,     0.97605,     0.97605,     0.97605,     0.97605,     0.97605,     0.97605,     0.97605,     0.97605,     0.97605,     0.97605,     0.97605,     0.97605,     0.97605,     0.97605,     0.97605,     0.97605,\n",
              "            0.97605,     0.97605,     0.97605,     0.97159,     0.97159,     0.97159,     0.97159,     0.97159,     0.97159,     0.97159,     0.97159,     0.97159,     0.97159,     0.97159,     0.97159,     0.97159,     0.97159,     0.97159,     0.97159,     0.97159,     0.97159,     0.97159,     0.96875,\n",
              "            0.96875,     0.96875,     0.96875,     0.96875,     0.96875,     0.96875,     0.96875,     0.96875,     0.96875,     0.96875,     0.96875,     0.96875,     0.96875,     0.96875,     0.96875,     0.96875,     0.96875,     0.96875,     0.96875,     0.96875,     0.96875,     0.96875,     0.96875,\n",
              "            0.96875,     0.96875,     0.96875,     0.96875,     0.96875,     0.96875,     0.96875,     0.96875,     0.96875,     0.96875,     0.96875,     0.96875,      0.9641,      0.9641,      0.9641,      0.9641,      0.9641,      0.9602,      0.9602,      0.9602,      0.9602,      0.9602,      0.9602,\n",
              "             0.9602,      0.9602,      0.9602,      0.9602,      0.9602,      0.9602,     0.95631,     0.95631,     0.95631,     0.95631,     0.95631,     0.95631,     0.95631,     0.95631,     0.95631,     0.95631,     0.95614,     0.95614,     0.95614,     0.95614,     0.95614,     0.95614,     0.95614,\n",
              "            0.95614,     0.95614,     0.95614,     0.95614,     0.95614,     0.95614,     0.95614,     0.95614,     0.95614,     0.95614,     0.95614,     0.95614,     0.95614,     0.95614,     0.95614,     0.95614,     0.95614,     0.95614,     0.95614,     0.95614,     0.95614,     0.95614,     0.95614,\n",
              "            0.95614,     0.95614,     0.95614,     0.95614,     0.95614,     0.95614,     0.95614,     0.95614,     0.95614,     0.95614,     0.95614,     0.95614,     0.95614,     0.95614,     0.95614,     0.95614,     0.95614,     0.95614,     0.95614,     0.95614,     0.95614,     0.95259,     0.95259,\n",
              "            0.95259,     0.95259,     0.95259,     0.95259,     0.95259,     0.94538,     0.94538,     0.94538,     0.94538,     0.94538,     0.94538,     0.94538,     0.94538,     0.94538,     0.94422,     0.94422,     0.94422,     0.94422,     0.94422,     0.94422,     0.94422,     0.94422,     0.94422,\n",
              "            0.94422,     0.94422,     0.94422,     0.94422,     0.94422,     0.94422,     0.94422,     0.94422,     0.94422,     0.94422,     0.94422,     0.94422,     0.94422,     0.94422,     0.94422,     0.94422,     0.94422,     0.94422,     0.94422,     0.94422,     0.94094,     0.94094,     0.94094,\n",
              "            0.94094,     0.94094,     0.93916,     0.93916,     0.93916,     0.93916,     0.93916,     0.93916,     0.93916,     0.93916,     0.93916,     0.93916,     0.93916,     0.93916,     0.93916,     0.93916,     0.93916,     0.93916,     0.93916,     0.93916,     0.93916,     0.93916,      0.9368,\n",
              "             0.9368,      0.9368,      0.9368,      0.9368,      0.9368,      0.9368,      0.9368,      0.9368,      0.9368,      0.9368,      0.9368,     0.93358,     0.93358,     0.93165,     0.93165,     0.93165,     0.93165,     0.93165,     0.93165,     0.93165,     0.93165,     0.93165,     0.93165,\n",
              "            0.93165,     0.93165,     0.93165,     0.93165,     0.92857,     0.92857,     0.92857,      0.9258,      0.9258,      0.9258,      0.9258,      0.9258,     0.91958,     0.91958,     0.91409,     0.91409,     0.91409,     0.91409,     0.91409,     0.91409,     0.91409,     0.91275,     0.91275,\n",
              "            0.91275,     0.91275,     0.91275,     0.91275,     0.91275,     0.91275,     0.91275,     0.91275,     0.91275,     0.91275,     0.91275,     0.91275,     0.91275,     0.89508,     0.89508,     0.88462,     0.88462,     0.88462,     0.88462,     0.88462,     0.88462,     0.88462,     0.87658,\n",
              "            0.87658,     0.87658,     0.86957,     0.86957,     0.86957,     0.86957,     0.86957,     0.86957,     0.86957,     0.86728,     0.86728,     0.86728,     0.85542,     0.85542,     0.85542,     0.85542,     0.85542,     0.85542,     0.85542,      0.8546,      0.8546,      0.8546,      0.8546,\n",
              "             0.8546,      0.8546,      0.8546,      0.8546,      0.8546,     0.85251,     0.85251,     0.85251,     0.84795,     0.84795,     0.84393,     0.84393,     0.84393,     0.84393,     0.84393,     0.83714,     0.83714,     0.83714,     0.83523,     0.83523,     0.83427,     0.83427,     0.83427,\n",
              "            0.83427,     0.83427,     0.83427,     0.83427,     0.82597,     0.82597,     0.82597,     0.82597,     0.82597,     0.82466,     0.82466,     0.82466,     0.82466,     0.82466,     0.82289,     0.82289,     0.82162,     0.82162,     0.82162,     0.82162,     0.82162,     0.81769,     0.81769,\n",
              "            0.81383,     0.81383,     0.81383,     0.81217,     0.81217,     0.81053,     0.81053,     0.81053,      0.8099,      0.8099,      0.8099,      0.8099,      0.8099,      0.8099,      0.8099,         0.8,         0.8,     0.79898,     0.79898,     0.79898,     0.79898,     0.79898,     0.79747,\n",
              "            0.79747,     0.79747,     0.79397,     0.79397,     0.78856,     0.78856,     0.78519,     0.78519,     0.78519,     0.77995,     0.77995,     0.77913,     0.77913,     0.77913,     0.77913,     0.77913,     0.77218,     0.77218,     0.76722,     0.76722,     0.76722,     0.76235,     0.76235,\n",
              "            0.75935,     0.75935,     0.75935,     0.75463,     0.75463,     0.75172,     0.75172,     0.75172,     0.74943,     0.74943,     0.74943,     0.74943,     0.74324,     0.74324,     0.74324,     0.73556,     0.73556,     0.73451,     0.73451,     0.73451,     0.73348,     0.73348,     0.72668,\n",
              "            0.72668,     0.72668,     0.72668,     0.72668,     0.72473,     0.72473,     0.72473,     0.72473,     0.72473,     0.71308,     0.71308,     0.70625,     0.70625,     0.70625,     0.69959,     0.69959,     0.68474,     0.68474,     0.67723,     0.67723,     0.67723,     0.66926,     0.66926,\n",
              "            0.66926,     0.66926,     0.66926,     0.65655,     0.65655,     0.65655,     0.65655,     0.64498,     0.64498,     0.64498,     0.63504,     0.63504,     0.63339,     0.63339,     0.63339,     0.62837,     0.62837,     0.61043,     0.61043,     0.61005,     0.61005,     0.61005,     0.60862,\n",
              "            0.60862,      0.6072,      0.6072,      0.6072,     0.59365,     0.59365,     0.59136,     0.59136,     0.59136,     0.58621,     0.58621,     0.54726,     0.54726,     0.54726,     0.54726,     0.54726,     0.54628,     0.54628,     0.52933,     0.52933,     0.52933,     0.49725,     0.49725,\n",
              "            0.42357,     0.42357,     0.42276,     0.42276,     0.42276,     0.41104,     0.41104,     0.39525,     0.39525,     0.39525,     0.38672,     0.38672,     0.38333,     0.38333,     0.37462,     0.37462,     0.37462,     0.35611,     0.35611,     0.35133,     0.35133,     0.35133,     0.34799,\n",
              "            0.34799,     0.34601,     0.34601,     0.34601,     0.34249,     0.34249,     0.33632,     0.33632,     0.33631,     0.33631,     0.33631,     0.33601,     0.33601,     0.33392,     0.33392,     0.33392,     0.33129,     0.33129,     0.32872,     0.32872,     0.32648,     0.32648,     0.32648,\n",
              "            0.32373,     0.32373,     0.31342,     0.31342,     0.31342,     0.28091,     0.28091,     0.24871,     0.24871,     0.24871,     0.23681,     0.23681,     0.23091,     0.23091,     0.22108,     0.22108,     0.22108,     0.21842,     0.21842,      0.1999,      0.1999,      0.1999,     0.19797,\n",
              "            0.19797,     0.18622,     0.18622,     0.17847,     0.17847,     0.17847,     0.16681,     0.16681,     0.16189,     0.16189,     0.16189,     0.15006,     0.15006,      0.1472,      0.1472,     0.12469,     0.12469,     0.12469,     0.12469,     0.12469,    0.067728,    0.067728,    0.067728,\n",
              "           0.066633,    0.066633,    0.059902,    0.059902,    0.059902,    0.050533,    0.050533,    0.043754,    0.042071,    0.040388,    0.038705,    0.037023,     0.03534,    0.033657,    0.031974,    0.030291,    0.028608,    0.026926,    0.025243,     0.02356,    0.021877,    0.020194,    0.018511,\n",
              "           0.016828,    0.015146,    0.013463,     0.01178,    0.010097,   0.0084142,   0.0067314,   0.0050485,   0.0033657,   0.0016828,           0]]), 'Recall', 'Precision'], [array([          0,    0.001001,    0.002002,    0.003003,    0.004004,    0.005005,    0.006006,    0.007007,    0.008008,    0.009009,     0.01001,    0.011011,    0.012012,    0.013013,    0.014014,    0.015015,    0.016016,    0.017017,    0.018018,    0.019019,     0.02002,    0.021021,    0.022022,    0.023023,\n",
              "          0.024024,    0.025025,    0.026026,    0.027027,    0.028028,    0.029029,     0.03003,    0.031031,    0.032032,    0.033033,    0.034034,    0.035035,    0.036036,    0.037037,    0.038038,    0.039039,     0.04004,    0.041041,    0.042042,    0.043043,    0.044044,    0.045045,    0.046046,    0.047047,\n",
              "          0.048048,    0.049049,     0.05005,    0.051051,    0.052052,    0.053053,    0.054054,    0.055055,    0.056056,    0.057057,    0.058058,    0.059059,     0.06006,    0.061061,    0.062062,    0.063063,    0.064064,    0.065065,    0.066066,    0.067067,    0.068068,    0.069069,     0.07007,    0.071071,\n",
              "          0.072072,    0.073073,    0.074074,    0.075075,    0.076076,    0.077077,    0.078078,    0.079079,     0.08008,    0.081081,    0.082082,    0.083083,    0.084084,    0.085085,    0.086086,    0.087087,    0.088088,    0.089089,     0.09009,    0.091091,    0.092092,    0.093093,    0.094094,    0.095095,\n",
              "          0.096096,    0.097097,    0.098098,    0.099099,      0.1001,      0.1011,      0.1021,      0.1031,      0.1041,     0.10511,     0.10611,     0.10711,     0.10811,     0.10911,     0.11011,     0.11111,     0.11211,     0.11311,     0.11411,     0.11512,     0.11612,     0.11712,     0.11812,     0.11912,\n",
              "           0.12012,     0.12112,     0.12212,     0.12312,     0.12412,     0.12513,     0.12613,     0.12713,     0.12813,     0.12913,     0.13013,     0.13113,     0.13213,     0.13313,     0.13413,     0.13514,     0.13614,     0.13714,     0.13814,     0.13914,     0.14014,     0.14114,     0.14214,     0.14314,\n",
              "           0.14414,     0.14515,     0.14615,     0.14715,     0.14815,     0.14915,     0.15015,     0.15115,     0.15215,     0.15315,     0.15415,     0.15516,     0.15616,     0.15716,     0.15816,     0.15916,     0.16016,     0.16116,     0.16216,     0.16316,     0.16416,     0.16517,     0.16617,     0.16717,\n",
              "           0.16817,     0.16917,     0.17017,     0.17117,     0.17217,     0.17317,     0.17417,     0.17518,     0.17618,     0.17718,     0.17818,     0.17918,     0.18018,     0.18118,     0.18218,     0.18318,     0.18418,     0.18519,     0.18619,     0.18719,     0.18819,     0.18919,     0.19019,     0.19119,\n",
              "           0.19219,     0.19319,     0.19419,      0.1952,      0.1962,      0.1972,      0.1982,      0.1992,      0.2002,      0.2012,      0.2022,      0.2032,      0.2042,     0.20521,     0.20621,     0.20721,     0.20821,     0.20921,     0.21021,     0.21121,     0.21221,     0.21321,     0.21421,     0.21522,\n",
              "           0.21622,     0.21722,     0.21822,     0.21922,     0.22022,     0.22122,     0.22222,     0.22322,     0.22422,     0.22523,     0.22623,     0.22723,     0.22823,     0.22923,     0.23023,     0.23123,     0.23223,     0.23323,     0.23423,     0.23524,     0.23624,     0.23724,     0.23824,     0.23924,\n",
              "           0.24024,     0.24124,     0.24224,     0.24324,     0.24424,     0.24525,     0.24625,     0.24725,     0.24825,     0.24925,     0.25025,     0.25125,     0.25225,     0.25325,     0.25425,     0.25526,     0.25626,     0.25726,     0.25826,     0.25926,     0.26026,     0.26126,     0.26226,     0.26326,\n",
              "           0.26426,     0.26527,     0.26627,     0.26727,     0.26827,     0.26927,     0.27027,     0.27127,     0.27227,     0.27327,     0.27427,     0.27528,     0.27628,     0.27728,     0.27828,     0.27928,     0.28028,     0.28128,     0.28228,     0.28328,     0.28428,     0.28529,     0.28629,     0.28729,\n",
              "           0.28829,     0.28929,     0.29029,     0.29129,     0.29229,     0.29329,     0.29429,      0.2953,      0.2963,      0.2973,      0.2983,      0.2993,      0.3003,      0.3013,      0.3023,      0.3033,      0.3043,     0.30531,     0.30631,     0.30731,     0.30831,     0.30931,     0.31031,     0.31131,\n",
              "           0.31231,     0.31331,     0.31431,     0.31532,     0.31632,     0.31732,     0.31832,     0.31932,     0.32032,     0.32132,     0.32232,     0.32332,     0.32432,     0.32533,     0.32633,     0.32733,     0.32833,     0.32933,     0.33033,     0.33133,     0.33233,     0.33333,     0.33433,     0.33534,\n",
              "           0.33634,     0.33734,     0.33834,     0.33934,     0.34034,     0.34134,     0.34234,     0.34334,     0.34434,     0.34535,     0.34635,     0.34735,     0.34835,     0.34935,     0.35035,     0.35135,     0.35235,     0.35335,     0.35435,     0.35536,     0.35636,     0.35736,     0.35836,     0.35936,\n",
              "           0.36036,     0.36136,     0.36236,     0.36336,     0.36436,     0.36537,     0.36637,     0.36737,     0.36837,     0.36937,     0.37037,     0.37137,     0.37237,     0.37337,     0.37437,     0.37538,     0.37638,     0.37738,     0.37838,     0.37938,     0.38038,     0.38138,     0.38238,     0.38338,\n",
              "           0.38438,     0.38539,     0.38639,     0.38739,     0.38839,     0.38939,     0.39039,     0.39139,     0.39239,     0.39339,     0.39439,      0.3954,      0.3964,      0.3974,      0.3984,      0.3994,      0.4004,      0.4014,      0.4024,      0.4034,      0.4044,     0.40541,     0.40641,     0.40741,\n",
              "           0.40841,     0.40941,     0.41041,     0.41141,     0.41241,     0.41341,     0.41441,     0.41542,     0.41642,     0.41742,     0.41842,     0.41942,     0.42042,     0.42142,     0.42242,     0.42342,     0.42442,     0.42543,     0.42643,     0.42743,     0.42843,     0.42943,     0.43043,     0.43143,\n",
              "           0.43243,     0.43343,     0.43443,     0.43544,     0.43644,     0.43744,     0.43844,     0.43944,     0.44044,     0.44144,     0.44244,     0.44344,     0.44444,     0.44545,     0.44645,     0.44745,     0.44845,     0.44945,     0.45045,     0.45145,     0.45245,     0.45345,     0.45445,     0.45546,\n",
              "           0.45646,     0.45746,     0.45846,     0.45946,     0.46046,     0.46146,     0.46246,     0.46346,     0.46446,     0.46547,     0.46647,     0.46747,     0.46847,     0.46947,     0.47047,     0.47147,     0.47247,     0.47347,     0.47447,     0.47548,     0.47648,     0.47748,     0.47848,     0.47948,\n",
              "           0.48048,     0.48148,     0.48248,     0.48348,     0.48448,     0.48549,     0.48649,     0.48749,     0.48849,     0.48949,     0.49049,     0.49149,     0.49249,     0.49349,     0.49449,      0.4955,      0.4965,      0.4975,      0.4985,      0.4995,      0.5005,      0.5015,      0.5025,      0.5035,\n",
              "            0.5045,     0.50551,     0.50651,     0.50751,     0.50851,     0.50951,     0.51051,     0.51151,     0.51251,     0.51351,     0.51451,     0.51552,     0.51652,     0.51752,     0.51852,     0.51952,     0.52052,     0.52152,     0.52252,     0.52352,     0.52452,     0.52553,     0.52653,     0.52753,\n",
              "           0.52853,     0.52953,     0.53053,     0.53153,     0.53253,     0.53353,     0.53453,     0.53554,     0.53654,     0.53754,     0.53854,     0.53954,     0.54054,     0.54154,     0.54254,     0.54354,     0.54454,     0.54555,     0.54655,     0.54755,     0.54855,     0.54955,     0.55055,     0.55155,\n",
              "           0.55255,     0.55355,     0.55455,     0.55556,     0.55656,     0.55756,     0.55856,     0.55956,     0.56056,     0.56156,     0.56256,     0.56356,     0.56456,     0.56557,     0.56657,     0.56757,     0.56857,     0.56957,     0.57057,     0.57157,     0.57257,     0.57357,     0.57457,     0.57558,\n",
              "           0.57658,     0.57758,     0.57858,     0.57958,     0.58058,     0.58158,     0.58258,     0.58358,     0.58458,     0.58559,     0.58659,     0.58759,     0.58859,     0.58959,     0.59059,     0.59159,     0.59259,     0.59359,     0.59459,      0.5956,      0.5966,      0.5976,      0.5986,      0.5996,\n",
              "            0.6006,      0.6016,      0.6026,      0.6036,      0.6046,     0.60561,     0.60661,     0.60761,     0.60861,     0.60961,     0.61061,     0.61161,     0.61261,     0.61361,     0.61461,     0.61562,     0.61662,     0.61762,     0.61862,     0.61962,     0.62062,     0.62162,     0.62262,     0.62362,\n",
              "           0.62462,     0.62563,     0.62663,     0.62763,     0.62863,     0.62963,     0.63063,     0.63163,     0.63263,     0.63363,     0.63463,     0.63564,     0.63664,     0.63764,     0.63864,     0.63964,     0.64064,     0.64164,     0.64264,     0.64364,     0.64464,     0.64565,     0.64665,     0.64765,\n",
              "           0.64865,     0.64965,     0.65065,     0.65165,     0.65265,     0.65365,     0.65465,     0.65566,     0.65666,     0.65766,     0.65866,     0.65966,     0.66066,     0.66166,     0.66266,     0.66366,     0.66466,     0.66567,     0.66667,     0.66767,     0.66867,     0.66967,     0.67067,     0.67167,\n",
              "           0.67267,     0.67367,     0.67467,     0.67568,     0.67668,     0.67768,     0.67868,     0.67968,     0.68068,     0.68168,     0.68268,     0.68368,     0.68468,     0.68569,     0.68669,     0.68769,     0.68869,     0.68969,     0.69069,     0.69169,     0.69269,     0.69369,     0.69469,      0.6957,\n",
              "            0.6967,      0.6977,      0.6987,      0.6997,      0.7007,      0.7017,      0.7027,      0.7037,      0.7047,     0.70571,     0.70671,     0.70771,     0.70871,     0.70971,     0.71071,     0.71171,     0.71271,     0.71371,     0.71471,     0.71572,     0.71672,     0.71772,     0.71872,     0.71972,\n",
              "           0.72072,     0.72172,     0.72272,     0.72372,     0.72472,     0.72573,     0.72673,     0.72773,     0.72873,     0.72973,     0.73073,     0.73173,     0.73273,     0.73373,     0.73473,     0.73574,     0.73674,     0.73774,     0.73874,     0.73974,     0.74074,     0.74174,     0.74274,     0.74374,\n",
              "           0.74474,     0.74575,     0.74675,     0.74775,     0.74875,     0.74975,     0.75075,     0.75175,     0.75275,     0.75375,     0.75475,     0.75576,     0.75676,     0.75776,     0.75876,     0.75976,     0.76076,     0.76176,     0.76276,     0.76376,     0.76476,     0.76577,     0.76677,     0.76777,\n",
              "           0.76877,     0.76977,     0.77077,     0.77177,     0.77277,     0.77377,     0.77477,     0.77578,     0.77678,     0.77778,     0.77878,     0.77978,     0.78078,     0.78178,     0.78278,     0.78378,     0.78478,     0.78579,     0.78679,     0.78779,     0.78879,     0.78979,     0.79079,     0.79179,\n",
              "           0.79279,     0.79379,     0.79479,      0.7958,      0.7968,      0.7978,      0.7988,      0.7998,      0.8008,      0.8018,      0.8028,      0.8038,      0.8048,     0.80581,     0.80681,     0.80781,     0.80881,     0.80981,     0.81081,     0.81181,     0.81281,     0.81381,     0.81481,     0.81582,\n",
              "           0.81682,     0.81782,     0.81882,     0.81982,     0.82082,     0.82182,     0.82282,     0.82382,     0.82482,     0.82583,     0.82683,     0.82783,     0.82883,     0.82983,     0.83083,     0.83183,     0.83283,     0.83383,     0.83483,     0.83584,     0.83684,     0.83784,     0.83884,     0.83984,\n",
              "           0.84084,     0.84184,     0.84284,     0.84384,     0.84484,     0.84585,     0.84685,     0.84785,     0.84885,     0.84985,     0.85085,     0.85185,     0.85285,     0.85385,     0.85485,     0.85586,     0.85686,     0.85786,     0.85886,     0.85986,     0.86086,     0.86186,     0.86286,     0.86386,\n",
              "           0.86486,     0.86587,     0.86687,     0.86787,     0.86887,     0.86987,     0.87087,     0.87187,     0.87287,     0.87387,     0.87487,     0.87588,     0.87688,     0.87788,     0.87888,     0.87988,     0.88088,     0.88188,     0.88288,     0.88388,     0.88488,     0.88589,     0.88689,     0.88789,\n",
              "           0.88889,     0.88989,     0.89089,     0.89189,     0.89289,     0.89389,     0.89489,      0.8959,      0.8969,      0.8979,      0.8989,      0.8999,      0.9009,      0.9019,      0.9029,      0.9039,      0.9049,     0.90591,     0.90691,     0.90791,     0.90891,     0.90991,     0.91091,     0.91191,\n",
              "           0.91291,     0.91391,     0.91491,     0.91592,     0.91692,     0.91792,     0.91892,     0.91992,     0.92092,     0.92192,     0.92292,     0.92392,     0.92492,     0.92593,     0.92693,     0.92793,     0.92893,     0.92993,     0.93093,     0.93193,     0.93293,     0.93393,     0.93493,     0.93594,\n",
              "           0.93694,     0.93794,     0.93894,     0.93994,     0.94094,     0.94194,     0.94294,     0.94394,     0.94494,     0.94595,     0.94695,     0.94795,     0.94895,     0.94995,     0.95095,     0.95195,     0.95295,     0.95395,     0.95495,     0.95596,     0.95696,     0.95796,     0.95896,     0.95996,\n",
              "           0.96096,     0.96196,     0.96296,     0.96396,     0.96496,     0.96597,     0.96697,     0.96797,     0.96897,     0.96997,     0.97097,     0.97197,     0.97297,     0.97397,     0.97497,     0.97598,     0.97698,     0.97798,     0.97898,     0.97998,     0.98098,     0.98198,     0.98298,     0.98398,\n",
              "           0.98498,     0.98599,     0.98699,     0.98799,     0.98899,     0.98999,     0.99099,     0.99199,     0.99299,     0.99399,     0.99499,       0.996,       0.997,       0.998,       0.999,           1]), array([[   0.085418,    0.085418,     0.12606,     0.15764,     0.18361,     0.20908,     0.23035,     0.24858,     0.26387,     0.27871,     0.29372,     0.30512,     0.31622,     0.32621,     0.33435,     0.34425,     0.35378,     0.35876,     0.37032,     0.37562,       0.385,     0.39431,     0.40249,\n",
              "            0.40981,     0.41631,     0.42241,     0.42919,      0.4333,     0.44077,     0.44687,     0.45389,     0.45955,     0.46733,     0.47051,     0.47624,     0.47947,     0.48297,     0.48646,     0.48839,     0.49014,     0.49069,      0.4945,     0.49794,     0.49938,     0.50183,     0.50446,\n",
              "            0.50759,     0.51084,     0.51511,     0.51826,     0.52119,       0.524,     0.52768,     0.53265,     0.53471,      0.5351,     0.53799,     0.53882,     0.54087,     0.54396,     0.54533,     0.54759,     0.54867,     0.55139,     0.55488,     0.56004,     0.56027,     0.56389,     0.56747,\n",
              "             0.5708,     0.57279,     0.57489,     0.57709,     0.58001,     0.58134,     0.58272,     0.58539,     0.58667,     0.58865,     0.59091,     0.59247,     0.59302,     0.59344,      0.5942,     0.59604,     0.59919,     0.60115,     0.60242,     0.60316,     0.60382,     0.60662,     0.60899,\n",
              "            0.61106,     0.61194,     0.61698,      0.6199,     0.62118,     0.62368,     0.62634,     0.62789,     0.63186,      0.6335,     0.63351,      0.6357,     0.63622,     0.63706,     0.63917,     0.64137,     0.64477,     0.64563,     0.64685,     0.64744,     0.65002,     0.65129,     0.65196,\n",
              "            0.65558,     0.65771,     0.65841,     0.65859,     0.66043,     0.66214,     0.66443,     0.66532,     0.66582,     0.66824,     0.67027,     0.66964,     0.67035,     0.67271,      0.6748,     0.67532,     0.67587,     0.67635,     0.67676,     0.67906,     0.68033,     0.68132,     0.68199,\n",
              "            0.68313,     0.68389,     0.68489,     0.68694,     0.68816,     0.68866,      0.6898,     0.69287,     0.69392,      0.6953,      0.6963,     0.69718,      0.6971,     0.69814,     0.69883,     0.70021,     0.70006,     0.70103,      0.7009,     0.70174,      0.7027,     0.70375,     0.70501,\n",
              "            0.70684,     0.70758,     0.70951,     0.70996,     0.70898,     0.70897,     0.70919,      0.7094,     0.70962,     0.70995,     0.71031,     0.70969,     0.70902,     0.70977,     0.71025,     0.71068,     0.71145,     0.71182,     0.71222,     0.71271,     0.71315,     0.71372,     0.71461,\n",
              "            0.71501,     0.71612,     0.71664,     0.71728,     0.71922,     0.71974,     0.72115,     0.72176,     0.72238,     0.72315,     0.72221,     0.72269,     0.72371,     0.72386,     0.72401,     0.72417,     0.72432,     0.72596,     0.72658,     0.72792,     0.72881,     0.72778,     0.72826,\n",
              "            0.72849,     0.72859,      0.7287,      0.7288,      0.7289,     0.72901,     0.72911,     0.72932,     0.72989,     0.73021,      0.7305,     0.73084,     0.73142,     0.73332,     0.73449,     0.73525,      0.7347,     0.73321,     0.73515,     0.73616,     0.73827,     0.73987,     0.74079,\n",
              "            0.74136,     0.73902,     0.74179,     0.74255,     0.74355,     0.74387,     0.74418,     0.74379,     0.74607,     0.74688,     0.74648,     0.74688,     0.74731,     0.74822,     0.74867,     0.74918,     0.74975,      0.7505,     0.75249,     0.75372,     0.75555,      0.7546,     0.75479,\n",
              "            0.75529,     0.75564,      0.7565,     0.75708,     0.75751,     0.75724,     0.75755,     0.75957,     0.76067,     0.76102,        0.76,     0.76142,     0.76209,     0.76291,     0.76441,     0.76476,     0.76531,     0.76602,     0.76624,     0.76647,     0.76669,     0.76495,     0.76423,\n",
              "            0.76541,     0.76475,     0.76369,     0.76434,     0.76574,     0.76619,     0.76664,     0.76525,     0.76505,     0.76538,     0.76674,     0.76761,     0.76802,     0.76861,     0.76917,     0.76906,     0.76895,     0.76884,     0.76872,     0.76861,      0.7685,     0.76838,     0.76827,\n",
              "            0.76816,     0.76804,     0.76793,     0.76782,     0.76892,     0.76921,     0.76949,     0.77083,     0.77136,     0.77061,     0.76982,     0.76923,     0.76863,     0.76983,     0.76984,     0.77058,      0.7694,     0.77074,     0.77131,     0.77168,     0.77068,     0.77144,     0.77091,\n",
              "            0.77166,     0.77317,     0.77349,     0.77225,      0.7728,     0.77334,     0.77388,     0.77449,      0.7735,     0.77372,     0.77395,     0.77417,      0.7744,     0.77525,     0.77715,      0.7756,     0.77473,     0.77449,     0.77473,     0.77487,       0.775,     0.77513,     0.77527,\n",
              "             0.7754,     0.77553,     0.77632,     0.77576,     0.77521,     0.77603,     0.77671,     0.77624,     0.77577,     0.77614,     0.77679,     0.77722,     0.77827,     0.77796,     0.77765,     0.77734,     0.77703,     0.77695,     0.77739,     0.77799,     0.77826,     0.77749,     0.77811,\n",
              "             0.7778,     0.77739,     0.77697,     0.77581,     0.77568,     0.77606,     0.77586,     0.77567,     0.77547,     0.77527,     0.77508,     0.77488,     0.77469,      0.7757,      0.7762,     0.77669,     0.77719,     0.77877,     0.77939,     0.77902,     0.77865,     0.77828,     0.77791,\n",
              "            0.77712,     0.77636,     0.77603,      0.7757,     0.77537,     0.77503,     0.77498,     0.77532,     0.77565,     0.77494,     0.77404,      0.7745,     0.77395,     0.77439,     0.77473,     0.77507,     0.77471,     0.77428,     0.77385,     0.77379,     0.77462,     0.77495,     0.77529,\n",
              "             0.7738,     0.77337,     0.77294,     0.77251,     0.77273,     0.77324,     0.77205,     0.77238,     0.77272,     0.77203,     0.76965,     0.76991,     0.77016,     0.77042,     0.77051,     0.76997,     0.76942,     0.76754,     0.76788,     0.76822,     0.76964,     0.77022,     0.77037,\n",
              "            0.76731,     0.76648,     0.76638,      0.7669,     0.76638,     0.76555,     0.76582,     0.76633,     0.76653,     0.76668,     0.76683,     0.76697,     0.76712,     0.76727,     0.76745,      0.7667,     0.76627,     0.76695,     0.76569,     0.76604,     0.76639,      0.7667,     0.76696,\n",
              "            0.76722,     0.76748,     0.76714,      0.7663,     0.76611,     0.76638,     0.76664,      0.7669,     0.76685,     0.76666,     0.76647,     0.76629,      0.7661,     0.76591,     0.76572,     0.76554,     0.76535,     0.76511,     0.76487,     0.76463,     0.76439,     0.76415,     0.76391,\n",
              "            0.76364,     0.76307,     0.76251,     0.76199,      0.7617,     0.76142,     0.76114,     0.76086,     0.76057,     0.76053,     0.76106,     0.76109,     0.76024,     0.75939,     0.75853,     0.75729,     0.75664,     0.75716,     0.75857,     0.75884,      0.7591,     0.75936,     0.75962,\n",
              "            0.75989,     0.76015,     0.76041,     0.76064,     0.76085,     0.76106,     0.76127,     0.76148,     0.76007,     0.76012,     0.75926,     0.75866,     0.75808,      0.7575,     0.75692,     0.75634,     0.75583,     0.75636,     0.75684,     0.75694,     0.75703,     0.75713,     0.75723,\n",
              "            0.75732,     0.75742,     0.75752,     0.75761,     0.75771,     0.75781,     0.75793,     0.75811,     0.75829,     0.75847,     0.75864,     0.75882,     0.75868,     0.75824,      0.7578,     0.75737,     0.75787,     0.75836,     0.75854,     0.75871,     0.75889,     0.75907,     0.75925,\n",
              "            0.75946,     0.75967,     0.75988,      0.7601,     0.76031,     0.75787,     0.75671,     0.75627,     0.75583,     0.75539,     0.75548,     0.75602,     0.75688,     0.75751,     0.75787,     0.75822,     0.75909,     0.75918,     0.75888,     0.75859,     0.75829,     0.75799,      0.7577,\n",
              "             0.7586,      0.7592,     0.75974,     0.76029,     0.76083,     0.76192,     0.76265,     0.76355,     0.76266,     0.76222,     0.76207,     0.76192,     0.76177,     0.76162,     0.76147,     0.76132,     0.76118,     0.76103,     0.76088,     0.76073,     0.76058,      0.7567,      0.7558,\n",
              "            0.75489,     0.75399,     0.75409,     0.75188,     0.75093,     0.75069,     0.75045,      0.7502,     0.74996,     0.74972,     0.74947,     0.74942,     0.74996,     0.75041,     0.75061,     0.75081,     0.75101,     0.75121,     0.75141,     0.75109,     0.75073,     0.75036,     0.74999,\n",
              "            0.74969,     0.75072,     0.75082,     0.75092,     0.75102,     0.75112,     0.75123,     0.75133,     0.75143,     0.75153,     0.75163,     0.75173,     0.75118,     0.74978,     0.74917,     0.74855,     0.74915,     0.74768,     0.74675,     0.74582,     0.74491,     0.74437,     0.74384,\n",
              "            0.74331,     0.74281,     0.74235,     0.74188,     0.74141,     0.73923,     0.73828,     0.73777,     0.73832,     0.73743,     0.73778,     0.73627,     0.73576,     0.73542,     0.73507,     0.73472,     0.73438,     0.73168,     0.73042,     0.72946,     0.72958,     0.72862,     0.72397,\n",
              "            0.72358,      0.7232,     0.72281,     0.72242,     0.72198,     0.72142,     0.72087,     0.72031,     0.71956,     0.71878,     0.71474,     0.71528,     0.71494,     0.71364,      0.7132,     0.71276,     0.71232,     0.71188,      0.7124,     0.71269,     0.71254,     0.71239,     0.71225,\n",
              "             0.7121,     0.71195,      0.7118,     0.71166,     0.71151,     0.71136,     0.71121,     0.71107,     0.71092,     0.71057,        0.71,     0.70943,     0.70864,     0.70662,     0.70605,     0.70547,     0.70466,     0.70227,     0.70075,      0.7003,     0.69985,      0.6994,     0.69893,\n",
              "            0.69842,     0.69792,     0.69741,     0.69479,     0.69397,     0.69316,     0.69093,     0.69052,     0.69011,      0.6897,     0.68929,     0.68894,     0.68731,     0.68345,     0.68283,     0.68328,     0.68346,     0.68364,     0.68382,       0.684,     0.68418,     0.68333,     0.68228,\n",
              "            0.67955,     0.67815,     0.67573,     0.67398,     0.67266,     0.67212,     0.67159,     0.67106,      0.6702,     0.66913,      0.6682,     0.66734,     0.66651,      0.6658,     0.66508,     0.66205,      0.6606,     0.65774,     0.65629,     0.65269,     0.65163,     0.65114,     0.65065,\n",
              "            0.65016,      0.6496,     0.64635,     0.64271,     0.64181,     0.64097,     0.64047,     0.63997,     0.63948,     0.63898,     0.63557,     0.63464,     0.63534,      0.6306,     0.62908,       0.627,     0.62706,     0.62553,      0.6221,     0.62095,     0.61979,     0.61857,     0.61676,\n",
              "             0.6173,     0.61575,     0.61457,     0.61363,     0.61367,     0.61249,     0.60907,     0.60812,     0.60718,     0.60635,     0.60556,     0.60477,     0.60176,     0.60016,     0.59727,     0.59631,     0.59535,     0.59473,     0.59413,     0.59353,      0.5928,     0.59015,     0.58676,\n",
              "            0.58278,     0.57876,     0.57927,      0.5794,     0.57816,     0.57699,       0.576,       0.575,     0.57415,     0.57332,     0.57249,     0.56546,     0.56217,     0.56116,     0.56014,     0.56105,     0.55839,     0.55566,      0.5548,     0.55395,      0.5495,     0.54748,     0.54306,\n",
              "            0.53989,     0.53527,     0.53006,     0.52786,      0.5268,     0.52573,     0.52467,      0.5236,     0.52375,     0.51962,     0.51741,     0.51514,     0.51066,     0.50793,     0.50525,     0.50342,     0.49697,     0.49419,     0.49093,     0.48511,     0.48242,     0.47603,     0.47101,\n",
              "            0.46861,     0.46716,      0.4636,     0.46215,     0.45766,     0.45571,     0.45284,      0.4499,     0.44694,     0.44496,      0.4412,     0.43735,      0.4296,     0.42859,     0.42757,     0.42373,     0.42066,     0.41781,     0.41575,     0.41139,     0.40827,     0.40515,     0.40094,\n",
              "            0.39634,     0.39476,     0.39295,     0.39083,     0.38768,     0.38321,     0.38192,     0.37802,     0.37454,     0.36092,     0.35903,     0.35952,     0.35098,     0.34531,      0.3388,     0.33709,     0.33273,     0.33043,     0.32476,     0.32245,     0.32013,     0.31678,     0.31327,\n",
              "             0.3011,     0.29588,     0.28868,     0.28141,     0.27409,      0.2667,     0.26273,     0.26124,     0.25594,     0.25343,     0.25178,     0.25052,     0.24926,     0.24322,     0.23855,     0.23471,     0.21622,     0.20952,     0.20754,     0.20376,     0.19255,     0.18829,     0.18156,\n",
              "            0.17813,      0.1718,      0.1556,     0.14323,     0.14038,     0.13389,     0.12808,     0.11648,     0.10429,    0.099836,    0.095954,    0.093707,    0.089319,    0.081787,    0.066565,    0.063795,    0.061937,    0.058851,    0.054175,     0.05024,    0.046953,    0.040011,    0.037025,\n",
              "           0.035434,     0.03384,    0.031232,    0.028028,    0.024813,    0.020447,    0.017363,    0.014927,    0.013881,     0.01323,    0.012578,    0.011926,    0.011273,     0.01062,   0.0099669,   0.0092374,   0.0084193,   0.0076006,   0.0067812,   0.0059612,   0.0051405,           0,           0,\n",
              "                  0,           0,           0,           0,           0,           0,           0,           0,           0,           0,           0,           0,           0,           0,           0,           0,           0,           0,           0,           0,           0,           0,           0,\n",
              "                  0,           0,           0,           0,           0,           0,           0,           0,           0,           0,           0]]), 'Confidence', 'F1'], [array([          0,    0.001001,    0.002002,    0.003003,    0.004004,    0.005005,    0.006006,    0.007007,    0.008008,    0.009009,     0.01001,    0.011011,    0.012012,    0.013013,    0.014014,    0.015015,    0.016016,    0.017017,    0.018018,    0.019019,     0.02002,    0.021021,    0.022022,    0.023023,\n",
              "          0.024024,    0.025025,    0.026026,    0.027027,    0.028028,    0.029029,     0.03003,    0.031031,    0.032032,    0.033033,    0.034034,    0.035035,    0.036036,    0.037037,    0.038038,    0.039039,     0.04004,    0.041041,    0.042042,    0.043043,    0.044044,    0.045045,    0.046046,    0.047047,\n",
              "          0.048048,    0.049049,     0.05005,    0.051051,    0.052052,    0.053053,    0.054054,    0.055055,    0.056056,    0.057057,    0.058058,    0.059059,     0.06006,    0.061061,    0.062062,    0.063063,    0.064064,    0.065065,    0.066066,    0.067067,    0.068068,    0.069069,     0.07007,    0.071071,\n",
              "          0.072072,    0.073073,    0.074074,    0.075075,    0.076076,    0.077077,    0.078078,    0.079079,     0.08008,    0.081081,    0.082082,    0.083083,    0.084084,    0.085085,    0.086086,    0.087087,    0.088088,    0.089089,     0.09009,    0.091091,    0.092092,    0.093093,    0.094094,    0.095095,\n",
              "          0.096096,    0.097097,    0.098098,    0.099099,      0.1001,      0.1011,      0.1021,      0.1031,      0.1041,     0.10511,     0.10611,     0.10711,     0.10811,     0.10911,     0.11011,     0.11111,     0.11211,     0.11311,     0.11411,     0.11512,     0.11612,     0.11712,     0.11812,     0.11912,\n",
              "           0.12012,     0.12112,     0.12212,     0.12312,     0.12412,     0.12513,     0.12613,     0.12713,     0.12813,     0.12913,     0.13013,     0.13113,     0.13213,     0.13313,     0.13413,     0.13514,     0.13614,     0.13714,     0.13814,     0.13914,     0.14014,     0.14114,     0.14214,     0.14314,\n",
              "           0.14414,     0.14515,     0.14615,     0.14715,     0.14815,     0.14915,     0.15015,     0.15115,     0.15215,     0.15315,     0.15415,     0.15516,     0.15616,     0.15716,     0.15816,     0.15916,     0.16016,     0.16116,     0.16216,     0.16316,     0.16416,     0.16517,     0.16617,     0.16717,\n",
              "           0.16817,     0.16917,     0.17017,     0.17117,     0.17217,     0.17317,     0.17417,     0.17518,     0.17618,     0.17718,     0.17818,     0.17918,     0.18018,     0.18118,     0.18218,     0.18318,     0.18418,     0.18519,     0.18619,     0.18719,     0.18819,     0.18919,     0.19019,     0.19119,\n",
              "           0.19219,     0.19319,     0.19419,      0.1952,      0.1962,      0.1972,      0.1982,      0.1992,      0.2002,      0.2012,      0.2022,      0.2032,      0.2042,     0.20521,     0.20621,     0.20721,     0.20821,     0.20921,     0.21021,     0.21121,     0.21221,     0.21321,     0.21421,     0.21522,\n",
              "           0.21622,     0.21722,     0.21822,     0.21922,     0.22022,     0.22122,     0.22222,     0.22322,     0.22422,     0.22523,     0.22623,     0.22723,     0.22823,     0.22923,     0.23023,     0.23123,     0.23223,     0.23323,     0.23423,     0.23524,     0.23624,     0.23724,     0.23824,     0.23924,\n",
              "           0.24024,     0.24124,     0.24224,     0.24324,     0.24424,     0.24525,     0.24625,     0.24725,     0.24825,     0.24925,     0.25025,     0.25125,     0.25225,     0.25325,     0.25425,     0.25526,     0.25626,     0.25726,     0.25826,     0.25926,     0.26026,     0.26126,     0.26226,     0.26326,\n",
              "           0.26426,     0.26527,     0.26627,     0.26727,     0.26827,     0.26927,     0.27027,     0.27127,     0.27227,     0.27327,     0.27427,     0.27528,     0.27628,     0.27728,     0.27828,     0.27928,     0.28028,     0.28128,     0.28228,     0.28328,     0.28428,     0.28529,     0.28629,     0.28729,\n",
              "           0.28829,     0.28929,     0.29029,     0.29129,     0.29229,     0.29329,     0.29429,      0.2953,      0.2963,      0.2973,      0.2983,      0.2993,      0.3003,      0.3013,      0.3023,      0.3033,      0.3043,     0.30531,     0.30631,     0.30731,     0.30831,     0.30931,     0.31031,     0.31131,\n",
              "           0.31231,     0.31331,     0.31431,     0.31532,     0.31632,     0.31732,     0.31832,     0.31932,     0.32032,     0.32132,     0.32232,     0.32332,     0.32432,     0.32533,     0.32633,     0.32733,     0.32833,     0.32933,     0.33033,     0.33133,     0.33233,     0.33333,     0.33433,     0.33534,\n",
              "           0.33634,     0.33734,     0.33834,     0.33934,     0.34034,     0.34134,     0.34234,     0.34334,     0.34434,     0.34535,     0.34635,     0.34735,     0.34835,     0.34935,     0.35035,     0.35135,     0.35235,     0.35335,     0.35435,     0.35536,     0.35636,     0.35736,     0.35836,     0.35936,\n",
              "           0.36036,     0.36136,     0.36236,     0.36336,     0.36436,     0.36537,     0.36637,     0.36737,     0.36837,     0.36937,     0.37037,     0.37137,     0.37237,     0.37337,     0.37437,     0.37538,     0.37638,     0.37738,     0.37838,     0.37938,     0.38038,     0.38138,     0.38238,     0.38338,\n",
              "           0.38438,     0.38539,     0.38639,     0.38739,     0.38839,     0.38939,     0.39039,     0.39139,     0.39239,     0.39339,     0.39439,      0.3954,      0.3964,      0.3974,      0.3984,      0.3994,      0.4004,      0.4014,      0.4024,      0.4034,      0.4044,     0.40541,     0.40641,     0.40741,\n",
              "           0.40841,     0.40941,     0.41041,     0.41141,     0.41241,     0.41341,     0.41441,     0.41542,     0.41642,     0.41742,     0.41842,     0.41942,     0.42042,     0.42142,     0.42242,     0.42342,     0.42442,     0.42543,     0.42643,     0.42743,     0.42843,     0.42943,     0.43043,     0.43143,\n",
              "           0.43243,     0.43343,     0.43443,     0.43544,     0.43644,     0.43744,     0.43844,     0.43944,     0.44044,     0.44144,     0.44244,     0.44344,     0.44444,     0.44545,     0.44645,     0.44745,     0.44845,     0.44945,     0.45045,     0.45145,     0.45245,     0.45345,     0.45445,     0.45546,\n",
              "           0.45646,     0.45746,     0.45846,     0.45946,     0.46046,     0.46146,     0.46246,     0.46346,     0.46446,     0.46547,     0.46647,     0.46747,     0.46847,     0.46947,     0.47047,     0.47147,     0.47247,     0.47347,     0.47447,     0.47548,     0.47648,     0.47748,     0.47848,     0.47948,\n",
              "           0.48048,     0.48148,     0.48248,     0.48348,     0.48448,     0.48549,     0.48649,     0.48749,     0.48849,     0.48949,     0.49049,     0.49149,     0.49249,     0.49349,     0.49449,      0.4955,      0.4965,      0.4975,      0.4985,      0.4995,      0.5005,      0.5015,      0.5025,      0.5035,\n",
              "            0.5045,     0.50551,     0.50651,     0.50751,     0.50851,     0.50951,     0.51051,     0.51151,     0.51251,     0.51351,     0.51451,     0.51552,     0.51652,     0.51752,     0.51852,     0.51952,     0.52052,     0.52152,     0.52252,     0.52352,     0.52452,     0.52553,     0.52653,     0.52753,\n",
              "           0.52853,     0.52953,     0.53053,     0.53153,     0.53253,     0.53353,     0.53453,     0.53554,     0.53654,     0.53754,     0.53854,     0.53954,     0.54054,     0.54154,     0.54254,     0.54354,     0.54454,     0.54555,     0.54655,     0.54755,     0.54855,     0.54955,     0.55055,     0.55155,\n",
              "           0.55255,     0.55355,     0.55455,     0.55556,     0.55656,     0.55756,     0.55856,     0.55956,     0.56056,     0.56156,     0.56256,     0.56356,     0.56456,     0.56557,     0.56657,     0.56757,     0.56857,     0.56957,     0.57057,     0.57157,     0.57257,     0.57357,     0.57457,     0.57558,\n",
              "           0.57658,     0.57758,     0.57858,     0.57958,     0.58058,     0.58158,     0.58258,     0.58358,     0.58458,     0.58559,     0.58659,     0.58759,     0.58859,     0.58959,     0.59059,     0.59159,     0.59259,     0.59359,     0.59459,      0.5956,      0.5966,      0.5976,      0.5986,      0.5996,\n",
              "            0.6006,      0.6016,      0.6026,      0.6036,      0.6046,     0.60561,     0.60661,     0.60761,     0.60861,     0.60961,     0.61061,     0.61161,     0.61261,     0.61361,     0.61461,     0.61562,     0.61662,     0.61762,     0.61862,     0.61962,     0.62062,     0.62162,     0.62262,     0.62362,\n",
              "           0.62462,     0.62563,     0.62663,     0.62763,     0.62863,     0.62963,     0.63063,     0.63163,     0.63263,     0.63363,     0.63463,     0.63564,     0.63664,     0.63764,     0.63864,     0.63964,     0.64064,     0.64164,     0.64264,     0.64364,     0.64464,     0.64565,     0.64665,     0.64765,\n",
              "           0.64865,     0.64965,     0.65065,     0.65165,     0.65265,     0.65365,     0.65465,     0.65566,     0.65666,     0.65766,     0.65866,     0.65966,     0.66066,     0.66166,     0.66266,     0.66366,     0.66466,     0.66567,     0.66667,     0.66767,     0.66867,     0.66967,     0.67067,     0.67167,\n",
              "           0.67267,     0.67367,     0.67467,     0.67568,     0.67668,     0.67768,     0.67868,     0.67968,     0.68068,     0.68168,     0.68268,     0.68368,     0.68468,     0.68569,     0.68669,     0.68769,     0.68869,     0.68969,     0.69069,     0.69169,     0.69269,     0.69369,     0.69469,      0.6957,\n",
              "            0.6967,      0.6977,      0.6987,      0.6997,      0.7007,      0.7017,      0.7027,      0.7037,      0.7047,     0.70571,     0.70671,     0.70771,     0.70871,     0.70971,     0.71071,     0.71171,     0.71271,     0.71371,     0.71471,     0.71572,     0.71672,     0.71772,     0.71872,     0.71972,\n",
              "           0.72072,     0.72172,     0.72272,     0.72372,     0.72472,     0.72573,     0.72673,     0.72773,     0.72873,     0.72973,     0.73073,     0.73173,     0.73273,     0.73373,     0.73473,     0.73574,     0.73674,     0.73774,     0.73874,     0.73974,     0.74074,     0.74174,     0.74274,     0.74374,\n",
              "           0.74474,     0.74575,     0.74675,     0.74775,     0.74875,     0.74975,     0.75075,     0.75175,     0.75275,     0.75375,     0.75475,     0.75576,     0.75676,     0.75776,     0.75876,     0.75976,     0.76076,     0.76176,     0.76276,     0.76376,     0.76476,     0.76577,     0.76677,     0.76777,\n",
              "           0.76877,     0.76977,     0.77077,     0.77177,     0.77277,     0.77377,     0.77477,     0.77578,     0.77678,     0.77778,     0.77878,     0.77978,     0.78078,     0.78178,     0.78278,     0.78378,     0.78478,     0.78579,     0.78679,     0.78779,     0.78879,     0.78979,     0.79079,     0.79179,\n",
              "           0.79279,     0.79379,     0.79479,      0.7958,      0.7968,      0.7978,      0.7988,      0.7998,      0.8008,      0.8018,      0.8028,      0.8038,      0.8048,     0.80581,     0.80681,     0.80781,     0.80881,     0.80981,     0.81081,     0.81181,     0.81281,     0.81381,     0.81481,     0.81582,\n",
              "           0.81682,     0.81782,     0.81882,     0.81982,     0.82082,     0.82182,     0.82282,     0.82382,     0.82482,     0.82583,     0.82683,     0.82783,     0.82883,     0.82983,     0.83083,     0.83183,     0.83283,     0.83383,     0.83483,     0.83584,     0.83684,     0.83784,     0.83884,     0.83984,\n",
              "           0.84084,     0.84184,     0.84284,     0.84384,     0.84484,     0.84585,     0.84685,     0.84785,     0.84885,     0.84985,     0.85085,     0.85185,     0.85285,     0.85385,     0.85485,     0.85586,     0.85686,     0.85786,     0.85886,     0.85986,     0.86086,     0.86186,     0.86286,     0.86386,\n",
              "           0.86486,     0.86587,     0.86687,     0.86787,     0.86887,     0.86987,     0.87087,     0.87187,     0.87287,     0.87387,     0.87487,     0.87588,     0.87688,     0.87788,     0.87888,     0.87988,     0.88088,     0.88188,     0.88288,     0.88388,     0.88488,     0.88589,     0.88689,     0.88789,\n",
              "           0.88889,     0.88989,     0.89089,     0.89189,     0.89289,     0.89389,     0.89489,      0.8959,      0.8969,      0.8979,      0.8989,      0.8999,      0.9009,      0.9019,      0.9029,      0.9039,      0.9049,     0.90591,     0.90691,     0.90791,     0.90891,     0.90991,     0.91091,     0.91191,\n",
              "           0.91291,     0.91391,     0.91491,     0.91592,     0.91692,     0.91792,     0.91892,     0.91992,     0.92092,     0.92192,     0.92292,     0.92392,     0.92492,     0.92593,     0.92693,     0.92793,     0.92893,     0.92993,     0.93093,     0.93193,     0.93293,     0.93393,     0.93493,     0.93594,\n",
              "           0.93694,     0.93794,     0.93894,     0.93994,     0.94094,     0.94194,     0.94294,     0.94394,     0.94494,     0.94595,     0.94695,     0.94795,     0.94895,     0.94995,     0.95095,     0.95195,     0.95295,     0.95395,     0.95495,     0.95596,     0.95696,     0.95796,     0.95896,     0.95996,\n",
              "           0.96096,     0.96196,     0.96296,     0.96396,     0.96496,     0.96597,     0.96697,     0.96797,     0.96897,     0.96997,     0.97097,     0.97197,     0.97297,     0.97397,     0.97497,     0.97598,     0.97698,     0.97798,     0.97898,     0.97998,     0.98098,     0.98198,     0.98298,     0.98398,\n",
              "           0.98498,     0.98599,     0.98699,     0.98799,     0.98899,     0.98999,     0.99099,     0.99199,     0.99299,     0.99399,     0.99499,       0.996,       0.997,       0.998,       0.999,           1]), array([[   0.044669,    0.044669,     0.06743,    0.085842,     0.10147,     0.11726,      0.1309,      0.1428,     0.15311,     0.16326,     0.17374,     0.18186,      0.1899,     0.19716,     0.20336,     0.21073,     0.21792,     0.22197,      0.2309,     0.23519,     0.24275,     0.25038,     0.25701,\n",
              "              0.263,     0.26839,     0.27348,     0.27919,      0.2829,     0.28931,     0.29458,     0.30072,     0.30571,     0.31263,     0.31576,     0.32095,     0.32419,      0.3277,     0.33124,     0.33367,     0.33564,     0.33682,     0.34042,     0.34404,     0.34542,     0.34849,     0.35104,\n",
              "            0.35445,     0.35802,     0.36222,     0.36535,     0.36827,     0.37108,     0.37521,     0.38026,     0.38236,     0.38321,     0.38618,      0.3875,     0.38963,     0.39284,     0.39468,     0.39713,     0.39826,     0.40113,     0.40484,     0.41035,     0.41112,     0.41503,     0.41893,\n",
              "            0.42266,     0.42589,     0.42822,     0.43066,     0.43392,     0.43541,     0.43697,     0.43997,     0.44142,     0.44367,     0.44623,     0.44802,     0.44865,     0.44913,        0.45,     0.45211,     0.45575,     0.45802,     0.45949,     0.46035,     0.46113,      0.4644,     0.46718,\n",
              "            0.46962,     0.47066,     0.47666,     0.48015,     0.48169,      0.4847,     0.48792,     0.48981,     0.49465,     0.49667,     0.49746,     0.50016,     0.50082,     0.50186,     0.50448,     0.50722,     0.51149,     0.51258,     0.51411,     0.51486,     0.51813,     0.51975,      0.5206,\n",
              "            0.52523,     0.52797,     0.52913,        0.53,     0.53239,     0.53462,      0.5376,     0.53877,     0.53943,     0.54262,     0.54529,     0.54649,     0.54829,     0.55146,     0.55427,     0.55498,     0.55571,     0.55637,     0.55692,     0.56004,     0.56177,     0.56312,     0.56404,\n",
              "             0.5656,     0.56665,     0.56802,     0.57085,     0.57253,     0.57322,      0.5748,     0.57908,     0.58054,     0.58248,     0.58389,      0.5858,     0.58613,     0.58761,     0.58858,     0.59054,     0.59147,     0.59286,     0.59329,     0.59504,     0.59642,     0.59793,     0.59975,\n",
              "            0.60241,     0.60348,     0.60629,     0.60695,     0.60674,     0.60795,     0.60827,     0.60859,     0.60891,     0.60939,     0.60994,     0.61038,     0.61053,     0.61163,     0.61235,       0.613,     0.61413,     0.61468,     0.61528,     0.61602,     0.61668,     0.61752,     0.61886,\n",
              "            0.61946,     0.62112,     0.62192,     0.62287,     0.62581,     0.62793,     0.63008,     0.63102,     0.63195,     0.63331,     0.63307,     0.63379,     0.63676,       0.637,     0.63723,     0.63746,      0.6377,     0.64025,     0.64122,     0.64331,      0.6447,     0.64451,     0.64527,\n",
              "            0.64563,     0.64579,     0.64595,     0.64612,     0.64628,     0.64644,      0.6466,     0.64693,     0.64783,     0.64834,     0.64879,     0.64934,     0.65025,     0.65325,     0.65512,     0.65633,     0.65621,     0.65549,     0.65917,      0.6608,     0.66421,     0.66681,      0.6683,\n",
              "            0.66925,     0.66856,     0.67311,     0.67436,     0.67601,     0.67653,     0.67705,     0.67803,     0.68184,     0.68319,     0.68419,     0.68485,     0.68559,     0.68711,     0.68787,     0.68873,     0.68969,     0.69097,     0.69435,     0.69645,     0.69959,     0.69916,     0.70004,\n",
              "             0.7009,     0.70149,     0.70297,     0.70398,     0.70473,     0.70574,      0.7066,     0.71012,     0.71205,     0.71266,     0.71272,     0.71521,     0.71639,     0.71785,     0.72051,     0.72114,     0.72211,     0.72337,     0.72377,     0.72417,     0.72457,     0.72396,     0.72365,\n",
              "            0.72614,     0.72628,     0.72694,     0.72812,     0.73067,     0.73149,     0.73447,     0.73516,     0.73548,     0.73609,      0.7386,     0.74023,     0.74099,     0.74209,     0.74322,     0.74317,     0.74313,     0.74308,     0.74304,     0.74299,     0.74295,      0.7429,     0.74286,\n",
              "            0.74281,     0.74276,     0.74272,     0.74267,     0.74478,     0.74531,     0.74584,     0.74837,     0.74937,     0.74912,      0.7488,     0.74857,     0.74833,      0.7508,       0.753,     0.75443,     0.75413,     0.75697,     0.75806,     0.75879,     0.75911,     0.76059,     0.76184,\n",
              "            0.76332,     0.76627,     0.76716,     0.76681,     0.76788,     0.76895,     0.77003,     0.77201,     0.77164,     0.77209,     0.77254,     0.77298,     0.77343,     0.77514,     0.77895,     0.77853,     0.77822,     0.77969,     0.78146,     0.78173,     0.78201,     0.78228,     0.78255,\n",
              "            0.78282,     0.78309,      0.7851,      0.7849,      0.7847,     0.78663,     0.78847,      0.7883,     0.78814,     0.78944,     0.79078,     0.79168,     0.79395,     0.79384,     0.79374,     0.79363,     0.79353,     0.79373,     0.79464,     0.79589,     0.79731,     0.79704,      0.7988,\n",
              "            0.79885,     0.79871,     0.79857,     0.79818,     0.79906,     0.79998,     0.79991,     0.79985,     0.79978,     0.79972,     0.79965,     0.79958,     0.79952,     0.80184,      0.8029,     0.80397,     0.80503,     0.80844,     0.80988,     0.80976,     0.80964,     0.80952,      0.8094,\n",
              "            0.80914,     0.80889,     0.80879,     0.80868,     0.80857,     0.80846,     0.80871,     0.80943,     0.81016,     0.81148,     0.81178,     0.81342,     0.81515,     0.81613,     0.81688,     0.81763,     0.81757,     0.81744,      0.8173,     0.81778,     0.81962,     0.82037,     0.82113,\n",
              "            0.82109,     0.82096,     0.82083,     0.82069,     0.82145,     0.82259,     0.82298,     0.82375,     0.82452,     0.82443,     0.82375,     0.82434,     0.82492,      0.8255,     0.82593,     0.82577,      0.8256,     0.82522,       0.826,     0.82679,     0.83009,     0.83145,     0.83396,\n",
              "            0.83448,     0.83489,     0.83564,     0.83686,     0.83696,     0.83672,     0.83768,     0.83891,     0.83939,     0.83974,     0.84009,     0.84045,      0.8408,     0.84116,     0.84159,     0.84345,     0.84569,     0.84789,     0.84783,     0.84868,     0.84953,     0.85029,     0.85093,\n",
              "            0.85157,     0.85222,     0.85238,     0.85216,     0.85246,     0.85311,     0.85375,      0.8544,     0.85457,     0.85452,     0.85447,     0.85442,     0.85437,     0.85432,     0.85427,     0.85422,     0.85417,     0.85411,     0.85404,     0.85398,     0.85392,     0.85385,     0.85379,\n",
              "            0.85372,     0.85357,     0.85342,     0.85328,     0.85321,     0.85313,     0.85306,     0.85298,     0.85291,     0.85325,     0.85457,     0.85534,     0.85512,     0.85489,     0.85467,     0.85434,     0.85474,     0.85607,     0.85968,     0.86036,     0.86103,     0.86171,     0.86239,\n",
              "            0.86307,     0.86375,     0.86442,     0.86501,     0.86556,      0.8661,     0.86665,      0.8672,     0.86693,     0.86938,     0.86918,     0.86903,     0.86889,     0.86875,     0.86861,     0.86847,     0.86842,     0.86982,      0.8711,     0.87135,     0.87161,     0.87187,     0.87212,\n",
              "            0.87238,     0.87263,     0.87289,     0.87315,      0.8734,     0.87366,       0.874,     0.87447,     0.87494,     0.87541,     0.87589,     0.87636,     0.87653,     0.87643,     0.87633,     0.87623,     0.87797,     0.87929,     0.87977,     0.88025,     0.88073,     0.88121,     0.88169,\n",
              "            0.88225,     0.88283,     0.88341,     0.88399,     0.88457,     0.88408,     0.88383,     0.88373,     0.88363,     0.88354,      0.8843,     0.88577,     0.88814,     0.88987,     0.89086,     0.89186,     0.89425,     0.89504,     0.89498,     0.89492,     0.89486,      0.8948,     0.89474,\n",
              "            0.89736,     0.89905,     0.90057,     0.90211,     0.90364,      0.9067,     0.90877,     0.91267,     0.91252,     0.91244,     0.91242,     0.91239,     0.91237,     0.91234,     0.91232,     0.91229,     0.91227,     0.91224,     0.91222,     0.91219,     0.91216,      0.9115,     0.91135,\n",
              "            0.91119,     0.91104,     0.91257,     0.91363,     0.91347,     0.91343,     0.91339,     0.91335,     0.91331,     0.91327,     0.91323,     0.91358,     0.91521,     0.91655,     0.91714,     0.91774,     0.91834,     0.91893,     0.91953,     0.91953,     0.91947,     0.91941,     0.91935,\n",
              "            0.91943,     0.92255,     0.92286,     0.92316,     0.92347,     0.92377,     0.92407,     0.92438,     0.92468,     0.92498,     0.92529,     0.92559,     0.92571,      0.9255,     0.92541,     0.92532,     0.92818,     0.93154,     0.93141,     0.93128,     0.93116,     0.93108,     0.93101,\n",
              "            0.93094,     0.93087,      0.9308,     0.93074,     0.93067,     0.93037,     0.93024,     0.93065,     0.93241,     0.93341,     0.93634,     0.93659,     0.93653,     0.93648,     0.93644,     0.93639,     0.93635,       0.936,     0.93584,     0.93572,     0.93915,     0.93903,     0.93845,\n",
              "             0.9384,     0.93836,     0.93831,     0.93826,      0.9382,     0.93813,     0.93806,     0.93799,      0.9379,      0.9378,     0.93807,     0.93996,     0.94087,     0.94071,     0.94066,      0.9406,     0.94055,      0.9405,     0.94288,     0.94421,      0.9442,     0.94418,     0.94416,\n",
              "            0.94414,     0.94413,     0.94411,     0.94409,     0.94408,     0.94406,     0.94404,     0.94403,     0.94401,     0.94397,      0.9439,     0.94384,     0.94374,     0.94351,     0.94344,     0.94338,     0.94328,       0.943,     0.94282,     0.94277,     0.94271,     0.94266,      0.9426,\n",
              "            0.94254,     0.94248,     0.94242,     0.94211,     0.94201,     0.94191,     0.94164,     0.94159,     0.94154,     0.94149,     0.94144,     0.94524,     0.94505,      0.9446,     0.94725,     0.94899,     0.94969,     0.95038,     0.95108,     0.95178,     0.95248,      0.9525,     0.95239,\n",
              "            0.95212,     0.95197,     0.95582,     0.95566,     0.95553,     0.95548,     0.95543,     0.95538,      0.9553,     0.95519,      0.9551,     0.95502,     0.95494,     0.95487,      0.9548,      0.9545,     0.95436,     0.95408,     0.95394,     0.95358,     0.95347,     0.95342,     0.95337,\n",
              "            0.95332,     0.95326,     0.95293,     0.95256,     0.95246,     0.95237,     0.95232,     0.95227,     0.95222,     0.95217,     0.95181,     0.95252,     0.95568,     0.95584,     0.95569,      0.9572,     0.96015,     0.96001,      0.9597,      0.9596,     0.95949,     0.95938,     0.96097,\n",
              "            0.96409,     0.96397,     0.96387,     0.96379,     0.96874,     0.96865,     0.96841,     0.96834,     0.96827,     0.96821,     0.96815,     0.96809,     0.96787,     0.96775,     0.96754,     0.96747,     0.96739,     0.96735,      0.9673,     0.96726,      0.9672,       0.967,     0.96674,\n",
              "            0.96643,     0.96657,     0.96938,     0.97157,     0.97149,     0.97141,     0.97134,     0.97128,     0.97122,     0.97116,      0.9711,     0.97062,     0.97038,     0.97031,     0.97024,     0.97604,     0.97589,     0.97573,     0.97568,     0.97563,     0.97536,     0.97524,     0.97497,\n",
              "            0.97477,     0.97448,     0.97415,     0.97401,     0.97394,     0.97387,      0.9738,     0.97373,     0.97911,     0.97992,      0.9798,     0.97968,     0.97945,      0.9793,     0.97916,     0.97906,      0.9787,     0.97855,     0.97836,     0.97803,     0.97787,     0.97749,     0.97718,\n",
              "            0.97703,     0.97694,     0.97671,     0.97662,     0.97633,      0.9762,     0.97601,     0.97581,     0.97561,     0.97547,     0.97596,     0.98311,     0.98273,     0.98268,     0.98263,     0.98243,     0.98227,     0.98212,     0.98201,     0.98177,      0.9816,     0.98143,     0.98119,\n",
              "            0.98092,     0.98082,     0.98072,     0.98059,      0.9804,     0.98012,     0.98004,     0.97979,     0.97956,     0.97863,     0.97936,     0.98663,      0.9888,     0.98858,     0.98832,     0.98825,     0.98807,     0.98797,     0.98772,     0.98762,     0.98751,     0.98736,     0.98719,\n",
              "            0.98659,     0.98631,     0.98592,      0.9855,     0.98505,     0.98458,     0.98432,     0.98421,     0.98384,     0.98366,     0.98354,     0.98345,     0.98336,     0.98289,     0.98252,      0.9822,     0.98051,     0.97982,     0.97961,      0.9792,           1,           1,           1,\n",
              "                  1,           1,           1,           1,           1,           1,           1,           1,           1,           1,           1,           1,           1,           1,           1,           1,           1,           1,           1,           1,           1,           1,           1,\n",
              "                  1,           1,           1,           1,           1,           1,           1,           1,           1,           1,           1,           1,           1,           1,           1,           1,           1,           1,           1,           1,           1,           1,           1,\n",
              "                  1,           1,           1,           1,           1,           1,           1,           1,           1,           1,           1,           1,           1,           1,           1,           1,           1,           1,           1,           1,           1,           1,           1,\n",
              "                  1,           1,           1,           1,           1,           1,           1,           1,           1,           1,           1]]), 'Confidence', 'Precision'], [array([          0,    0.001001,    0.002002,    0.003003,    0.004004,    0.005005,    0.006006,    0.007007,    0.008008,    0.009009,     0.01001,    0.011011,    0.012012,    0.013013,    0.014014,    0.015015,    0.016016,    0.017017,    0.018018,    0.019019,     0.02002,    0.021021,    0.022022,    0.023023,\n",
              "          0.024024,    0.025025,    0.026026,    0.027027,    0.028028,    0.029029,     0.03003,    0.031031,    0.032032,    0.033033,    0.034034,    0.035035,    0.036036,    0.037037,    0.038038,    0.039039,     0.04004,    0.041041,    0.042042,    0.043043,    0.044044,    0.045045,    0.046046,    0.047047,\n",
              "          0.048048,    0.049049,     0.05005,    0.051051,    0.052052,    0.053053,    0.054054,    0.055055,    0.056056,    0.057057,    0.058058,    0.059059,     0.06006,    0.061061,    0.062062,    0.063063,    0.064064,    0.065065,    0.066066,    0.067067,    0.068068,    0.069069,     0.07007,    0.071071,\n",
              "          0.072072,    0.073073,    0.074074,    0.075075,    0.076076,    0.077077,    0.078078,    0.079079,     0.08008,    0.081081,    0.082082,    0.083083,    0.084084,    0.085085,    0.086086,    0.087087,    0.088088,    0.089089,     0.09009,    0.091091,    0.092092,    0.093093,    0.094094,    0.095095,\n",
              "          0.096096,    0.097097,    0.098098,    0.099099,      0.1001,      0.1011,      0.1021,      0.1031,      0.1041,     0.10511,     0.10611,     0.10711,     0.10811,     0.10911,     0.11011,     0.11111,     0.11211,     0.11311,     0.11411,     0.11512,     0.11612,     0.11712,     0.11812,     0.11912,\n",
              "           0.12012,     0.12112,     0.12212,     0.12312,     0.12412,     0.12513,     0.12613,     0.12713,     0.12813,     0.12913,     0.13013,     0.13113,     0.13213,     0.13313,     0.13413,     0.13514,     0.13614,     0.13714,     0.13814,     0.13914,     0.14014,     0.14114,     0.14214,     0.14314,\n",
              "           0.14414,     0.14515,     0.14615,     0.14715,     0.14815,     0.14915,     0.15015,     0.15115,     0.15215,     0.15315,     0.15415,     0.15516,     0.15616,     0.15716,     0.15816,     0.15916,     0.16016,     0.16116,     0.16216,     0.16316,     0.16416,     0.16517,     0.16617,     0.16717,\n",
              "           0.16817,     0.16917,     0.17017,     0.17117,     0.17217,     0.17317,     0.17417,     0.17518,     0.17618,     0.17718,     0.17818,     0.17918,     0.18018,     0.18118,     0.18218,     0.18318,     0.18418,     0.18519,     0.18619,     0.18719,     0.18819,     0.18919,     0.19019,     0.19119,\n",
              "           0.19219,     0.19319,     0.19419,      0.1952,      0.1962,      0.1972,      0.1982,      0.1992,      0.2002,      0.2012,      0.2022,      0.2032,      0.2042,     0.20521,     0.20621,     0.20721,     0.20821,     0.20921,     0.21021,     0.21121,     0.21221,     0.21321,     0.21421,     0.21522,\n",
              "           0.21622,     0.21722,     0.21822,     0.21922,     0.22022,     0.22122,     0.22222,     0.22322,     0.22422,     0.22523,     0.22623,     0.22723,     0.22823,     0.22923,     0.23023,     0.23123,     0.23223,     0.23323,     0.23423,     0.23524,     0.23624,     0.23724,     0.23824,     0.23924,\n",
              "           0.24024,     0.24124,     0.24224,     0.24324,     0.24424,     0.24525,     0.24625,     0.24725,     0.24825,     0.24925,     0.25025,     0.25125,     0.25225,     0.25325,     0.25425,     0.25526,     0.25626,     0.25726,     0.25826,     0.25926,     0.26026,     0.26126,     0.26226,     0.26326,\n",
              "           0.26426,     0.26527,     0.26627,     0.26727,     0.26827,     0.26927,     0.27027,     0.27127,     0.27227,     0.27327,     0.27427,     0.27528,     0.27628,     0.27728,     0.27828,     0.27928,     0.28028,     0.28128,     0.28228,     0.28328,     0.28428,     0.28529,     0.28629,     0.28729,\n",
              "           0.28829,     0.28929,     0.29029,     0.29129,     0.29229,     0.29329,     0.29429,      0.2953,      0.2963,      0.2973,      0.2983,      0.2993,      0.3003,      0.3013,      0.3023,      0.3033,      0.3043,     0.30531,     0.30631,     0.30731,     0.30831,     0.30931,     0.31031,     0.31131,\n",
              "           0.31231,     0.31331,     0.31431,     0.31532,     0.31632,     0.31732,     0.31832,     0.31932,     0.32032,     0.32132,     0.32232,     0.32332,     0.32432,     0.32533,     0.32633,     0.32733,     0.32833,     0.32933,     0.33033,     0.33133,     0.33233,     0.33333,     0.33433,     0.33534,\n",
              "           0.33634,     0.33734,     0.33834,     0.33934,     0.34034,     0.34134,     0.34234,     0.34334,     0.34434,     0.34535,     0.34635,     0.34735,     0.34835,     0.34935,     0.35035,     0.35135,     0.35235,     0.35335,     0.35435,     0.35536,     0.35636,     0.35736,     0.35836,     0.35936,\n",
              "           0.36036,     0.36136,     0.36236,     0.36336,     0.36436,     0.36537,     0.36637,     0.36737,     0.36837,     0.36937,     0.37037,     0.37137,     0.37237,     0.37337,     0.37437,     0.37538,     0.37638,     0.37738,     0.37838,     0.37938,     0.38038,     0.38138,     0.38238,     0.38338,\n",
              "           0.38438,     0.38539,     0.38639,     0.38739,     0.38839,     0.38939,     0.39039,     0.39139,     0.39239,     0.39339,     0.39439,      0.3954,      0.3964,      0.3974,      0.3984,      0.3994,      0.4004,      0.4014,      0.4024,      0.4034,      0.4044,     0.40541,     0.40641,     0.40741,\n",
              "           0.40841,     0.40941,     0.41041,     0.41141,     0.41241,     0.41341,     0.41441,     0.41542,     0.41642,     0.41742,     0.41842,     0.41942,     0.42042,     0.42142,     0.42242,     0.42342,     0.42442,     0.42543,     0.42643,     0.42743,     0.42843,     0.42943,     0.43043,     0.43143,\n",
              "           0.43243,     0.43343,     0.43443,     0.43544,     0.43644,     0.43744,     0.43844,     0.43944,     0.44044,     0.44144,     0.44244,     0.44344,     0.44444,     0.44545,     0.44645,     0.44745,     0.44845,     0.44945,     0.45045,     0.45145,     0.45245,     0.45345,     0.45445,     0.45546,\n",
              "           0.45646,     0.45746,     0.45846,     0.45946,     0.46046,     0.46146,     0.46246,     0.46346,     0.46446,     0.46547,     0.46647,     0.46747,     0.46847,     0.46947,     0.47047,     0.47147,     0.47247,     0.47347,     0.47447,     0.47548,     0.47648,     0.47748,     0.47848,     0.47948,\n",
              "           0.48048,     0.48148,     0.48248,     0.48348,     0.48448,     0.48549,     0.48649,     0.48749,     0.48849,     0.48949,     0.49049,     0.49149,     0.49249,     0.49349,     0.49449,      0.4955,      0.4965,      0.4975,      0.4985,      0.4995,      0.5005,      0.5015,      0.5025,      0.5035,\n",
              "            0.5045,     0.50551,     0.50651,     0.50751,     0.50851,     0.50951,     0.51051,     0.51151,     0.51251,     0.51351,     0.51451,     0.51552,     0.51652,     0.51752,     0.51852,     0.51952,     0.52052,     0.52152,     0.52252,     0.52352,     0.52452,     0.52553,     0.52653,     0.52753,\n",
              "           0.52853,     0.52953,     0.53053,     0.53153,     0.53253,     0.53353,     0.53453,     0.53554,     0.53654,     0.53754,     0.53854,     0.53954,     0.54054,     0.54154,     0.54254,     0.54354,     0.54454,     0.54555,     0.54655,     0.54755,     0.54855,     0.54955,     0.55055,     0.55155,\n",
              "           0.55255,     0.55355,     0.55455,     0.55556,     0.55656,     0.55756,     0.55856,     0.55956,     0.56056,     0.56156,     0.56256,     0.56356,     0.56456,     0.56557,     0.56657,     0.56757,     0.56857,     0.56957,     0.57057,     0.57157,     0.57257,     0.57357,     0.57457,     0.57558,\n",
              "           0.57658,     0.57758,     0.57858,     0.57958,     0.58058,     0.58158,     0.58258,     0.58358,     0.58458,     0.58559,     0.58659,     0.58759,     0.58859,     0.58959,     0.59059,     0.59159,     0.59259,     0.59359,     0.59459,      0.5956,      0.5966,      0.5976,      0.5986,      0.5996,\n",
              "            0.6006,      0.6016,      0.6026,      0.6036,      0.6046,     0.60561,     0.60661,     0.60761,     0.60861,     0.60961,     0.61061,     0.61161,     0.61261,     0.61361,     0.61461,     0.61562,     0.61662,     0.61762,     0.61862,     0.61962,     0.62062,     0.62162,     0.62262,     0.62362,\n",
              "           0.62462,     0.62563,     0.62663,     0.62763,     0.62863,     0.62963,     0.63063,     0.63163,     0.63263,     0.63363,     0.63463,     0.63564,     0.63664,     0.63764,     0.63864,     0.63964,     0.64064,     0.64164,     0.64264,     0.64364,     0.64464,     0.64565,     0.64665,     0.64765,\n",
              "           0.64865,     0.64965,     0.65065,     0.65165,     0.65265,     0.65365,     0.65465,     0.65566,     0.65666,     0.65766,     0.65866,     0.65966,     0.66066,     0.66166,     0.66266,     0.66366,     0.66466,     0.66567,     0.66667,     0.66767,     0.66867,     0.66967,     0.67067,     0.67167,\n",
              "           0.67267,     0.67367,     0.67467,     0.67568,     0.67668,     0.67768,     0.67868,     0.67968,     0.68068,     0.68168,     0.68268,     0.68368,     0.68468,     0.68569,     0.68669,     0.68769,     0.68869,     0.68969,     0.69069,     0.69169,     0.69269,     0.69369,     0.69469,      0.6957,\n",
              "            0.6967,      0.6977,      0.6987,      0.6997,      0.7007,      0.7017,      0.7027,      0.7037,      0.7047,     0.70571,     0.70671,     0.70771,     0.70871,     0.70971,     0.71071,     0.71171,     0.71271,     0.71371,     0.71471,     0.71572,     0.71672,     0.71772,     0.71872,     0.71972,\n",
              "           0.72072,     0.72172,     0.72272,     0.72372,     0.72472,     0.72573,     0.72673,     0.72773,     0.72873,     0.72973,     0.73073,     0.73173,     0.73273,     0.73373,     0.73473,     0.73574,     0.73674,     0.73774,     0.73874,     0.73974,     0.74074,     0.74174,     0.74274,     0.74374,\n",
              "           0.74474,     0.74575,     0.74675,     0.74775,     0.74875,     0.74975,     0.75075,     0.75175,     0.75275,     0.75375,     0.75475,     0.75576,     0.75676,     0.75776,     0.75876,     0.75976,     0.76076,     0.76176,     0.76276,     0.76376,     0.76476,     0.76577,     0.76677,     0.76777,\n",
              "           0.76877,     0.76977,     0.77077,     0.77177,     0.77277,     0.77377,     0.77477,     0.77578,     0.77678,     0.77778,     0.77878,     0.77978,     0.78078,     0.78178,     0.78278,     0.78378,     0.78478,     0.78579,     0.78679,     0.78779,     0.78879,     0.78979,     0.79079,     0.79179,\n",
              "           0.79279,     0.79379,     0.79479,      0.7958,      0.7968,      0.7978,      0.7988,      0.7998,      0.8008,      0.8018,      0.8028,      0.8038,      0.8048,     0.80581,     0.80681,     0.80781,     0.80881,     0.80981,     0.81081,     0.81181,     0.81281,     0.81381,     0.81481,     0.81582,\n",
              "           0.81682,     0.81782,     0.81882,     0.81982,     0.82082,     0.82182,     0.82282,     0.82382,     0.82482,     0.82583,     0.82683,     0.82783,     0.82883,     0.82983,     0.83083,     0.83183,     0.83283,     0.83383,     0.83483,     0.83584,     0.83684,     0.83784,     0.83884,     0.83984,\n",
              "           0.84084,     0.84184,     0.84284,     0.84384,     0.84484,     0.84585,     0.84685,     0.84785,     0.84885,     0.84985,     0.85085,     0.85185,     0.85285,     0.85385,     0.85485,     0.85586,     0.85686,     0.85786,     0.85886,     0.85986,     0.86086,     0.86186,     0.86286,     0.86386,\n",
              "           0.86486,     0.86587,     0.86687,     0.86787,     0.86887,     0.86987,     0.87087,     0.87187,     0.87287,     0.87387,     0.87487,     0.87588,     0.87688,     0.87788,     0.87888,     0.87988,     0.88088,     0.88188,     0.88288,     0.88388,     0.88488,     0.88589,     0.88689,     0.88789,\n",
              "           0.88889,     0.88989,     0.89089,     0.89189,     0.89289,     0.89389,     0.89489,      0.8959,      0.8969,      0.8979,      0.8989,      0.8999,      0.9009,      0.9019,      0.9029,      0.9039,      0.9049,     0.90591,     0.90691,     0.90791,     0.90891,     0.90991,     0.91091,     0.91191,\n",
              "           0.91291,     0.91391,     0.91491,     0.91592,     0.91692,     0.91792,     0.91892,     0.91992,     0.92092,     0.92192,     0.92292,     0.92392,     0.92492,     0.92593,     0.92693,     0.92793,     0.92893,     0.92993,     0.93093,     0.93193,     0.93293,     0.93393,     0.93493,     0.93594,\n",
              "           0.93694,     0.93794,     0.93894,     0.93994,     0.94094,     0.94194,     0.94294,     0.94394,     0.94494,     0.94595,     0.94695,     0.94795,     0.94895,     0.94995,     0.95095,     0.95195,     0.95295,     0.95395,     0.95495,     0.95596,     0.95696,     0.95796,     0.95896,     0.95996,\n",
              "           0.96096,     0.96196,     0.96296,     0.96396,     0.96496,     0.96597,     0.96697,     0.96797,     0.96897,     0.96997,     0.97097,     0.97197,     0.97297,     0.97397,     0.97497,     0.97598,     0.97698,     0.97798,     0.97898,     0.97998,     0.98098,     0.98198,     0.98298,     0.98398,\n",
              "           0.98498,     0.98599,     0.98699,     0.98799,     0.98899,     0.98999,     0.99099,     0.99199,     0.99299,     0.99399,     0.99499,       0.996,       0.997,       0.998,       0.999,           1]), array([[    0.97343,     0.97343,     0.96618,     0.96377,     0.96377,     0.96377,     0.95894,     0.95894,     0.95411,     0.95169,     0.94928,     0.94686,     0.94444,     0.94444,     0.93961,     0.93961,     0.93961,     0.93478,     0.93478,     0.93237,     0.92995,     0.92754,     0.92754,\n",
              "            0.92754,     0.92754,     0.92754,     0.92754,     0.92512,     0.92512,     0.92512,     0.92512,     0.92512,     0.92512,     0.92271,     0.92271,     0.92029,     0.91787,     0.91546,     0.91063,     0.90821,     0.90338,     0.90338,     0.90097,     0.90097,     0.89614,     0.89614,\n",
              "            0.89372,      0.8913,      0.8913,      0.8913,      0.8913,      0.8913,     0.88889,     0.88889,     0.88889,     0.88647,     0.88647,     0.88406,     0.88406,     0.88406,     0.88197,     0.88164,     0.88164,     0.88164,     0.88164,     0.88164,     0.87923,     0.87923,     0.87923,\n",
              "            0.87885,      0.8744,      0.8744,      0.8744,      0.8744,      0.8744,      0.8744,      0.8744,      0.8744,      0.8744,      0.8744,      0.8744,      0.8744,      0.8744,      0.8744,      0.8744,      0.8744,      0.8744,      0.8744,      0.8744,      0.8744,      0.8744,      0.8744,\n",
              "             0.8744,      0.8744,      0.8744,      0.8744,      0.8744,      0.8744,      0.8744,      0.8744,      0.8744,      0.8744,     0.87198,     0.87198,     0.87198,     0.87198,     0.87198,     0.87198,     0.87198,     0.87198,     0.87198,     0.87198,     0.87198,     0.87198,     0.87198,\n",
              "            0.87198,     0.87198,     0.87129,     0.86957,     0.86957,     0.86957,     0.86957,     0.86957,     0.86957,     0.86957,     0.86957,     0.86446,     0.86232,     0.86232,     0.86232,     0.86232,     0.86232,     0.86232,     0.86232,     0.86232,     0.86232,     0.86232,     0.86232,\n",
              "            0.86232,     0.86232,     0.86232,     0.86232,     0.86232,     0.86232,     0.86232,     0.86232,     0.86232,     0.86232,     0.86232,     0.86086,      0.8599,      0.8599,      0.8599,      0.8599,     0.85749,     0.85749,     0.85621,     0.85507,     0.85507,     0.85507,     0.85507,\n",
              "            0.85507,     0.85507,     0.85507,     0.85507,     0.85266,     0.85024,     0.85024,     0.85024,     0.85024,     0.85024,     0.85024,     0.84762,     0.84541,     0.84541,     0.84541,     0.84541,     0.84541,     0.84541,     0.84541,     0.84541,     0.84541,     0.84541,     0.84541,\n",
              "            0.84541,     0.84541,     0.84541,     0.84541,     0.84541,       0.843,       0.843,       0.843,       0.843,     0.84269,     0.84058,     0.84058,     0.83816,     0.83816,     0.83816,     0.83816,     0.83816,     0.83816,     0.83816,     0.83816,     0.83816,     0.83575,     0.83575,\n",
              "            0.83575,     0.83575,     0.83575,     0.83575,     0.83575,     0.83575,     0.83575,     0.83575,     0.83575,     0.83575,     0.83575,     0.83575,     0.83575,     0.83575,     0.83575,     0.83575,     0.83451,     0.83185,     0.83092,     0.83092,     0.83092,     0.83092,     0.83092,\n",
              "            0.83088,     0.82609,     0.82609,     0.82609,     0.82609,     0.82609,     0.82609,     0.82367,     0.82367,     0.82367,     0.82126,     0.82126,     0.82126,     0.82126,     0.82126,     0.82126,     0.82126,     0.82126,     0.82126,     0.82126,     0.82125,      0.8196,     0.81884,\n",
              "            0.81884,     0.81884,     0.81884,     0.81884,     0.81884,     0.81685,     0.81643,     0.81643,     0.81643,     0.81643,     0.81401,     0.81401,     0.81401,     0.81401,     0.81401,     0.81401,     0.81401,     0.81401,     0.81401,     0.81401,     0.81401,     0.81086,     0.80962,\n",
              "            0.80918,     0.80753,     0.80435,     0.80435,     0.80435,     0.80435,     0.80175,     0.79791,      0.7971,      0.7971,      0.7971,      0.7971,      0.7971,      0.7971,     0.79701,     0.79682,     0.79663,     0.79644,     0.79625,     0.79605,     0.79586,     0.79567,     0.79548,\n",
              "            0.79529,      0.7951,     0.79491,     0.79472,     0.79469,     0.79469,     0.79469,     0.79469,     0.79469,     0.79336,     0.79205,     0.79106,     0.79006,     0.78986,     0.78744,     0.78744,     0.78531,     0.78502,     0.78502,     0.78502,     0.78261,     0.78261,     0.78019,\n",
              "            0.78019,     0.78019,     0.77993,     0.77778,     0.77778,     0.77778,     0.77778,       0.777,     0.77536,     0.77536,     0.77536,     0.77536,     0.77536,     0.77536,     0.77536,     0.77269,     0.77128,     0.76936,     0.76812,     0.76812,     0.76812,     0.76812,     0.76812,\n",
              "            0.76812,     0.76812,     0.76774,     0.76683,     0.76593,      0.7657,      0.7653,     0.76454,     0.76378,     0.76329,     0.76329,     0.76329,      0.7632,      0.7627,     0.76221,     0.76171,     0.76122,     0.76087,     0.76087,     0.76087,      0.7601,     0.75887,     0.75845,\n",
              "            0.75784,     0.75718,     0.75652,     0.75467,     0.75362,     0.75352,     0.75321,      0.7529,     0.75259,     0.75228,     0.75197,     0.75167,     0.75136,     0.75121,     0.75121,     0.75121,     0.75121,     0.75121,     0.75112,     0.75053,     0.74995,     0.74937,     0.74878,\n",
              "            0.74754,     0.74635,     0.74583,      0.7453,     0.74478,     0.74426,     0.74396,     0.74396,     0.74396,     0.74155,     0.73965,     0.73913,     0.73671,     0.73671,     0.73671,     0.73671,     0.73611,     0.73545,     0.73479,      0.7343,      0.7343,      0.7343,      0.7343,\n",
              "            0.73165,     0.73099,     0.73033,     0.72967,     0.72947,     0.72947,     0.72705,     0.72705,     0.72705,      0.7259,     0.72222,     0.72222,     0.72222,     0.72222,     0.72205,     0.72123,      0.7204,     0.71739,     0.71739,     0.71739,     0.71739,     0.71739,     0.71579,\n",
              "            0.71014,     0.70843,     0.70773,     0.70773,     0.70678,     0.70554,     0.70531,     0.70531,     0.70531,     0.70531,     0.70531,     0.70531,     0.70531,     0.70531,     0.70531,     0.70275,     0.70048,     0.70012,     0.69807,     0.69807,     0.69807,     0.69807,     0.69807,\n",
              "            0.69807,     0.69807,     0.69739,     0.69615,     0.69565,     0.69565,     0.69565,     0.69565,     0.69546,     0.69519,     0.69491,     0.69464,     0.69436,     0.69409,     0.69381,     0.69354,     0.69326,     0.69291,     0.69256,     0.69221,     0.69185,      0.6915,     0.69114,\n",
              "            0.69075,     0.68993,      0.6891,     0.68834,     0.68793,     0.68752,      0.6871,     0.68669,     0.68628,     0.68599,     0.68599,     0.68555,     0.68431,     0.68308,     0.68184,     0.68004,     0.67874,     0.67874,     0.67874,     0.67874,     0.67874,     0.67874,     0.67874,\n",
              "            0.67874,     0.67874,     0.67874,     0.67874,     0.67874,     0.67874,     0.67874,     0.67874,     0.67666,     0.67526,     0.67402,     0.67316,     0.67233,     0.67151,     0.67068,     0.66986,     0.66908,     0.66908,     0.66908,     0.66908,     0.66908,     0.66908,     0.66908,\n",
              "            0.66908,     0.66908,     0.66908,     0.66908,     0.66908,     0.66908,     0.66908,     0.66908,     0.66908,     0.66908,     0.66908,     0.66908,     0.66876,     0.66814,     0.66752,      0.6669,     0.66667,     0.66667,     0.66667,     0.66667,     0.66667,     0.66667,     0.66667,\n",
              "            0.66667,     0.66667,     0.66667,     0.66667,     0.66667,     0.66319,     0.66156,     0.66094,     0.66032,      0.6597,     0.65942,     0.65942,     0.65942,     0.65942,     0.65942,     0.65942,     0.65942,     0.65912,     0.65871,      0.6583,     0.65788,     0.65747,     0.65706,\n",
              "              0.657,       0.657,       0.657,       0.657,       0.657,       0.657,       0.657,     0.65632,     0.65509,     0.65447,     0.65426,     0.65405,     0.65385,     0.65364,     0.65343,     0.65323,     0.65302,     0.65282,     0.65261,      0.6524,      0.6522,     0.64684,      0.6456,\n",
              "            0.64437,     0.64313,     0.64251,     0.63879,      0.6375,     0.63717,     0.63684,     0.63651,     0.63618,     0.63585,     0.63552,     0.63527,     0.63527,     0.63527,     0.63527,     0.63527,     0.63527,     0.63527,     0.63527,     0.63481,     0.63432,     0.63382,     0.63333,\n",
              "            0.63285,     0.63285,     0.63285,     0.63285,     0.63285,     0.63285,     0.63285,     0.63285,     0.63285,     0.63285,     0.63285,     0.63285,     0.63203,     0.63014,     0.62931,     0.62849,     0.62802,     0.62444,      0.6232,     0.62196,     0.62074,     0.62004,     0.61933,\n",
              "            0.61862,     0.61797,     0.61735,     0.61673,     0.61611,     0.61324,       0.612,     0.61111,     0.61111,     0.60946,      0.6087,     0.60654,     0.60588,     0.60543,     0.60498,     0.60453,     0.60408,     0.60058,     0.59895,     0.59772,     0.59648,     0.59524,     0.58929,\n",
              "             0.5888,      0.5883,     0.58781,     0.58731,     0.58676,     0.58605,     0.58534,     0.58463,     0.58368,     0.58269,     0.57729,     0.57729,      0.5765,     0.57487,     0.57432,     0.57377,     0.57322,     0.57267,     0.57246,     0.57234,     0.57216,     0.57198,     0.57179,\n",
              "            0.57161,     0.57143,     0.57124,     0.57106,     0.57088,     0.57069,     0.57051,     0.57033,     0.57014,     0.56971,       0.569,     0.56829,     0.56731,     0.56481,      0.5641,     0.56339,      0.5624,     0.55946,     0.55759,     0.55704,     0.55649,     0.55594,     0.55536,\n",
              "            0.55474,     0.55413,     0.55351,     0.55032,     0.54933,     0.54834,     0.54566,     0.54516,     0.54467,     0.54417,     0.54367,     0.54199,     0.54003,     0.53542,     0.53382,     0.53382,     0.53382,     0.53382,     0.53382,     0.53382,     0.53382,     0.53277,     0.53153,\n",
              "            0.52831,     0.52666,      0.5226,     0.52055,     0.51901,     0.51839,     0.51777,     0.51715,     0.51616,     0.51492,     0.51385,     0.51286,      0.5119,     0.51108,     0.51025,     0.50677,     0.50512,     0.50186,     0.50021,     0.49615,     0.49494,     0.49439,     0.49384,\n",
              "            0.49329,     0.49266,     0.48902,     0.48496,     0.48397,     0.48303,     0.48248,     0.48193,     0.48138,     0.48083,     0.47706,     0.47585,     0.47585,      0.4705,     0.46885,     0.46618,     0.46555,      0.4639,     0.46021,     0.45897,     0.45774,     0.45643,     0.45411,\n",
              "            0.45399,     0.45234,     0.45109,      0.4501,     0.44907,     0.44783,     0.44423,     0.44324,     0.44225,     0.44139,     0.44056,     0.43974,      0.4366,     0.43495,     0.43196,     0.43097,     0.42998,     0.42935,     0.42873,     0.42811,     0.42737,     0.42466,     0.42121,\n",
              "            0.41717,     0.41304,     0.41304,     0.41278,     0.41154,     0.41037,     0.40938,     0.40839,     0.40753,     0.40671,     0.40588,     0.39894,      0.3957,     0.39471,     0.39372,     0.39367,     0.39108,     0.38843,      0.3876,     0.38678,      0.3825,     0.38056,     0.37634,\n",
              "            0.37333,     0.36897,     0.36408,     0.36203,     0.36104,     0.36005,     0.35906,     0.35807,     0.35749,     0.35355,     0.35152,     0.34944,     0.34536,     0.34288,     0.34047,     0.33881,     0.33304,     0.33056,     0.32768,     0.32255,     0.32019,     0.31462,     0.31028,\n",
              "            0.30822,     0.30698,     0.30393,     0.30269,     0.29888,     0.29723,     0.29482,     0.29234,     0.28986,     0.28821,     0.28502,     0.28123,     0.27488,     0.27406,     0.27323,     0.27012,     0.26764,     0.26534,     0.26369,     0.26021,     0.25774,     0.25526,     0.25195,\n",
              "            0.24834,     0.24711,      0.2457,     0.24405,     0.24161,     0.23817,     0.23718,     0.23419,     0.23154,     0.22126,     0.21981,     0.21981,     0.21335,     0.20919,     0.20444,      0.2032,     0.20004,     0.19839,     0.19433,     0.19268,     0.19103,     0.18865,     0.18618,\n",
              "            0.17766,     0.17405,     0.16909,     0.16414,     0.15919,     0.15424,      0.1516,     0.15061,     0.14711,     0.14545,     0.14437,     0.14354,     0.14272,     0.13878,     0.13575,     0.13328,     0.12151,      0.1173,     0.11607,     0.11371,     0.10653,     0.10393,    0.099842,\n",
              "            0.09777,    0.093971,    0.084365,    0.077137,    0.075486,    0.071748,    0.068422,    0.061844,    0.055016,     0.05254,    0.050395,    0.049157,    0.046747,    0.042637,    0.034428,    0.032948,    0.031958,    0.030318,    0.027842,    0.025767,    0.024041,    0.020414,    0.018862,\n",
              "           0.018037,    0.017211,    0.015864,    0.014213,    0.012562,    0.010329,   0.0087575,   0.0075196,   0.0069891,    0.006659,   0.0063289,   0.0059988,   0.0056686,   0.0053385,   0.0050084,   0.0046401,   0.0042275,   0.0038148,   0.0034022,   0.0029895,   0.0025769,           0,           0,\n",
              "                  0,           0,           0,           0,           0,           0,           0,           0,           0,           0,           0,           0,           0,           0,           0,           0,           0,           0,           0,           0,           0,           0,           0,\n",
              "                  0,           0,           0,           0,           0,           0,           0,           0,           0,           0,           0]]), 'Confidence', 'Recall']]\n",
              "fitness: np.float64(0.6406802386219905)\n",
              "keys: ['metrics/precision(B)', 'metrics/recall(B)', 'metrics/mAP50(B)', 'metrics/mAP50-95(B)']\n",
              "maps: array([    0.61959])\n",
              "names: {0: 'Mangrove_Trunk'}\n",
              "plot: True\n",
              "results_dict: {'metrics/precision(B)': np.float64(0.7999785132175878), 'metrics/recall(B)': np.float64(0.7535222420488121), 'metrics/mAP50(B)': np.float64(0.8304664811139533), 'metrics/mAP50-95(B)': np.float64(0.6195928783451057), 'fitness': np.float64(0.6406802386219905)}\n",
              "save_dir: PosixPath('runs/detect/train5')\n",
              "speed: {'preprocess': 0.13963914655285972, 'inference': 2.098406767243369, 'loss': 0.0005084655224985407, 'postprocess': 4.067136051726893}\n",
              "task: 'detect'"
            ]
          },
          "execution_count": 8,
          "metadata": {},
          "output_type": "execute_result"
        }
      ]
    },
    {
      "cell_type": "code",
      "source": [
        "# Save the trained model\n",
        "yolo11_model.save('/content/drive/MyDrive/FYP/YOLO Models/yolov11_model.pt')"
      ],
      "metadata": {
        "id": "vTCOySsjhhSS"
      },
      "execution_count": null,
      "outputs": []
    },
    {
      "cell_type": "code",
      "source": [],
      "metadata": {
        "id": "Pp1IEsBuoPgH"
      },
      "execution_count": null,
      "outputs": []
    }
  ],
  "metadata": {
    "accelerator": "GPU",
    "colab": {
      "gpuType": "L4",
      "provenance": []
    },
    "kernelspec": {
      "display_name": "Python 3",
      "name": "python3"
    },
    "language_info": {
      "name": "python"
    }
  },
  "nbformat": 4,
  "nbformat_minor": 0
}